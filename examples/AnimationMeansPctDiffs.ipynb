{
 "metadata": {
  "name": "",
  "signature": "sha256:e92612d9547e024976bd06592b24101adb4552d5dccd3b5f01afc090d48e0c5f"
 },
 "nbformat": 3,
 "nbformat_minor": 0,
 "worksheets": [
  {
   "cells": [
    {
     "cell_type": "markdown",
     "metadata": {},
     "source": [
      "###Compute mean values and percent differences"
     ]
    },
    {
     "cell_type": "code",
     "collapsed": false,
     "input": [
      "import sys\n",
      "sys.path.append('../../glri-geoserver-configuration')\n",
      "sys.path.append('..')\n",
      "import os\n",
      "import numpy as np\n",
      "import pandas as pd\n",
      "import datetime as dt\n",
      "import matplotlib.pyplot as plt\n",
      "from matplotlib.backends.backend_pdf import PdfPages\n",
      "from parse_animations.statistics import *\n",
      "from parse_animations.headers import *\n",
      "from PRMS_animation_classes import *\n",
      "\n",
      "%matplotlib inline\n",
      "\n",
      "annual_dir = 'D:/ATLData/LMB/LKM_Nov2013_annual_animation_output'\n",
      "monthly_dir = 'D:/ATLData/LMB/LKM_Nov2013_monthly_animation_output'\n",
      "baseline_per = '1981-2000'\n",
      "\n",
      "annual_output_dir = 'D:/ATLData/LMB/LKM_Nov2013_annual'\n",
      "monthly_output_dir = 'D:/ATLData/LMB/LKM_Nov2013_monthly'\n",
      "\n",
      "gcms = list(set([os.path.split(f)[1].split('.')[0] for f in os.listdir(annual_dir)]))"
     ],
     "language": "python",
     "metadata": {},
     "outputs": [],
     "prompt_number": 1
    },
    {
     "cell_type": "markdown",
     "metadata": {},
     "source": [
      "###For each gcm-climate scenario, compute means and percent differences from baseline by hru"
     ]
    },
    {
     "cell_type": "markdown",
     "metadata": {},
     "source": [
      "####For annual means:"
     ]
    },
    {
     "cell_type": "code",
     "collapsed": false,
     "input": [
      "for gcm in gcms:\n",
      "    period_files = [os.path.join(annual_dir, f) for f in os.listdir(annual_dir) if gcm in f]\n",
      "    baseline = [period_files.pop(i) for i, f in enumerate(period_files) if baseline_per in f][0]\n",
      "    hs = hruStatistics(period_files, baseline, error_file='errors_{}'.format(gcm))\n",
      "    hs.hru_mean_pct_diff()\n",
      "    hs.write_output(outdir=annual_output_dir)"
     ],
     "language": "python",
     "metadata": {},
     "outputs": [
      {
       "output_type": "stream",
       "stream": "stdout",
       "text": [
        "reading D:/ATLData/LMB/LKM_Nov2013_annual_animation_output\\csiro_mk3_5.sresa1b.2046-2065.annual.animation.nhru...\n",
        "reading D:/ATLData/LMB/LKM_Nov2013_annual_animation_output\\csiro_mk3_5.sresa1b.2081-2100.annual.animation.nhru..."
       ]
      },
      {
       "output_type": "stream",
       "stream": "stdout",
       "text": [
        "\n",
        "reading D:/ATLData/LMB/LKM_Nov2013_annual_animation_output\\csiro_mk3_5.sresa2.2046-2065.annual.animation.nhru..."
       ]
      },
      {
       "output_type": "stream",
       "stream": "stdout",
       "text": [
        "\n",
        "reading D:/ATLData/LMB/LKM_Nov2013_annual_animation_output\\csiro_mk3_5.sresa2.2081-2100.annual.animation.nhru..."
       ]
      },
      {
       "output_type": "stream",
       "stream": "stdout",
       "text": [
        "\n",
        "reading D:/ATLData/LMB/LKM_Nov2013_annual_animation_output\\csiro_mk3_5.sresb1.2046-2065.annual.animation.nhru..."
       ]
      },
      {
       "output_type": "stream",
       "stream": "stdout",
       "text": [
        "\n",
        "reading D:/ATLData/LMB/LKM_Nov2013_annual_animation_output\\csiro_mk3_5.sresb1.2081-2100.annual.animation.nhru..."
       ]
      },
      {
       "output_type": "stream",
       "stream": "stdout",
       "text": [
        "\n",
        "reading D:/ATLData/LMB/LKM_Nov2013_annual_animation_output\\csiro_mk3_5.20c3m.1981-2000.annual.animation.nhru..."
       ]
      },
      {
       "output_type": "stream",
       "stream": "stdout",
       "text": [
        "\n",
        "Warning, nan values found in percent differences. See error_file."
       ]
      },
      {
       "output_type": "stream",
       "stream": "stdout",
       "text": [
        "\n",
        "writing D:/ATLData/LMB/LKM_Nov2013_annual/hru_means\\csiro_mk3_5.20c3m.1981-2000.annual.animation.hru_means.nhru...\n",
        "writing D:/ATLData/LMB/LKM_Nov2013_annual/hru_means\\csiro_mk3_5.sresa2.2081-2100.annual.animation.hru_means.nhru..."
       ]
      },
      {
       "output_type": "stream",
       "stream": "stdout",
       "text": [
        "\n",
        "writing D:/ATLData/LMB/LKM_Nov2013_annual/hru_pct_diff\\csiro_mk3_5.sresa2.2081-2100.annual.animation.hru_pct_diff.nhru..."
       ]
      },
      {
       "output_type": "stream",
       "stream": "stdout",
       "text": [
        "\n",
        "writing D:/ATLData/LMB/LKM_Nov2013_annual/hru_means\\csiro_mk3_5.sresb1.2081-2100.annual.animation.hru_means.nhru..."
       ]
      },
      {
       "output_type": "stream",
       "stream": "stdout",
       "text": [
        "\n",
        "writing D:/ATLData/LMB/LKM_Nov2013_annual/hru_pct_diff\\csiro_mk3_5.sresb1.2081-2100.annual.animation.hru_pct_diff.nhru..."
       ]
      },
      {
       "output_type": "stream",
       "stream": "stdout",
       "text": [
        "\n",
        "writing D:/ATLData/LMB/LKM_Nov2013_annual/hru_means\\csiro_mk3_5.sresa1b.2046-2065.annual.animation.hru_means.nhru..."
       ]
      },
      {
       "output_type": "stream",
       "stream": "stdout",
       "text": [
        "\n",
        "writing D:/ATLData/LMB/LKM_Nov2013_annual/hru_pct_diff\\csiro_mk3_5.sresa1b.2046-2065.annual.animation.hru_pct_diff.nhru..."
       ]
      },
      {
       "output_type": "stream",
       "stream": "stdout",
       "text": [
        "\n",
        "writing D:/ATLData/LMB/LKM_Nov2013_annual/hru_means\\csiro_mk3_5.sresa2.2046-2065.annual.animation.hru_means.nhru..."
       ]
      },
      {
       "output_type": "stream",
       "stream": "stdout",
       "text": [
        "\n",
        "writing D:/ATLData/LMB/LKM_Nov2013_annual/hru_pct_diff\\csiro_mk3_5.sresa2.2046-2065.annual.animation.hru_pct_diff.nhru..."
       ]
      },
      {
       "output_type": "stream",
       "stream": "stdout",
       "text": [
        "\n",
        "writing D:/ATLData/LMB/LKM_Nov2013_annual/hru_means\\csiro_mk3_5.sresa1b.2081-2100.annual.animation.hru_means.nhru..."
       ]
      },
      {
       "output_type": "stream",
       "stream": "stdout",
       "text": [
        "\n",
        "writing D:/ATLData/LMB/LKM_Nov2013_annual/hru_pct_diff\\csiro_mk3_5.sresa1b.2081-2100.annual.animation.hru_pct_diff.nhru..."
       ]
      },
      {
       "output_type": "stream",
       "stream": "stdout",
       "text": [
        "\n",
        "writing D:/ATLData/LMB/LKM_Nov2013_annual/hru_means\\csiro_mk3_5.sresb1.2046-2065.annual.animation.hru_means.nhru..."
       ]
      },
      {
       "output_type": "stream",
       "stream": "stdout",
       "text": [
        "\n",
        "writing D:/ATLData/LMB/LKM_Nov2013_annual/hru_pct_diff\\csiro_mk3_5.sresb1.2046-2065.annual.animation.hru_pct_diff.nhru..."
       ]
      },
      {
       "output_type": "stream",
       "stream": "stdout",
       "text": [
        "\n",
        "reading D:/ATLData/LMB/LKM_Nov2013_annual_animation_output\\miub_echo_g.sresa1b.2046-2065.annual.animation.nhru..."
       ]
      },
      {
       "output_type": "stream",
       "stream": "stdout",
       "text": [
        "\n",
        "reading D:/ATLData/LMB/LKM_Nov2013_annual_animation_output\\miub_echo_g.sresa1b.2081-2100.annual.animation.nhru..."
       ]
      },
      {
       "output_type": "stream",
       "stream": "stdout",
       "text": [
        "\n",
        "reading D:/ATLData/LMB/LKM_Nov2013_annual_animation_output\\miub_echo_g.sresa2.2046-2065.annual.animation.nhru..."
       ]
      },
      {
       "output_type": "stream",
       "stream": "stdout",
       "text": [
        "\n",
        "reading D:/ATLData/LMB/LKM_Nov2013_annual_animation_output\\miub_echo_g.sresa2.2081-2100.annual.animation.nhru..."
       ]
      },
      {
       "output_type": "stream",
       "stream": "stdout",
       "text": [
        "\n",
        "reading D:/ATLData/LMB/LKM_Nov2013_annual_animation_output\\miub_echo_g.sresb1.2046-2065.annual.animation.nhru..."
       ]
      },
      {
       "output_type": "stream",
       "stream": "stdout",
       "text": [
        "\n",
        "reading D:/ATLData/LMB/LKM_Nov2013_annual_animation_output\\miub_echo_g.sresb1.2081-2100.annual.animation.nhru..."
       ]
      },
      {
       "output_type": "stream",
       "stream": "stdout",
       "text": [
        "\n",
        "reading D:/ATLData/LMB/LKM_Nov2013_annual_animation_output\\miub_echo_g.20c3m.1981-2000.annual.animation.nhru..."
       ]
      },
      {
       "output_type": "stream",
       "stream": "stdout",
       "text": [
        "\n",
        "Warning, nan values found in percent differences. See error_file."
       ]
      },
      {
       "output_type": "stream",
       "stream": "stdout",
       "text": [
        "\n",
        "writing D:/ATLData/LMB/LKM_Nov2013_annual/hru_means\\miub_echo_g.20c3m.1981-2000.annual.animation.hru_means.nhru...\n",
        "writing D:/ATLData/LMB/LKM_Nov2013_annual/hru_means\\miub_echo_g.sresa2.2081-2100.annual.animation.hru_means.nhru..."
       ]
      },
      {
       "output_type": "stream",
       "stream": "stdout",
       "text": [
        "\n",
        "writing D:/ATLData/LMB/LKM_Nov2013_annual/hru_pct_diff\\miub_echo_g.sresa2.2081-2100.annual.animation.hru_pct_diff.nhru..."
       ]
      },
      {
       "output_type": "stream",
       "stream": "stdout",
       "text": [
        "\n",
        "writing D:/ATLData/LMB/LKM_Nov2013_annual/hru_means\\miub_echo_g.sresa1b.2046-2065.annual.animation.hru_means.nhru..."
       ]
      },
      {
       "output_type": "stream",
       "stream": "stdout",
       "text": [
        "\n",
        "writing D:/ATLData/LMB/LKM_Nov2013_annual/hru_pct_diff\\miub_echo_g.sresa1b.2046-2065.annual.animation.hru_pct_diff.nhru..."
       ]
      },
      {
       "output_type": "stream",
       "stream": "stdout",
       "text": [
        "\n",
        "writing D:/ATLData/LMB/LKM_Nov2013_annual/hru_means\\miub_echo_g.sresb1.2046-2065.annual.animation.hru_means.nhru..."
       ]
      },
      {
       "output_type": "stream",
       "stream": "stdout",
       "text": [
        "\n",
        "writing D:/ATLData/LMB/LKM_Nov2013_annual/hru_pct_diff\\miub_echo_g.sresb1.2046-2065.annual.animation.hru_pct_diff.nhru..."
       ]
      },
      {
       "output_type": "stream",
       "stream": "stdout",
       "text": [
        "\n",
        "writing D:/ATLData/LMB/LKM_Nov2013_annual/hru_means\\miub_echo_g.sresb1.2081-2100.annual.animation.hru_means.nhru..."
       ]
      },
      {
       "output_type": "stream",
       "stream": "stdout",
       "text": [
        "\n",
        "writing D:/ATLData/LMB/LKM_Nov2013_annual/hru_pct_diff\\miub_echo_g.sresb1.2081-2100.annual.animation.hru_pct_diff.nhru..."
       ]
      },
      {
       "output_type": "stream",
       "stream": "stdout",
       "text": [
        "\n",
        "writing D:/ATLData/LMB/LKM_Nov2013_annual/hru_means\\miub_echo_g.sresa2.2046-2065.annual.animation.hru_means.nhru..."
       ]
      },
      {
       "output_type": "stream",
       "stream": "stdout",
       "text": [
        "\n",
        "writing D:/ATLData/LMB/LKM_Nov2013_annual/hru_pct_diff\\miub_echo_g.sresa2.2046-2065.annual.animation.hru_pct_diff.nhru..."
       ]
      },
      {
       "output_type": "stream",
       "stream": "stdout",
       "text": [
        "\n",
        "writing D:/ATLData/LMB/LKM_Nov2013_annual/hru_means\\miub_echo_g.sresa1b.2081-2100.annual.animation.hru_means.nhru..."
       ]
      },
      {
       "output_type": "stream",
       "stream": "stdout",
       "text": [
        "\n",
        "writing D:/ATLData/LMB/LKM_Nov2013_annual/hru_pct_diff\\miub_echo_g.sresa1b.2081-2100.annual.animation.hru_pct_diff.nhru..."
       ]
      },
      {
       "output_type": "stream",
       "stream": "stdout",
       "text": [
        "\n",
        "reading D:/ATLData/LMB/LKM_Nov2013_annual_animation_output\\cnrm_cm3.sresa1b.2046-2065.annual.animation.nhru..."
       ]
      },
      {
       "output_type": "stream",
       "stream": "stdout",
       "text": [
        "\n",
        "reading D:/ATLData/LMB/LKM_Nov2013_annual_animation_output\\cnrm_cm3.sresa1b.2081-2100.annual.animation.nhru..."
       ]
      },
      {
       "output_type": "stream",
       "stream": "stdout",
       "text": [
        "\n",
        "reading D:/ATLData/LMB/LKM_Nov2013_annual_animation_output\\cnrm_cm3.sresa2.2046-2065.annual.animation.nhru..."
       ]
      },
      {
       "output_type": "stream",
       "stream": "stdout",
       "text": [
        "\n",
        "reading D:/ATLData/LMB/LKM_Nov2013_annual_animation_output\\cnrm_cm3.sresa2.2081-2100.annual.animation.nhru..."
       ]
      },
      {
       "output_type": "stream",
       "stream": "stdout",
       "text": [
        "\n",
        "reading D:/ATLData/LMB/LKM_Nov2013_annual_animation_output\\cnrm_cm3.sresb1.2046-2065.annual.animation.nhru..."
       ]
      },
      {
       "output_type": "stream",
       "stream": "stdout",
       "text": [
        "\n",
        "reading D:/ATLData/LMB/LKM_Nov2013_annual_animation_output\\cnrm_cm3.sresb1.2081-2100.annual.animation.nhru..."
       ]
      },
      {
       "output_type": "stream",
       "stream": "stdout",
       "text": [
        "\n",
        "reading D:/ATLData/LMB/LKM_Nov2013_annual_animation_output\\cnrm_cm3.20c3m.1981-2000.annual.animation.nhru..."
       ]
      },
      {
       "output_type": "stream",
       "stream": "stdout",
       "text": [
        "\n",
        "Warning, nan values found in percent differences. See error_file."
       ]
      },
      {
       "output_type": "stream",
       "stream": "stdout",
       "text": [
        "\n",
        "writing D:/ATLData/LMB/LKM_Nov2013_annual/hru_means\\cnrm_cm3.20c3m.1981-2000.annual.animation.hru_means.nhru...\n",
        "writing D:/ATLData/LMB/LKM_Nov2013_annual/hru_means\\cnrm_cm3.sresa2.2046-2065.annual.animation.hru_means.nhru..."
       ]
      },
      {
       "output_type": "stream",
       "stream": "stdout",
       "text": [
        "\n",
        "writing D:/ATLData/LMB/LKM_Nov2013_annual/hru_pct_diff\\cnrm_cm3.sresa2.2046-2065.annual.animation.hru_pct_diff.nhru..."
       ]
      },
      {
       "output_type": "stream",
       "stream": "stdout",
       "text": [
        "\n",
        "writing D:/ATLData/LMB/LKM_Nov2013_annual/hru_means\\cnrm_cm3.sresb1.2081-2100.annual.animation.hru_means.nhru..."
       ]
      },
      {
       "output_type": "stream",
       "stream": "stdout",
       "text": [
        "\n",
        "writing D:/ATLData/LMB/LKM_Nov2013_annual/hru_pct_diff\\cnrm_cm3.sresb1.2081-2100.annual.animation.hru_pct_diff.nhru..."
       ]
      },
      {
       "output_type": "stream",
       "stream": "stdout",
       "text": [
        "\n",
        "writing D:/ATLData/LMB/LKM_Nov2013_annual/hru_means\\cnrm_cm3.sresa1b.2081-2100.annual.animation.hru_means.nhru..."
       ]
      },
      {
       "output_type": "stream",
       "stream": "stdout",
       "text": [
        "\n",
        "writing D:/ATLData/LMB/LKM_Nov2013_annual/hru_pct_diff\\cnrm_cm3.sresa1b.2081-2100.annual.animation.hru_pct_diff.nhru..."
       ]
      },
      {
       "output_type": "stream",
       "stream": "stdout",
       "text": [
        "\n",
        "writing D:/ATLData/LMB/LKM_Nov2013_annual/hru_means\\cnrm_cm3.sresa1b.2046-2065.annual.animation.hru_means.nhru..."
       ]
      },
      {
       "output_type": "stream",
       "stream": "stdout",
       "text": [
        "\n",
        "writing D:/ATLData/LMB/LKM_Nov2013_annual/hru_pct_diff\\cnrm_cm3.sresa1b.2046-2065.annual.animation.hru_pct_diff.nhru..."
       ]
      },
      {
       "output_type": "stream",
       "stream": "stdout",
       "text": [
        "\n",
        "writing D:/ATLData/LMB/LKM_Nov2013_annual/hru_means\\cnrm_cm3.sresa2.2081-2100.annual.animation.hru_means.nhru..."
       ]
      },
      {
       "output_type": "stream",
       "stream": "stdout",
       "text": [
        "\n",
        "writing D:/ATLData/LMB/LKM_Nov2013_annual/hru_pct_diff\\cnrm_cm3.sresa2.2081-2100.annual.animation.hru_pct_diff.nhru..."
       ]
      },
      {
       "output_type": "stream",
       "stream": "stdout",
       "text": [
        "\n",
        "writing D:/ATLData/LMB/LKM_Nov2013_annual/hru_means\\cnrm_cm3.sresb1.2046-2065.annual.animation.hru_means.nhru..."
       ]
      },
      {
       "output_type": "stream",
       "stream": "stdout",
       "text": [
        "\n",
        "writing D:/ATLData/LMB/LKM_Nov2013_annual/hru_pct_diff\\cnrm_cm3.sresb1.2046-2065.annual.animation.hru_pct_diff.nhru..."
       ]
      },
      {
       "output_type": "stream",
       "stream": "stdout",
       "text": [
        "\n",
        "reading D:/ATLData/LMB/LKM_Nov2013_annual_animation_output\\mri_cgcm2_3_2a.sresa1b.2046-2065.annual.animation.nhru..."
       ]
      },
      {
       "output_type": "stream",
       "stream": "stdout",
       "text": [
        "\n",
        "reading D:/ATLData/LMB/LKM_Nov2013_annual_animation_output\\mri_cgcm2_3_2a.sresa1b.2081-2100.annual.animation.nhru..."
       ]
      },
      {
       "output_type": "stream",
       "stream": "stdout",
       "text": [
        "\n",
        "reading D:/ATLData/LMB/LKM_Nov2013_annual_animation_output\\mri_cgcm2_3_2a.sresa2.2046-2065.annual.animation.nhru..."
       ]
      },
      {
       "output_type": "stream",
       "stream": "stdout",
       "text": [
        "\n",
        "reading D:/ATLData/LMB/LKM_Nov2013_annual_animation_output\\mri_cgcm2_3_2a.sresa2.2081-2100.annual.animation.nhru..."
       ]
      },
      {
       "output_type": "stream",
       "stream": "stdout",
       "text": [
        "\n",
        "reading D:/ATLData/LMB/LKM_Nov2013_annual_animation_output\\mri_cgcm2_3_2a.sresb1.2046-2065.annual.animation.nhru..."
       ]
      },
      {
       "output_type": "stream",
       "stream": "stdout",
       "text": [
        "\n",
        "reading D:/ATLData/LMB/LKM_Nov2013_annual_animation_output\\mri_cgcm2_3_2a.sresb1.2081-2100.annual.animation.nhru..."
       ]
      },
      {
       "output_type": "stream",
       "stream": "stdout",
       "text": [
        "\n",
        "reading D:/ATLData/LMB/LKM_Nov2013_annual_animation_output\\mri_cgcm2_3_2a.20c3m.1981-2000.annual.animation.nhru..."
       ]
      },
      {
       "output_type": "stream",
       "stream": "stdout",
       "text": [
        "\n",
        "Warning, nan values found in percent differences. See error_file."
       ]
      },
      {
       "output_type": "stream",
       "stream": "stdout",
       "text": [
        "\n",
        "writing D:/ATLData/LMB/LKM_Nov2013_annual/hru_means\\mri_cgcm2_3_2a.20c3m.1981-2000.annual.animation.hru_means.nhru...\n",
        "writing D:/ATLData/LMB/LKM_Nov2013_annual/hru_means\\mri_cgcm2_3_2a.sresa1b.2081-2100.annual.animation.hru_means.nhru..."
       ]
      },
      {
       "output_type": "stream",
       "stream": "stdout",
       "text": [
        "\n",
        "writing D:/ATLData/LMB/LKM_Nov2013_annual/hru_pct_diff\\mri_cgcm2_3_2a.sresa1b.2081-2100.annual.animation.hru_pct_diff.nhru..."
       ]
      },
      {
       "output_type": "stream",
       "stream": "stdout",
       "text": [
        "\n",
        "writing D:/ATLData/LMB/LKM_Nov2013_annual/hru_means\\mri_cgcm2_3_2a.sresa2.2046-2065.annual.animation.hru_means.nhru..."
       ]
      },
      {
       "output_type": "stream",
       "stream": "stdout",
       "text": [
        "\n",
        "writing D:/ATLData/LMB/LKM_Nov2013_annual/hru_pct_diff\\mri_cgcm2_3_2a.sresa2.2046-2065.annual.animation.hru_pct_diff.nhru..."
       ]
      },
      {
       "output_type": "stream",
       "stream": "stdout",
       "text": [
        "\n",
        "writing D:/ATLData/LMB/LKM_Nov2013_annual/hru_means\\mri_cgcm2_3_2a.sresa1b.2046-2065.annual.animation.hru_means.nhru..."
       ]
      },
      {
       "output_type": "stream",
       "stream": "stdout",
       "text": [
        "\n",
        "writing D:/ATLData/LMB/LKM_Nov2013_annual/hru_pct_diff\\mri_cgcm2_3_2a.sresa1b.2046-2065.annual.animation.hru_pct_diff.nhru..."
       ]
      },
      {
       "output_type": "stream",
       "stream": "stdout",
       "text": [
        "\n",
        "writing D:/ATLData/LMB/LKM_Nov2013_annual/hru_means\\mri_cgcm2_3_2a.sresa2.2081-2100.annual.animation.hru_means.nhru..."
       ]
      },
      {
       "output_type": "stream",
       "stream": "stdout",
       "text": [
        "\n",
        "writing D:/ATLData/LMB/LKM_Nov2013_annual/hru_pct_diff\\mri_cgcm2_3_2a.sresa2.2081-2100.annual.animation.hru_pct_diff.nhru..."
       ]
      },
      {
       "output_type": "stream",
       "stream": "stdout",
       "text": [
        "\n",
        "writing D:/ATLData/LMB/LKM_Nov2013_annual/hru_means\\mri_cgcm2_3_2a.sresb1.2046-2065.annual.animation.hru_means.nhru..."
       ]
      },
      {
       "output_type": "stream",
       "stream": "stdout",
       "text": [
        "\n",
        "writing D:/ATLData/LMB/LKM_Nov2013_annual/hru_pct_diff\\mri_cgcm2_3_2a.sresb1.2046-2065.annual.animation.hru_pct_diff.nhru..."
       ]
      },
      {
       "output_type": "stream",
       "stream": "stdout",
       "text": [
        "\n",
        "writing D:/ATLData/LMB/LKM_Nov2013_annual/hru_means\\mri_cgcm2_3_2a.sresb1.2081-2100.annual.animation.hru_means.nhru..."
       ]
      },
      {
       "output_type": "stream",
       "stream": "stdout",
       "text": [
        "\n",
        "writing D:/ATLData/LMB/LKM_Nov2013_annual/hru_pct_diff\\mri_cgcm2_3_2a.sresb1.2081-2100.annual.animation.hru_pct_diff.nhru..."
       ]
      },
      {
       "output_type": "stream",
       "stream": "stdout",
       "text": [
        "\n",
        "reading D:/ATLData/LMB/LKM_Nov2013_annual_animation_output\\cccma_cgcm3_1.sresa1b.2046-2065.annual.animation.nhru..."
       ]
      },
      {
       "output_type": "stream",
       "stream": "stdout",
       "text": [
        "\n",
        "reading D:/ATLData/LMB/LKM_Nov2013_annual_animation_output\\cccma_cgcm3_1.sresa1b.2081-2100.annual.animation.nhru..."
       ]
      },
      {
       "output_type": "stream",
       "stream": "stdout",
       "text": [
        "\n",
        "reading D:/ATLData/LMB/LKM_Nov2013_annual_animation_output\\cccma_cgcm3_1.sresa2.2046-2065.annual.animation.nhru..."
       ]
      },
      {
       "output_type": "stream",
       "stream": "stdout",
       "text": [
        "\n",
        "reading D:/ATLData/LMB/LKM_Nov2013_annual_animation_output\\cccma_cgcm3_1.sresa2.2081-2100.annual.animation.nhru..."
       ]
      },
      {
       "output_type": "stream",
       "stream": "stdout",
       "text": [
        "\n",
        "reading D:/ATLData/LMB/LKM_Nov2013_annual_animation_output\\cccma_cgcm3_1.sresb1.2046-2065.annual.animation.nhru..."
       ]
      },
      {
       "output_type": "stream",
       "stream": "stdout",
       "text": [
        "\n",
        "reading D:/ATLData/LMB/LKM_Nov2013_annual_animation_output\\cccma_cgcm3_1.sresb1.2081-2100.annual.animation.nhru..."
       ]
      },
      {
       "output_type": "stream",
       "stream": "stdout",
       "text": [
        "\n",
        "reading D:/ATLData/LMB/LKM_Nov2013_annual_animation_output\\cccma_cgcm3_1.20c3m.1981-2000.annual.animation.nhru..."
       ]
      },
      {
       "output_type": "stream",
       "stream": "stdout",
       "text": [
        "\n",
        "Warning, nan values found in percent differences. See error_file."
       ]
      },
      {
       "output_type": "stream",
       "stream": "stdout",
       "text": [
        "\n",
        "writing D:/ATLData/LMB/LKM_Nov2013_annual/hru_means\\cccma_cgcm3_1.20c3m.1981-2000.annual.animation.hru_means.nhru...\n",
        "writing D:/ATLData/LMB/LKM_Nov2013_annual/hru_means\\cccma_cgcm3_1.sresb1.2081-2100.annual.animation.hru_means.nhru..."
       ]
      },
      {
       "output_type": "stream",
       "stream": "stdout",
       "text": [
        "\n",
        "writing D:/ATLData/LMB/LKM_Nov2013_annual/hru_pct_diff\\cccma_cgcm3_1.sresb1.2081-2100.annual.animation.hru_pct_diff.nhru..."
       ]
      },
      {
       "output_type": "stream",
       "stream": "stdout",
       "text": [
        "\n",
        "writing D:/ATLData/LMB/LKM_Nov2013_annual/hru_means\\cccma_cgcm3_1.sresa1b.2081-2100.annual.animation.hru_means.nhru..."
       ]
      },
      {
       "output_type": "stream",
       "stream": "stdout",
       "text": [
        "\n",
        "writing D:/ATLData/LMB/LKM_Nov2013_annual/hru_pct_diff\\cccma_cgcm3_1.sresa1b.2081-2100.annual.animation.hru_pct_diff.nhru..."
       ]
      },
      {
       "output_type": "stream",
       "stream": "stdout",
       "text": [
        "\n",
        "writing D:/ATLData/LMB/LKM_Nov2013_annual/hru_means\\cccma_cgcm3_1.sresb1.2046-2065.annual.animation.hru_means.nhru..."
       ]
      },
      {
       "output_type": "stream",
       "stream": "stdout",
       "text": [
        "\n",
        "writing D:/ATLData/LMB/LKM_Nov2013_annual/hru_pct_diff\\cccma_cgcm3_1.sresb1.2046-2065.annual.animation.hru_pct_diff.nhru..."
       ]
      },
      {
       "output_type": "stream",
       "stream": "stdout",
       "text": [
        "\n",
        "writing D:/ATLData/LMB/LKM_Nov2013_annual/hru_means\\cccma_cgcm3_1.sresa1b.2046-2065.annual.animation.hru_means.nhru..."
       ]
      },
      {
       "output_type": "stream",
       "stream": "stdout",
       "text": [
        "\n",
        "writing D:/ATLData/LMB/LKM_Nov2013_annual/hru_pct_diff\\cccma_cgcm3_1.sresa1b.2046-2065.annual.animation.hru_pct_diff.nhru..."
       ]
      },
      {
       "output_type": "stream",
       "stream": "stdout",
       "text": [
        "\n",
        "writing D:/ATLData/LMB/LKM_Nov2013_annual/hru_means\\cccma_cgcm3_1.sresa2.2046-2065.annual.animation.hru_means.nhru..."
       ]
      },
      {
       "output_type": "stream",
       "stream": "stdout",
       "text": [
        "\n",
        "writing D:/ATLData/LMB/LKM_Nov2013_annual/hru_pct_diff\\cccma_cgcm3_1.sresa2.2046-2065.annual.animation.hru_pct_diff.nhru..."
       ]
      },
      {
       "output_type": "stream",
       "stream": "stdout",
       "text": [
        "\n",
        "writing D:/ATLData/LMB/LKM_Nov2013_annual/hru_means\\cccma_cgcm3_1.sresa2.2081-2100.annual.animation.hru_means.nhru..."
       ]
      },
      {
       "output_type": "stream",
       "stream": "stdout",
       "text": [
        "\n",
        "writing D:/ATLData/LMB/LKM_Nov2013_annual/hru_pct_diff\\cccma_cgcm3_1.sresa2.2081-2100.annual.animation.hru_pct_diff.nhru..."
       ]
      },
      {
       "output_type": "stream",
       "stream": "stdout",
       "text": [
        "\n",
        "reading D:/ATLData/LMB/LKM_Nov2013_annual_animation_output\\giss_model_e_r.sresa1b.2046-2065.annual.animation.nhru..."
       ]
      },
      {
       "output_type": "stream",
       "stream": "stdout",
       "text": [
        "\n",
        "reading D:/ATLData/LMB/LKM_Nov2013_annual_animation_output\\giss_model_e_r.sresa1b.2081-2100.annual.animation.nhru..."
       ]
      },
      {
       "output_type": "stream",
       "stream": "stdout",
       "text": [
        "\n",
        "reading D:/ATLData/LMB/LKM_Nov2013_annual_animation_output\\giss_model_e_r.sresa2.2046-2065.annual.animation.nhru..."
       ]
      },
      {
       "output_type": "stream",
       "stream": "stdout",
       "text": [
        "\n",
        "reading D:/ATLData/LMB/LKM_Nov2013_annual_animation_output\\giss_model_e_r.sresa2.2081-2100.annual.animation.nhru..."
       ]
      },
      {
       "output_type": "stream",
       "stream": "stdout",
       "text": [
        "\n",
        "reading D:/ATLData/LMB/LKM_Nov2013_annual_animation_output\\giss_model_e_r.sresb1.2046-2065.annual.animation.nhru..."
       ]
      },
      {
       "output_type": "stream",
       "stream": "stdout",
       "text": [
        "\n",
        "reading D:/ATLData/LMB/LKM_Nov2013_annual_animation_output\\giss_model_e_r.sresb1.2081-2100.annual.animation.nhru..."
       ]
      },
      {
       "output_type": "stream",
       "stream": "stdout",
       "text": [
        "\n",
        "reading D:/ATLData/LMB/LKM_Nov2013_annual_animation_output\\giss_model_e_r.20c3m.1981-2000.annual.animation.nhru..."
       ]
      },
      {
       "output_type": "stream",
       "stream": "stdout",
       "text": [
        "\n",
        "Warning, nan values found in percent differences. See error_file."
       ]
      },
      {
       "output_type": "stream",
       "stream": "stdout",
       "text": [
        "\n",
        "writing D:/ATLData/LMB/LKM_Nov2013_annual/hru_means\\giss_model_e_r.20c3m.1981-2000.annual.animation.hru_means.nhru...\n",
        "writing D:/ATLData/LMB/LKM_Nov2013_annual/hru_means\\giss_model_e_r.sresa1b.2046-2065.annual.animation.hru_means.nhru..."
       ]
      },
      {
       "output_type": "stream",
       "stream": "stdout",
       "text": [
        "\n",
        "writing D:/ATLData/LMB/LKM_Nov2013_annual/hru_pct_diff\\giss_model_e_r.sresa1b.2046-2065.annual.animation.hru_pct_diff.nhru..."
       ]
      },
      {
       "output_type": "stream",
       "stream": "stdout",
       "text": [
        "\n",
        "writing D:/ATLData/LMB/LKM_Nov2013_annual/hru_means\\giss_model_e_r.sresa2.2081-2100.annual.animation.hru_means.nhru..."
       ]
      },
      {
       "output_type": "stream",
       "stream": "stdout",
       "text": [
        "\n",
        "writing D:/ATLData/LMB/LKM_Nov2013_annual/hru_pct_diff\\giss_model_e_r.sresa2.2081-2100.annual.animation.hru_pct_diff.nhru..."
       ]
      },
      {
       "output_type": "stream",
       "stream": "stdout",
       "text": [
        "\n",
        "writing D:/ATLData/LMB/LKM_Nov2013_annual/hru_means\\giss_model_e_r.sresb1.2046-2065.annual.animation.hru_means.nhru..."
       ]
      },
      {
       "output_type": "stream",
       "stream": "stdout",
       "text": [
        "\n",
        "writing D:/ATLData/LMB/LKM_Nov2013_annual/hru_pct_diff\\giss_model_e_r.sresb1.2046-2065.annual.animation.hru_pct_diff.nhru..."
       ]
      },
      {
       "output_type": "stream",
       "stream": "stdout",
       "text": [
        "\n",
        "writing D:/ATLData/LMB/LKM_Nov2013_annual/hru_means\\giss_model_e_r.sresb1.2081-2100.annual.animation.hru_means.nhru..."
       ]
      },
      {
       "output_type": "stream",
       "stream": "stdout",
       "text": [
        "\n",
        "writing D:/ATLData/LMB/LKM_Nov2013_annual/hru_pct_diff\\giss_model_e_r.sresb1.2081-2100.annual.animation.hru_pct_diff.nhru..."
       ]
      },
      {
       "output_type": "stream",
       "stream": "stdout",
       "text": [
        "\n",
        "writing D:/ATLData/LMB/LKM_Nov2013_annual/hru_means\\giss_model_e_r.sresa1b.2081-2100.annual.animation.hru_means.nhru..."
       ]
      },
      {
       "output_type": "stream",
       "stream": "stdout",
       "text": [
        "\n",
        "writing D:/ATLData/LMB/LKM_Nov2013_annual/hru_pct_diff\\giss_model_e_r.sresa1b.2081-2100.annual.animation.hru_pct_diff.nhru..."
       ]
      },
      {
       "output_type": "stream",
       "stream": "stdout",
       "text": [
        "\n",
        "writing D:/ATLData/LMB/LKM_Nov2013_annual/hru_means\\giss_model_e_r.sresa2.2046-2065.annual.animation.hru_means.nhru..."
       ]
      },
      {
       "output_type": "stream",
       "stream": "stdout",
       "text": [
        "\n",
        "writing D:/ATLData/LMB/LKM_Nov2013_annual/hru_pct_diff\\giss_model_e_r.sresa2.2046-2065.annual.animation.hru_pct_diff.nhru..."
       ]
      },
      {
       "output_type": "stream",
       "stream": "stdout",
       "text": [
        "\n",
        "reading D:/ATLData/LMB/LKM_Nov2013_annual_animation_output\\gfdl_cm2_0.sresa1b.2046-2065.annual.animation.nhru..."
       ]
      },
      {
       "output_type": "stream",
       "stream": "stdout",
       "text": [
        "\n",
        "reading D:/ATLData/LMB/LKM_Nov2013_annual_animation_output\\gfdl_cm2_0.sresa1b.2081-2100.annual.animation.nhru..."
       ]
      },
      {
       "output_type": "stream",
       "stream": "stdout",
       "text": [
        "\n",
        "reading D:/ATLData/LMB/LKM_Nov2013_annual_animation_output\\gfdl_cm2_0.sresa2.2046-2065.annual.animation.nhru..."
       ]
      },
      {
       "output_type": "stream",
       "stream": "stdout",
       "text": [
        "\n",
        "reading D:/ATLData/LMB/LKM_Nov2013_annual_animation_output\\gfdl_cm2_0.sresa2.2081-2100.annual.animation.nhru..."
       ]
      },
      {
       "output_type": "stream",
       "stream": "stdout",
       "text": [
        "\n",
        "reading D:/ATLData/LMB/LKM_Nov2013_annual_animation_output\\gfdl_cm2_0.sresb1.2046-2065.annual.animation.nhru..."
       ]
      },
      {
       "output_type": "stream",
       "stream": "stdout",
       "text": [
        "\n",
        "reading D:/ATLData/LMB/LKM_Nov2013_annual_animation_output\\gfdl_cm2_0.sresb1.2081-2100.annual.animation.nhru..."
       ]
      },
      {
       "output_type": "stream",
       "stream": "stdout",
       "text": [
        "\n",
        "reading D:/ATLData/LMB/LKM_Nov2013_annual_animation_output\\gfdl_cm2_0.20c3m.1981-2000.annual.animation.nhru..."
       ]
      },
      {
       "output_type": "stream",
       "stream": "stdout",
       "text": [
        "\n",
        "Warning, nan values found in percent differences. See error_file."
       ]
      },
      {
       "output_type": "stream",
       "stream": "stdout",
       "text": [
        "\n",
        "writing D:/ATLData/LMB/LKM_Nov2013_annual/hru_means\\gfdl_cm2_0.20c3m.1981-2000.annual.animation.hru_means.nhru...\n",
        "writing D:/ATLData/LMB/LKM_Nov2013_annual/hru_means\\gfdl_cm2_0.sresa1b.2081-2100.annual.animation.hru_means.nhru..."
       ]
      },
      {
       "output_type": "stream",
       "stream": "stdout",
       "text": [
        "\n",
        "writing D:/ATLData/LMB/LKM_Nov2013_annual/hru_pct_diff\\gfdl_cm2_0.sresa1b.2081-2100.annual.animation.hru_pct_diff.nhru..."
       ]
      },
      {
       "output_type": "stream",
       "stream": "stdout",
       "text": [
        "\n",
        "writing D:/ATLData/LMB/LKM_Nov2013_annual/hru_means\\gfdl_cm2_0.sresb1.2046-2065.annual.animation.hru_means.nhru..."
       ]
      },
      {
       "output_type": "stream",
       "stream": "stdout",
       "text": [
        "\n",
        "writing D:/ATLData/LMB/LKM_Nov2013_annual/hru_pct_diff\\gfdl_cm2_0.sresb1.2046-2065.annual.animation.hru_pct_diff.nhru..."
       ]
      },
      {
       "output_type": "stream",
       "stream": "stdout",
       "text": [
        "\n",
        "writing D:/ATLData/LMB/LKM_Nov2013_annual/hru_means\\gfdl_cm2_0.sresb1.2081-2100.annual.animation.hru_means.nhru..."
       ]
      },
      {
       "output_type": "stream",
       "stream": "stdout",
       "text": [
        "\n",
        "writing D:/ATLData/LMB/LKM_Nov2013_annual/hru_pct_diff\\gfdl_cm2_0.sresb1.2081-2100.annual.animation.hru_pct_diff.nhru..."
       ]
      },
      {
       "output_type": "stream",
       "stream": "stdout",
       "text": [
        "\n",
        "writing D:/ATLData/LMB/LKM_Nov2013_annual/hru_means\\gfdl_cm2_0.sresa2.2081-2100.annual.animation.hru_means.nhru..."
       ]
      },
      {
       "output_type": "stream",
       "stream": "stdout",
       "text": [
        "\n",
        "writing D:/ATLData/LMB/LKM_Nov2013_annual/hru_pct_diff\\gfdl_cm2_0.sresa2.2081-2100.annual.animation.hru_pct_diff.nhru..."
       ]
      },
      {
       "output_type": "stream",
       "stream": "stdout",
       "text": [
        "\n",
        "writing D:/ATLData/LMB/LKM_Nov2013_annual/hru_means\\gfdl_cm2_0.sresa1b.2046-2065.annual.animation.hru_means.nhru..."
       ]
      },
      {
       "output_type": "stream",
       "stream": "stdout",
       "text": [
        "\n",
        "writing D:/ATLData/LMB/LKM_Nov2013_annual/hru_pct_diff\\gfdl_cm2_0.sresa1b.2046-2065.annual.animation.hru_pct_diff.nhru..."
       ]
      },
      {
       "output_type": "stream",
       "stream": "stdout",
       "text": [
        "\n",
        "writing D:/ATLData/LMB/LKM_Nov2013_annual/hru_means\\gfdl_cm2_0.sresa2.2046-2065.annual.animation.hru_means.nhru..."
       ]
      },
      {
       "output_type": "stream",
       "stream": "stdout",
       "text": [
        "\n",
        "writing D:/ATLData/LMB/LKM_Nov2013_annual/hru_pct_diff\\gfdl_cm2_0.sresa2.2046-2065.annual.animation.hru_pct_diff.nhru..."
       ]
      },
      {
       "output_type": "stream",
       "stream": "stdout",
       "text": [
        "\n",
        "reading D:/ATLData/LMB/LKM_Nov2013_annual_animation_output\\mpi_echam5.sresa1b.2046-2065.annual.animation.nhru..."
       ]
      },
      {
       "output_type": "stream",
       "stream": "stdout",
       "text": [
        "\n",
        "reading D:/ATLData/LMB/LKM_Nov2013_annual_animation_output\\mpi_echam5.sresa1b.2081-2100.annual.animation.nhru..."
       ]
      },
      {
       "output_type": "stream",
       "stream": "stdout",
       "text": [
        "\n",
        "reading D:/ATLData/LMB/LKM_Nov2013_annual_animation_output\\mpi_echam5.sresa2.2046-2065.annual.animation.nhru..."
       ]
      },
      {
       "output_type": "stream",
       "stream": "stdout",
       "text": [
        "\n",
        "reading D:/ATLData/LMB/LKM_Nov2013_annual_animation_output\\mpi_echam5.sresa2.2081-2100.annual.animation.nhru..."
       ]
      },
      {
       "output_type": "stream",
       "stream": "stdout",
       "text": [
        "\n",
        "reading D:/ATLData/LMB/LKM_Nov2013_annual_animation_output\\mpi_echam5.sresb1.2046-2065.annual.animation.nhru..."
       ]
      },
      {
       "output_type": "stream",
       "stream": "stdout",
       "text": [
        "\n",
        "reading D:/ATLData/LMB/LKM_Nov2013_annual_animation_output\\mpi_echam5.sresb1.2081-2100.annual.animation.nhru..."
       ]
      },
      {
       "output_type": "stream",
       "stream": "stdout",
       "text": [
        "\n",
        "reading D:/ATLData/LMB/LKM_Nov2013_annual_animation_output\\mpi_echam5.20c3m.1981-2000.annual.animation.nhru..."
       ]
      },
      {
       "output_type": "stream",
       "stream": "stdout",
       "text": [
        "\n",
        "Warning, nan values found in percent differences. See error_file."
       ]
      },
      {
       "output_type": "stream",
       "stream": "stdout",
       "text": [
        "\n",
        "writing D:/ATLData/LMB/LKM_Nov2013_annual/hru_means\\mpi_echam5.20c3m.1981-2000.annual.animation.hru_means.nhru...\n",
        "writing D:/ATLData/LMB/LKM_Nov2013_annual/hru_means\\mpi_echam5.sresa2.2046-2065.annual.animation.hru_means.nhru..."
       ]
      },
      {
       "output_type": "stream",
       "stream": "stdout",
       "text": [
        "\n",
        "writing D:/ATLData/LMB/LKM_Nov2013_annual/hru_pct_diff\\mpi_echam5.sresa2.2046-2065.annual.animation.hru_pct_diff.nhru..."
       ]
      },
      {
       "output_type": "stream",
       "stream": "stdout",
       "text": [
        "\n",
        "writing D:/ATLData/LMB/LKM_Nov2013_annual/hru_means\\mpi_echam5.sresb1.2081-2100.annual.animation.hru_means.nhru..."
       ]
      },
      {
       "output_type": "stream",
       "stream": "stdout",
       "text": [
        "\n",
        "writing D:/ATLData/LMB/LKM_Nov2013_annual/hru_pct_diff\\mpi_echam5.sresb1.2081-2100.annual.animation.hru_pct_diff.nhru..."
       ]
      },
      {
       "output_type": "stream",
       "stream": "stdout",
       "text": [
        "\n",
        "writing D:/ATLData/LMB/LKM_Nov2013_annual/hru_means\\mpi_echam5.sresb1.2046-2065.annual.animation.hru_means.nhru..."
       ]
      },
      {
       "output_type": "stream",
       "stream": "stdout",
       "text": [
        "\n",
        "writing D:/ATLData/LMB/LKM_Nov2013_annual/hru_pct_diff\\mpi_echam5.sresb1.2046-2065.annual.animation.hru_pct_diff.nhru..."
       ]
      },
      {
       "output_type": "stream",
       "stream": "stdout",
       "text": [
        "\n",
        "writing D:/ATLData/LMB/LKM_Nov2013_annual/hru_means\\mpi_echam5.sresa1b.2081-2100.annual.animation.hru_means.nhru..."
       ]
      },
      {
       "output_type": "stream",
       "stream": "stdout",
       "text": [
        "\n",
        "writing D:/ATLData/LMB/LKM_Nov2013_annual/hru_pct_diff\\mpi_echam5.sresa1b.2081-2100.annual.animation.hru_pct_diff.nhru..."
       ]
      },
      {
       "output_type": "stream",
       "stream": "stdout",
       "text": [
        "\n",
        "writing D:/ATLData/LMB/LKM_Nov2013_annual/hru_means\\mpi_echam5.sresa1b.2046-2065.annual.animation.hru_means.nhru..."
       ]
      },
      {
       "output_type": "stream",
       "stream": "stdout",
       "text": [
        "\n",
        "writing D:/ATLData/LMB/LKM_Nov2013_annual/hru_pct_diff\\mpi_echam5.sresa1b.2046-2065.annual.animation.hru_pct_diff.nhru..."
       ]
      },
      {
       "output_type": "stream",
       "stream": "stdout",
       "text": [
        "\n",
        "writing D:/ATLData/LMB/LKM_Nov2013_annual/hru_means\\mpi_echam5.sresa2.2081-2100.annual.animation.hru_means.nhru..."
       ]
      },
      {
       "output_type": "stream",
       "stream": "stdout",
       "text": [
        "\n",
        "writing D:/ATLData/LMB/LKM_Nov2013_annual/hru_pct_diff\\mpi_echam5.sresa2.2081-2100.annual.animation.hru_pct_diff.nhru..."
       ]
      },
      {
       "output_type": "stream",
       "stream": "stdout",
       "text": [
        "\n"
       ]
      }
     ],
     "prompt_number": 2
    },
    {
     "cell_type": "markdown",
     "metadata": {},
     "source": [
      "####For monthly means:"
     ]
    },
    {
     "cell_type": "code",
     "collapsed": false,
     "input": [
      "months = list(set([f.split('.')[-3] for f in os.listdir(monthly_dir)]))\n",
      "for g in gcms:\n",
      "    for month in months:\n",
      "        period_files = [os.path.join(monthly_dir, f) for f in os.listdir(monthly_dir) if gcm in f and month in f]\n",
      "        baseline = [period_files.pop(i) for i, f in enumerate(period_files) if baseline_per in f and month in f][0]\n",
      "        hs = hruStatistics(period_files, baseline, error_file='errors_{}_{}'.format(gcm, month))\n",
      "        hs.hru_mean_pct_diff()\n",
      "        hs.write_output(outdir=monthly_output_dir)\n"
     ],
     "language": "python",
     "metadata": {},
     "outputs": [
      {
       "output_type": "stream",
       "stream": "stdout",
       "text": [
        "reading D:/ATLData/LMB/LKM_Nov2013_monthly_animation_output\\mpi_echam5.sresa1b.2046-2065.mar.animation.nhru...\n",
        "reading D:/ATLData/LMB/LKM_Nov2013_monthly_animation_output\\mpi_echam5.sresa1b.2081-2100.mar.animation.nhru..."
       ]
      },
      {
       "output_type": "stream",
       "stream": "stdout",
       "text": [
        "\n",
        "reading D:/ATLData/LMB/LKM_Nov2013_monthly_animation_output\\mpi_echam5.sresa2.2046-2065.mar.animation.nhru..."
       ]
      },
      {
       "output_type": "stream",
       "stream": "stdout",
       "text": [
        "\n",
        "reading D:/ATLData/LMB/LKM_Nov2013_monthly_animation_output\\mpi_echam5.sresa2.2081-2100.mar.animation.nhru..."
       ]
      },
      {
       "output_type": "stream",
       "stream": "stdout",
       "text": [
        "\n",
        "reading D:/ATLData/LMB/LKM_Nov2013_monthly_animation_output\\mpi_echam5.sresb1.2046-2065.mar.animation.nhru..."
       ]
      },
      {
       "output_type": "stream",
       "stream": "stdout",
       "text": [
        "\n",
        "reading D:/ATLData/LMB/LKM_Nov2013_monthly_animation_output\\mpi_echam5.sresb1.2081-2100.mar.animation.nhru..."
       ]
      },
      {
       "output_type": "stream",
       "stream": "stdout",
       "text": [
        "\n",
        "reading D:/ATLData/LMB/LKM_Nov2013_monthly_animation_output\\mpi_echam5.20c3m.1981-2000.mar.animation.nhru..."
       ]
      },
      {
       "output_type": "stream",
       "stream": "stdout",
       "text": [
        "\n",
        "Warning, nan values found in percent differences. See error_file."
       ]
      },
      {
       "output_type": "stream",
       "stream": "stdout",
       "text": [
        "\n",
        "writing D:/ATLData/LMB/LKM_Nov2013_monthly/hru_means\\mpi_echam5.20c3m.1981-2000.mar.animation.hru_means.nhru...\n",
        "writing D:/ATLData/LMB/LKM_Nov2013_monthly/hru_means\\mpi_echam5.sresa1b.2081-2100.mar.animation.hru_means.nhru..."
       ]
      },
      {
       "output_type": "stream",
       "stream": "stdout",
       "text": [
        "\n",
        "writing D:/ATLData/LMB/LKM_Nov2013_monthly/hru_pct_diff\\mpi_echam5.sresa1b.2081-2100.mar.animation.hru_pct_diff.nhru..."
       ]
      },
      {
       "output_type": "stream",
       "stream": "stdout",
       "text": [
        "\n",
        "writing D:/ATLData/LMB/LKM_Nov2013_monthly/hru_means\\mpi_echam5.sresa2.2046-2065.mar.animation.hru_means.nhru..."
       ]
      },
      {
       "output_type": "stream",
       "stream": "stdout",
       "text": [
        "\n",
        "writing D:/ATLData/LMB/LKM_Nov2013_monthly/hru_pct_diff\\mpi_echam5.sresa2.2046-2065.mar.animation.hru_pct_diff.nhru..."
       ]
      },
      {
       "output_type": "stream",
       "stream": "stdout",
       "text": [
        "\n",
        "writing D:/ATLData/LMB/LKM_Nov2013_monthly/hru_means\\mpi_echam5.sresa2.2081-2100.mar.animation.hru_means.nhru..."
       ]
      },
      {
       "output_type": "stream",
       "stream": "stdout",
       "text": [
        "\n",
        "writing D:/ATLData/LMB/LKM_Nov2013_monthly/hru_pct_diff\\mpi_echam5.sresa2.2081-2100.mar.animation.hru_pct_diff.nhru..."
       ]
      },
      {
       "output_type": "stream",
       "stream": "stdout",
       "text": [
        "\n",
        "writing D:/ATLData/LMB/LKM_Nov2013_monthly/hru_means\\mpi_echam5.sresb1.2046-2065.mar.animation.hru_means.nhru..."
       ]
      },
      {
       "output_type": "stream",
       "stream": "stdout",
       "text": [
        "\n",
        "writing D:/ATLData/LMB/LKM_Nov2013_monthly/hru_pct_diff\\mpi_echam5.sresb1.2046-2065.mar.animation.hru_pct_diff.nhru..."
       ]
      },
      {
       "output_type": "stream",
       "stream": "stdout",
       "text": [
        "\n",
        "writing D:/ATLData/LMB/LKM_Nov2013_monthly/hru_means\\mpi_echam5.sresb1.2081-2100.mar.animation.hru_means.nhru..."
       ]
      },
      {
       "output_type": "stream",
       "stream": "stdout",
       "text": [
        "\n",
        "writing D:/ATLData/LMB/LKM_Nov2013_monthly/hru_pct_diff\\mpi_echam5.sresb1.2081-2100.mar.animation.hru_pct_diff.nhru..."
       ]
      },
      {
       "output_type": "stream",
       "stream": "stdout",
       "text": [
        "\n",
        "writing D:/ATLData/LMB/LKM_Nov2013_monthly/hru_means\\mpi_echam5.sresa1b.2046-2065.mar.animation.hru_means.nhru..."
       ]
      },
      {
       "output_type": "stream",
       "stream": "stdout",
       "text": [
        "\n",
        "writing D:/ATLData/LMB/LKM_Nov2013_monthly/hru_pct_diff\\mpi_echam5.sresa1b.2046-2065.mar.animation.hru_pct_diff.nhru..."
       ]
      },
      {
       "output_type": "stream",
       "stream": "stdout",
       "text": [
        "\n",
        "reading D:/ATLData/LMB/LKM_Nov2013_monthly_animation_output\\mpi_echam5.sresa1b.2046-2065.feb.animation.nhru..."
       ]
      },
      {
       "output_type": "stream",
       "stream": "stdout",
       "text": [
        "\n",
        "reading D:/ATLData/LMB/LKM_Nov2013_monthly_animation_output\\mpi_echam5.sresa1b.2081-2100.feb.animation.nhru..."
       ]
      },
      {
       "output_type": "stream",
       "stream": "stdout",
       "text": [
        "\n",
        "reading D:/ATLData/LMB/LKM_Nov2013_monthly_animation_output\\mpi_echam5.sresa2.2046-2065.feb.animation.nhru..."
       ]
      },
      {
       "output_type": "stream",
       "stream": "stdout",
       "text": [
        "\n",
        "reading D:/ATLData/LMB/LKM_Nov2013_monthly_animation_output\\mpi_echam5.sresa2.2081-2100.feb.animation.nhru..."
       ]
      },
      {
       "output_type": "stream",
       "stream": "stdout",
       "text": [
        "\n",
        "reading D:/ATLData/LMB/LKM_Nov2013_monthly_animation_output\\mpi_echam5.sresb1.2046-2065.feb.animation.nhru..."
       ]
      },
      {
       "output_type": "stream",
       "stream": "stdout",
       "text": [
        "\n",
        "reading D:/ATLData/LMB/LKM_Nov2013_monthly_animation_output\\mpi_echam5.sresb1.2081-2100.feb.animation.nhru..."
       ]
      },
      {
       "output_type": "stream",
       "stream": "stdout",
       "text": [
        "\n",
        "reading D:/ATLData/LMB/LKM_Nov2013_monthly_animation_output\\mpi_echam5.20c3m.1981-2000.feb.animation.nhru..."
       ]
      },
      {
       "output_type": "stream",
       "stream": "stdout",
       "text": [
        "\n",
        "Warning, nan values found in percent differences. See error_file."
       ]
      },
      {
       "output_type": "stream",
       "stream": "stdout",
       "text": [
        "\n",
        "writing D:/ATLData/LMB/LKM_Nov2013_monthly/hru_means\\mpi_echam5.20c3m.1981-2000.feb.animation.hru_means.nhru...\n",
        "writing D:/ATLData/LMB/LKM_Nov2013_monthly/hru_means\\mpi_echam5.sresa1b.2046-2065.feb.animation.hru_means.nhru..."
       ]
      },
      {
       "output_type": "stream",
       "stream": "stdout",
       "text": [
        "\n",
        "writing D:/ATLData/LMB/LKM_Nov2013_monthly/hru_pct_diff\\mpi_echam5.sresa1b.2046-2065.feb.animation.hru_pct_diff.nhru..."
       ]
      },
      {
       "output_type": "stream",
       "stream": "stdout",
       "text": [
        "\n",
        "writing D:/ATLData/LMB/LKM_Nov2013_monthly/hru_means\\mpi_echam5.sresa1b.2081-2100.feb.animation.hru_means.nhru..."
       ]
      },
      {
       "output_type": "stream",
       "stream": "stdout",
       "text": [
        "\n",
        "writing D:/ATLData/LMB/LKM_Nov2013_monthly/hru_pct_diff\\mpi_echam5.sresa1b.2081-2100.feb.animation.hru_pct_diff.nhru..."
       ]
      },
      {
       "output_type": "stream",
       "stream": "stdout",
       "text": [
        "\n",
        "writing D:/ATLData/LMB/LKM_Nov2013_monthly/hru_means\\mpi_echam5.sresa2.2046-2065.feb.animation.hru_means.nhru..."
       ]
      },
      {
       "output_type": "stream",
       "stream": "stdout",
       "text": [
        "\n",
        "writing D:/ATLData/LMB/LKM_Nov2013_monthly/hru_pct_diff\\mpi_echam5.sresa2.2046-2065.feb.animation.hru_pct_diff.nhru..."
       ]
      },
      {
       "output_type": "stream",
       "stream": "stdout",
       "text": [
        "\n",
        "writing D:/ATLData/LMB/LKM_Nov2013_monthly/hru_means\\mpi_echam5.sresb1.2046-2065.feb.animation.hru_means.nhru..."
       ]
      },
      {
       "output_type": "stream",
       "stream": "stdout",
       "text": [
        "\n",
        "writing D:/ATLData/LMB/LKM_Nov2013_monthly/hru_pct_diff\\mpi_echam5.sresb1.2046-2065.feb.animation.hru_pct_diff.nhru..."
       ]
      },
      {
       "output_type": "stream",
       "stream": "stdout",
       "text": [
        "\n",
        "writing D:/ATLData/LMB/LKM_Nov2013_monthly/hru_means\\mpi_echam5.sresa2.2081-2100.feb.animation.hru_means.nhru..."
       ]
      },
      {
       "output_type": "stream",
       "stream": "stdout",
       "text": [
        "\n",
        "writing D:/ATLData/LMB/LKM_Nov2013_monthly/hru_pct_diff\\mpi_echam5.sresa2.2081-2100.feb.animation.hru_pct_diff.nhru..."
       ]
      },
      {
       "output_type": "stream",
       "stream": "stdout",
       "text": [
        "\n",
        "writing D:/ATLData/LMB/LKM_Nov2013_monthly/hru_means\\mpi_echam5.sresb1.2081-2100.feb.animation.hru_means.nhru..."
       ]
      },
      {
       "output_type": "stream",
       "stream": "stdout",
       "text": [
        "\n",
        "writing D:/ATLData/LMB/LKM_Nov2013_monthly/hru_pct_diff\\mpi_echam5.sresb1.2081-2100.feb.animation.hru_pct_diff.nhru..."
       ]
      },
      {
       "output_type": "stream",
       "stream": "stdout",
       "text": [
        "\n",
        "reading D:/ATLData/LMB/LKM_Nov2013_monthly_animation_output\\mpi_echam5.sresa1b.2046-2065.aug.animation.nhru..."
       ]
      },
      {
       "output_type": "stream",
       "stream": "stdout",
       "text": [
        "\n",
        "reading D:/ATLData/LMB/LKM_Nov2013_monthly_animation_output\\mpi_echam5.sresa1b.2081-2100.aug.animation.nhru..."
       ]
      },
      {
       "output_type": "stream",
       "stream": "stdout",
       "text": [
        "\n",
        "reading D:/ATLData/LMB/LKM_Nov2013_monthly_animation_output\\mpi_echam5.sresa2.2046-2065.aug.animation.nhru..."
       ]
      },
      {
       "output_type": "stream",
       "stream": "stdout",
       "text": [
        "\n",
        "reading D:/ATLData/LMB/LKM_Nov2013_monthly_animation_output\\mpi_echam5.sresa2.2081-2100.aug.animation.nhru..."
       ]
      },
      {
       "output_type": "stream",
       "stream": "stdout",
       "text": [
        "\n",
        "reading D:/ATLData/LMB/LKM_Nov2013_monthly_animation_output\\mpi_echam5.sresb1.2046-2065.aug.animation.nhru..."
       ]
      },
      {
       "output_type": "stream",
       "stream": "stdout",
       "text": [
        "\n",
        "reading D:/ATLData/LMB/LKM_Nov2013_monthly_animation_output\\mpi_echam5.sresb1.2081-2100.aug.animation.nhru..."
       ]
      },
      {
       "output_type": "stream",
       "stream": "stdout",
       "text": [
        "\n",
        "reading D:/ATLData/LMB/LKM_Nov2013_monthly_animation_output\\mpi_echam5.20c3m.1981-2000.aug.animation.nhru..."
       ]
      },
      {
       "output_type": "stream",
       "stream": "stdout",
       "text": [
        "\n",
        "Warning, nan values found in percent differences. See error_file."
       ]
      },
      {
       "output_type": "stream",
       "stream": "stdout",
       "text": [
        "\n",
        "writing D:/ATLData/LMB/LKM_Nov2013_monthly/hru_means\\mpi_echam5.20c3m.1981-2000.aug.animation.hru_means.nhru...\n",
        "writing D:/ATLData/LMB/LKM_Nov2013_monthly/hru_means\\mpi_echam5.sresb1.2046-2065.aug.animation.hru_means.nhru..."
       ]
      },
      {
       "output_type": "stream",
       "stream": "stdout",
       "text": [
        "\n",
        "writing D:/ATLData/LMB/LKM_Nov2013_monthly/hru_pct_diff\\mpi_echam5.sresb1.2046-2065.aug.animation.hru_pct_diff.nhru..."
       ]
      },
      {
       "output_type": "stream",
       "stream": "stdout",
       "text": [
        "\n",
        "writing D:/ATLData/LMB/LKM_Nov2013_monthly/hru_means\\mpi_echam5.sresb1.2081-2100.aug.animation.hru_means.nhru..."
       ]
      },
      {
       "output_type": "stream",
       "stream": "stdout",
       "text": [
        "\n",
        "writing D:/ATLData/LMB/LKM_Nov2013_monthly/hru_pct_diff\\mpi_echam5.sresb1.2081-2100.aug.animation.hru_pct_diff.nhru..."
       ]
      },
      {
       "output_type": "stream",
       "stream": "stdout",
       "text": [
        "\n",
        "writing D:/ATLData/LMB/LKM_Nov2013_monthly/hru_means\\mpi_echam5.sresa1b.2046-2065.aug.animation.hru_means.nhru..."
       ]
      },
      {
       "output_type": "stream",
       "stream": "stdout",
       "text": [
        "\n",
        "writing D:/ATLData/LMB/LKM_Nov2013_monthly/hru_pct_diff\\mpi_echam5.sresa1b.2046-2065.aug.animation.hru_pct_diff.nhru..."
       ]
      },
      {
       "output_type": "stream",
       "stream": "stdout",
       "text": [
        "\n",
        "writing D:/ATLData/LMB/LKM_Nov2013_monthly/hru_means\\mpi_echam5.sresa2.2046-2065.aug.animation.hru_means.nhru..."
       ]
      },
      {
       "output_type": "stream",
       "stream": "stdout",
       "text": [
        "\n",
        "writing D:/ATLData/LMB/LKM_Nov2013_monthly/hru_pct_diff\\mpi_echam5.sresa2.2046-2065.aug.animation.hru_pct_diff.nhru..."
       ]
      },
      {
       "output_type": "stream",
       "stream": "stdout",
       "text": [
        "\n",
        "writing D:/ATLData/LMB/LKM_Nov2013_monthly/hru_means\\mpi_echam5.sresa1b.2081-2100.aug.animation.hru_means.nhru..."
       ]
      },
      {
       "output_type": "stream",
       "stream": "stdout",
       "text": [
        "\n",
        "writing D:/ATLData/LMB/LKM_Nov2013_monthly/hru_pct_diff\\mpi_echam5.sresa1b.2081-2100.aug.animation.hru_pct_diff.nhru..."
       ]
      },
      {
       "output_type": "stream",
       "stream": "stdout",
       "text": [
        "\n",
        "writing D:/ATLData/LMB/LKM_Nov2013_monthly/hru_means\\mpi_echam5.sresa2.2081-2100.aug.animation.hru_means.nhru..."
       ]
      },
      {
       "output_type": "stream",
       "stream": "stdout",
       "text": [
        "\n",
        "writing D:/ATLData/LMB/LKM_Nov2013_monthly/hru_pct_diff\\mpi_echam5.sresa2.2081-2100.aug.animation.hru_pct_diff.nhru..."
       ]
      },
      {
       "output_type": "stream",
       "stream": "stdout",
       "text": [
        "\n",
        "reading D:/ATLData/LMB/LKM_Nov2013_monthly_animation_output\\mpi_echam5.sresa1b.2046-2065.sep.animation.nhru..."
       ]
      },
      {
       "output_type": "stream",
       "stream": "stdout",
       "text": [
        "\n",
        "reading D:/ATLData/LMB/LKM_Nov2013_monthly_animation_output\\mpi_echam5.sresa1b.2081-2100.sep.animation.nhru..."
       ]
      },
      {
       "output_type": "stream",
       "stream": "stdout",
       "text": [
        "\n",
        "reading D:/ATLData/LMB/LKM_Nov2013_monthly_animation_output\\mpi_echam5.sresa2.2046-2065.sep.animation.nhru..."
       ]
      },
      {
       "output_type": "stream",
       "stream": "stdout",
       "text": [
        "\n",
        "reading D:/ATLData/LMB/LKM_Nov2013_monthly_animation_output\\mpi_echam5.sresa2.2081-2100.sep.animation.nhru..."
       ]
      },
      {
       "output_type": "stream",
       "stream": "stdout",
       "text": [
        "\n",
        "reading D:/ATLData/LMB/LKM_Nov2013_monthly_animation_output\\mpi_echam5.sresb1.2046-2065.sep.animation.nhru..."
       ]
      },
      {
       "output_type": "stream",
       "stream": "stdout",
       "text": [
        "\n",
        "reading D:/ATLData/LMB/LKM_Nov2013_monthly_animation_output\\mpi_echam5.sresb1.2081-2100.sep.animation.nhru..."
       ]
      },
      {
       "output_type": "stream",
       "stream": "stdout",
       "text": [
        "\n",
        "reading D:/ATLData/LMB/LKM_Nov2013_monthly_animation_output\\mpi_echam5.20c3m.1981-2000.sep.animation.nhru..."
       ]
      },
      {
       "output_type": "stream",
       "stream": "stdout",
       "text": [
        "\n",
        "Warning, nan values found in percent differences. See error_file."
       ]
      },
      {
       "output_type": "stream",
       "stream": "stdout",
       "text": [
        "\n",
        "writing D:/ATLData/LMB/LKM_Nov2013_monthly/hru_means\\mpi_echam5.20c3m.1981-2000.sep.animation.hru_means.nhru...\n",
        "writing D:/ATLData/LMB/LKM_Nov2013_monthly/hru_means\\mpi_echam5.sresa2.2081-2100.sep.animation.hru_means.nhru..."
       ]
      },
      {
       "output_type": "stream",
       "stream": "stdout",
       "text": [
        "\n",
        "writing D:/ATLData/LMB/LKM_Nov2013_monthly/hru_pct_diff\\mpi_echam5.sresa2.2081-2100.sep.animation.hru_pct_diff.nhru..."
       ]
      },
      {
       "output_type": "stream",
       "stream": "stdout",
       "text": [
        "\n",
        "writing D:/ATLData/LMB/LKM_Nov2013_monthly/hru_means\\mpi_echam5.sresb1.2081-2100.sep.animation.hru_means.nhru..."
       ]
      },
      {
       "output_type": "stream",
       "stream": "stdout",
       "text": [
        "\n",
        "writing D:/ATLData/LMB/LKM_Nov2013_monthly/hru_pct_diff\\mpi_echam5.sresb1.2081-2100.sep.animation.hru_pct_diff.nhru..."
       ]
      },
      {
       "output_type": "stream",
       "stream": "stdout",
       "text": [
        "\n",
        "writing D:/ATLData/LMB/LKM_Nov2013_monthly/hru_means\\mpi_echam5.sresa1b.2081-2100.sep.animation.hru_means.nhru..."
       ]
      },
      {
       "output_type": "stream",
       "stream": "stdout",
       "text": [
        "\n",
        "writing D:/ATLData/LMB/LKM_Nov2013_monthly/hru_pct_diff\\mpi_echam5.sresa1b.2081-2100.sep.animation.hru_pct_diff.nhru..."
       ]
      },
      {
       "output_type": "stream",
       "stream": "stdout",
       "text": [
        "\n",
        "writing D:/ATLData/LMB/LKM_Nov2013_monthly/hru_means\\mpi_echam5.sresa1b.2046-2065.sep.animation.hru_means.nhru..."
       ]
      },
      {
       "output_type": "stream",
       "stream": "stdout",
       "text": [
        "\n",
        "writing D:/ATLData/LMB/LKM_Nov2013_monthly/hru_pct_diff\\mpi_echam5.sresa1b.2046-2065.sep.animation.hru_pct_diff.nhru..."
       ]
      },
      {
       "output_type": "stream",
       "stream": "stdout",
       "text": [
        "\n",
        "writing D:/ATLData/LMB/LKM_Nov2013_monthly/hru_means\\mpi_echam5.sresb1.2046-2065.sep.animation.hru_means.nhru..."
       ]
      },
      {
       "output_type": "stream",
       "stream": "stdout",
       "text": [
        "\n",
        "writing D:/ATLData/LMB/LKM_Nov2013_monthly/hru_pct_diff\\mpi_echam5.sresb1.2046-2065.sep.animation.hru_pct_diff.nhru..."
       ]
      },
      {
       "output_type": "stream",
       "stream": "stdout",
       "text": [
        "\n",
        "writing D:/ATLData/LMB/LKM_Nov2013_monthly/hru_means\\mpi_echam5.sresa2.2046-2065.sep.animation.hru_means.nhru..."
       ]
      },
      {
       "output_type": "stream",
       "stream": "stdout",
       "text": [
        "\n",
        "writing D:/ATLData/LMB/LKM_Nov2013_monthly/hru_pct_diff\\mpi_echam5.sresa2.2046-2065.sep.animation.hru_pct_diff.nhru..."
       ]
      },
      {
       "output_type": "stream",
       "stream": "stdout",
       "text": [
        "\n",
        "reading D:/ATLData/LMB/LKM_Nov2013_monthly_animation_output\\mpi_echam5.sresa1b.2046-2065.apr.animation.nhru..."
       ]
      },
      {
       "output_type": "stream",
       "stream": "stdout",
       "text": [
        "\n",
        "reading D:/ATLData/LMB/LKM_Nov2013_monthly_animation_output\\mpi_echam5.sresa1b.2081-2100.apr.animation.nhru..."
       ]
      },
      {
       "output_type": "stream",
       "stream": "stdout",
       "text": [
        "\n",
        "reading D:/ATLData/LMB/LKM_Nov2013_monthly_animation_output\\mpi_echam5.sresa2.2046-2065.apr.animation.nhru..."
       ]
      },
      {
       "output_type": "stream",
       "stream": "stdout",
       "text": [
        "\n",
        "reading D:/ATLData/LMB/LKM_Nov2013_monthly_animation_output\\mpi_echam5.sresa2.2081-2100.apr.animation.nhru..."
       ]
      },
      {
       "output_type": "stream",
       "stream": "stdout",
       "text": [
        "\n",
        "reading D:/ATLData/LMB/LKM_Nov2013_monthly_animation_output\\mpi_echam5.sresb1.2046-2065.apr.animation.nhru..."
       ]
      },
      {
       "output_type": "stream",
       "stream": "stdout",
       "text": [
        "\n",
        "reading D:/ATLData/LMB/LKM_Nov2013_monthly_animation_output\\mpi_echam5.sresb1.2081-2100.apr.animation.nhru..."
       ]
      },
      {
       "output_type": "stream",
       "stream": "stdout",
       "text": [
        "\n",
        "reading D:/ATLData/LMB/LKM_Nov2013_monthly_animation_output\\mpi_echam5.20c3m.1981-2000.apr.animation.nhru..."
       ]
      },
      {
       "output_type": "stream",
       "stream": "stdout",
       "text": [
        "\n",
        "Warning, nan values found in percent differences. See error_file."
       ]
      },
      {
       "output_type": "stream",
       "stream": "stdout",
       "text": [
        "\n",
        "writing D:/ATLData/LMB/LKM_Nov2013_monthly/hru_means\\mpi_echam5.20c3m.1981-2000.apr.animation.hru_means.nhru...\n",
        "writing D:/ATLData/LMB/LKM_Nov2013_monthly/hru_means\\mpi_echam5.sresb1.2081-2100.apr.animation.hru_means.nhru..."
       ]
      },
      {
       "output_type": "stream",
       "stream": "stdout",
       "text": [
        "\n",
        "writing D:/ATLData/LMB/LKM_Nov2013_monthly/hru_pct_diff\\mpi_echam5.sresb1.2081-2100.apr.animation.hru_pct_diff.nhru..."
       ]
      },
      {
       "output_type": "stream",
       "stream": "stdout",
       "text": [
        "\n",
        "writing D:/ATLData/LMB/LKM_Nov2013_monthly/hru_means\\mpi_echam5.sresa2.2081-2100.apr.animation.hru_means.nhru..."
       ]
      },
      {
       "output_type": "stream",
       "stream": "stdout",
       "text": [
        "\n",
        "writing D:/ATLData/LMB/LKM_Nov2013_monthly/hru_pct_diff\\mpi_echam5.sresa2.2081-2100.apr.animation.hru_pct_diff.nhru..."
       ]
      },
      {
       "output_type": "stream",
       "stream": "stdout",
       "text": [
        "\n",
        "writing D:/ATLData/LMB/LKM_Nov2013_monthly/hru_means\\mpi_echam5.sresb1.2046-2065.apr.animation.hru_means.nhru..."
       ]
      },
      {
       "output_type": "stream",
       "stream": "stdout",
       "text": [
        "\n",
        "writing D:/ATLData/LMB/LKM_Nov2013_monthly/hru_pct_diff\\mpi_echam5.sresb1.2046-2065.apr.animation.hru_pct_diff.nhru..."
       ]
      },
      {
       "output_type": "stream",
       "stream": "stdout",
       "text": [
        "\n",
        "writing D:/ATLData/LMB/LKM_Nov2013_monthly/hru_means\\mpi_echam5.sresa2.2046-2065.apr.animation.hru_means.nhru..."
       ]
      },
      {
       "output_type": "stream",
       "stream": "stdout",
       "text": [
        "\n",
        "writing D:/ATLData/LMB/LKM_Nov2013_monthly/hru_pct_diff\\mpi_echam5.sresa2.2046-2065.apr.animation.hru_pct_diff.nhru..."
       ]
      },
      {
       "output_type": "stream",
       "stream": "stdout",
       "text": [
        "\n",
        "writing D:/ATLData/LMB/LKM_Nov2013_monthly/hru_means\\mpi_echam5.sresa1b.2081-2100.apr.animation.hru_means.nhru..."
       ]
      },
      {
       "output_type": "stream",
       "stream": "stdout",
       "text": [
        "\n",
        "writing D:/ATLData/LMB/LKM_Nov2013_monthly/hru_pct_diff\\mpi_echam5.sresa1b.2081-2100.apr.animation.hru_pct_diff.nhru..."
       ]
      },
      {
       "output_type": "stream",
       "stream": "stdout",
       "text": [
        "\n",
        "writing D:/ATLData/LMB/LKM_Nov2013_monthly/hru_means\\mpi_echam5.sresa1b.2046-2065.apr.animation.hru_means.nhru..."
       ]
      },
      {
       "output_type": "stream",
       "stream": "stdout",
       "text": [
        "\n",
        "writing D:/ATLData/LMB/LKM_Nov2013_monthly/hru_pct_diff\\mpi_echam5.sresa1b.2046-2065.apr.animation.hru_pct_diff.nhru..."
       ]
      },
      {
       "output_type": "stream",
       "stream": "stdout",
       "text": [
        "\n",
        "reading D:/ATLData/LMB/LKM_Nov2013_monthly_animation_output\\mpi_echam5.sresa1b.2046-2065.jun.animation.nhru..."
       ]
      },
      {
       "output_type": "stream",
       "stream": "stdout",
       "text": [
        "\n",
        "reading D:/ATLData/LMB/LKM_Nov2013_monthly_animation_output\\mpi_echam5.sresa1b.2081-2100.jun.animation.nhru..."
       ]
      },
      {
       "output_type": "stream",
       "stream": "stdout",
       "text": [
        "\n",
        "reading D:/ATLData/LMB/LKM_Nov2013_monthly_animation_output\\mpi_echam5.sresa2.2046-2065.jun.animation.nhru..."
       ]
      },
      {
       "output_type": "stream",
       "stream": "stdout",
       "text": [
        "\n",
        "reading D:/ATLData/LMB/LKM_Nov2013_monthly_animation_output\\mpi_echam5.sresa2.2081-2100.jun.animation.nhru..."
       ]
      },
      {
       "output_type": "stream",
       "stream": "stdout",
       "text": [
        "\n",
        "reading D:/ATLData/LMB/LKM_Nov2013_monthly_animation_output\\mpi_echam5.sresb1.2046-2065.jun.animation.nhru..."
       ]
      },
      {
       "output_type": "stream",
       "stream": "stdout",
       "text": [
        "\n",
        "reading D:/ATLData/LMB/LKM_Nov2013_monthly_animation_output\\mpi_echam5.sresb1.2081-2100.jun.animation.nhru..."
       ]
      },
      {
       "output_type": "stream",
       "stream": "stdout",
       "text": [
        "\n",
        "reading D:/ATLData/LMB/LKM_Nov2013_monthly_animation_output\\mpi_echam5.20c3m.1981-2000.jun.animation.nhru..."
       ]
      },
      {
       "output_type": "stream",
       "stream": "stdout",
       "text": [
        "\n",
        "Warning, nan values found in percent differences. See error_file."
       ]
      },
      {
       "output_type": "stream",
       "stream": "stdout",
       "text": [
        "\n",
        "writing D:/ATLData/LMB/LKM_Nov2013_monthly/hru_means\\mpi_echam5.20c3m.1981-2000.jun.animation.hru_means.nhru...\n",
        "writing D:/ATLData/LMB/LKM_Nov2013_monthly/hru_means\\mpi_echam5.sresa2.2081-2100.jun.animation.hru_means.nhru..."
       ]
      },
      {
       "output_type": "stream",
       "stream": "stdout",
       "text": [
        "\n",
        "writing D:/ATLData/LMB/LKM_Nov2013_monthly/hru_pct_diff\\mpi_echam5.sresa2.2081-2100.jun.animation.hru_pct_diff.nhru..."
       ]
      },
      {
       "output_type": "stream",
       "stream": "stdout",
       "text": [
        "\n",
        "writing D:/ATLData/LMB/LKM_Nov2013_monthly/hru_means\\mpi_echam5.sresa2.2046-2065.jun.animation.hru_means.nhru..."
       ]
      },
      {
       "output_type": "stream",
       "stream": "stdout",
       "text": [
        "\n",
        "writing D:/ATLData/LMB/LKM_Nov2013_monthly/hru_pct_diff\\mpi_echam5.sresa2.2046-2065.jun.animation.hru_pct_diff.nhru..."
       ]
      },
      {
       "output_type": "stream",
       "stream": "stdout",
       "text": [
        "\n",
        "writing D:/ATLData/LMB/LKM_Nov2013_monthly/hru_means\\mpi_echam5.sresb1.2081-2100.jun.animation.hru_means.nhru..."
       ]
      },
      {
       "output_type": "stream",
       "stream": "stdout",
       "text": [
        "\n",
        "writing D:/ATLData/LMB/LKM_Nov2013_monthly/hru_pct_diff\\mpi_echam5.sresb1.2081-2100.jun.animation.hru_pct_diff.nhru..."
       ]
      },
      {
       "output_type": "stream",
       "stream": "stdout",
       "text": [
        "\n",
        "writing D:/ATLData/LMB/LKM_Nov2013_monthly/hru_means\\mpi_echam5.sresa1b.2046-2065.jun.animation.hru_means.nhru..."
       ]
      },
      {
       "output_type": "stream",
       "stream": "stdout",
       "text": [
        "\n",
        "writing D:/ATLData/LMB/LKM_Nov2013_monthly/hru_pct_diff\\mpi_echam5.sresa1b.2046-2065.jun.animation.hru_pct_diff.nhru..."
       ]
      },
      {
       "output_type": "stream",
       "stream": "stdout",
       "text": [
        "\n",
        "writing D:/ATLData/LMB/LKM_Nov2013_monthly/hru_means\\mpi_echam5.sresa1b.2081-2100.jun.animation.hru_means.nhru..."
       ]
      },
      {
       "output_type": "stream",
       "stream": "stdout",
       "text": [
        "\n",
        "writing D:/ATLData/LMB/LKM_Nov2013_monthly/hru_pct_diff\\mpi_echam5.sresa1b.2081-2100.jun.animation.hru_pct_diff.nhru..."
       ]
      },
      {
       "output_type": "stream",
       "stream": "stdout",
       "text": [
        "\n",
        "writing D:/ATLData/LMB/LKM_Nov2013_monthly/hru_means\\mpi_echam5.sresb1.2046-2065.jun.animation.hru_means.nhru..."
       ]
      },
      {
       "output_type": "stream",
       "stream": "stdout",
       "text": [
        "\n",
        "writing D:/ATLData/LMB/LKM_Nov2013_monthly/hru_pct_diff\\mpi_echam5.sresb1.2046-2065.jun.animation.hru_pct_diff.nhru..."
       ]
      },
      {
       "output_type": "stream",
       "stream": "stdout",
       "text": [
        "\n",
        "reading D:/ATLData/LMB/LKM_Nov2013_monthly_animation_output\\mpi_echam5.sresa1b.2046-2065.jul.animation.nhru..."
       ]
      },
      {
       "output_type": "stream",
       "stream": "stdout",
       "text": [
        "\n",
        "reading D:/ATLData/LMB/LKM_Nov2013_monthly_animation_output\\mpi_echam5.sresa1b.2081-2100.jul.animation.nhru..."
       ]
      },
      {
       "output_type": "stream",
       "stream": "stdout",
       "text": [
        "\n",
        "reading D:/ATLData/LMB/LKM_Nov2013_monthly_animation_output\\mpi_echam5.sresa2.2046-2065.jul.animation.nhru..."
       ]
      },
      {
       "output_type": "stream",
       "stream": "stdout",
       "text": [
        "\n",
        "reading D:/ATLData/LMB/LKM_Nov2013_monthly_animation_output\\mpi_echam5.sresa2.2081-2100.jul.animation.nhru..."
       ]
      },
      {
       "output_type": "stream",
       "stream": "stdout",
       "text": [
        "\n",
        "reading D:/ATLData/LMB/LKM_Nov2013_monthly_animation_output\\mpi_echam5.sresb1.2046-2065.jul.animation.nhru..."
       ]
      },
      {
       "output_type": "stream",
       "stream": "stdout",
       "text": [
        "\n",
        "reading D:/ATLData/LMB/LKM_Nov2013_monthly_animation_output\\mpi_echam5.sresb1.2081-2100.jul.animation.nhru..."
       ]
      },
      {
       "output_type": "stream",
       "stream": "stdout",
       "text": [
        "\n",
        "reading D:/ATLData/LMB/LKM_Nov2013_monthly_animation_output\\mpi_echam5.20c3m.1981-2000.jul.animation.nhru..."
       ]
      },
      {
       "output_type": "stream",
       "stream": "stdout",
       "text": [
        "\n",
        "Warning, nan values found in percent differences. See error_file."
       ]
      },
      {
       "output_type": "stream",
       "stream": "stdout",
       "text": [
        "\n",
        "writing D:/ATLData/LMB/LKM_Nov2013_monthly/hru_means\\mpi_echam5.20c3m.1981-2000.jul.animation.hru_means.nhru...\n",
        "writing D:/ATLData/LMB/LKM_Nov2013_monthly/hru_means\\mpi_echam5.sresa1b.2046-2065.jul.animation.hru_means.nhru..."
       ]
      },
      {
       "output_type": "stream",
       "stream": "stdout",
       "text": [
        "\n",
        "writing D:/ATLData/LMB/LKM_Nov2013_monthly/hru_pct_diff\\mpi_echam5.sresa1b.2046-2065.jul.animation.hru_pct_diff.nhru..."
       ]
      },
      {
       "output_type": "stream",
       "stream": "stdout",
       "text": [
        "\n",
        "writing D:/ATLData/LMB/LKM_Nov2013_monthly/hru_means\\mpi_echam5.sresb1.2046-2065.jul.animation.hru_means.nhru..."
       ]
      },
      {
       "output_type": "stream",
       "stream": "stdout",
       "text": [
        "\n",
        "writing D:/ATLData/LMB/LKM_Nov2013_monthly/hru_pct_diff\\mpi_echam5.sresb1.2046-2065.jul.animation.hru_pct_diff.nhru..."
       ]
      },
      {
       "output_type": "stream",
       "stream": "stdout",
       "text": [
        "\n",
        "writing D:/ATLData/LMB/LKM_Nov2013_monthly/hru_means\\mpi_echam5.sresa2.2046-2065.jul.animation.hru_means.nhru..."
       ]
      },
      {
       "output_type": "stream",
       "stream": "stdout",
       "text": [
        "\n",
        "writing D:/ATLData/LMB/LKM_Nov2013_monthly/hru_pct_diff\\mpi_echam5.sresa2.2046-2065.jul.animation.hru_pct_diff.nhru..."
       ]
      },
      {
       "output_type": "stream",
       "stream": "stdout",
       "text": [
        "\n",
        "writing D:/ATLData/LMB/LKM_Nov2013_monthly/hru_means\\mpi_echam5.sresa1b.2081-2100.jul.animation.hru_means.nhru..."
       ]
      },
      {
       "output_type": "stream",
       "stream": "stdout",
       "text": [
        "\n",
        "writing D:/ATLData/LMB/LKM_Nov2013_monthly/hru_pct_diff\\mpi_echam5.sresa1b.2081-2100.jul.animation.hru_pct_diff.nhru..."
       ]
      },
      {
       "output_type": "stream",
       "stream": "stdout",
       "text": [
        "\n",
        "writing D:/ATLData/LMB/LKM_Nov2013_monthly/hru_means\\mpi_echam5.sresb1.2081-2100.jul.animation.hru_means.nhru..."
       ]
      },
      {
       "output_type": "stream",
       "stream": "stdout",
       "text": [
        "\n",
        "writing D:/ATLData/LMB/LKM_Nov2013_monthly/hru_pct_diff\\mpi_echam5.sresb1.2081-2100.jul.animation.hru_pct_diff.nhru..."
       ]
      },
      {
       "output_type": "stream",
       "stream": "stdout",
       "text": [
        "\n",
        "writing D:/ATLData/LMB/LKM_Nov2013_monthly/hru_means\\mpi_echam5.sresa2.2081-2100.jul.animation.hru_means.nhru..."
       ]
      },
      {
       "output_type": "stream",
       "stream": "stdout",
       "text": [
        "\n",
        "writing D:/ATLData/LMB/LKM_Nov2013_monthly/hru_pct_diff\\mpi_echam5.sresa2.2081-2100.jul.animation.hru_pct_diff.nhru..."
       ]
      },
      {
       "output_type": "stream",
       "stream": "stdout",
       "text": [
        "\n",
        "reading D:/ATLData/LMB/LKM_Nov2013_monthly_animation_output\\mpi_echam5.sresa1b.2046-2065.jan.animation.nhru..."
       ]
      },
      {
       "output_type": "stream",
       "stream": "stdout",
       "text": [
        "\n",
        "reading D:/ATLData/LMB/LKM_Nov2013_monthly_animation_output\\mpi_echam5.sresa1b.2081-2100.jan.animation.nhru..."
       ]
      },
      {
       "output_type": "stream",
       "stream": "stdout",
       "text": [
        "\n",
        "reading D:/ATLData/LMB/LKM_Nov2013_monthly_animation_output\\mpi_echam5.sresa2.2046-2065.jan.animation.nhru..."
       ]
      },
      {
       "output_type": "stream",
       "stream": "stdout",
       "text": [
        "\n",
        "reading D:/ATLData/LMB/LKM_Nov2013_monthly_animation_output\\mpi_echam5.sresa2.2081-2100.jan.animation.nhru..."
       ]
      },
      {
       "output_type": "stream",
       "stream": "stdout",
       "text": [
        "\n",
        "reading D:/ATLData/LMB/LKM_Nov2013_monthly_animation_output\\mpi_echam5.sresb1.2046-2065.jan.animation.nhru..."
       ]
      },
      {
       "output_type": "stream",
       "stream": "stdout",
       "text": [
        "\n",
        "reading D:/ATLData/LMB/LKM_Nov2013_monthly_animation_output\\mpi_echam5.sresb1.2081-2100.jan.animation.nhru..."
       ]
      },
      {
       "output_type": "stream",
       "stream": "stdout",
       "text": [
        "\n",
        "reading D:/ATLData/LMB/LKM_Nov2013_monthly_animation_output\\mpi_echam5.20c3m.1981-2000.jan.animation.nhru..."
       ]
      },
      {
       "output_type": "stream",
       "stream": "stdout",
       "text": [
        "\n",
        "Warning, nan values found in percent differences. See error_file."
       ]
      },
      {
       "output_type": "stream",
       "stream": "stdout",
       "text": [
        "\n",
        "writing D:/ATLData/LMB/LKM_Nov2013_monthly/hru_means\\mpi_echam5.20c3m.1981-2000.jan.animation.hru_means.nhru...\n",
        "writing D:/ATLData/LMB/LKM_Nov2013_monthly/hru_means\\mpi_echam5.sresa1b.2046-2065.jan.animation.hru_means.nhru..."
       ]
      },
      {
       "output_type": "stream",
       "stream": "stdout",
       "text": [
        "\n",
        "writing D:/ATLData/LMB/LKM_Nov2013_monthly/hru_pct_diff\\mpi_echam5.sresa1b.2046-2065.jan.animation.hru_pct_diff.nhru..."
       ]
      },
      {
       "output_type": "stream",
       "stream": "stdout",
       "text": [
        "\n",
        "writing D:/ATLData/LMB/LKM_Nov2013_monthly/hru_means\\mpi_echam5.sresa2.2046-2065.jan.animation.hru_means.nhru..."
       ]
      },
      {
       "output_type": "stream",
       "stream": "stdout",
       "text": [
        "\n",
        "writing D:/ATLData/LMB/LKM_Nov2013_monthly/hru_pct_diff\\mpi_echam5.sresa2.2046-2065.jan.animation.hru_pct_diff.nhru..."
       ]
      },
      {
       "output_type": "stream",
       "stream": "stdout",
       "text": [
        "\n",
        "writing D:/ATLData/LMB/LKM_Nov2013_monthly/hru_means\\mpi_echam5.sresa1b.2081-2100.jan.animation.hru_means.nhru..."
       ]
      },
      {
       "output_type": "stream",
       "stream": "stdout",
       "text": [
        "\n",
        "writing D:/ATLData/LMB/LKM_Nov2013_monthly/hru_pct_diff\\mpi_echam5.sresa1b.2081-2100.jan.animation.hru_pct_diff.nhru..."
       ]
      },
      {
       "output_type": "stream",
       "stream": "stdout",
       "text": [
        "\n",
        "writing D:/ATLData/LMB/LKM_Nov2013_monthly/hru_means\\mpi_echam5.sresb1.2046-2065.jan.animation.hru_means.nhru..."
       ]
      },
      {
       "output_type": "stream",
       "stream": "stdout",
       "text": [
        "\n",
        "writing D:/ATLData/LMB/LKM_Nov2013_monthly/hru_pct_diff\\mpi_echam5.sresb1.2046-2065.jan.animation.hru_pct_diff.nhru..."
       ]
      },
      {
       "output_type": "stream",
       "stream": "stdout",
       "text": [
        "\n",
        "writing D:/ATLData/LMB/LKM_Nov2013_monthly/hru_means\\mpi_echam5.sresa2.2081-2100.jan.animation.hru_means.nhru..."
       ]
      },
      {
       "output_type": "stream",
       "stream": "stdout",
       "text": [
        "\n",
        "writing D:/ATLData/LMB/LKM_Nov2013_monthly/hru_pct_diff\\mpi_echam5.sresa2.2081-2100.jan.animation.hru_pct_diff.nhru..."
       ]
      },
      {
       "output_type": "stream",
       "stream": "stdout",
       "text": [
        "\n",
        "writing D:/ATLData/LMB/LKM_Nov2013_monthly/hru_means\\mpi_echam5.sresb1.2081-2100.jan.animation.hru_means.nhru..."
       ]
      },
      {
       "output_type": "stream",
       "stream": "stdout",
       "text": [
        "\n",
        "writing D:/ATLData/LMB/LKM_Nov2013_monthly/hru_pct_diff\\mpi_echam5.sresb1.2081-2100.jan.animation.hru_pct_diff.nhru..."
       ]
      },
      {
       "output_type": "stream",
       "stream": "stdout",
       "text": [
        "\n",
        "reading D:/ATLData/LMB/LKM_Nov2013_monthly_animation_output\\mpi_echam5.sresa1b.2046-2065.may.animation.nhru..."
       ]
      },
      {
       "output_type": "stream",
       "stream": "stdout",
       "text": [
        "\n",
        "reading D:/ATLData/LMB/LKM_Nov2013_monthly_animation_output\\mpi_echam5.sresa1b.2081-2100.may.animation.nhru..."
       ]
      },
      {
       "output_type": "stream",
       "stream": "stdout",
       "text": [
        "\n",
        "reading D:/ATLData/LMB/LKM_Nov2013_monthly_animation_output\\mpi_echam5.sresa2.2046-2065.may.animation.nhru..."
       ]
      },
      {
       "output_type": "stream",
       "stream": "stdout",
       "text": [
        "\n",
        "reading D:/ATLData/LMB/LKM_Nov2013_monthly_animation_output\\mpi_echam5.sresa2.2081-2100.may.animation.nhru..."
       ]
      },
      {
       "output_type": "stream",
       "stream": "stdout",
       "text": [
        "\n",
        "reading D:/ATLData/LMB/LKM_Nov2013_monthly_animation_output\\mpi_echam5.sresb1.2046-2065.may.animation.nhru..."
       ]
      },
      {
       "output_type": "stream",
       "stream": "stdout",
       "text": [
        "\n",
        "reading D:/ATLData/LMB/LKM_Nov2013_monthly_animation_output\\mpi_echam5.sresb1.2081-2100.may.animation.nhru..."
       ]
      },
      {
       "output_type": "stream",
       "stream": "stdout",
       "text": [
        "\n",
        "reading D:/ATLData/LMB/LKM_Nov2013_monthly_animation_output\\mpi_echam5.20c3m.1981-2000.may.animation.nhru..."
       ]
      },
      {
       "output_type": "stream",
       "stream": "stdout",
       "text": [
        "\n",
        "Warning, nan values found in percent differences. See error_file."
       ]
      },
      {
       "output_type": "stream",
       "stream": "stdout",
       "text": [
        "\n",
        "writing D:/ATLData/LMB/LKM_Nov2013_monthly/hru_means\\mpi_echam5.20c3m.1981-2000.may.animation.hru_means.nhru...\n",
        "writing D:/ATLData/LMB/LKM_Nov2013_monthly/hru_means\\mpi_echam5.sresa1b.2046-2065.may.animation.hru_means.nhru..."
       ]
      },
      {
       "output_type": "stream",
       "stream": "stdout",
       "text": [
        "\n",
        "writing D:/ATLData/LMB/LKM_Nov2013_monthly/hru_pct_diff\\mpi_echam5.sresa1b.2046-2065.may.animation.hru_pct_diff.nhru..."
       ]
      },
      {
       "output_type": "stream",
       "stream": "stdout",
       "text": [
        "\n",
        "writing D:/ATLData/LMB/LKM_Nov2013_monthly/hru_means\\mpi_echam5.sresa2.2046-2065.may.animation.hru_means.nhru..."
       ]
      },
      {
       "output_type": "stream",
       "stream": "stdout",
       "text": [
        "\n",
        "writing D:/ATLData/LMB/LKM_Nov2013_monthly/hru_pct_diff\\mpi_echam5.sresa2.2046-2065.may.animation.hru_pct_diff.nhru..."
       ]
      },
      {
       "output_type": "stream",
       "stream": "stdout",
       "text": [
        "\n",
        "writing D:/ATLData/LMB/LKM_Nov2013_monthly/hru_means\\mpi_echam5.sresa1b.2081-2100.may.animation.hru_means.nhru..."
       ]
      },
      {
       "output_type": "stream",
       "stream": "stdout",
       "text": [
        "\n",
        "writing D:/ATLData/LMB/LKM_Nov2013_monthly/hru_pct_diff\\mpi_echam5.sresa1b.2081-2100.may.animation.hru_pct_diff.nhru..."
       ]
      },
      {
       "output_type": "stream",
       "stream": "stdout",
       "text": [
        "\n",
        "writing D:/ATLData/LMB/LKM_Nov2013_monthly/hru_means\\mpi_echam5.sresb1.2081-2100.may.animation.hru_means.nhru..."
       ]
      },
      {
       "output_type": "stream",
       "stream": "stdout",
       "text": [
        "\n",
        "writing D:/ATLData/LMB/LKM_Nov2013_monthly/hru_pct_diff\\mpi_echam5.sresb1.2081-2100.may.animation.hru_pct_diff.nhru..."
       ]
      },
      {
       "output_type": "stream",
       "stream": "stdout",
       "text": [
        "\n",
        "writing D:/ATLData/LMB/LKM_Nov2013_monthly/hru_means\\mpi_echam5.sresa2.2081-2100.may.animation.hru_means.nhru..."
       ]
      },
      {
       "output_type": "stream",
       "stream": "stdout",
       "text": [
        "\n",
        "writing D:/ATLData/LMB/LKM_Nov2013_monthly/hru_pct_diff\\mpi_echam5.sresa2.2081-2100.may.animation.hru_pct_diff.nhru..."
       ]
      },
      {
       "output_type": "stream",
       "stream": "stdout",
       "text": [
        "\n",
        "writing D:/ATLData/LMB/LKM_Nov2013_monthly/hru_means\\mpi_echam5.sresb1.2046-2065.may.animation.hru_means.nhru..."
       ]
      },
      {
       "output_type": "stream",
       "stream": "stdout",
       "text": [
        "\n",
        "writing D:/ATLData/LMB/LKM_Nov2013_monthly/hru_pct_diff\\mpi_echam5.sresb1.2046-2065.may.animation.hru_pct_diff.nhru..."
       ]
      },
      {
       "output_type": "stream",
       "stream": "stdout",
       "text": [
        "\n",
        "reading D:/ATLData/LMB/LKM_Nov2013_monthly_animation_output\\mpi_echam5.sresa1b.2046-2065.nov.animation.nhru..."
       ]
      },
      {
       "output_type": "stream",
       "stream": "stdout",
       "text": [
        "\n",
        "reading D:/ATLData/LMB/LKM_Nov2013_monthly_animation_output\\mpi_echam5.sresa1b.2081-2100.nov.animation.nhru..."
       ]
      },
      {
       "output_type": "stream",
       "stream": "stdout",
       "text": [
        "\n",
        "reading D:/ATLData/LMB/LKM_Nov2013_monthly_animation_output\\mpi_echam5.sresa2.2046-2065.nov.animation.nhru..."
       ]
      },
      {
       "output_type": "stream",
       "stream": "stdout",
       "text": [
        "\n",
        "reading D:/ATLData/LMB/LKM_Nov2013_monthly_animation_output\\mpi_echam5.sresa2.2081-2100.nov.animation.nhru..."
       ]
      },
      {
       "output_type": "stream",
       "stream": "stdout",
       "text": [
        "\n",
        "reading D:/ATLData/LMB/LKM_Nov2013_monthly_animation_output\\mpi_echam5.sresb1.2046-2065.nov.animation.nhru..."
       ]
      },
      {
       "output_type": "stream",
       "stream": "stdout",
       "text": [
        "\n",
        "reading D:/ATLData/LMB/LKM_Nov2013_monthly_animation_output\\mpi_echam5.sresb1.2081-2100.nov.animation.nhru..."
       ]
      },
      {
       "output_type": "stream",
       "stream": "stdout",
       "text": [
        "\n",
        "reading D:/ATLData/LMB/LKM_Nov2013_monthly_animation_output\\mpi_echam5.20c3m.1981-2000.nov.animation.nhru..."
       ]
      },
      {
       "output_type": "stream",
       "stream": "stdout",
       "text": [
        "\n",
        "Warning, nan values found in percent differences. See error_file."
       ]
      },
      {
       "output_type": "stream",
       "stream": "stdout",
       "text": [
        "\n",
        "writing D:/ATLData/LMB/LKM_Nov2013_monthly/hru_means\\mpi_echam5.20c3m.1981-2000.nov.animation.hru_means.nhru...\n",
        "writing D:/ATLData/LMB/LKM_Nov2013_monthly/hru_means\\mpi_echam5.sresa2.2046-2065.nov.animation.hru_means.nhru..."
       ]
      },
      {
       "output_type": "stream",
       "stream": "stdout",
       "text": [
        "\n",
        "writing D:/ATLData/LMB/LKM_Nov2013_monthly/hru_pct_diff\\mpi_echam5.sresa2.2046-2065.nov.animation.hru_pct_diff.nhru..."
       ]
      },
      {
       "output_type": "stream",
       "stream": "stdout",
       "text": [
        "\n",
        "writing D:/ATLData/LMB/LKM_Nov2013_monthly/hru_means\\mpi_echam5.sresa2.2081-2100.nov.animation.hru_means.nhru..."
       ]
      },
      {
       "output_type": "stream",
       "stream": "stdout",
       "text": [
        "\n",
        "writing D:/ATLData/LMB/LKM_Nov2013_monthly/hru_pct_diff\\mpi_echam5.sresa2.2081-2100.nov.animation.hru_pct_diff.nhru..."
       ]
      },
      {
       "output_type": "stream",
       "stream": "stdout",
       "text": [
        "\n",
        "writing D:/ATLData/LMB/LKM_Nov2013_monthly/hru_means\\mpi_echam5.sresb1.2046-2065.nov.animation.hru_means.nhru..."
       ]
      },
      {
       "output_type": "stream",
       "stream": "stdout",
       "text": [
        "\n",
        "writing D:/ATLData/LMB/LKM_Nov2013_monthly/hru_pct_diff\\mpi_echam5.sresb1.2046-2065.nov.animation.hru_pct_diff.nhru..."
       ]
      },
      {
       "output_type": "stream",
       "stream": "stdout",
       "text": [
        "\n",
        "writing D:/ATLData/LMB/LKM_Nov2013_monthly/hru_means\\mpi_echam5.sresb1.2081-2100.nov.animation.hru_means.nhru..."
       ]
      },
      {
       "output_type": "stream",
       "stream": "stdout",
       "text": [
        "\n",
        "writing D:/ATLData/LMB/LKM_Nov2013_monthly/hru_pct_diff\\mpi_echam5.sresb1.2081-2100.nov.animation.hru_pct_diff.nhru..."
       ]
      },
      {
       "output_type": "stream",
       "stream": "stdout",
       "text": [
        "\n",
        "writing D:/ATLData/LMB/LKM_Nov2013_monthly/hru_means\\mpi_echam5.sresa1b.2081-2100.nov.animation.hru_means.nhru..."
       ]
      },
      {
       "output_type": "stream",
       "stream": "stdout",
       "text": [
        "\n",
        "writing D:/ATLData/LMB/LKM_Nov2013_monthly/hru_pct_diff\\mpi_echam5.sresa1b.2081-2100.nov.animation.hru_pct_diff.nhru..."
       ]
      },
      {
       "output_type": "stream",
       "stream": "stdout",
       "text": [
        "\n",
        "writing D:/ATLData/LMB/LKM_Nov2013_monthly/hru_means\\mpi_echam5.sresa1b.2046-2065.nov.animation.hru_means.nhru..."
       ]
      },
      {
       "output_type": "stream",
       "stream": "stdout",
       "text": [
        "\n",
        "writing D:/ATLData/LMB/LKM_Nov2013_monthly/hru_pct_diff\\mpi_echam5.sresa1b.2046-2065.nov.animation.hru_pct_diff.nhru..."
       ]
      },
      {
       "output_type": "stream",
       "stream": "stdout",
       "text": [
        "\n",
        "reading D:/ATLData/LMB/LKM_Nov2013_monthly_animation_output\\mpi_echam5.sresa1b.2046-2065.dec.animation.nhru..."
       ]
      },
      {
       "output_type": "stream",
       "stream": "stdout",
       "text": [
        "\n",
        "reading D:/ATLData/LMB/LKM_Nov2013_monthly_animation_output\\mpi_echam5.sresa1b.2081-2100.dec.animation.nhru..."
       ]
      },
      {
       "output_type": "stream",
       "stream": "stdout",
       "text": [
        "\n",
        "reading D:/ATLData/LMB/LKM_Nov2013_monthly_animation_output\\mpi_echam5.sresa2.2046-2065.dec.animation.nhru..."
       ]
      },
      {
       "output_type": "stream",
       "stream": "stdout",
       "text": [
        "\n",
        "reading D:/ATLData/LMB/LKM_Nov2013_monthly_animation_output\\mpi_echam5.sresa2.2081-2100.dec.animation.nhru..."
       ]
      },
      {
       "output_type": "stream",
       "stream": "stdout",
       "text": [
        "\n",
        "reading D:/ATLData/LMB/LKM_Nov2013_monthly_animation_output\\mpi_echam5.sresb1.2046-2065.dec.animation.nhru..."
       ]
      },
      {
       "output_type": "stream",
       "stream": "stdout",
       "text": [
        "\n",
        "reading D:/ATLData/LMB/LKM_Nov2013_monthly_animation_output\\mpi_echam5.sresb1.2081-2100.dec.animation.nhru..."
       ]
      },
      {
       "output_type": "stream",
       "stream": "stdout",
       "text": [
        "\n",
        "reading D:/ATLData/LMB/LKM_Nov2013_monthly_animation_output\\mpi_echam5.20c3m.1981-2000.dec.animation.nhru..."
       ]
      },
      {
       "output_type": "stream",
       "stream": "stdout",
       "text": [
        "\n",
        "Warning, nan values found in percent differences. See error_file."
       ]
      },
      {
       "output_type": "stream",
       "stream": "stdout",
       "text": [
        "\n",
        "writing D:/ATLData/LMB/LKM_Nov2013_monthly/hru_means\\mpi_echam5.20c3m.1981-2000.dec.animation.hru_means.nhru...\n",
        "writing D:/ATLData/LMB/LKM_Nov2013_monthly/hru_means\\mpi_echam5.sresa2.2081-2100.dec.animation.hru_means.nhru..."
       ]
      },
      {
       "output_type": "stream",
       "stream": "stdout",
       "text": [
        "\n",
        "writing D:/ATLData/LMB/LKM_Nov2013_monthly/hru_pct_diff\\mpi_echam5.sresa2.2081-2100.dec.animation.hru_pct_diff.nhru..."
       ]
      },
      {
       "output_type": "stream",
       "stream": "stdout",
       "text": [
        "\n",
        "writing D:/ATLData/LMB/LKM_Nov2013_monthly/hru_means\\mpi_echam5.sresb1.2046-2065.dec.animation.hru_means.nhru..."
       ]
      },
      {
       "output_type": "stream",
       "stream": "stdout",
       "text": [
        "\n",
        "writing D:/ATLData/LMB/LKM_Nov2013_monthly/hru_pct_diff\\mpi_echam5.sresb1.2046-2065.dec.animation.hru_pct_diff.nhru..."
       ]
      },
      {
       "output_type": "stream",
       "stream": "stdout",
       "text": [
        "\n",
        "writing D:/ATLData/LMB/LKM_Nov2013_monthly/hru_means\\mpi_echam5.sresa1b.2081-2100.dec.animation.hru_means.nhru..."
       ]
      },
      {
       "output_type": "stream",
       "stream": "stdout",
       "text": [
        "\n",
        "writing D:/ATLData/LMB/LKM_Nov2013_monthly/hru_pct_diff\\mpi_echam5.sresa1b.2081-2100.dec.animation.hru_pct_diff.nhru..."
       ]
      },
      {
       "output_type": "stream",
       "stream": "stdout",
       "text": [
        "\n",
        "writing D:/ATLData/LMB/LKM_Nov2013_monthly/hru_means\\mpi_echam5.sresa2.2046-2065.dec.animation.hru_means.nhru..."
       ]
      },
      {
       "output_type": "stream",
       "stream": "stdout",
       "text": [
        "\n",
        "writing D:/ATLData/LMB/LKM_Nov2013_monthly/hru_pct_diff\\mpi_echam5.sresa2.2046-2065.dec.animation.hru_pct_diff.nhru..."
       ]
      },
      {
       "output_type": "stream",
       "stream": "stdout",
       "text": [
        "\n",
        "writing D:/ATLData/LMB/LKM_Nov2013_monthly/hru_means\\mpi_echam5.sresb1.2081-2100.dec.animation.hru_means.nhru..."
       ]
      },
      {
       "output_type": "stream",
       "stream": "stdout",
       "text": [
        "\n",
        "writing D:/ATLData/LMB/LKM_Nov2013_monthly/hru_pct_diff\\mpi_echam5.sresb1.2081-2100.dec.animation.hru_pct_diff.nhru..."
       ]
      },
      {
       "output_type": "stream",
       "stream": "stdout",
       "text": [
        "\n",
        "writing D:/ATLData/LMB/LKM_Nov2013_monthly/hru_means\\mpi_echam5.sresa1b.2046-2065.dec.animation.hru_means.nhru..."
       ]
      },
      {
       "output_type": "stream",
       "stream": "stdout",
       "text": [
        "\n",
        "writing D:/ATLData/LMB/LKM_Nov2013_monthly/hru_pct_diff\\mpi_echam5.sresa1b.2046-2065.dec.animation.hru_pct_diff.nhru..."
       ]
      },
      {
       "output_type": "stream",
       "stream": "stdout",
       "text": [
        "\n",
        "reading D:/ATLData/LMB/LKM_Nov2013_monthly_animation_output\\mpi_echam5.sresa1b.2046-2065.oct.animation.nhru..."
       ]
      },
      {
       "output_type": "stream",
       "stream": "stdout",
       "text": [
        "\n",
        "reading D:/ATLData/LMB/LKM_Nov2013_monthly_animation_output\\mpi_echam5.sresa1b.2081-2100.oct.animation.nhru..."
       ]
      },
      {
       "output_type": "stream",
       "stream": "stdout",
       "text": [
        "\n",
        "reading D:/ATLData/LMB/LKM_Nov2013_monthly_animation_output\\mpi_echam5.sresa2.2046-2065.oct.animation.nhru..."
       ]
      },
      {
       "output_type": "stream",
       "stream": "stdout",
       "text": [
        "\n",
        "reading D:/ATLData/LMB/LKM_Nov2013_monthly_animation_output\\mpi_echam5.sresa2.2081-2100.oct.animation.nhru..."
       ]
      },
      {
       "output_type": "stream",
       "stream": "stdout",
       "text": [
        "\n",
        "reading D:/ATLData/LMB/LKM_Nov2013_monthly_animation_output\\mpi_echam5.sresb1.2046-2065.oct.animation.nhru..."
       ]
      },
      {
       "output_type": "stream",
       "stream": "stdout",
       "text": [
        "\n",
        "reading D:/ATLData/LMB/LKM_Nov2013_monthly_animation_output\\mpi_echam5.sresb1.2081-2100.oct.animation.nhru..."
       ]
      },
      {
       "output_type": "stream",
       "stream": "stdout",
       "text": [
        "\n",
        "reading D:/ATLData/LMB/LKM_Nov2013_monthly_animation_output\\mpi_echam5.20c3m.1981-2000.oct.animation.nhru..."
       ]
      },
      {
       "output_type": "stream",
       "stream": "stdout",
       "text": [
        "\n",
        "Warning, nan values found in percent differences. See error_file."
       ]
      },
      {
       "output_type": "stream",
       "stream": "stdout",
       "text": [
        "\n",
        "writing D:/ATLData/LMB/LKM_Nov2013_monthly/hru_means\\mpi_echam5.20c3m.1981-2000.oct.animation.hru_means.nhru...\n",
        "writing D:/ATLData/LMB/LKM_Nov2013_monthly/hru_means\\mpi_echam5.sresb1.2046-2065.oct.animation.hru_means.nhru..."
       ]
      },
      {
       "output_type": "stream",
       "stream": "stdout",
       "text": [
        "\n",
        "writing D:/ATLData/LMB/LKM_Nov2013_monthly/hru_pct_diff\\mpi_echam5.sresb1.2046-2065.oct.animation.hru_pct_diff.nhru..."
       ]
      },
      {
       "output_type": "stream",
       "stream": "stdout",
       "text": [
        "\n",
        "writing D:/ATLData/LMB/LKM_Nov2013_monthly/hru_means\\mpi_echam5.sresa2.2081-2100.oct.animation.hru_means.nhru..."
       ]
      },
      {
       "output_type": "stream",
       "stream": "stdout",
       "text": [
        "\n",
        "writing D:/ATLData/LMB/LKM_Nov2013_monthly/hru_pct_diff\\mpi_echam5.sresa2.2081-2100.oct.animation.hru_pct_diff.nhru..."
       ]
      },
      {
       "output_type": "stream",
       "stream": "stdout",
       "text": [
        "\n",
        "writing D:/ATLData/LMB/LKM_Nov2013_monthly/hru_means\\mpi_echam5.sresa1b.2081-2100.oct.animation.hru_means.nhru..."
       ]
      },
      {
       "output_type": "stream",
       "stream": "stdout",
       "text": [
        "\n",
        "writing D:/ATLData/LMB/LKM_Nov2013_monthly/hru_pct_diff\\mpi_echam5.sresa1b.2081-2100.oct.animation.hru_pct_diff.nhru..."
       ]
      },
      {
       "output_type": "stream",
       "stream": "stdout",
       "text": [
        "\n",
        "writing D:/ATLData/LMB/LKM_Nov2013_monthly/hru_means\\mpi_echam5.sresa2.2046-2065.oct.animation.hru_means.nhru..."
       ]
      },
      {
       "output_type": "stream",
       "stream": "stdout",
       "text": [
        "\n",
        "writing D:/ATLData/LMB/LKM_Nov2013_monthly/hru_pct_diff\\mpi_echam5.sresa2.2046-2065.oct.animation.hru_pct_diff.nhru..."
       ]
      },
      {
       "output_type": "stream",
       "stream": "stdout",
       "text": [
        "\n",
        "writing D:/ATLData/LMB/LKM_Nov2013_monthly/hru_means\\mpi_echam5.sresb1.2081-2100.oct.animation.hru_means.nhru..."
       ]
      },
      {
       "output_type": "stream",
       "stream": "stdout",
       "text": [
        "\n",
        "writing D:/ATLData/LMB/LKM_Nov2013_monthly/hru_pct_diff\\mpi_echam5.sresb1.2081-2100.oct.animation.hru_pct_diff.nhru..."
       ]
      },
      {
       "output_type": "stream",
       "stream": "stdout",
       "text": [
        "\n",
        "writing D:/ATLData/LMB/LKM_Nov2013_monthly/hru_means\\mpi_echam5.sresa1b.2046-2065.oct.animation.hru_means.nhru..."
       ]
      },
      {
       "output_type": "stream",
       "stream": "stdout",
       "text": [
        "\n",
        "writing D:/ATLData/LMB/LKM_Nov2013_monthly/hru_pct_diff\\mpi_echam5.sresa1b.2046-2065.oct.animation.hru_pct_diff.nhru..."
       ]
      },
      {
       "output_type": "stream",
       "stream": "stdout",
       "text": [
        "\n",
        "reading D:/ATLData/LMB/LKM_Nov2013_monthly_animation_output\\mpi_echam5.sresa1b.2046-2065.mar.animation.nhru..."
       ]
      },
      {
       "output_type": "stream",
       "stream": "stdout",
       "text": [
        "\n",
        "reading D:/ATLData/LMB/LKM_Nov2013_monthly_animation_output\\mpi_echam5.sresa1b.2081-2100.mar.animation.nhru..."
       ]
      },
      {
       "output_type": "stream",
       "stream": "stdout",
       "text": [
        "\n",
        "reading D:/ATLData/LMB/LKM_Nov2013_monthly_animation_output\\mpi_echam5.sresa2.2046-2065.mar.animation.nhru..."
       ]
      },
      {
       "output_type": "stream",
       "stream": "stdout",
       "text": [
        "\n",
        "reading D:/ATLData/LMB/LKM_Nov2013_monthly_animation_output\\mpi_echam5.sresa2.2081-2100.mar.animation.nhru..."
       ]
      },
      {
       "output_type": "stream",
       "stream": "stdout",
       "text": [
        "\n",
        "reading D:/ATLData/LMB/LKM_Nov2013_monthly_animation_output\\mpi_echam5.sresb1.2046-2065.mar.animation.nhru..."
       ]
      },
      {
       "output_type": "stream",
       "stream": "stdout",
       "text": [
        "\n",
        "reading D:/ATLData/LMB/LKM_Nov2013_monthly_animation_output\\mpi_echam5.sresb1.2081-2100.mar.animation.nhru..."
       ]
      },
      {
       "output_type": "stream",
       "stream": "stdout",
       "text": [
        "\n",
        "reading D:/ATLData/LMB/LKM_Nov2013_monthly_animation_output\\mpi_echam5.20c3m.1981-2000.mar.animation.nhru..."
       ]
      },
      {
       "output_type": "stream",
       "stream": "stdout",
       "text": [
        "\n",
        "Warning, nan values found in percent differences. See error_file."
       ]
      },
      {
       "output_type": "stream",
       "stream": "stdout",
       "text": [
        "\n",
        "writing D:/ATLData/LMB/LKM_Nov2013_monthly/hru_means\\mpi_echam5.20c3m.1981-2000.mar.animation.hru_means.nhru...\n",
        "writing D:/ATLData/LMB/LKM_Nov2013_monthly/hru_means\\mpi_echam5.sresa1b.2081-2100.mar.animation.hru_means.nhru..."
       ]
      },
      {
       "output_type": "stream",
       "stream": "stdout",
       "text": [
        "\n",
        "writing D:/ATLData/LMB/LKM_Nov2013_monthly/hru_pct_diff\\mpi_echam5.sresa1b.2081-2100.mar.animation.hru_pct_diff.nhru..."
       ]
      },
      {
       "output_type": "stream",
       "stream": "stdout",
       "text": [
        "\n",
        "writing D:/ATLData/LMB/LKM_Nov2013_monthly/hru_means\\mpi_echam5.sresa2.2046-2065.mar.animation.hru_means.nhru..."
       ]
      },
      {
       "output_type": "stream",
       "stream": "stdout",
       "text": [
        "\n",
        "writing D:/ATLData/LMB/LKM_Nov2013_monthly/hru_pct_diff\\mpi_echam5.sresa2.2046-2065.mar.animation.hru_pct_diff.nhru..."
       ]
      },
      {
       "output_type": "stream",
       "stream": "stdout",
       "text": [
        "\n",
        "writing D:/ATLData/LMB/LKM_Nov2013_monthly/hru_means\\mpi_echam5.sresa2.2081-2100.mar.animation.hru_means.nhru..."
       ]
      },
      {
       "output_type": "stream",
       "stream": "stdout",
       "text": [
        "\n",
        "writing D:/ATLData/LMB/LKM_Nov2013_monthly/hru_pct_diff\\mpi_echam5.sresa2.2081-2100.mar.animation.hru_pct_diff.nhru..."
       ]
      },
      {
       "output_type": "stream",
       "stream": "stdout",
       "text": [
        "\n",
        "writing D:/ATLData/LMB/LKM_Nov2013_monthly/hru_means\\mpi_echam5.sresb1.2046-2065.mar.animation.hru_means.nhru..."
       ]
      },
      {
       "output_type": "stream",
       "stream": "stdout",
       "text": [
        "\n",
        "writing D:/ATLData/LMB/LKM_Nov2013_monthly/hru_pct_diff\\mpi_echam5.sresb1.2046-2065.mar.animation.hru_pct_diff.nhru..."
       ]
      },
      {
       "output_type": "stream",
       "stream": "stdout",
       "text": [
        "\n",
        "writing D:/ATLData/LMB/LKM_Nov2013_monthly/hru_means\\mpi_echam5.sresb1.2081-2100.mar.animation.hru_means.nhru..."
       ]
      },
      {
       "output_type": "stream",
       "stream": "stdout",
       "text": [
        "\n",
        "writing D:/ATLData/LMB/LKM_Nov2013_monthly/hru_pct_diff\\mpi_echam5.sresb1.2081-2100.mar.animation.hru_pct_diff.nhru..."
       ]
      },
      {
       "output_type": "stream",
       "stream": "stdout",
       "text": [
        "\n",
        "writing D:/ATLData/LMB/LKM_Nov2013_monthly/hru_means\\mpi_echam5.sresa1b.2046-2065.mar.animation.hru_means.nhru..."
       ]
      },
      {
       "output_type": "stream",
       "stream": "stdout",
       "text": [
        "\n",
        "writing D:/ATLData/LMB/LKM_Nov2013_monthly/hru_pct_diff\\mpi_echam5.sresa1b.2046-2065.mar.animation.hru_pct_diff.nhru..."
       ]
      },
      {
       "output_type": "stream",
       "stream": "stdout",
       "text": [
        "\n",
        "reading D:/ATLData/LMB/LKM_Nov2013_monthly_animation_output\\mpi_echam5.sresa1b.2046-2065.feb.animation.nhru..."
       ]
      },
      {
       "output_type": "stream",
       "stream": "stdout",
       "text": [
        "\n",
        "reading D:/ATLData/LMB/LKM_Nov2013_monthly_animation_output\\mpi_echam5.sresa1b.2081-2100.feb.animation.nhru..."
       ]
      },
      {
       "output_type": "stream",
       "stream": "stdout",
       "text": [
        "\n",
        "reading D:/ATLData/LMB/LKM_Nov2013_monthly_animation_output\\mpi_echam5.sresa2.2046-2065.feb.animation.nhru..."
       ]
      },
      {
       "output_type": "stream",
       "stream": "stdout",
       "text": [
        "\n",
        "reading D:/ATLData/LMB/LKM_Nov2013_monthly_animation_output\\mpi_echam5.sresa2.2081-2100.feb.animation.nhru..."
       ]
      },
      {
       "output_type": "stream",
       "stream": "stdout",
       "text": [
        "\n",
        "reading D:/ATLData/LMB/LKM_Nov2013_monthly_animation_output\\mpi_echam5.sresb1.2046-2065.feb.animation.nhru..."
       ]
      },
      {
       "output_type": "stream",
       "stream": "stdout",
       "text": [
        "\n",
        "reading D:/ATLData/LMB/LKM_Nov2013_monthly_animation_output\\mpi_echam5.sresb1.2081-2100.feb.animation.nhru..."
       ]
      },
      {
       "output_type": "stream",
       "stream": "stdout",
       "text": [
        "\n",
        "reading D:/ATLData/LMB/LKM_Nov2013_monthly_animation_output\\mpi_echam5.20c3m.1981-2000.feb.animation.nhru..."
       ]
      },
      {
       "output_type": "stream",
       "stream": "stdout",
       "text": [
        "\n",
        "Warning, nan values found in percent differences. See error_file."
       ]
      },
      {
       "output_type": "stream",
       "stream": "stdout",
       "text": [
        "\n",
        "writing D:/ATLData/LMB/LKM_Nov2013_monthly/hru_means\\mpi_echam5.20c3m.1981-2000.feb.animation.hru_means.nhru...\n",
        "writing D:/ATLData/LMB/LKM_Nov2013_monthly/hru_means\\mpi_echam5.sresa1b.2046-2065.feb.animation.hru_means.nhru..."
       ]
      },
      {
       "output_type": "stream",
       "stream": "stdout",
       "text": [
        "\n",
        "writing D:/ATLData/LMB/LKM_Nov2013_monthly/hru_pct_diff\\mpi_echam5.sresa1b.2046-2065.feb.animation.hru_pct_diff.nhru..."
       ]
      },
      {
       "output_type": "stream",
       "stream": "stdout",
       "text": [
        "\n",
        "writing D:/ATLData/LMB/LKM_Nov2013_monthly/hru_means\\mpi_echam5.sresa1b.2081-2100.feb.animation.hru_means.nhru..."
       ]
      },
      {
       "output_type": "stream",
       "stream": "stdout",
       "text": [
        "\n",
        "writing D:/ATLData/LMB/LKM_Nov2013_monthly/hru_pct_diff\\mpi_echam5.sresa1b.2081-2100.feb.animation.hru_pct_diff.nhru..."
       ]
      },
      {
       "output_type": "stream",
       "stream": "stdout",
       "text": [
        "\n",
        "writing D:/ATLData/LMB/LKM_Nov2013_monthly/hru_means\\mpi_echam5.sresa2.2046-2065.feb.animation.hru_means.nhru..."
       ]
      },
      {
       "output_type": "stream",
       "stream": "stdout",
       "text": [
        "\n",
        "writing D:/ATLData/LMB/LKM_Nov2013_monthly/hru_pct_diff\\mpi_echam5.sresa2.2046-2065.feb.animation.hru_pct_diff.nhru..."
       ]
      },
      {
       "output_type": "stream",
       "stream": "stdout",
       "text": [
        "\n",
        "writing D:/ATLData/LMB/LKM_Nov2013_monthly/hru_means\\mpi_echam5.sresb1.2046-2065.feb.animation.hru_means.nhru..."
       ]
      },
      {
       "output_type": "stream",
       "stream": "stdout",
       "text": [
        "\n",
        "writing D:/ATLData/LMB/LKM_Nov2013_monthly/hru_pct_diff\\mpi_echam5.sresb1.2046-2065.feb.animation.hru_pct_diff.nhru..."
       ]
      },
      {
       "output_type": "stream",
       "stream": "stdout",
       "text": [
        "\n",
        "writing D:/ATLData/LMB/LKM_Nov2013_monthly/hru_means\\mpi_echam5.sresa2.2081-2100.feb.animation.hru_means.nhru..."
       ]
      },
      {
       "output_type": "stream",
       "stream": "stdout",
       "text": [
        "\n",
        "writing D:/ATLData/LMB/LKM_Nov2013_monthly/hru_pct_diff\\mpi_echam5.sresa2.2081-2100.feb.animation.hru_pct_diff.nhru..."
       ]
      },
      {
       "output_type": "stream",
       "stream": "stdout",
       "text": [
        "\n",
        "writing D:/ATLData/LMB/LKM_Nov2013_monthly/hru_means\\mpi_echam5.sresb1.2081-2100.feb.animation.hru_means.nhru..."
       ]
      },
      {
       "output_type": "stream",
       "stream": "stdout",
       "text": [
        "\n",
        "writing D:/ATLData/LMB/LKM_Nov2013_monthly/hru_pct_diff\\mpi_echam5.sresb1.2081-2100.feb.animation.hru_pct_diff.nhru..."
       ]
      },
      {
       "output_type": "stream",
       "stream": "stdout",
       "text": [
        "\n",
        "reading D:/ATLData/LMB/LKM_Nov2013_monthly_animation_output\\mpi_echam5.sresa1b.2046-2065.aug.animation.nhru..."
       ]
      },
      {
       "output_type": "stream",
       "stream": "stdout",
       "text": [
        "\n",
        "reading D:/ATLData/LMB/LKM_Nov2013_monthly_animation_output\\mpi_echam5.sresa1b.2081-2100.aug.animation.nhru..."
       ]
      },
      {
       "output_type": "stream",
       "stream": "stdout",
       "text": [
        "\n",
        "reading D:/ATLData/LMB/LKM_Nov2013_monthly_animation_output\\mpi_echam5.sresa2.2046-2065.aug.animation.nhru..."
       ]
      },
      {
       "output_type": "stream",
       "stream": "stdout",
       "text": [
        "\n",
        "reading D:/ATLData/LMB/LKM_Nov2013_monthly_animation_output\\mpi_echam5.sresa2.2081-2100.aug.animation.nhru..."
       ]
      },
      {
       "output_type": "stream",
       "stream": "stdout",
       "text": [
        "\n",
        "reading D:/ATLData/LMB/LKM_Nov2013_monthly_animation_output\\mpi_echam5.sresb1.2046-2065.aug.animation.nhru..."
       ]
      },
      {
       "output_type": "stream",
       "stream": "stdout",
       "text": [
        "\n",
        "reading D:/ATLData/LMB/LKM_Nov2013_monthly_animation_output\\mpi_echam5.sresb1.2081-2100.aug.animation.nhru..."
       ]
      },
      {
       "output_type": "stream",
       "stream": "stdout",
       "text": [
        "\n",
        "reading D:/ATLData/LMB/LKM_Nov2013_monthly_animation_output\\mpi_echam5.20c3m.1981-2000.aug.animation.nhru..."
       ]
      },
      {
       "output_type": "stream",
       "stream": "stdout",
       "text": [
        "\n",
        "Warning, nan values found in percent differences. See error_file."
       ]
      },
      {
       "output_type": "stream",
       "stream": "stdout",
       "text": [
        "\n",
        "writing D:/ATLData/LMB/LKM_Nov2013_monthly/hru_means\\mpi_echam5.20c3m.1981-2000.aug.animation.hru_means.nhru...\n",
        "writing D:/ATLData/LMB/LKM_Nov2013_monthly/hru_means\\mpi_echam5.sresb1.2046-2065.aug.animation.hru_means.nhru..."
       ]
      },
      {
       "output_type": "stream",
       "stream": "stdout",
       "text": [
        "\n",
        "writing D:/ATLData/LMB/LKM_Nov2013_monthly/hru_pct_diff\\mpi_echam5.sresb1.2046-2065.aug.animation.hru_pct_diff.nhru..."
       ]
      },
      {
       "output_type": "stream",
       "stream": "stdout",
       "text": [
        "\n",
        "writing D:/ATLData/LMB/LKM_Nov2013_monthly/hru_means\\mpi_echam5.sresb1.2081-2100.aug.animation.hru_means.nhru..."
       ]
      },
      {
       "output_type": "stream",
       "stream": "stdout",
       "text": [
        "\n",
        "writing D:/ATLData/LMB/LKM_Nov2013_monthly/hru_pct_diff\\mpi_echam5.sresb1.2081-2100.aug.animation.hru_pct_diff.nhru..."
       ]
      },
      {
       "output_type": "stream",
       "stream": "stdout",
       "text": [
        "\n",
        "writing D:/ATLData/LMB/LKM_Nov2013_monthly/hru_means\\mpi_echam5.sresa1b.2046-2065.aug.animation.hru_means.nhru..."
       ]
      },
      {
       "output_type": "stream",
       "stream": "stdout",
       "text": [
        "\n",
        "writing D:/ATLData/LMB/LKM_Nov2013_monthly/hru_pct_diff\\mpi_echam5.sresa1b.2046-2065.aug.animation.hru_pct_diff.nhru..."
       ]
      },
      {
       "output_type": "stream",
       "stream": "stdout",
       "text": [
        "\n",
        "writing D:/ATLData/LMB/LKM_Nov2013_monthly/hru_means\\mpi_echam5.sresa2.2046-2065.aug.animation.hru_means.nhru..."
       ]
      },
      {
       "output_type": "stream",
       "stream": "stdout",
       "text": [
        "\n",
        "writing D:/ATLData/LMB/LKM_Nov2013_monthly/hru_pct_diff\\mpi_echam5.sresa2.2046-2065.aug.animation.hru_pct_diff.nhru..."
       ]
      },
      {
       "output_type": "stream",
       "stream": "stdout",
       "text": [
        "\n",
        "writing D:/ATLData/LMB/LKM_Nov2013_monthly/hru_means\\mpi_echam5.sresa1b.2081-2100.aug.animation.hru_means.nhru..."
       ]
      },
      {
       "output_type": "stream",
       "stream": "stdout",
       "text": [
        "\n",
        "writing D:/ATLData/LMB/LKM_Nov2013_monthly/hru_pct_diff\\mpi_echam5.sresa1b.2081-2100.aug.animation.hru_pct_diff.nhru..."
       ]
      },
      {
       "output_type": "stream",
       "stream": "stdout",
       "text": [
        "\n",
        "writing D:/ATLData/LMB/LKM_Nov2013_monthly/hru_means\\mpi_echam5.sresa2.2081-2100.aug.animation.hru_means.nhru..."
       ]
      },
      {
       "output_type": "stream",
       "stream": "stdout",
       "text": [
        "\n",
        "writing D:/ATLData/LMB/LKM_Nov2013_monthly/hru_pct_diff\\mpi_echam5.sresa2.2081-2100.aug.animation.hru_pct_diff.nhru..."
       ]
      },
      {
       "output_type": "stream",
       "stream": "stdout",
       "text": [
        "\n",
        "reading D:/ATLData/LMB/LKM_Nov2013_monthly_animation_output\\mpi_echam5.sresa1b.2046-2065.sep.animation.nhru..."
       ]
      },
      {
       "output_type": "stream",
       "stream": "stdout",
       "text": [
        "\n",
        "reading D:/ATLData/LMB/LKM_Nov2013_monthly_animation_output\\mpi_echam5.sresa1b.2081-2100.sep.animation.nhru..."
       ]
      },
      {
       "output_type": "stream",
       "stream": "stdout",
       "text": [
        "\n",
        "reading D:/ATLData/LMB/LKM_Nov2013_monthly_animation_output\\mpi_echam5.sresa2.2046-2065.sep.animation.nhru..."
       ]
      },
      {
       "output_type": "stream",
       "stream": "stdout",
       "text": [
        "\n",
        "reading D:/ATLData/LMB/LKM_Nov2013_monthly_animation_output\\mpi_echam5.sresa2.2081-2100.sep.animation.nhru..."
       ]
      },
      {
       "output_type": "stream",
       "stream": "stdout",
       "text": [
        "\n",
        "reading D:/ATLData/LMB/LKM_Nov2013_monthly_animation_output\\mpi_echam5.sresb1.2046-2065.sep.animation.nhru..."
       ]
      },
      {
       "output_type": "stream",
       "stream": "stdout",
       "text": [
        "\n",
        "reading D:/ATLData/LMB/LKM_Nov2013_monthly_animation_output\\mpi_echam5.sresb1.2081-2100.sep.animation.nhru..."
       ]
      },
      {
       "output_type": "stream",
       "stream": "stdout",
       "text": [
        "\n",
        "reading D:/ATLData/LMB/LKM_Nov2013_monthly_animation_output\\mpi_echam5.20c3m.1981-2000.sep.animation.nhru..."
       ]
      },
      {
       "output_type": "stream",
       "stream": "stdout",
       "text": [
        "\n",
        "Warning, nan values found in percent differences. See error_file."
       ]
      },
      {
       "output_type": "stream",
       "stream": "stdout",
       "text": [
        "\n",
        "writing D:/ATLData/LMB/LKM_Nov2013_monthly/hru_means\\mpi_echam5.20c3m.1981-2000.sep.animation.hru_means.nhru...\n",
        "writing D:/ATLData/LMB/LKM_Nov2013_monthly/hru_means\\mpi_echam5.sresa2.2081-2100.sep.animation.hru_means.nhru..."
       ]
      },
      {
       "output_type": "stream",
       "stream": "stdout",
       "text": [
        "\n",
        "writing D:/ATLData/LMB/LKM_Nov2013_monthly/hru_pct_diff\\mpi_echam5.sresa2.2081-2100.sep.animation.hru_pct_diff.nhru..."
       ]
      },
      {
       "output_type": "stream",
       "stream": "stdout",
       "text": [
        "\n",
        "writing D:/ATLData/LMB/LKM_Nov2013_monthly/hru_means\\mpi_echam5.sresb1.2081-2100.sep.animation.hru_means.nhru..."
       ]
      },
      {
       "output_type": "stream",
       "stream": "stdout",
       "text": [
        "\n",
        "writing D:/ATLData/LMB/LKM_Nov2013_monthly/hru_pct_diff\\mpi_echam5.sresb1.2081-2100.sep.animation.hru_pct_diff.nhru..."
       ]
      },
      {
       "output_type": "stream",
       "stream": "stdout",
       "text": [
        "\n",
        "writing D:/ATLData/LMB/LKM_Nov2013_monthly/hru_means\\mpi_echam5.sresa1b.2081-2100.sep.animation.hru_means.nhru..."
       ]
      },
      {
       "output_type": "stream",
       "stream": "stdout",
       "text": [
        "\n",
        "writing D:/ATLData/LMB/LKM_Nov2013_monthly/hru_pct_diff\\mpi_echam5.sresa1b.2081-2100.sep.animation.hru_pct_diff.nhru..."
       ]
      },
      {
       "output_type": "stream",
       "stream": "stdout",
       "text": [
        "\n",
        "writing D:/ATLData/LMB/LKM_Nov2013_monthly/hru_means\\mpi_echam5.sresa1b.2046-2065.sep.animation.hru_means.nhru..."
       ]
      },
      {
       "output_type": "stream",
       "stream": "stdout",
       "text": [
        "\n",
        "writing D:/ATLData/LMB/LKM_Nov2013_monthly/hru_pct_diff\\mpi_echam5.sresa1b.2046-2065.sep.animation.hru_pct_diff.nhru..."
       ]
      },
      {
       "output_type": "stream",
       "stream": "stdout",
       "text": [
        "\n",
        "writing D:/ATLData/LMB/LKM_Nov2013_monthly/hru_means\\mpi_echam5.sresb1.2046-2065.sep.animation.hru_means.nhru..."
       ]
      },
      {
       "output_type": "stream",
       "stream": "stdout",
       "text": [
        "\n",
        "writing D:/ATLData/LMB/LKM_Nov2013_monthly/hru_pct_diff\\mpi_echam5.sresb1.2046-2065.sep.animation.hru_pct_diff.nhru..."
       ]
      },
      {
       "output_type": "stream",
       "stream": "stdout",
       "text": [
        "\n",
        "writing D:/ATLData/LMB/LKM_Nov2013_monthly/hru_means\\mpi_echam5.sresa2.2046-2065.sep.animation.hru_means.nhru..."
       ]
      },
      {
       "output_type": "stream",
       "stream": "stdout",
       "text": [
        "\n",
        "writing D:/ATLData/LMB/LKM_Nov2013_monthly/hru_pct_diff\\mpi_echam5.sresa2.2046-2065.sep.animation.hru_pct_diff.nhru..."
       ]
      },
      {
       "output_type": "stream",
       "stream": "stdout",
       "text": [
        "\n",
        "reading D:/ATLData/LMB/LKM_Nov2013_monthly_animation_output\\mpi_echam5.sresa1b.2046-2065.apr.animation.nhru..."
       ]
      },
      {
       "output_type": "stream",
       "stream": "stdout",
       "text": [
        "\n",
        "reading D:/ATLData/LMB/LKM_Nov2013_monthly_animation_output\\mpi_echam5.sresa1b.2081-2100.apr.animation.nhru..."
       ]
      },
      {
       "output_type": "stream",
       "stream": "stdout",
       "text": [
        "\n",
        "reading D:/ATLData/LMB/LKM_Nov2013_monthly_animation_output\\mpi_echam5.sresa2.2046-2065.apr.animation.nhru..."
       ]
      },
      {
       "output_type": "stream",
       "stream": "stdout",
       "text": [
        "\n",
        "reading D:/ATLData/LMB/LKM_Nov2013_monthly_animation_output\\mpi_echam5.sresa2.2081-2100.apr.animation.nhru..."
       ]
      },
      {
       "output_type": "stream",
       "stream": "stdout",
       "text": [
        "\n",
        "reading D:/ATLData/LMB/LKM_Nov2013_monthly_animation_output\\mpi_echam5.sresb1.2046-2065.apr.animation.nhru..."
       ]
      },
      {
       "output_type": "stream",
       "stream": "stdout",
       "text": [
        "\n",
        "reading D:/ATLData/LMB/LKM_Nov2013_monthly_animation_output\\mpi_echam5.sresb1.2081-2100.apr.animation.nhru..."
       ]
      },
      {
       "output_type": "stream",
       "stream": "stdout",
       "text": [
        "\n",
        "reading D:/ATLData/LMB/LKM_Nov2013_monthly_animation_output\\mpi_echam5.20c3m.1981-2000.apr.animation.nhru..."
       ]
      },
      {
       "output_type": "stream",
       "stream": "stdout",
       "text": [
        "\n",
        "Warning, nan values found in percent differences. See error_file."
       ]
      },
      {
       "output_type": "stream",
       "stream": "stdout",
       "text": [
        "\n",
        "writing D:/ATLData/LMB/LKM_Nov2013_monthly/hru_means\\mpi_echam5.20c3m.1981-2000.apr.animation.hru_means.nhru...\n",
        "writing D:/ATLData/LMB/LKM_Nov2013_monthly/hru_means\\mpi_echam5.sresb1.2081-2100.apr.animation.hru_means.nhru..."
       ]
      },
      {
       "output_type": "stream",
       "stream": "stdout",
       "text": [
        "\n",
        "writing D:/ATLData/LMB/LKM_Nov2013_monthly/hru_pct_diff\\mpi_echam5.sresb1.2081-2100.apr.animation.hru_pct_diff.nhru..."
       ]
      },
      {
       "output_type": "stream",
       "stream": "stdout",
       "text": [
        "\n",
        "writing D:/ATLData/LMB/LKM_Nov2013_monthly/hru_means\\mpi_echam5.sresa2.2081-2100.apr.animation.hru_means.nhru..."
       ]
      },
      {
       "output_type": "stream",
       "stream": "stdout",
       "text": [
        "\n",
        "writing D:/ATLData/LMB/LKM_Nov2013_monthly/hru_pct_diff\\mpi_echam5.sresa2.2081-2100.apr.animation.hru_pct_diff.nhru..."
       ]
      },
      {
       "output_type": "stream",
       "stream": "stdout",
       "text": [
        "\n",
        "writing D:/ATLData/LMB/LKM_Nov2013_monthly/hru_means\\mpi_echam5.sresb1.2046-2065.apr.animation.hru_means.nhru..."
       ]
      },
      {
       "output_type": "stream",
       "stream": "stdout",
       "text": [
        "\n",
        "writing D:/ATLData/LMB/LKM_Nov2013_monthly/hru_pct_diff\\mpi_echam5.sresb1.2046-2065.apr.animation.hru_pct_diff.nhru..."
       ]
      },
      {
       "output_type": "stream",
       "stream": "stdout",
       "text": [
        "\n",
        "writing D:/ATLData/LMB/LKM_Nov2013_monthly/hru_means\\mpi_echam5.sresa2.2046-2065.apr.animation.hru_means.nhru..."
       ]
      },
      {
       "output_type": "stream",
       "stream": "stdout",
       "text": [
        "\n",
        "writing D:/ATLData/LMB/LKM_Nov2013_monthly/hru_pct_diff\\mpi_echam5.sresa2.2046-2065.apr.animation.hru_pct_diff.nhru..."
       ]
      },
      {
       "output_type": "stream",
       "stream": "stdout",
       "text": [
        "\n",
        "writing D:/ATLData/LMB/LKM_Nov2013_monthly/hru_means\\mpi_echam5.sresa1b.2081-2100.apr.animation.hru_means.nhru..."
       ]
      },
      {
       "output_type": "stream",
       "stream": "stdout",
       "text": [
        "\n",
        "writing D:/ATLData/LMB/LKM_Nov2013_monthly/hru_pct_diff\\mpi_echam5.sresa1b.2081-2100.apr.animation.hru_pct_diff.nhru..."
       ]
      },
      {
       "output_type": "stream",
       "stream": "stdout",
       "text": [
        "\n",
        "writing D:/ATLData/LMB/LKM_Nov2013_monthly/hru_means\\mpi_echam5.sresa1b.2046-2065.apr.animation.hru_means.nhru..."
       ]
      },
      {
       "output_type": "stream",
       "stream": "stdout",
       "text": [
        "\n",
        "writing D:/ATLData/LMB/LKM_Nov2013_monthly/hru_pct_diff\\mpi_echam5.sresa1b.2046-2065.apr.animation.hru_pct_diff.nhru..."
       ]
      },
      {
       "output_type": "stream",
       "stream": "stdout",
       "text": [
        "\n",
        "reading D:/ATLData/LMB/LKM_Nov2013_monthly_animation_output\\mpi_echam5.sresa1b.2046-2065.jun.animation.nhru..."
       ]
      },
      {
       "output_type": "stream",
       "stream": "stdout",
       "text": [
        "\n",
        "reading D:/ATLData/LMB/LKM_Nov2013_monthly_animation_output\\mpi_echam5.sresa1b.2081-2100.jun.animation.nhru..."
       ]
      },
      {
       "output_type": "stream",
       "stream": "stdout",
       "text": [
        "\n",
        "reading D:/ATLData/LMB/LKM_Nov2013_monthly_animation_output\\mpi_echam5.sresa2.2046-2065.jun.animation.nhru..."
       ]
      },
      {
       "output_type": "stream",
       "stream": "stdout",
       "text": [
        "\n",
        "reading D:/ATLData/LMB/LKM_Nov2013_monthly_animation_output\\mpi_echam5.sresa2.2081-2100.jun.animation.nhru..."
       ]
      },
      {
       "output_type": "stream",
       "stream": "stdout",
       "text": [
        "\n",
        "reading D:/ATLData/LMB/LKM_Nov2013_monthly_animation_output\\mpi_echam5.sresb1.2046-2065.jun.animation.nhru..."
       ]
      },
      {
       "output_type": "stream",
       "stream": "stdout",
       "text": [
        "\n",
        "reading D:/ATLData/LMB/LKM_Nov2013_monthly_animation_output\\mpi_echam5.sresb1.2081-2100.jun.animation.nhru..."
       ]
      },
      {
       "output_type": "stream",
       "stream": "stdout",
       "text": [
        "\n",
        "reading D:/ATLData/LMB/LKM_Nov2013_monthly_animation_output\\mpi_echam5.20c3m.1981-2000.jun.animation.nhru..."
       ]
      },
      {
       "output_type": "stream",
       "stream": "stdout",
       "text": [
        "\n",
        "Warning, nan values found in percent differences. See error_file."
       ]
      },
      {
       "output_type": "stream",
       "stream": "stdout",
       "text": [
        "\n",
        "writing D:/ATLData/LMB/LKM_Nov2013_monthly/hru_means\\mpi_echam5.20c3m.1981-2000.jun.animation.hru_means.nhru...\n",
        "writing D:/ATLData/LMB/LKM_Nov2013_monthly/hru_means\\mpi_echam5.sresa2.2081-2100.jun.animation.hru_means.nhru..."
       ]
      },
      {
       "output_type": "stream",
       "stream": "stdout",
       "text": [
        "\n",
        "writing D:/ATLData/LMB/LKM_Nov2013_monthly/hru_pct_diff\\mpi_echam5.sresa2.2081-2100.jun.animation.hru_pct_diff.nhru..."
       ]
      },
      {
       "output_type": "stream",
       "stream": "stdout",
       "text": [
        "\n",
        "writing D:/ATLData/LMB/LKM_Nov2013_monthly/hru_means\\mpi_echam5.sresa2.2046-2065.jun.animation.hru_means.nhru..."
       ]
      },
      {
       "output_type": "stream",
       "stream": "stdout",
       "text": [
        "\n",
        "writing D:/ATLData/LMB/LKM_Nov2013_monthly/hru_pct_diff\\mpi_echam5.sresa2.2046-2065.jun.animation.hru_pct_diff.nhru..."
       ]
      },
      {
       "output_type": "stream",
       "stream": "stdout",
       "text": [
        "\n",
        "writing D:/ATLData/LMB/LKM_Nov2013_monthly/hru_means\\mpi_echam5.sresb1.2081-2100.jun.animation.hru_means.nhru..."
       ]
      },
      {
       "output_type": "stream",
       "stream": "stdout",
       "text": [
        "\n",
        "writing D:/ATLData/LMB/LKM_Nov2013_monthly/hru_pct_diff\\mpi_echam5.sresb1.2081-2100.jun.animation.hru_pct_diff.nhru..."
       ]
      },
      {
       "output_type": "stream",
       "stream": "stdout",
       "text": [
        "\n",
        "writing D:/ATLData/LMB/LKM_Nov2013_monthly/hru_means\\mpi_echam5.sresa1b.2046-2065.jun.animation.hru_means.nhru..."
       ]
      },
      {
       "output_type": "stream",
       "stream": "stdout",
       "text": [
        "\n",
        "writing D:/ATLData/LMB/LKM_Nov2013_monthly/hru_pct_diff\\mpi_echam5.sresa1b.2046-2065.jun.animation.hru_pct_diff.nhru..."
       ]
      },
      {
       "output_type": "stream",
       "stream": "stdout",
       "text": [
        "\n",
        "writing D:/ATLData/LMB/LKM_Nov2013_monthly/hru_means\\mpi_echam5.sresa1b.2081-2100.jun.animation.hru_means.nhru..."
       ]
      },
      {
       "output_type": "stream",
       "stream": "stdout",
       "text": [
        "\n",
        "writing D:/ATLData/LMB/LKM_Nov2013_monthly/hru_pct_diff\\mpi_echam5.sresa1b.2081-2100.jun.animation.hru_pct_diff.nhru..."
       ]
      },
      {
       "output_type": "stream",
       "stream": "stdout",
       "text": [
        "\n",
        "writing D:/ATLData/LMB/LKM_Nov2013_monthly/hru_means\\mpi_echam5.sresb1.2046-2065.jun.animation.hru_means.nhru..."
       ]
      },
      {
       "output_type": "stream",
       "stream": "stdout",
       "text": [
        "\n",
        "writing D:/ATLData/LMB/LKM_Nov2013_monthly/hru_pct_diff\\mpi_echam5.sresb1.2046-2065.jun.animation.hru_pct_diff.nhru..."
       ]
      },
      {
       "output_type": "stream",
       "stream": "stdout",
       "text": [
        "\n",
        "reading D:/ATLData/LMB/LKM_Nov2013_monthly_animation_output\\mpi_echam5.sresa1b.2046-2065.jul.animation.nhru..."
       ]
      },
      {
       "output_type": "stream",
       "stream": "stdout",
       "text": [
        "\n",
        "reading D:/ATLData/LMB/LKM_Nov2013_monthly_animation_output\\mpi_echam5.sresa1b.2081-2100.jul.animation.nhru..."
       ]
      },
      {
       "output_type": "stream",
       "stream": "stdout",
       "text": [
        "\n",
        "reading D:/ATLData/LMB/LKM_Nov2013_monthly_animation_output\\mpi_echam5.sresa2.2046-2065.jul.animation.nhru..."
       ]
      },
      {
       "output_type": "stream",
       "stream": "stdout",
       "text": [
        "\n",
        "reading D:/ATLData/LMB/LKM_Nov2013_monthly_animation_output\\mpi_echam5.sresa2.2081-2100.jul.animation.nhru..."
       ]
      },
      {
       "output_type": "stream",
       "stream": "stdout",
       "text": [
        "\n",
        "reading D:/ATLData/LMB/LKM_Nov2013_monthly_animation_output\\mpi_echam5.sresb1.2046-2065.jul.animation.nhru..."
       ]
      },
      {
       "output_type": "stream",
       "stream": "stdout",
       "text": [
        "\n",
        "reading D:/ATLData/LMB/LKM_Nov2013_monthly_animation_output\\mpi_echam5.sresb1.2081-2100.jul.animation.nhru..."
       ]
      },
      {
       "output_type": "stream",
       "stream": "stdout",
       "text": [
        "\n",
        "reading D:/ATLData/LMB/LKM_Nov2013_monthly_animation_output\\mpi_echam5.20c3m.1981-2000.jul.animation.nhru..."
       ]
      },
      {
       "output_type": "stream",
       "stream": "stdout",
       "text": [
        "\n",
        "Warning, nan values found in percent differences. See error_file."
       ]
      },
      {
       "output_type": "stream",
       "stream": "stdout",
       "text": [
        "\n",
        "writing D:/ATLData/LMB/LKM_Nov2013_monthly/hru_means\\mpi_echam5.20c3m.1981-2000.jul.animation.hru_means.nhru...\n",
        "writing D:/ATLData/LMB/LKM_Nov2013_monthly/hru_means\\mpi_echam5.sresa1b.2046-2065.jul.animation.hru_means.nhru..."
       ]
      },
      {
       "output_type": "stream",
       "stream": "stdout",
       "text": [
        "\n",
        "writing D:/ATLData/LMB/LKM_Nov2013_monthly/hru_pct_diff\\mpi_echam5.sresa1b.2046-2065.jul.animation.hru_pct_diff.nhru..."
       ]
      },
      {
       "output_type": "stream",
       "stream": "stdout",
       "text": [
        "\n",
        "writing D:/ATLData/LMB/LKM_Nov2013_monthly/hru_means\\mpi_echam5.sresb1.2046-2065.jul.animation.hru_means.nhru..."
       ]
      },
      {
       "output_type": "stream",
       "stream": "stdout",
       "text": [
        "\n",
        "writing D:/ATLData/LMB/LKM_Nov2013_monthly/hru_pct_diff\\mpi_echam5.sresb1.2046-2065.jul.animation.hru_pct_diff.nhru..."
       ]
      },
      {
       "output_type": "stream",
       "stream": "stdout",
       "text": [
        "\n",
        "writing D:/ATLData/LMB/LKM_Nov2013_monthly/hru_means\\mpi_echam5.sresa2.2046-2065.jul.animation.hru_means.nhru..."
       ]
      },
      {
       "output_type": "stream",
       "stream": "stdout",
       "text": [
        "\n",
        "writing D:/ATLData/LMB/LKM_Nov2013_monthly/hru_pct_diff\\mpi_echam5.sresa2.2046-2065.jul.animation.hru_pct_diff.nhru..."
       ]
      },
      {
       "output_type": "stream",
       "stream": "stdout",
       "text": [
        "\n",
        "writing D:/ATLData/LMB/LKM_Nov2013_monthly/hru_means\\mpi_echam5.sresa1b.2081-2100.jul.animation.hru_means.nhru..."
       ]
      },
      {
       "output_type": "stream",
       "stream": "stdout",
       "text": [
        "\n",
        "writing D:/ATLData/LMB/LKM_Nov2013_monthly/hru_pct_diff\\mpi_echam5.sresa1b.2081-2100.jul.animation.hru_pct_diff.nhru..."
       ]
      },
      {
       "output_type": "stream",
       "stream": "stdout",
       "text": [
        "\n",
        "writing D:/ATLData/LMB/LKM_Nov2013_monthly/hru_means\\mpi_echam5.sresb1.2081-2100.jul.animation.hru_means.nhru..."
       ]
      },
      {
       "output_type": "stream",
       "stream": "stdout",
       "text": [
        "\n",
        "writing D:/ATLData/LMB/LKM_Nov2013_monthly/hru_pct_diff\\mpi_echam5.sresb1.2081-2100.jul.animation.hru_pct_diff.nhru..."
       ]
      },
      {
       "output_type": "stream",
       "stream": "stdout",
       "text": [
        "\n",
        "writing D:/ATLData/LMB/LKM_Nov2013_monthly/hru_means\\mpi_echam5.sresa2.2081-2100.jul.animation.hru_means.nhru..."
       ]
      },
      {
       "output_type": "stream",
       "stream": "stdout",
       "text": [
        "\n",
        "writing D:/ATLData/LMB/LKM_Nov2013_monthly/hru_pct_diff\\mpi_echam5.sresa2.2081-2100.jul.animation.hru_pct_diff.nhru..."
       ]
      },
      {
       "output_type": "stream",
       "stream": "stdout",
       "text": [
        "\n",
        "reading D:/ATLData/LMB/LKM_Nov2013_monthly_animation_output\\mpi_echam5.sresa1b.2046-2065.jan.animation.nhru..."
       ]
      },
      {
       "output_type": "stream",
       "stream": "stdout",
       "text": [
        "\n",
        "reading D:/ATLData/LMB/LKM_Nov2013_monthly_animation_output\\mpi_echam5.sresa1b.2081-2100.jan.animation.nhru..."
       ]
      },
      {
       "output_type": "stream",
       "stream": "stdout",
       "text": [
        "\n",
        "reading D:/ATLData/LMB/LKM_Nov2013_monthly_animation_output\\mpi_echam5.sresa2.2046-2065.jan.animation.nhru..."
       ]
      },
      {
       "output_type": "stream",
       "stream": "stdout",
       "text": [
        "\n",
        "reading D:/ATLData/LMB/LKM_Nov2013_monthly_animation_output\\mpi_echam5.sresa2.2081-2100.jan.animation.nhru..."
       ]
      },
      {
       "output_type": "stream",
       "stream": "stdout",
       "text": [
        "\n",
        "reading D:/ATLData/LMB/LKM_Nov2013_monthly_animation_output\\mpi_echam5.sresb1.2046-2065.jan.animation.nhru..."
       ]
      },
      {
       "output_type": "stream",
       "stream": "stdout",
       "text": [
        "\n",
        "reading D:/ATLData/LMB/LKM_Nov2013_monthly_animation_output\\mpi_echam5.sresb1.2081-2100.jan.animation.nhru..."
       ]
      },
      {
       "output_type": "stream",
       "stream": "stdout",
       "text": [
        "\n",
        "reading D:/ATLData/LMB/LKM_Nov2013_monthly_animation_output\\mpi_echam5.20c3m.1981-2000.jan.animation.nhru..."
       ]
      },
      {
       "output_type": "stream",
       "stream": "stdout",
       "text": [
        "\n",
        "Warning, nan values found in percent differences. See error_file."
       ]
      },
      {
       "output_type": "stream",
       "stream": "stdout",
       "text": [
        "\n",
        "writing D:/ATLData/LMB/LKM_Nov2013_monthly/hru_means\\mpi_echam5.20c3m.1981-2000.jan.animation.hru_means.nhru...\n",
        "writing D:/ATLData/LMB/LKM_Nov2013_monthly/hru_means\\mpi_echam5.sresa1b.2046-2065.jan.animation.hru_means.nhru..."
       ]
      },
      {
       "output_type": "stream",
       "stream": "stdout",
       "text": [
        "\n",
        "writing D:/ATLData/LMB/LKM_Nov2013_monthly/hru_pct_diff\\mpi_echam5.sresa1b.2046-2065.jan.animation.hru_pct_diff.nhru..."
       ]
      },
      {
       "output_type": "stream",
       "stream": "stdout",
       "text": [
        "\n",
        "writing D:/ATLData/LMB/LKM_Nov2013_monthly/hru_means\\mpi_echam5.sresa2.2046-2065.jan.animation.hru_means.nhru..."
       ]
      },
      {
       "output_type": "stream",
       "stream": "stdout",
       "text": [
        "\n",
        "writing D:/ATLData/LMB/LKM_Nov2013_monthly/hru_pct_diff\\mpi_echam5.sresa2.2046-2065.jan.animation.hru_pct_diff.nhru..."
       ]
      },
      {
       "output_type": "stream",
       "stream": "stdout",
       "text": [
        "\n",
        "writing D:/ATLData/LMB/LKM_Nov2013_monthly/hru_means\\mpi_echam5.sresa1b.2081-2100.jan.animation.hru_means.nhru..."
       ]
      },
      {
       "output_type": "stream",
       "stream": "stdout",
       "text": [
        "\n",
        "writing D:/ATLData/LMB/LKM_Nov2013_monthly/hru_pct_diff\\mpi_echam5.sresa1b.2081-2100.jan.animation.hru_pct_diff.nhru..."
       ]
      },
      {
       "output_type": "stream",
       "stream": "stdout",
       "text": [
        "\n",
        "writing D:/ATLData/LMB/LKM_Nov2013_monthly/hru_means\\mpi_echam5.sresb1.2046-2065.jan.animation.hru_means.nhru..."
       ]
      },
      {
       "output_type": "stream",
       "stream": "stdout",
       "text": [
        "\n",
        "writing D:/ATLData/LMB/LKM_Nov2013_monthly/hru_pct_diff\\mpi_echam5.sresb1.2046-2065.jan.animation.hru_pct_diff.nhru..."
       ]
      },
      {
       "output_type": "stream",
       "stream": "stdout",
       "text": [
        "\n",
        "writing D:/ATLData/LMB/LKM_Nov2013_monthly/hru_means\\mpi_echam5.sresa2.2081-2100.jan.animation.hru_means.nhru..."
       ]
      },
      {
       "output_type": "stream",
       "stream": "stdout",
       "text": [
        "\n",
        "writing D:/ATLData/LMB/LKM_Nov2013_monthly/hru_pct_diff\\mpi_echam5.sresa2.2081-2100.jan.animation.hru_pct_diff.nhru..."
       ]
      },
      {
       "output_type": "stream",
       "stream": "stdout",
       "text": [
        "\n",
        "writing D:/ATLData/LMB/LKM_Nov2013_monthly/hru_means\\mpi_echam5.sresb1.2081-2100.jan.animation.hru_means.nhru..."
       ]
      },
      {
       "output_type": "stream",
       "stream": "stdout",
       "text": [
        "\n",
        "writing D:/ATLData/LMB/LKM_Nov2013_monthly/hru_pct_diff\\mpi_echam5.sresb1.2081-2100.jan.animation.hru_pct_diff.nhru..."
       ]
      },
      {
       "output_type": "stream",
       "stream": "stdout",
       "text": [
        "\n",
        "reading D:/ATLData/LMB/LKM_Nov2013_monthly_animation_output\\mpi_echam5.sresa1b.2046-2065.may.animation.nhru..."
       ]
      },
      {
       "output_type": "stream",
       "stream": "stdout",
       "text": [
        "\n",
        "reading D:/ATLData/LMB/LKM_Nov2013_monthly_animation_output\\mpi_echam5.sresa1b.2081-2100.may.animation.nhru..."
       ]
      },
      {
       "output_type": "stream",
       "stream": "stdout",
       "text": [
        "\n",
        "reading D:/ATLData/LMB/LKM_Nov2013_monthly_animation_output\\mpi_echam5.sresa2.2046-2065.may.animation.nhru..."
       ]
      },
      {
       "output_type": "stream",
       "stream": "stdout",
       "text": [
        "\n",
        "reading D:/ATLData/LMB/LKM_Nov2013_monthly_animation_output\\mpi_echam5.sresa2.2081-2100.may.animation.nhru..."
       ]
      },
      {
       "output_type": "stream",
       "stream": "stdout",
       "text": [
        "\n",
        "reading D:/ATLData/LMB/LKM_Nov2013_monthly_animation_output\\mpi_echam5.sresb1.2046-2065.may.animation.nhru..."
       ]
      },
      {
       "output_type": "stream",
       "stream": "stdout",
       "text": [
        "\n",
        "reading D:/ATLData/LMB/LKM_Nov2013_monthly_animation_output\\mpi_echam5.sresb1.2081-2100.may.animation.nhru..."
       ]
      },
      {
       "output_type": "stream",
       "stream": "stdout",
       "text": [
        "\n",
        "reading D:/ATLData/LMB/LKM_Nov2013_monthly_animation_output\\mpi_echam5.20c3m.1981-2000.may.animation.nhru..."
       ]
      },
      {
       "output_type": "stream",
       "stream": "stdout",
       "text": [
        "\n",
        "Warning, nan values found in percent differences. See error_file."
       ]
      },
      {
       "output_type": "stream",
       "stream": "stdout",
       "text": [
        "\n",
        "writing D:/ATLData/LMB/LKM_Nov2013_monthly/hru_means\\mpi_echam5.20c3m.1981-2000.may.animation.hru_means.nhru...\n",
        "writing D:/ATLData/LMB/LKM_Nov2013_monthly/hru_means\\mpi_echam5.sresa1b.2046-2065.may.animation.hru_means.nhru..."
       ]
      },
      {
       "output_type": "stream",
       "stream": "stdout",
       "text": [
        "\n",
        "writing D:/ATLData/LMB/LKM_Nov2013_monthly/hru_pct_diff\\mpi_echam5.sresa1b.2046-2065.may.animation.hru_pct_diff.nhru..."
       ]
      },
      {
       "output_type": "stream",
       "stream": "stdout",
       "text": [
        "\n",
        "writing D:/ATLData/LMB/LKM_Nov2013_monthly/hru_means\\mpi_echam5.sresa2.2046-2065.may.animation.hru_means.nhru..."
       ]
      },
      {
       "output_type": "stream",
       "stream": "stdout",
       "text": [
        "\n",
        "writing D:/ATLData/LMB/LKM_Nov2013_monthly/hru_pct_diff\\mpi_echam5.sresa2.2046-2065.may.animation.hru_pct_diff.nhru..."
       ]
      },
      {
       "output_type": "stream",
       "stream": "stdout",
       "text": [
        "\n",
        "writing D:/ATLData/LMB/LKM_Nov2013_monthly/hru_means\\mpi_echam5.sresa1b.2081-2100.may.animation.hru_means.nhru..."
       ]
      },
      {
       "output_type": "stream",
       "stream": "stdout",
       "text": [
        "\n",
        "writing D:/ATLData/LMB/LKM_Nov2013_monthly/hru_pct_diff\\mpi_echam5.sresa1b.2081-2100.may.animation.hru_pct_diff.nhru..."
       ]
      },
      {
       "output_type": "stream",
       "stream": "stdout",
       "text": [
        "\n",
        "writing D:/ATLData/LMB/LKM_Nov2013_monthly/hru_means\\mpi_echam5.sresb1.2081-2100.may.animation.hru_means.nhru..."
       ]
      },
      {
       "output_type": "stream",
       "stream": "stdout",
       "text": [
        "\n",
        "writing D:/ATLData/LMB/LKM_Nov2013_monthly/hru_pct_diff\\mpi_echam5.sresb1.2081-2100.may.animation.hru_pct_diff.nhru..."
       ]
      },
      {
       "output_type": "stream",
       "stream": "stdout",
       "text": [
        "\n",
        "writing D:/ATLData/LMB/LKM_Nov2013_monthly/hru_means\\mpi_echam5.sresa2.2081-2100.may.animation.hru_means.nhru..."
       ]
      },
      {
       "output_type": "stream",
       "stream": "stdout",
       "text": [
        "\n",
        "writing D:/ATLData/LMB/LKM_Nov2013_monthly/hru_pct_diff\\mpi_echam5.sresa2.2081-2100.may.animation.hru_pct_diff.nhru..."
       ]
      },
      {
       "output_type": "stream",
       "stream": "stdout",
       "text": [
        "\n",
        "writing D:/ATLData/LMB/LKM_Nov2013_monthly/hru_means\\mpi_echam5.sresb1.2046-2065.may.animation.hru_means.nhru..."
       ]
      },
      {
       "output_type": "stream",
       "stream": "stdout",
       "text": [
        "\n",
        "writing D:/ATLData/LMB/LKM_Nov2013_monthly/hru_pct_diff\\mpi_echam5.sresb1.2046-2065.may.animation.hru_pct_diff.nhru..."
       ]
      },
      {
       "output_type": "stream",
       "stream": "stdout",
       "text": [
        "\n",
        "reading D:/ATLData/LMB/LKM_Nov2013_monthly_animation_output\\mpi_echam5.sresa1b.2046-2065.nov.animation.nhru..."
       ]
      },
      {
       "output_type": "stream",
       "stream": "stdout",
       "text": [
        "\n",
        "reading D:/ATLData/LMB/LKM_Nov2013_monthly_animation_output\\mpi_echam5.sresa1b.2081-2100.nov.animation.nhru..."
       ]
      },
      {
       "output_type": "stream",
       "stream": "stdout",
       "text": [
        "\n",
        "reading D:/ATLData/LMB/LKM_Nov2013_monthly_animation_output\\mpi_echam5.sresa2.2046-2065.nov.animation.nhru..."
       ]
      },
      {
       "output_type": "stream",
       "stream": "stdout",
       "text": [
        "\n",
        "reading D:/ATLData/LMB/LKM_Nov2013_monthly_animation_output\\mpi_echam5.sresa2.2081-2100.nov.animation.nhru..."
       ]
      },
      {
       "output_type": "stream",
       "stream": "stdout",
       "text": [
        "\n",
        "reading D:/ATLData/LMB/LKM_Nov2013_monthly_animation_output\\mpi_echam5.sresb1.2046-2065.nov.animation.nhru..."
       ]
      },
      {
       "output_type": "stream",
       "stream": "stdout",
       "text": [
        "\n",
        "reading D:/ATLData/LMB/LKM_Nov2013_monthly_animation_output\\mpi_echam5.sresb1.2081-2100.nov.animation.nhru..."
       ]
      },
      {
       "output_type": "stream",
       "stream": "stdout",
       "text": [
        "\n",
        "reading D:/ATLData/LMB/LKM_Nov2013_monthly_animation_output\\mpi_echam5.20c3m.1981-2000.nov.animation.nhru..."
       ]
      },
      {
       "output_type": "stream",
       "stream": "stdout",
       "text": [
        "\n",
        "Warning, nan values found in percent differences. See error_file."
       ]
      },
      {
       "output_type": "stream",
       "stream": "stdout",
       "text": [
        "\n",
        "writing D:/ATLData/LMB/LKM_Nov2013_monthly/hru_means\\mpi_echam5.20c3m.1981-2000.nov.animation.hru_means.nhru...\n",
        "writing D:/ATLData/LMB/LKM_Nov2013_monthly/hru_means\\mpi_echam5.sresa2.2046-2065.nov.animation.hru_means.nhru..."
       ]
      },
      {
       "output_type": "stream",
       "stream": "stdout",
       "text": [
        "\n",
        "writing D:/ATLData/LMB/LKM_Nov2013_monthly/hru_pct_diff\\mpi_echam5.sresa2.2046-2065.nov.animation.hru_pct_diff.nhru..."
       ]
      },
      {
       "output_type": "stream",
       "stream": "stdout",
       "text": [
        "\n",
        "writing D:/ATLData/LMB/LKM_Nov2013_monthly/hru_means\\mpi_echam5.sresa2.2081-2100.nov.animation.hru_means.nhru..."
       ]
      },
      {
       "output_type": "stream",
       "stream": "stdout",
       "text": [
        "\n",
        "writing D:/ATLData/LMB/LKM_Nov2013_monthly/hru_pct_diff\\mpi_echam5.sresa2.2081-2100.nov.animation.hru_pct_diff.nhru..."
       ]
      },
      {
       "output_type": "stream",
       "stream": "stdout",
       "text": [
        "\n",
        "writing D:/ATLData/LMB/LKM_Nov2013_monthly/hru_means\\mpi_echam5.sresb1.2046-2065.nov.animation.hru_means.nhru..."
       ]
      },
      {
       "output_type": "stream",
       "stream": "stdout",
       "text": [
        "\n",
        "writing D:/ATLData/LMB/LKM_Nov2013_monthly/hru_pct_diff\\mpi_echam5.sresb1.2046-2065.nov.animation.hru_pct_diff.nhru..."
       ]
      },
      {
       "output_type": "stream",
       "stream": "stdout",
       "text": [
        "\n",
        "writing D:/ATLData/LMB/LKM_Nov2013_monthly/hru_means\\mpi_echam5.sresb1.2081-2100.nov.animation.hru_means.nhru..."
       ]
      },
      {
       "output_type": "stream",
       "stream": "stdout",
       "text": [
        "\n",
        "writing D:/ATLData/LMB/LKM_Nov2013_monthly/hru_pct_diff\\mpi_echam5.sresb1.2081-2100.nov.animation.hru_pct_diff.nhru..."
       ]
      },
      {
       "output_type": "stream",
       "stream": "stdout",
       "text": [
        "\n",
        "writing D:/ATLData/LMB/LKM_Nov2013_monthly/hru_means\\mpi_echam5.sresa1b.2081-2100.nov.animation.hru_means.nhru..."
       ]
      },
      {
       "output_type": "stream",
       "stream": "stdout",
       "text": [
        "\n",
        "writing D:/ATLData/LMB/LKM_Nov2013_monthly/hru_pct_diff\\mpi_echam5.sresa1b.2081-2100.nov.animation.hru_pct_diff.nhru..."
       ]
      },
      {
       "output_type": "stream",
       "stream": "stdout",
       "text": [
        "\n",
        "writing D:/ATLData/LMB/LKM_Nov2013_monthly/hru_means\\mpi_echam5.sresa1b.2046-2065.nov.animation.hru_means.nhru..."
       ]
      },
      {
       "output_type": "stream",
       "stream": "stdout",
       "text": [
        "\n",
        "writing D:/ATLData/LMB/LKM_Nov2013_monthly/hru_pct_diff\\mpi_echam5.sresa1b.2046-2065.nov.animation.hru_pct_diff.nhru..."
       ]
      },
      {
       "output_type": "stream",
       "stream": "stdout",
       "text": [
        "\n",
        "reading D:/ATLData/LMB/LKM_Nov2013_monthly_animation_output\\mpi_echam5.sresa1b.2046-2065.dec.animation.nhru..."
       ]
      },
      {
       "output_type": "stream",
       "stream": "stdout",
       "text": [
        "\n",
        "reading D:/ATLData/LMB/LKM_Nov2013_monthly_animation_output\\mpi_echam5.sresa1b.2081-2100.dec.animation.nhru..."
       ]
      },
      {
       "output_type": "stream",
       "stream": "stdout",
       "text": [
        "\n",
        "reading D:/ATLData/LMB/LKM_Nov2013_monthly_animation_output\\mpi_echam5.sresa2.2046-2065.dec.animation.nhru..."
       ]
      },
      {
       "output_type": "stream",
       "stream": "stdout",
       "text": [
        "\n",
        "reading D:/ATLData/LMB/LKM_Nov2013_monthly_animation_output\\mpi_echam5.sresa2.2081-2100.dec.animation.nhru..."
       ]
      },
      {
       "output_type": "stream",
       "stream": "stdout",
       "text": [
        "\n",
        "reading D:/ATLData/LMB/LKM_Nov2013_monthly_animation_output\\mpi_echam5.sresb1.2046-2065.dec.animation.nhru..."
       ]
      },
      {
       "output_type": "stream",
       "stream": "stdout",
       "text": [
        "\n",
        "reading D:/ATLData/LMB/LKM_Nov2013_monthly_animation_output\\mpi_echam5.sresb1.2081-2100.dec.animation.nhru..."
       ]
      },
      {
       "output_type": "stream",
       "stream": "stdout",
       "text": [
        "\n",
        "reading D:/ATLData/LMB/LKM_Nov2013_monthly_animation_output\\mpi_echam5.20c3m.1981-2000.dec.animation.nhru..."
       ]
      },
      {
       "output_type": "stream",
       "stream": "stdout",
       "text": [
        "\n",
        "Warning, nan values found in percent differences. See error_file."
       ]
      },
      {
       "output_type": "stream",
       "stream": "stdout",
       "text": [
        "\n",
        "writing D:/ATLData/LMB/LKM_Nov2013_monthly/hru_means\\mpi_echam5.20c3m.1981-2000.dec.animation.hru_means.nhru...\n",
        "writing D:/ATLData/LMB/LKM_Nov2013_monthly/hru_means\\mpi_echam5.sresa2.2081-2100.dec.animation.hru_means.nhru..."
       ]
      },
      {
       "output_type": "stream",
       "stream": "stdout",
       "text": [
        "\n",
        "writing D:/ATLData/LMB/LKM_Nov2013_monthly/hru_pct_diff\\mpi_echam5.sresa2.2081-2100.dec.animation.hru_pct_diff.nhru..."
       ]
      },
      {
       "output_type": "stream",
       "stream": "stdout",
       "text": [
        "\n",
        "writing D:/ATLData/LMB/LKM_Nov2013_monthly/hru_means\\mpi_echam5.sresb1.2046-2065.dec.animation.hru_means.nhru..."
       ]
      },
      {
       "output_type": "stream",
       "stream": "stdout",
       "text": [
        "\n",
        "writing D:/ATLData/LMB/LKM_Nov2013_monthly/hru_pct_diff\\mpi_echam5.sresb1.2046-2065.dec.animation.hru_pct_diff.nhru..."
       ]
      },
      {
       "output_type": "stream",
       "stream": "stdout",
       "text": [
        "\n",
        "writing D:/ATLData/LMB/LKM_Nov2013_monthly/hru_means\\mpi_echam5.sresa1b.2081-2100.dec.animation.hru_means.nhru..."
       ]
      },
      {
       "output_type": "stream",
       "stream": "stdout",
       "text": [
        "\n",
        "writing D:/ATLData/LMB/LKM_Nov2013_monthly/hru_pct_diff\\mpi_echam5.sresa1b.2081-2100.dec.animation.hru_pct_diff.nhru..."
       ]
      },
      {
       "output_type": "stream",
       "stream": "stdout",
       "text": [
        "\n",
        "writing D:/ATLData/LMB/LKM_Nov2013_monthly/hru_means\\mpi_echam5.sresa2.2046-2065.dec.animation.hru_means.nhru..."
       ]
      },
      {
       "output_type": "stream",
       "stream": "stdout",
       "text": [
        "\n",
        "writing D:/ATLData/LMB/LKM_Nov2013_monthly/hru_pct_diff\\mpi_echam5.sresa2.2046-2065.dec.animation.hru_pct_diff.nhru..."
       ]
      },
      {
       "output_type": "stream",
       "stream": "stdout",
       "text": [
        "\n",
        "writing D:/ATLData/LMB/LKM_Nov2013_monthly/hru_means\\mpi_echam5.sresb1.2081-2100.dec.animation.hru_means.nhru..."
       ]
      },
      {
       "output_type": "stream",
       "stream": "stdout",
       "text": [
        "\n",
        "writing D:/ATLData/LMB/LKM_Nov2013_monthly/hru_pct_diff\\mpi_echam5.sresb1.2081-2100.dec.animation.hru_pct_diff.nhru..."
       ]
      },
      {
       "output_type": "stream",
       "stream": "stdout",
       "text": [
        "\n",
        "writing D:/ATLData/LMB/LKM_Nov2013_monthly/hru_means\\mpi_echam5.sresa1b.2046-2065.dec.animation.hru_means.nhru..."
       ]
      },
      {
       "output_type": "stream",
       "stream": "stdout",
       "text": [
        "\n",
        "writing D:/ATLData/LMB/LKM_Nov2013_monthly/hru_pct_diff\\mpi_echam5.sresa1b.2046-2065.dec.animation.hru_pct_diff.nhru..."
       ]
      },
      {
       "output_type": "stream",
       "stream": "stdout",
       "text": [
        "\n",
        "reading D:/ATLData/LMB/LKM_Nov2013_monthly_animation_output\\mpi_echam5.sresa1b.2046-2065.oct.animation.nhru..."
       ]
      },
      {
       "output_type": "stream",
       "stream": "stdout",
       "text": [
        "\n",
        "reading D:/ATLData/LMB/LKM_Nov2013_monthly_animation_output\\mpi_echam5.sresa1b.2081-2100.oct.animation.nhru..."
       ]
      },
      {
       "output_type": "stream",
       "stream": "stdout",
       "text": [
        "\n",
        "reading D:/ATLData/LMB/LKM_Nov2013_monthly_animation_output\\mpi_echam5.sresa2.2046-2065.oct.animation.nhru..."
       ]
      },
      {
       "output_type": "stream",
       "stream": "stdout",
       "text": [
        "\n",
        "reading D:/ATLData/LMB/LKM_Nov2013_monthly_animation_output\\mpi_echam5.sresa2.2081-2100.oct.animation.nhru..."
       ]
      },
      {
       "output_type": "stream",
       "stream": "stdout",
       "text": [
        "\n",
        "reading D:/ATLData/LMB/LKM_Nov2013_monthly_animation_output\\mpi_echam5.sresb1.2046-2065.oct.animation.nhru..."
       ]
      },
      {
       "output_type": "stream",
       "stream": "stdout",
       "text": [
        "\n",
        "reading D:/ATLData/LMB/LKM_Nov2013_monthly_animation_output\\mpi_echam5.sresb1.2081-2100.oct.animation.nhru..."
       ]
      },
      {
       "output_type": "stream",
       "stream": "stdout",
       "text": [
        "\n",
        "reading D:/ATLData/LMB/LKM_Nov2013_monthly_animation_output\\mpi_echam5.20c3m.1981-2000.oct.animation.nhru..."
       ]
      },
      {
       "output_type": "stream",
       "stream": "stdout",
       "text": [
        "\n",
        "Warning, nan values found in percent differences. See error_file."
       ]
      },
      {
       "output_type": "stream",
       "stream": "stdout",
       "text": [
        "\n",
        "writing D:/ATLData/LMB/LKM_Nov2013_monthly/hru_means\\mpi_echam5.20c3m.1981-2000.oct.animation.hru_means.nhru...\n",
        "writing D:/ATLData/LMB/LKM_Nov2013_monthly/hru_means\\mpi_echam5.sresb1.2046-2065.oct.animation.hru_means.nhru..."
       ]
      },
      {
       "output_type": "stream",
       "stream": "stdout",
       "text": [
        "\n",
        "writing D:/ATLData/LMB/LKM_Nov2013_monthly/hru_pct_diff\\mpi_echam5.sresb1.2046-2065.oct.animation.hru_pct_diff.nhru..."
       ]
      },
      {
       "output_type": "stream",
       "stream": "stdout",
       "text": [
        "\n",
        "writing D:/ATLData/LMB/LKM_Nov2013_monthly/hru_means\\mpi_echam5.sresa2.2081-2100.oct.animation.hru_means.nhru..."
       ]
      },
      {
       "output_type": "stream",
       "stream": "stdout",
       "text": [
        "\n",
        "writing D:/ATLData/LMB/LKM_Nov2013_monthly/hru_pct_diff\\mpi_echam5.sresa2.2081-2100.oct.animation.hru_pct_diff.nhru..."
       ]
      },
      {
       "output_type": "stream",
       "stream": "stdout",
       "text": [
        "\n",
        "writing D:/ATLData/LMB/LKM_Nov2013_monthly/hru_means\\mpi_echam5.sresa1b.2081-2100.oct.animation.hru_means.nhru..."
       ]
      },
      {
       "output_type": "stream",
       "stream": "stdout",
       "text": [
        "\n",
        "writing D:/ATLData/LMB/LKM_Nov2013_monthly/hru_pct_diff\\mpi_echam5.sresa1b.2081-2100.oct.animation.hru_pct_diff.nhru..."
       ]
      },
      {
       "output_type": "stream",
       "stream": "stdout",
       "text": [
        "\n",
        "writing D:/ATLData/LMB/LKM_Nov2013_monthly/hru_means\\mpi_echam5.sresa2.2046-2065.oct.animation.hru_means.nhru..."
       ]
      },
      {
       "output_type": "stream",
       "stream": "stdout",
       "text": [
        "\n",
        "writing D:/ATLData/LMB/LKM_Nov2013_monthly/hru_pct_diff\\mpi_echam5.sresa2.2046-2065.oct.animation.hru_pct_diff.nhru..."
       ]
      },
      {
       "output_type": "stream",
       "stream": "stdout",
       "text": [
        "\n",
        "writing D:/ATLData/LMB/LKM_Nov2013_monthly/hru_means\\mpi_echam5.sresb1.2081-2100.oct.animation.hru_means.nhru..."
       ]
      },
      {
       "output_type": "stream",
       "stream": "stdout",
       "text": [
        "\n",
        "writing D:/ATLData/LMB/LKM_Nov2013_monthly/hru_pct_diff\\mpi_echam5.sresb1.2081-2100.oct.animation.hru_pct_diff.nhru..."
       ]
      },
      {
       "output_type": "stream",
       "stream": "stdout",
       "text": [
        "\n",
        "writing D:/ATLData/LMB/LKM_Nov2013_monthly/hru_means\\mpi_echam5.sresa1b.2046-2065.oct.animation.hru_means.nhru..."
       ]
      },
      {
       "output_type": "stream",
       "stream": "stdout",
       "text": [
        "\n",
        "writing D:/ATLData/LMB/LKM_Nov2013_monthly/hru_pct_diff\\mpi_echam5.sresa1b.2046-2065.oct.animation.hru_pct_diff.nhru..."
       ]
      },
      {
       "output_type": "stream",
       "stream": "stdout",
       "text": [
        "\n",
        "reading D:/ATLData/LMB/LKM_Nov2013_monthly_animation_output\\mpi_echam5.sresa1b.2046-2065.mar.animation.nhru..."
       ]
      },
      {
       "output_type": "stream",
       "stream": "stdout",
       "text": [
        "\n",
        "reading D:/ATLData/LMB/LKM_Nov2013_monthly_animation_output\\mpi_echam5.sresa1b.2081-2100.mar.animation.nhru..."
       ]
      },
      {
       "output_type": "stream",
       "stream": "stdout",
       "text": [
        "\n",
        "reading D:/ATLData/LMB/LKM_Nov2013_monthly_animation_output\\mpi_echam5.sresa2.2046-2065.mar.animation.nhru..."
       ]
      },
      {
       "output_type": "stream",
       "stream": "stdout",
       "text": [
        "\n",
        "reading D:/ATLData/LMB/LKM_Nov2013_monthly_animation_output\\mpi_echam5.sresa2.2081-2100.mar.animation.nhru..."
       ]
      },
      {
       "output_type": "stream",
       "stream": "stdout",
       "text": [
        "\n",
        "reading D:/ATLData/LMB/LKM_Nov2013_monthly_animation_output\\mpi_echam5.sresb1.2046-2065.mar.animation.nhru..."
       ]
      },
      {
       "output_type": "stream",
       "stream": "stdout",
       "text": [
        "\n",
        "reading D:/ATLData/LMB/LKM_Nov2013_monthly_animation_output\\mpi_echam5.sresb1.2081-2100.mar.animation.nhru..."
       ]
      },
      {
       "output_type": "stream",
       "stream": "stdout",
       "text": [
        "\n",
        "reading D:/ATLData/LMB/LKM_Nov2013_monthly_animation_output\\mpi_echam5.20c3m.1981-2000.mar.animation.nhru..."
       ]
      },
      {
       "output_type": "stream",
       "stream": "stdout",
       "text": [
        "\n",
        "Warning, nan values found in percent differences. See error_file."
       ]
      },
      {
       "output_type": "stream",
       "stream": "stdout",
       "text": [
        "\n",
        "writing D:/ATLData/LMB/LKM_Nov2013_monthly/hru_means\\mpi_echam5.20c3m.1981-2000.mar.animation.hru_means.nhru...\n",
        "writing D:/ATLData/LMB/LKM_Nov2013_monthly/hru_means\\mpi_echam5.sresa1b.2081-2100.mar.animation.hru_means.nhru..."
       ]
      },
      {
       "output_type": "stream",
       "stream": "stdout",
       "text": [
        "\n",
        "writing D:/ATLData/LMB/LKM_Nov2013_monthly/hru_pct_diff\\mpi_echam5.sresa1b.2081-2100.mar.animation.hru_pct_diff.nhru..."
       ]
      },
      {
       "output_type": "stream",
       "stream": "stdout",
       "text": [
        "\n",
        "writing D:/ATLData/LMB/LKM_Nov2013_monthly/hru_means\\mpi_echam5.sresa2.2046-2065.mar.animation.hru_means.nhru..."
       ]
      },
      {
       "output_type": "stream",
       "stream": "stdout",
       "text": [
        "\n",
        "writing D:/ATLData/LMB/LKM_Nov2013_monthly/hru_pct_diff\\mpi_echam5.sresa2.2046-2065.mar.animation.hru_pct_diff.nhru..."
       ]
      },
      {
       "output_type": "stream",
       "stream": "stdout",
       "text": [
        "\n",
        "writing D:/ATLData/LMB/LKM_Nov2013_monthly/hru_means\\mpi_echam5.sresa2.2081-2100.mar.animation.hru_means.nhru..."
       ]
      },
      {
       "output_type": "stream",
       "stream": "stdout",
       "text": [
        "\n",
        "writing D:/ATLData/LMB/LKM_Nov2013_monthly/hru_pct_diff\\mpi_echam5.sresa2.2081-2100.mar.animation.hru_pct_diff.nhru..."
       ]
      },
      {
       "output_type": "stream",
       "stream": "stdout",
       "text": [
        "\n",
        "writing D:/ATLData/LMB/LKM_Nov2013_monthly/hru_means\\mpi_echam5.sresb1.2046-2065.mar.animation.hru_means.nhru..."
       ]
      },
      {
       "output_type": "stream",
       "stream": "stdout",
       "text": [
        "\n",
        "writing D:/ATLData/LMB/LKM_Nov2013_monthly/hru_pct_diff\\mpi_echam5.sresb1.2046-2065.mar.animation.hru_pct_diff.nhru..."
       ]
      },
      {
       "output_type": "stream",
       "stream": "stdout",
       "text": [
        "\n",
        "writing D:/ATLData/LMB/LKM_Nov2013_monthly/hru_means\\mpi_echam5.sresb1.2081-2100.mar.animation.hru_means.nhru..."
       ]
      },
      {
       "output_type": "stream",
       "stream": "stdout",
       "text": [
        "\n",
        "writing D:/ATLData/LMB/LKM_Nov2013_monthly/hru_pct_diff\\mpi_echam5.sresb1.2081-2100.mar.animation.hru_pct_diff.nhru..."
       ]
      },
      {
       "output_type": "stream",
       "stream": "stdout",
       "text": [
        "\n",
        "writing D:/ATLData/LMB/LKM_Nov2013_monthly/hru_means\\mpi_echam5.sresa1b.2046-2065.mar.animation.hru_means.nhru..."
       ]
      },
      {
       "output_type": "stream",
       "stream": "stdout",
       "text": [
        "\n",
        "writing D:/ATLData/LMB/LKM_Nov2013_monthly/hru_pct_diff\\mpi_echam5.sresa1b.2046-2065.mar.animation.hru_pct_diff.nhru..."
       ]
      },
      {
       "output_type": "stream",
       "stream": "stdout",
       "text": [
        "\n",
        "reading D:/ATLData/LMB/LKM_Nov2013_monthly_animation_output\\mpi_echam5.sresa1b.2046-2065.feb.animation.nhru..."
       ]
      },
      {
       "output_type": "stream",
       "stream": "stdout",
       "text": [
        "\n",
        "reading D:/ATLData/LMB/LKM_Nov2013_monthly_animation_output\\mpi_echam5.sresa1b.2081-2100.feb.animation.nhru..."
       ]
      },
      {
       "output_type": "stream",
       "stream": "stdout",
       "text": [
        "\n",
        "reading D:/ATLData/LMB/LKM_Nov2013_monthly_animation_output\\mpi_echam5.sresa2.2046-2065.feb.animation.nhru..."
       ]
      },
      {
       "output_type": "stream",
       "stream": "stdout",
       "text": [
        "\n",
        "reading D:/ATLData/LMB/LKM_Nov2013_monthly_animation_output\\mpi_echam5.sresa2.2081-2100.feb.animation.nhru..."
       ]
      },
      {
       "output_type": "stream",
       "stream": "stdout",
       "text": [
        "\n",
        "reading D:/ATLData/LMB/LKM_Nov2013_monthly_animation_output\\mpi_echam5.sresb1.2046-2065.feb.animation.nhru..."
       ]
      },
      {
       "output_type": "stream",
       "stream": "stdout",
       "text": [
        "\n",
        "reading D:/ATLData/LMB/LKM_Nov2013_monthly_animation_output\\mpi_echam5.sresb1.2081-2100.feb.animation.nhru..."
       ]
      },
      {
       "output_type": "stream",
       "stream": "stdout",
       "text": [
        "\n",
        "reading D:/ATLData/LMB/LKM_Nov2013_monthly_animation_output\\mpi_echam5.20c3m.1981-2000.feb.animation.nhru..."
       ]
      },
      {
       "output_type": "stream",
       "stream": "stdout",
       "text": [
        "\n",
        "Warning, nan values found in percent differences. See error_file."
       ]
      },
      {
       "output_type": "stream",
       "stream": "stdout",
       "text": [
        "\n",
        "writing D:/ATLData/LMB/LKM_Nov2013_monthly/hru_means\\mpi_echam5.20c3m.1981-2000.feb.animation.hru_means.nhru...\n",
        "writing D:/ATLData/LMB/LKM_Nov2013_monthly/hru_means\\mpi_echam5.sresa1b.2046-2065.feb.animation.hru_means.nhru..."
       ]
      },
      {
       "output_type": "stream",
       "stream": "stdout",
       "text": [
        "\n",
        "writing D:/ATLData/LMB/LKM_Nov2013_monthly/hru_pct_diff\\mpi_echam5.sresa1b.2046-2065.feb.animation.hru_pct_diff.nhru..."
       ]
      },
      {
       "output_type": "stream",
       "stream": "stdout",
       "text": [
        "\n",
        "writing D:/ATLData/LMB/LKM_Nov2013_monthly/hru_means\\mpi_echam5.sresa1b.2081-2100.feb.animation.hru_means.nhru..."
       ]
      },
      {
       "output_type": "stream",
       "stream": "stdout",
       "text": [
        "\n",
        "writing D:/ATLData/LMB/LKM_Nov2013_monthly/hru_pct_diff\\mpi_echam5.sresa1b.2081-2100.feb.animation.hru_pct_diff.nhru..."
       ]
      },
      {
       "output_type": "stream",
       "stream": "stdout",
       "text": [
        "\n",
        "writing D:/ATLData/LMB/LKM_Nov2013_monthly/hru_means\\mpi_echam5.sresa2.2046-2065.feb.animation.hru_means.nhru..."
       ]
      },
      {
       "output_type": "stream",
       "stream": "stdout",
       "text": [
        "\n",
        "writing D:/ATLData/LMB/LKM_Nov2013_monthly/hru_pct_diff\\mpi_echam5.sresa2.2046-2065.feb.animation.hru_pct_diff.nhru..."
       ]
      },
      {
       "output_type": "stream",
       "stream": "stdout",
       "text": [
        "\n",
        "writing D:/ATLData/LMB/LKM_Nov2013_monthly/hru_means\\mpi_echam5.sresb1.2046-2065.feb.animation.hru_means.nhru..."
       ]
      },
      {
       "output_type": "stream",
       "stream": "stdout",
       "text": [
        "\n",
        "writing D:/ATLData/LMB/LKM_Nov2013_monthly/hru_pct_diff\\mpi_echam5.sresb1.2046-2065.feb.animation.hru_pct_diff.nhru..."
       ]
      },
      {
       "output_type": "stream",
       "stream": "stdout",
       "text": [
        "\n",
        "writing D:/ATLData/LMB/LKM_Nov2013_monthly/hru_means\\mpi_echam5.sresa2.2081-2100.feb.animation.hru_means.nhru..."
       ]
      },
      {
       "output_type": "stream",
       "stream": "stdout",
       "text": [
        "\n",
        "writing D:/ATLData/LMB/LKM_Nov2013_monthly/hru_pct_diff\\mpi_echam5.sresa2.2081-2100.feb.animation.hru_pct_diff.nhru..."
       ]
      },
      {
       "output_type": "stream",
       "stream": "stdout",
       "text": [
        "\n",
        "writing D:/ATLData/LMB/LKM_Nov2013_monthly/hru_means\\mpi_echam5.sresb1.2081-2100.feb.animation.hru_means.nhru..."
       ]
      },
      {
       "output_type": "stream",
       "stream": "stdout",
       "text": [
        "\n",
        "writing D:/ATLData/LMB/LKM_Nov2013_monthly/hru_pct_diff\\mpi_echam5.sresb1.2081-2100.feb.animation.hru_pct_diff.nhru..."
       ]
      },
      {
       "output_type": "stream",
       "stream": "stdout",
       "text": [
        "\n",
        "reading D:/ATLData/LMB/LKM_Nov2013_monthly_animation_output\\mpi_echam5.sresa1b.2046-2065.aug.animation.nhru..."
       ]
      },
      {
       "output_type": "stream",
       "stream": "stdout",
       "text": [
        "\n",
        "reading D:/ATLData/LMB/LKM_Nov2013_monthly_animation_output\\mpi_echam5.sresa1b.2081-2100.aug.animation.nhru..."
       ]
      },
      {
       "output_type": "stream",
       "stream": "stdout",
       "text": [
        "\n",
        "reading D:/ATLData/LMB/LKM_Nov2013_monthly_animation_output\\mpi_echam5.sresa2.2046-2065.aug.animation.nhru..."
       ]
      },
      {
       "output_type": "stream",
       "stream": "stdout",
       "text": [
        "\n",
        "reading D:/ATLData/LMB/LKM_Nov2013_monthly_animation_output\\mpi_echam5.sresa2.2081-2100.aug.animation.nhru..."
       ]
      },
      {
       "output_type": "stream",
       "stream": "stdout",
       "text": [
        "\n",
        "reading D:/ATLData/LMB/LKM_Nov2013_monthly_animation_output\\mpi_echam5.sresb1.2046-2065.aug.animation.nhru..."
       ]
      },
      {
       "output_type": "stream",
       "stream": "stdout",
       "text": [
        "\n",
        "reading D:/ATLData/LMB/LKM_Nov2013_monthly_animation_output\\mpi_echam5.sresb1.2081-2100.aug.animation.nhru..."
       ]
      },
      {
       "output_type": "stream",
       "stream": "stdout",
       "text": [
        "\n",
        "reading D:/ATLData/LMB/LKM_Nov2013_monthly_animation_output\\mpi_echam5.20c3m.1981-2000.aug.animation.nhru..."
       ]
      },
      {
       "output_type": "stream",
       "stream": "stdout",
       "text": [
        "\n",
        "Warning, nan values found in percent differences. See error_file."
       ]
      },
      {
       "output_type": "stream",
       "stream": "stdout",
       "text": [
        "\n",
        "writing D:/ATLData/LMB/LKM_Nov2013_monthly/hru_means\\mpi_echam5.20c3m.1981-2000.aug.animation.hru_means.nhru...\n",
        "writing D:/ATLData/LMB/LKM_Nov2013_monthly/hru_means\\mpi_echam5.sresb1.2046-2065.aug.animation.hru_means.nhru..."
       ]
      },
      {
       "output_type": "stream",
       "stream": "stdout",
       "text": [
        "\n",
        "writing D:/ATLData/LMB/LKM_Nov2013_monthly/hru_pct_diff\\mpi_echam5.sresb1.2046-2065.aug.animation.hru_pct_diff.nhru..."
       ]
      },
      {
       "output_type": "stream",
       "stream": "stdout",
       "text": [
        "\n",
        "writing D:/ATLData/LMB/LKM_Nov2013_monthly/hru_means\\mpi_echam5.sresb1.2081-2100.aug.animation.hru_means.nhru..."
       ]
      },
      {
       "output_type": "stream",
       "stream": "stdout",
       "text": [
        "\n",
        "writing D:/ATLData/LMB/LKM_Nov2013_monthly/hru_pct_diff\\mpi_echam5.sresb1.2081-2100.aug.animation.hru_pct_diff.nhru..."
       ]
      },
      {
       "output_type": "stream",
       "stream": "stdout",
       "text": [
        "\n",
        "writing D:/ATLData/LMB/LKM_Nov2013_monthly/hru_means\\mpi_echam5.sresa1b.2046-2065.aug.animation.hru_means.nhru..."
       ]
      },
      {
       "output_type": "stream",
       "stream": "stdout",
       "text": [
        "\n",
        "writing D:/ATLData/LMB/LKM_Nov2013_monthly/hru_pct_diff\\mpi_echam5.sresa1b.2046-2065.aug.animation.hru_pct_diff.nhru..."
       ]
      },
      {
       "output_type": "stream",
       "stream": "stdout",
       "text": [
        "\n",
        "writing D:/ATLData/LMB/LKM_Nov2013_monthly/hru_means\\mpi_echam5.sresa2.2046-2065.aug.animation.hru_means.nhru..."
       ]
      },
      {
       "output_type": "stream",
       "stream": "stdout",
       "text": [
        "\n",
        "writing D:/ATLData/LMB/LKM_Nov2013_monthly/hru_pct_diff\\mpi_echam5.sresa2.2046-2065.aug.animation.hru_pct_diff.nhru..."
       ]
      },
      {
       "output_type": "stream",
       "stream": "stdout",
       "text": [
        "\n",
        "writing D:/ATLData/LMB/LKM_Nov2013_monthly/hru_means\\mpi_echam5.sresa1b.2081-2100.aug.animation.hru_means.nhru..."
       ]
      },
      {
       "output_type": "stream",
       "stream": "stdout",
       "text": [
        "\n",
        "writing D:/ATLData/LMB/LKM_Nov2013_monthly/hru_pct_diff\\mpi_echam5.sresa1b.2081-2100.aug.animation.hru_pct_diff.nhru..."
       ]
      },
      {
       "output_type": "stream",
       "stream": "stdout",
       "text": [
        "\n",
        "writing D:/ATLData/LMB/LKM_Nov2013_monthly/hru_means\\mpi_echam5.sresa2.2081-2100.aug.animation.hru_means.nhru..."
       ]
      },
      {
       "output_type": "stream",
       "stream": "stdout",
       "text": [
        "\n",
        "writing D:/ATLData/LMB/LKM_Nov2013_monthly/hru_pct_diff\\mpi_echam5.sresa2.2081-2100.aug.animation.hru_pct_diff.nhru..."
       ]
      },
      {
       "output_type": "stream",
       "stream": "stdout",
       "text": [
        "\n",
        "reading D:/ATLData/LMB/LKM_Nov2013_monthly_animation_output\\mpi_echam5.sresa1b.2046-2065.sep.animation.nhru..."
       ]
      },
      {
       "output_type": "stream",
       "stream": "stdout",
       "text": [
        "\n",
        "reading D:/ATLData/LMB/LKM_Nov2013_monthly_animation_output\\mpi_echam5.sresa1b.2081-2100.sep.animation.nhru..."
       ]
      },
      {
       "output_type": "stream",
       "stream": "stdout",
       "text": [
        "\n",
        "reading D:/ATLData/LMB/LKM_Nov2013_monthly_animation_output\\mpi_echam5.sresa2.2046-2065.sep.animation.nhru..."
       ]
      },
      {
       "output_type": "stream",
       "stream": "stdout",
       "text": [
        "\n",
        "reading D:/ATLData/LMB/LKM_Nov2013_monthly_animation_output\\mpi_echam5.sresa2.2081-2100.sep.animation.nhru..."
       ]
      },
      {
       "output_type": "stream",
       "stream": "stdout",
       "text": [
        "\n",
        "reading D:/ATLData/LMB/LKM_Nov2013_monthly_animation_output\\mpi_echam5.sresb1.2046-2065.sep.animation.nhru..."
       ]
      },
      {
       "output_type": "stream",
       "stream": "stdout",
       "text": [
        "\n",
        "reading D:/ATLData/LMB/LKM_Nov2013_monthly_animation_output\\mpi_echam5.sresb1.2081-2100.sep.animation.nhru..."
       ]
      },
      {
       "output_type": "stream",
       "stream": "stdout",
       "text": [
        "\n",
        "reading D:/ATLData/LMB/LKM_Nov2013_monthly_animation_output\\mpi_echam5.20c3m.1981-2000.sep.animation.nhru..."
       ]
      },
      {
       "output_type": "stream",
       "stream": "stdout",
       "text": [
        "\n",
        "Warning, nan values found in percent differences. See error_file."
       ]
      },
      {
       "output_type": "stream",
       "stream": "stdout",
       "text": [
        "\n",
        "writing D:/ATLData/LMB/LKM_Nov2013_monthly/hru_means\\mpi_echam5.20c3m.1981-2000.sep.animation.hru_means.nhru...\n",
        "writing D:/ATLData/LMB/LKM_Nov2013_monthly/hru_means\\mpi_echam5.sresa2.2081-2100.sep.animation.hru_means.nhru..."
       ]
      },
      {
       "output_type": "stream",
       "stream": "stdout",
       "text": [
        "\n",
        "writing D:/ATLData/LMB/LKM_Nov2013_monthly/hru_pct_diff\\mpi_echam5.sresa2.2081-2100.sep.animation.hru_pct_diff.nhru..."
       ]
      },
      {
       "output_type": "stream",
       "stream": "stdout",
       "text": [
        "\n",
        "writing D:/ATLData/LMB/LKM_Nov2013_monthly/hru_means\\mpi_echam5.sresb1.2081-2100.sep.animation.hru_means.nhru..."
       ]
      },
      {
       "output_type": "stream",
       "stream": "stdout",
       "text": [
        "\n",
        "writing D:/ATLData/LMB/LKM_Nov2013_monthly/hru_pct_diff\\mpi_echam5.sresb1.2081-2100.sep.animation.hru_pct_diff.nhru..."
       ]
      },
      {
       "output_type": "stream",
       "stream": "stdout",
       "text": [
        "\n",
        "writing D:/ATLData/LMB/LKM_Nov2013_monthly/hru_means\\mpi_echam5.sresa1b.2081-2100.sep.animation.hru_means.nhru..."
       ]
      },
      {
       "output_type": "stream",
       "stream": "stdout",
       "text": [
        "\n",
        "writing D:/ATLData/LMB/LKM_Nov2013_monthly/hru_pct_diff\\mpi_echam5.sresa1b.2081-2100.sep.animation.hru_pct_diff.nhru..."
       ]
      },
      {
       "output_type": "stream",
       "stream": "stdout",
       "text": [
        "\n",
        "writing D:/ATLData/LMB/LKM_Nov2013_monthly/hru_means\\mpi_echam5.sresa1b.2046-2065.sep.animation.hru_means.nhru..."
       ]
      },
      {
       "output_type": "stream",
       "stream": "stdout",
       "text": [
        "\n",
        "writing D:/ATLData/LMB/LKM_Nov2013_monthly/hru_pct_diff\\mpi_echam5.sresa1b.2046-2065.sep.animation.hru_pct_diff.nhru..."
       ]
      },
      {
       "output_type": "stream",
       "stream": "stdout",
       "text": [
        "\n",
        "writing D:/ATLData/LMB/LKM_Nov2013_monthly/hru_means\\mpi_echam5.sresb1.2046-2065.sep.animation.hru_means.nhru..."
       ]
      },
      {
       "output_type": "stream",
       "stream": "stdout",
       "text": [
        "\n",
        "writing D:/ATLData/LMB/LKM_Nov2013_monthly/hru_pct_diff\\mpi_echam5.sresb1.2046-2065.sep.animation.hru_pct_diff.nhru..."
       ]
      },
      {
       "output_type": "stream",
       "stream": "stdout",
       "text": [
        "\n",
        "writing D:/ATLData/LMB/LKM_Nov2013_monthly/hru_means\\mpi_echam5.sresa2.2046-2065.sep.animation.hru_means.nhru..."
       ]
      },
      {
       "output_type": "stream",
       "stream": "stdout",
       "text": [
        "\n",
        "writing D:/ATLData/LMB/LKM_Nov2013_monthly/hru_pct_diff\\mpi_echam5.sresa2.2046-2065.sep.animation.hru_pct_diff.nhru..."
       ]
      },
      {
       "output_type": "stream",
       "stream": "stdout",
       "text": [
        "\n",
        "reading D:/ATLData/LMB/LKM_Nov2013_monthly_animation_output\\mpi_echam5.sresa1b.2046-2065.apr.animation.nhru..."
       ]
      },
      {
       "output_type": "stream",
       "stream": "stdout",
       "text": [
        "\n",
        "reading D:/ATLData/LMB/LKM_Nov2013_monthly_animation_output\\mpi_echam5.sresa1b.2081-2100.apr.animation.nhru..."
       ]
      },
      {
       "output_type": "stream",
       "stream": "stdout",
       "text": [
        "\n",
        "reading D:/ATLData/LMB/LKM_Nov2013_monthly_animation_output\\mpi_echam5.sresa2.2046-2065.apr.animation.nhru..."
       ]
      },
      {
       "output_type": "stream",
       "stream": "stdout",
       "text": [
        "\n",
        "reading D:/ATLData/LMB/LKM_Nov2013_monthly_animation_output\\mpi_echam5.sresa2.2081-2100.apr.animation.nhru..."
       ]
      },
      {
       "output_type": "stream",
       "stream": "stdout",
       "text": [
        "\n",
        "reading D:/ATLData/LMB/LKM_Nov2013_monthly_animation_output\\mpi_echam5.sresb1.2046-2065.apr.animation.nhru..."
       ]
      },
      {
       "output_type": "stream",
       "stream": "stdout",
       "text": [
        "\n",
        "reading D:/ATLData/LMB/LKM_Nov2013_monthly_animation_output\\mpi_echam5.sresb1.2081-2100.apr.animation.nhru..."
       ]
      },
      {
       "output_type": "stream",
       "stream": "stdout",
       "text": [
        "\n",
        "reading D:/ATLData/LMB/LKM_Nov2013_monthly_animation_output\\mpi_echam5.20c3m.1981-2000.apr.animation.nhru..."
       ]
      },
      {
       "output_type": "stream",
       "stream": "stdout",
       "text": [
        "\n",
        "Warning, nan values found in percent differences. See error_file."
       ]
      },
      {
       "output_type": "stream",
       "stream": "stdout",
       "text": [
        "\n",
        "writing D:/ATLData/LMB/LKM_Nov2013_monthly/hru_means\\mpi_echam5.20c3m.1981-2000.apr.animation.hru_means.nhru...\n",
        "writing D:/ATLData/LMB/LKM_Nov2013_monthly/hru_means\\mpi_echam5.sresb1.2081-2100.apr.animation.hru_means.nhru..."
       ]
      },
      {
       "output_type": "stream",
       "stream": "stdout",
       "text": [
        "\n",
        "writing D:/ATLData/LMB/LKM_Nov2013_monthly/hru_pct_diff\\mpi_echam5.sresb1.2081-2100.apr.animation.hru_pct_diff.nhru..."
       ]
      },
      {
       "output_type": "stream",
       "stream": "stdout",
       "text": [
        "\n",
        "writing D:/ATLData/LMB/LKM_Nov2013_monthly/hru_means\\mpi_echam5.sresa2.2081-2100.apr.animation.hru_means.nhru..."
       ]
      },
      {
       "output_type": "stream",
       "stream": "stdout",
       "text": [
        "\n",
        "writing D:/ATLData/LMB/LKM_Nov2013_monthly/hru_pct_diff\\mpi_echam5.sresa2.2081-2100.apr.animation.hru_pct_diff.nhru..."
       ]
      },
      {
       "output_type": "stream",
       "stream": "stdout",
       "text": [
        "\n",
        "writing D:/ATLData/LMB/LKM_Nov2013_monthly/hru_means\\mpi_echam5.sresb1.2046-2065.apr.animation.hru_means.nhru..."
       ]
      },
      {
       "output_type": "stream",
       "stream": "stdout",
       "text": [
        "\n",
        "writing D:/ATLData/LMB/LKM_Nov2013_monthly/hru_pct_diff\\mpi_echam5.sresb1.2046-2065.apr.animation.hru_pct_diff.nhru..."
       ]
      },
      {
       "output_type": "stream",
       "stream": "stdout",
       "text": [
        "\n",
        "writing D:/ATLData/LMB/LKM_Nov2013_monthly/hru_means\\mpi_echam5.sresa2.2046-2065.apr.animation.hru_means.nhru..."
       ]
      },
      {
       "output_type": "stream",
       "stream": "stdout",
       "text": [
        "\n",
        "writing D:/ATLData/LMB/LKM_Nov2013_monthly/hru_pct_diff\\mpi_echam5.sresa2.2046-2065.apr.animation.hru_pct_diff.nhru..."
       ]
      },
      {
       "output_type": "stream",
       "stream": "stdout",
       "text": [
        "\n",
        "writing D:/ATLData/LMB/LKM_Nov2013_monthly/hru_means\\mpi_echam5.sresa1b.2081-2100.apr.animation.hru_means.nhru..."
       ]
      },
      {
       "output_type": "stream",
       "stream": "stdout",
       "text": [
        "\n",
        "writing D:/ATLData/LMB/LKM_Nov2013_monthly/hru_pct_diff\\mpi_echam5.sresa1b.2081-2100.apr.animation.hru_pct_diff.nhru..."
       ]
      },
      {
       "output_type": "stream",
       "stream": "stdout",
       "text": [
        "\n",
        "writing D:/ATLData/LMB/LKM_Nov2013_monthly/hru_means\\mpi_echam5.sresa1b.2046-2065.apr.animation.hru_means.nhru..."
       ]
      },
      {
       "output_type": "stream",
       "stream": "stdout",
       "text": [
        "\n",
        "writing D:/ATLData/LMB/LKM_Nov2013_monthly/hru_pct_diff\\mpi_echam5.sresa1b.2046-2065.apr.animation.hru_pct_diff.nhru..."
       ]
      },
      {
       "output_type": "stream",
       "stream": "stdout",
       "text": [
        "\n",
        "reading D:/ATLData/LMB/LKM_Nov2013_monthly_animation_output\\mpi_echam5.sresa1b.2046-2065.jun.animation.nhru..."
       ]
      },
      {
       "output_type": "stream",
       "stream": "stdout",
       "text": [
        "\n",
        "reading D:/ATLData/LMB/LKM_Nov2013_monthly_animation_output\\mpi_echam5.sresa1b.2081-2100.jun.animation.nhru..."
       ]
      },
      {
       "output_type": "stream",
       "stream": "stdout",
       "text": [
        "\n",
        "reading D:/ATLData/LMB/LKM_Nov2013_monthly_animation_output\\mpi_echam5.sresa2.2046-2065.jun.animation.nhru..."
       ]
      },
      {
       "output_type": "stream",
       "stream": "stdout",
       "text": [
        "\n",
        "reading D:/ATLData/LMB/LKM_Nov2013_monthly_animation_output\\mpi_echam5.sresa2.2081-2100.jun.animation.nhru..."
       ]
      },
      {
       "output_type": "stream",
       "stream": "stdout",
       "text": [
        "\n",
        "reading D:/ATLData/LMB/LKM_Nov2013_monthly_animation_output\\mpi_echam5.sresb1.2046-2065.jun.animation.nhru..."
       ]
      },
      {
       "output_type": "stream",
       "stream": "stdout",
       "text": [
        "\n",
        "reading D:/ATLData/LMB/LKM_Nov2013_monthly_animation_output\\mpi_echam5.sresb1.2081-2100.jun.animation.nhru..."
       ]
      },
      {
       "output_type": "stream",
       "stream": "stdout",
       "text": [
        "\n",
        "reading D:/ATLData/LMB/LKM_Nov2013_monthly_animation_output\\mpi_echam5.20c3m.1981-2000.jun.animation.nhru..."
       ]
      },
      {
       "output_type": "stream",
       "stream": "stdout",
       "text": [
        "\n",
        "Warning, nan values found in percent differences. See error_file."
       ]
      },
      {
       "output_type": "stream",
       "stream": "stdout",
       "text": [
        "\n",
        "writing D:/ATLData/LMB/LKM_Nov2013_monthly/hru_means\\mpi_echam5.20c3m.1981-2000.jun.animation.hru_means.nhru...\n",
        "writing D:/ATLData/LMB/LKM_Nov2013_monthly/hru_means\\mpi_echam5.sresa2.2081-2100.jun.animation.hru_means.nhru..."
       ]
      },
      {
       "output_type": "stream",
       "stream": "stdout",
       "text": [
        "\n",
        "writing D:/ATLData/LMB/LKM_Nov2013_monthly/hru_pct_diff\\mpi_echam5.sresa2.2081-2100.jun.animation.hru_pct_diff.nhru..."
       ]
      },
      {
       "output_type": "stream",
       "stream": "stdout",
       "text": [
        "\n",
        "writing D:/ATLData/LMB/LKM_Nov2013_monthly/hru_means\\mpi_echam5.sresa2.2046-2065.jun.animation.hru_means.nhru..."
       ]
      },
      {
       "output_type": "stream",
       "stream": "stdout",
       "text": [
        "\n",
        "writing D:/ATLData/LMB/LKM_Nov2013_monthly/hru_pct_diff\\mpi_echam5.sresa2.2046-2065.jun.animation.hru_pct_diff.nhru..."
       ]
      },
      {
       "output_type": "stream",
       "stream": "stdout",
       "text": [
        "\n",
        "writing D:/ATLData/LMB/LKM_Nov2013_monthly/hru_means\\mpi_echam5.sresb1.2081-2100.jun.animation.hru_means.nhru..."
       ]
      },
      {
       "output_type": "stream",
       "stream": "stdout",
       "text": [
        "\n",
        "writing D:/ATLData/LMB/LKM_Nov2013_monthly/hru_pct_diff\\mpi_echam5.sresb1.2081-2100.jun.animation.hru_pct_diff.nhru..."
       ]
      },
      {
       "output_type": "stream",
       "stream": "stdout",
       "text": [
        "\n",
        "writing D:/ATLData/LMB/LKM_Nov2013_monthly/hru_means\\mpi_echam5.sresa1b.2046-2065.jun.animation.hru_means.nhru..."
       ]
      },
      {
       "output_type": "stream",
       "stream": "stdout",
       "text": [
        "\n",
        "writing D:/ATLData/LMB/LKM_Nov2013_monthly/hru_pct_diff\\mpi_echam5.sresa1b.2046-2065.jun.animation.hru_pct_diff.nhru..."
       ]
      },
      {
       "output_type": "stream",
       "stream": "stdout",
       "text": [
        "\n",
        "writing D:/ATLData/LMB/LKM_Nov2013_monthly/hru_means\\mpi_echam5.sresa1b.2081-2100.jun.animation.hru_means.nhru..."
       ]
      },
      {
       "output_type": "stream",
       "stream": "stdout",
       "text": [
        "\n",
        "writing D:/ATLData/LMB/LKM_Nov2013_monthly/hru_pct_diff\\mpi_echam5.sresa1b.2081-2100.jun.animation.hru_pct_diff.nhru..."
       ]
      },
      {
       "output_type": "stream",
       "stream": "stdout",
       "text": [
        "\n",
        "writing D:/ATLData/LMB/LKM_Nov2013_monthly/hru_means\\mpi_echam5.sresb1.2046-2065.jun.animation.hru_means.nhru..."
       ]
      },
      {
       "output_type": "stream",
       "stream": "stdout",
       "text": [
        "\n",
        "writing D:/ATLData/LMB/LKM_Nov2013_monthly/hru_pct_diff\\mpi_echam5.sresb1.2046-2065.jun.animation.hru_pct_diff.nhru..."
       ]
      },
      {
       "output_type": "stream",
       "stream": "stdout",
       "text": [
        "\n",
        "reading D:/ATLData/LMB/LKM_Nov2013_monthly_animation_output\\mpi_echam5.sresa1b.2046-2065.jul.animation.nhru..."
       ]
      },
      {
       "output_type": "stream",
       "stream": "stdout",
       "text": [
        "\n",
        "reading D:/ATLData/LMB/LKM_Nov2013_monthly_animation_output\\mpi_echam5.sresa1b.2081-2100.jul.animation.nhru..."
       ]
      },
      {
       "output_type": "stream",
       "stream": "stdout",
       "text": [
        "\n",
        "reading D:/ATLData/LMB/LKM_Nov2013_monthly_animation_output\\mpi_echam5.sresa2.2046-2065.jul.animation.nhru..."
       ]
      },
      {
       "output_type": "stream",
       "stream": "stdout",
       "text": [
        "\n",
        "reading D:/ATLData/LMB/LKM_Nov2013_monthly_animation_output\\mpi_echam5.sresa2.2081-2100.jul.animation.nhru..."
       ]
      },
      {
       "output_type": "stream",
       "stream": "stdout",
       "text": [
        "\n",
        "reading D:/ATLData/LMB/LKM_Nov2013_monthly_animation_output\\mpi_echam5.sresb1.2046-2065.jul.animation.nhru..."
       ]
      },
      {
       "output_type": "stream",
       "stream": "stdout",
       "text": [
        "\n",
        "reading D:/ATLData/LMB/LKM_Nov2013_monthly_animation_output\\mpi_echam5.sresb1.2081-2100.jul.animation.nhru..."
       ]
      },
      {
       "output_type": "stream",
       "stream": "stdout",
       "text": [
        "\n",
        "reading D:/ATLData/LMB/LKM_Nov2013_monthly_animation_output\\mpi_echam5.20c3m.1981-2000.jul.animation.nhru..."
       ]
      },
      {
       "output_type": "stream",
       "stream": "stdout",
       "text": [
        "\n",
        "Warning, nan values found in percent differences. See error_file."
       ]
      },
      {
       "output_type": "stream",
       "stream": "stdout",
       "text": [
        "\n",
        "writing D:/ATLData/LMB/LKM_Nov2013_monthly/hru_means\\mpi_echam5.20c3m.1981-2000.jul.animation.hru_means.nhru...\n",
        "writing D:/ATLData/LMB/LKM_Nov2013_monthly/hru_means\\mpi_echam5.sresa1b.2046-2065.jul.animation.hru_means.nhru..."
       ]
      },
      {
       "output_type": "stream",
       "stream": "stdout",
       "text": [
        "\n",
        "writing D:/ATLData/LMB/LKM_Nov2013_monthly/hru_pct_diff\\mpi_echam5.sresa1b.2046-2065.jul.animation.hru_pct_diff.nhru..."
       ]
      },
      {
       "output_type": "stream",
       "stream": "stdout",
       "text": [
        "\n",
        "writing D:/ATLData/LMB/LKM_Nov2013_monthly/hru_means\\mpi_echam5.sresb1.2046-2065.jul.animation.hru_means.nhru..."
       ]
      },
      {
       "output_type": "stream",
       "stream": "stdout",
       "text": [
        "\n",
        "writing D:/ATLData/LMB/LKM_Nov2013_monthly/hru_pct_diff\\mpi_echam5.sresb1.2046-2065.jul.animation.hru_pct_diff.nhru..."
       ]
      },
      {
       "output_type": "stream",
       "stream": "stdout",
       "text": [
        "\n",
        "writing D:/ATLData/LMB/LKM_Nov2013_monthly/hru_means\\mpi_echam5.sresa2.2046-2065.jul.animation.hru_means.nhru..."
       ]
      },
      {
       "output_type": "stream",
       "stream": "stdout",
       "text": [
        "\n",
        "writing D:/ATLData/LMB/LKM_Nov2013_monthly/hru_pct_diff\\mpi_echam5.sresa2.2046-2065.jul.animation.hru_pct_diff.nhru..."
       ]
      },
      {
       "output_type": "stream",
       "stream": "stdout",
       "text": [
        "\n",
        "writing D:/ATLData/LMB/LKM_Nov2013_monthly/hru_means\\mpi_echam5.sresa1b.2081-2100.jul.animation.hru_means.nhru..."
       ]
      },
      {
       "output_type": "stream",
       "stream": "stdout",
       "text": [
        "\n",
        "writing D:/ATLData/LMB/LKM_Nov2013_monthly/hru_pct_diff\\mpi_echam5.sresa1b.2081-2100.jul.animation.hru_pct_diff.nhru..."
       ]
      },
      {
       "output_type": "stream",
       "stream": "stdout",
       "text": [
        "\n",
        "writing D:/ATLData/LMB/LKM_Nov2013_monthly/hru_means\\mpi_echam5.sresb1.2081-2100.jul.animation.hru_means.nhru..."
       ]
      },
      {
       "output_type": "stream",
       "stream": "stdout",
       "text": [
        "\n",
        "writing D:/ATLData/LMB/LKM_Nov2013_monthly/hru_pct_diff\\mpi_echam5.sresb1.2081-2100.jul.animation.hru_pct_diff.nhru..."
       ]
      },
      {
       "output_type": "stream",
       "stream": "stdout",
       "text": [
        "\n",
        "writing D:/ATLData/LMB/LKM_Nov2013_monthly/hru_means\\mpi_echam5.sresa2.2081-2100.jul.animation.hru_means.nhru..."
       ]
      },
      {
       "output_type": "stream",
       "stream": "stdout",
       "text": [
        "\n",
        "writing D:/ATLData/LMB/LKM_Nov2013_monthly/hru_pct_diff\\mpi_echam5.sresa2.2081-2100.jul.animation.hru_pct_diff.nhru..."
       ]
      },
      {
       "output_type": "stream",
       "stream": "stdout",
       "text": [
        "\n",
        "reading D:/ATLData/LMB/LKM_Nov2013_monthly_animation_output\\mpi_echam5.sresa1b.2046-2065.jan.animation.nhru..."
       ]
      },
      {
       "output_type": "stream",
       "stream": "stdout",
       "text": [
        "\n",
        "reading D:/ATLData/LMB/LKM_Nov2013_monthly_animation_output\\mpi_echam5.sresa1b.2081-2100.jan.animation.nhru..."
       ]
      },
      {
       "output_type": "stream",
       "stream": "stdout",
       "text": [
        "\n",
        "reading D:/ATLData/LMB/LKM_Nov2013_monthly_animation_output\\mpi_echam5.sresa2.2046-2065.jan.animation.nhru..."
       ]
      },
      {
       "output_type": "stream",
       "stream": "stdout",
       "text": [
        "\n",
        "reading D:/ATLData/LMB/LKM_Nov2013_monthly_animation_output\\mpi_echam5.sresa2.2081-2100.jan.animation.nhru..."
       ]
      },
      {
       "output_type": "stream",
       "stream": "stdout",
       "text": [
        "\n",
        "reading D:/ATLData/LMB/LKM_Nov2013_monthly_animation_output\\mpi_echam5.sresb1.2046-2065.jan.animation.nhru..."
       ]
      },
      {
       "output_type": "stream",
       "stream": "stdout",
       "text": [
        "\n",
        "reading D:/ATLData/LMB/LKM_Nov2013_monthly_animation_output\\mpi_echam5.sresb1.2081-2100.jan.animation.nhru..."
       ]
      },
      {
       "output_type": "stream",
       "stream": "stdout",
       "text": [
        "\n",
        "reading D:/ATLData/LMB/LKM_Nov2013_monthly_animation_output\\mpi_echam5.20c3m.1981-2000.jan.animation.nhru..."
       ]
      },
      {
       "output_type": "stream",
       "stream": "stdout",
       "text": [
        "\n",
        "Warning, nan values found in percent differences. See error_file."
       ]
      },
      {
       "output_type": "stream",
       "stream": "stdout",
       "text": [
        "\n",
        "writing D:/ATLData/LMB/LKM_Nov2013_monthly/hru_means\\mpi_echam5.20c3m.1981-2000.jan.animation.hru_means.nhru...\n",
        "writing D:/ATLData/LMB/LKM_Nov2013_monthly/hru_means\\mpi_echam5.sresa1b.2046-2065.jan.animation.hru_means.nhru..."
       ]
      },
      {
       "output_type": "stream",
       "stream": "stdout",
       "text": [
        "\n",
        "writing D:/ATLData/LMB/LKM_Nov2013_monthly/hru_pct_diff\\mpi_echam5.sresa1b.2046-2065.jan.animation.hru_pct_diff.nhru..."
       ]
      },
      {
       "output_type": "stream",
       "stream": "stdout",
       "text": [
        "\n",
        "writing D:/ATLData/LMB/LKM_Nov2013_monthly/hru_means\\mpi_echam5.sresa2.2046-2065.jan.animation.hru_means.nhru..."
       ]
      },
      {
       "output_type": "stream",
       "stream": "stdout",
       "text": [
        "\n",
        "writing D:/ATLData/LMB/LKM_Nov2013_monthly/hru_pct_diff\\mpi_echam5.sresa2.2046-2065.jan.animation.hru_pct_diff.nhru..."
       ]
      },
      {
       "output_type": "stream",
       "stream": "stdout",
       "text": [
        "\n",
        "writing D:/ATLData/LMB/LKM_Nov2013_monthly/hru_means\\mpi_echam5.sresa1b.2081-2100.jan.animation.hru_means.nhru..."
       ]
      },
      {
       "output_type": "stream",
       "stream": "stdout",
       "text": [
        "\n",
        "writing D:/ATLData/LMB/LKM_Nov2013_monthly/hru_pct_diff\\mpi_echam5.sresa1b.2081-2100.jan.animation.hru_pct_diff.nhru..."
       ]
      },
      {
       "output_type": "stream",
       "stream": "stdout",
       "text": [
        "\n",
        "writing D:/ATLData/LMB/LKM_Nov2013_monthly/hru_means\\mpi_echam5.sresb1.2046-2065.jan.animation.hru_means.nhru..."
       ]
      },
      {
       "output_type": "stream",
       "stream": "stdout",
       "text": [
        "\n",
        "writing D:/ATLData/LMB/LKM_Nov2013_monthly/hru_pct_diff\\mpi_echam5.sresb1.2046-2065.jan.animation.hru_pct_diff.nhru..."
       ]
      },
      {
       "output_type": "stream",
       "stream": "stdout",
       "text": [
        "\n",
        "writing D:/ATLData/LMB/LKM_Nov2013_monthly/hru_means\\mpi_echam5.sresa2.2081-2100.jan.animation.hru_means.nhru..."
       ]
      },
      {
       "output_type": "stream",
       "stream": "stdout",
       "text": [
        "\n",
        "writing D:/ATLData/LMB/LKM_Nov2013_monthly/hru_pct_diff\\mpi_echam5.sresa2.2081-2100.jan.animation.hru_pct_diff.nhru..."
       ]
      },
      {
       "output_type": "stream",
       "stream": "stdout",
       "text": [
        "\n",
        "writing D:/ATLData/LMB/LKM_Nov2013_monthly/hru_means\\mpi_echam5.sresb1.2081-2100.jan.animation.hru_means.nhru..."
       ]
      },
      {
       "output_type": "stream",
       "stream": "stdout",
       "text": [
        "\n",
        "writing D:/ATLData/LMB/LKM_Nov2013_monthly/hru_pct_diff\\mpi_echam5.sresb1.2081-2100.jan.animation.hru_pct_diff.nhru..."
       ]
      },
      {
       "output_type": "stream",
       "stream": "stdout",
       "text": [
        "\n",
        "reading D:/ATLData/LMB/LKM_Nov2013_monthly_animation_output\\mpi_echam5.sresa1b.2046-2065.may.animation.nhru..."
       ]
      },
      {
       "output_type": "stream",
       "stream": "stdout",
       "text": [
        "\n",
        "reading D:/ATLData/LMB/LKM_Nov2013_monthly_animation_output\\mpi_echam5.sresa1b.2081-2100.may.animation.nhru..."
       ]
      },
      {
       "output_type": "stream",
       "stream": "stdout",
       "text": [
        "\n",
        "reading D:/ATLData/LMB/LKM_Nov2013_monthly_animation_output\\mpi_echam5.sresa2.2046-2065.may.animation.nhru..."
       ]
      },
      {
       "output_type": "stream",
       "stream": "stdout",
       "text": [
        "\n",
        "reading D:/ATLData/LMB/LKM_Nov2013_monthly_animation_output\\mpi_echam5.sresa2.2081-2100.may.animation.nhru..."
       ]
      },
      {
       "output_type": "stream",
       "stream": "stdout",
       "text": [
        "\n",
        "reading D:/ATLData/LMB/LKM_Nov2013_monthly_animation_output\\mpi_echam5.sresb1.2046-2065.may.animation.nhru..."
       ]
      },
      {
       "output_type": "stream",
       "stream": "stdout",
       "text": [
        "\n",
        "reading D:/ATLData/LMB/LKM_Nov2013_monthly_animation_output\\mpi_echam5.sresb1.2081-2100.may.animation.nhru..."
       ]
      },
      {
       "output_type": "stream",
       "stream": "stdout",
       "text": [
        "\n",
        "reading D:/ATLData/LMB/LKM_Nov2013_monthly_animation_output\\mpi_echam5.20c3m.1981-2000.may.animation.nhru..."
       ]
      },
      {
       "output_type": "stream",
       "stream": "stdout",
       "text": [
        "\n",
        "Warning, nan values found in percent differences. See error_file."
       ]
      },
      {
       "output_type": "stream",
       "stream": "stdout",
       "text": [
        "\n",
        "writing D:/ATLData/LMB/LKM_Nov2013_monthly/hru_means\\mpi_echam5.20c3m.1981-2000.may.animation.hru_means.nhru...\n",
        "writing D:/ATLData/LMB/LKM_Nov2013_monthly/hru_means\\mpi_echam5.sresa1b.2046-2065.may.animation.hru_means.nhru..."
       ]
      },
      {
       "output_type": "stream",
       "stream": "stdout",
       "text": [
        "\n",
        "writing D:/ATLData/LMB/LKM_Nov2013_monthly/hru_pct_diff\\mpi_echam5.sresa1b.2046-2065.may.animation.hru_pct_diff.nhru..."
       ]
      },
      {
       "output_type": "stream",
       "stream": "stdout",
       "text": [
        "\n",
        "writing D:/ATLData/LMB/LKM_Nov2013_monthly/hru_means\\mpi_echam5.sresa2.2046-2065.may.animation.hru_means.nhru..."
       ]
      },
      {
       "output_type": "stream",
       "stream": "stdout",
       "text": [
        "\n",
        "writing D:/ATLData/LMB/LKM_Nov2013_monthly/hru_pct_diff\\mpi_echam5.sresa2.2046-2065.may.animation.hru_pct_diff.nhru..."
       ]
      },
      {
       "output_type": "stream",
       "stream": "stdout",
       "text": [
        "\n",
        "writing D:/ATLData/LMB/LKM_Nov2013_monthly/hru_means\\mpi_echam5.sresa1b.2081-2100.may.animation.hru_means.nhru..."
       ]
      },
      {
       "output_type": "stream",
       "stream": "stdout",
       "text": [
        "\n",
        "writing D:/ATLData/LMB/LKM_Nov2013_monthly/hru_pct_diff\\mpi_echam5.sresa1b.2081-2100.may.animation.hru_pct_diff.nhru..."
       ]
      },
      {
       "output_type": "stream",
       "stream": "stdout",
       "text": [
        "\n",
        "writing D:/ATLData/LMB/LKM_Nov2013_monthly/hru_means\\mpi_echam5.sresb1.2081-2100.may.animation.hru_means.nhru..."
       ]
      },
      {
       "output_type": "stream",
       "stream": "stdout",
       "text": [
        "\n",
        "writing D:/ATLData/LMB/LKM_Nov2013_monthly/hru_pct_diff\\mpi_echam5.sresb1.2081-2100.may.animation.hru_pct_diff.nhru..."
       ]
      },
      {
       "output_type": "stream",
       "stream": "stdout",
       "text": [
        "\n",
        "writing D:/ATLData/LMB/LKM_Nov2013_monthly/hru_means\\mpi_echam5.sresa2.2081-2100.may.animation.hru_means.nhru..."
       ]
      },
      {
       "output_type": "stream",
       "stream": "stdout",
       "text": [
        "\n",
        "writing D:/ATLData/LMB/LKM_Nov2013_monthly/hru_pct_diff\\mpi_echam5.sresa2.2081-2100.may.animation.hru_pct_diff.nhru..."
       ]
      },
      {
       "output_type": "stream",
       "stream": "stdout",
       "text": [
        "\n",
        "writing D:/ATLData/LMB/LKM_Nov2013_monthly/hru_means\\mpi_echam5.sresb1.2046-2065.may.animation.hru_means.nhru..."
       ]
      },
      {
       "output_type": "stream",
       "stream": "stdout",
       "text": [
        "\n",
        "writing D:/ATLData/LMB/LKM_Nov2013_monthly/hru_pct_diff\\mpi_echam5.sresb1.2046-2065.may.animation.hru_pct_diff.nhru..."
       ]
      },
      {
       "output_type": "stream",
       "stream": "stdout",
       "text": [
        "\n",
        "reading D:/ATLData/LMB/LKM_Nov2013_monthly_animation_output\\mpi_echam5.sresa1b.2046-2065.nov.animation.nhru..."
       ]
      },
      {
       "output_type": "stream",
       "stream": "stdout",
       "text": [
        "\n",
        "reading D:/ATLData/LMB/LKM_Nov2013_monthly_animation_output\\mpi_echam5.sresa1b.2081-2100.nov.animation.nhru..."
       ]
      },
      {
       "output_type": "stream",
       "stream": "stdout",
       "text": [
        "\n",
        "reading D:/ATLData/LMB/LKM_Nov2013_monthly_animation_output\\mpi_echam5.sresa2.2046-2065.nov.animation.nhru..."
       ]
      },
      {
       "output_type": "stream",
       "stream": "stdout",
       "text": [
        "\n",
        "reading D:/ATLData/LMB/LKM_Nov2013_monthly_animation_output\\mpi_echam5.sresa2.2081-2100.nov.animation.nhru..."
       ]
      },
      {
       "output_type": "stream",
       "stream": "stdout",
       "text": [
        "\n",
        "reading D:/ATLData/LMB/LKM_Nov2013_monthly_animation_output\\mpi_echam5.sresb1.2046-2065.nov.animation.nhru..."
       ]
      },
      {
       "output_type": "stream",
       "stream": "stdout",
       "text": [
        "\n",
        "reading D:/ATLData/LMB/LKM_Nov2013_monthly_animation_output\\mpi_echam5.sresb1.2081-2100.nov.animation.nhru..."
       ]
      },
      {
       "output_type": "stream",
       "stream": "stdout",
       "text": [
        "\n",
        "reading D:/ATLData/LMB/LKM_Nov2013_monthly_animation_output\\mpi_echam5.20c3m.1981-2000.nov.animation.nhru..."
       ]
      },
      {
       "output_type": "stream",
       "stream": "stdout",
       "text": [
        "\n",
        "Warning, nan values found in percent differences. See error_file."
       ]
      },
      {
       "output_type": "stream",
       "stream": "stdout",
       "text": [
        "\n",
        "writing D:/ATLData/LMB/LKM_Nov2013_monthly/hru_means\\mpi_echam5.20c3m.1981-2000.nov.animation.hru_means.nhru...\n",
        "writing D:/ATLData/LMB/LKM_Nov2013_monthly/hru_means\\mpi_echam5.sresa2.2046-2065.nov.animation.hru_means.nhru..."
       ]
      },
      {
       "output_type": "stream",
       "stream": "stdout",
       "text": [
        "\n",
        "writing D:/ATLData/LMB/LKM_Nov2013_monthly/hru_pct_diff\\mpi_echam5.sresa2.2046-2065.nov.animation.hru_pct_diff.nhru..."
       ]
      },
      {
       "output_type": "stream",
       "stream": "stdout",
       "text": [
        "\n",
        "writing D:/ATLData/LMB/LKM_Nov2013_monthly/hru_means\\mpi_echam5.sresa2.2081-2100.nov.animation.hru_means.nhru..."
       ]
      },
      {
       "output_type": "stream",
       "stream": "stdout",
       "text": [
        "\n",
        "writing D:/ATLData/LMB/LKM_Nov2013_monthly/hru_pct_diff\\mpi_echam5.sresa2.2081-2100.nov.animation.hru_pct_diff.nhru..."
       ]
      },
      {
       "output_type": "stream",
       "stream": "stdout",
       "text": [
        "\n",
        "writing D:/ATLData/LMB/LKM_Nov2013_monthly/hru_means\\mpi_echam5.sresb1.2046-2065.nov.animation.hru_means.nhru..."
       ]
      },
      {
       "output_type": "stream",
       "stream": "stdout",
       "text": [
        "\n",
        "writing D:/ATLData/LMB/LKM_Nov2013_monthly/hru_pct_diff\\mpi_echam5.sresb1.2046-2065.nov.animation.hru_pct_diff.nhru..."
       ]
      },
      {
       "output_type": "stream",
       "stream": "stdout",
       "text": [
        "\n",
        "writing D:/ATLData/LMB/LKM_Nov2013_monthly/hru_means\\mpi_echam5.sresb1.2081-2100.nov.animation.hru_means.nhru..."
       ]
      },
      {
       "output_type": "stream",
       "stream": "stdout",
       "text": [
        "\n",
        "writing D:/ATLData/LMB/LKM_Nov2013_monthly/hru_pct_diff\\mpi_echam5.sresb1.2081-2100.nov.animation.hru_pct_diff.nhru..."
       ]
      },
      {
       "output_type": "stream",
       "stream": "stdout",
       "text": [
        "\n",
        "writing D:/ATLData/LMB/LKM_Nov2013_monthly/hru_means\\mpi_echam5.sresa1b.2081-2100.nov.animation.hru_means.nhru..."
       ]
      },
      {
       "output_type": "stream",
       "stream": "stdout",
       "text": [
        "\n",
        "writing D:/ATLData/LMB/LKM_Nov2013_monthly/hru_pct_diff\\mpi_echam5.sresa1b.2081-2100.nov.animation.hru_pct_diff.nhru..."
       ]
      },
      {
       "output_type": "stream",
       "stream": "stdout",
       "text": [
        "\n",
        "writing D:/ATLData/LMB/LKM_Nov2013_monthly/hru_means\\mpi_echam5.sresa1b.2046-2065.nov.animation.hru_means.nhru..."
       ]
      },
      {
       "output_type": "stream",
       "stream": "stdout",
       "text": [
        "\n",
        "writing D:/ATLData/LMB/LKM_Nov2013_monthly/hru_pct_diff\\mpi_echam5.sresa1b.2046-2065.nov.animation.hru_pct_diff.nhru..."
       ]
      },
      {
       "output_type": "stream",
       "stream": "stdout",
       "text": [
        "\n",
        "reading D:/ATLData/LMB/LKM_Nov2013_monthly_animation_output\\mpi_echam5.sresa1b.2046-2065.dec.animation.nhru..."
       ]
      },
      {
       "output_type": "stream",
       "stream": "stdout",
       "text": [
        "\n",
        "reading D:/ATLData/LMB/LKM_Nov2013_monthly_animation_output\\mpi_echam5.sresa1b.2081-2100.dec.animation.nhru..."
       ]
      },
      {
       "output_type": "stream",
       "stream": "stdout",
       "text": [
        "\n",
        "reading D:/ATLData/LMB/LKM_Nov2013_monthly_animation_output\\mpi_echam5.sresa2.2046-2065.dec.animation.nhru..."
       ]
      },
      {
       "output_type": "stream",
       "stream": "stdout",
       "text": [
        "\n",
        "reading D:/ATLData/LMB/LKM_Nov2013_monthly_animation_output\\mpi_echam5.sresa2.2081-2100.dec.animation.nhru..."
       ]
      },
      {
       "output_type": "stream",
       "stream": "stdout",
       "text": [
        "\n",
        "reading D:/ATLData/LMB/LKM_Nov2013_monthly_animation_output\\mpi_echam5.sresb1.2046-2065.dec.animation.nhru..."
       ]
      },
      {
       "output_type": "stream",
       "stream": "stdout",
       "text": [
        "\n",
        "reading D:/ATLData/LMB/LKM_Nov2013_monthly_animation_output\\mpi_echam5.sresb1.2081-2100.dec.animation.nhru..."
       ]
      },
      {
       "output_type": "stream",
       "stream": "stdout",
       "text": [
        "\n",
        "reading D:/ATLData/LMB/LKM_Nov2013_monthly_animation_output\\mpi_echam5.20c3m.1981-2000.dec.animation.nhru..."
       ]
      },
      {
       "output_type": "stream",
       "stream": "stdout",
       "text": [
        "\n",
        "Warning, nan values found in percent differences. See error_file."
       ]
      },
      {
       "output_type": "stream",
       "stream": "stdout",
       "text": [
        "\n",
        "writing D:/ATLData/LMB/LKM_Nov2013_monthly/hru_means\\mpi_echam5.20c3m.1981-2000.dec.animation.hru_means.nhru...\n",
        "writing D:/ATLData/LMB/LKM_Nov2013_monthly/hru_means\\mpi_echam5.sresa2.2081-2100.dec.animation.hru_means.nhru..."
       ]
      },
      {
       "output_type": "stream",
       "stream": "stdout",
       "text": [
        "\n",
        "writing D:/ATLData/LMB/LKM_Nov2013_monthly/hru_pct_diff\\mpi_echam5.sresa2.2081-2100.dec.animation.hru_pct_diff.nhru..."
       ]
      },
      {
       "output_type": "stream",
       "stream": "stdout",
       "text": [
        "\n",
        "writing D:/ATLData/LMB/LKM_Nov2013_monthly/hru_means\\mpi_echam5.sresb1.2046-2065.dec.animation.hru_means.nhru..."
       ]
      },
      {
       "output_type": "stream",
       "stream": "stdout",
       "text": [
        "\n",
        "writing D:/ATLData/LMB/LKM_Nov2013_monthly/hru_pct_diff\\mpi_echam5.sresb1.2046-2065.dec.animation.hru_pct_diff.nhru..."
       ]
      },
      {
       "output_type": "stream",
       "stream": "stdout",
       "text": [
        "\n",
        "writing D:/ATLData/LMB/LKM_Nov2013_monthly/hru_means\\mpi_echam5.sresa1b.2081-2100.dec.animation.hru_means.nhru..."
       ]
      },
      {
       "output_type": "stream",
       "stream": "stdout",
       "text": [
        "\n",
        "writing D:/ATLData/LMB/LKM_Nov2013_monthly/hru_pct_diff\\mpi_echam5.sresa1b.2081-2100.dec.animation.hru_pct_diff.nhru..."
       ]
      },
      {
       "output_type": "stream",
       "stream": "stdout",
       "text": [
        "\n",
        "writing D:/ATLData/LMB/LKM_Nov2013_monthly/hru_means\\mpi_echam5.sresa2.2046-2065.dec.animation.hru_means.nhru..."
       ]
      },
      {
       "output_type": "stream",
       "stream": "stdout",
       "text": [
        "\n",
        "writing D:/ATLData/LMB/LKM_Nov2013_monthly/hru_pct_diff\\mpi_echam5.sresa2.2046-2065.dec.animation.hru_pct_diff.nhru..."
       ]
      },
      {
       "output_type": "stream",
       "stream": "stdout",
       "text": [
        "\n",
        "writing D:/ATLData/LMB/LKM_Nov2013_monthly/hru_means\\mpi_echam5.sresb1.2081-2100.dec.animation.hru_means.nhru..."
       ]
      },
      {
       "output_type": "stream",
       "stream": "stdout",
       "text": [
        "\n",
        "writing D:/ATLData/LMB/LKM_Nov2013_monthly/hru_pct_diff\\mpi_echam5.sresb1.2081-2100.dec.animation.hru_pct_diff.nhru..."
       ]
      },
      {
       "output_type": "stream",
       "stream": "stdout",
       "text": [
        "\n",
        "writing D:/ATLData/LMB/LKM_Nov2013_monthly/hru_means\\mpi_echam5.sresa1b.2046-2065.dec.animation.hru_means.nhru..."
       ]
      },
      {
       "output_type": "stream",
       "stream": "stdout",
       "text": [
        "\n",
        "writing D:/ATLData/LMB/LKM_Nov2013_monthly/hru_pct_diff\\mpi_echam5.sresa1b.2046-2065.dec.animation.hru_pct_diff.nhru..."
       ]
      },
      {
       "output_type": "stream",
       "stream": "stdout",
       "text": [
        "\n",
        "reading D:/ATLData/LMB/LKM_Nov2013_monthly_animation_output\\mpi_echam5.sresa1b.2046-2065.oct.animation.nhru..."
       ]
      },
      {
       "output_type": "stream",
       "stream": "stdout",
       "text": [
        "\n",
        "reading D:/ATLData/LMB/LKM_Nov2013_monthly_animation_output\\mpi_echam5.sresa1b.2081-2100.oct.animation.nhru..."
       ]
      },
      {
       "output_type": "stream",
       "stream": "stdout",
       "text": [
        "\n",
        "reading D:/ATLData/LMB/LKM_Nov2013_monthly_animation_output\\mpi_echam5.sresa2.2046-2065.oct.animation.nhru..."
       ]
      },
      {
       "output_type": "stream",
       "stream": "stdout",
       "text": [
        "\n",
        "reading D:/ATLData/LMB/LKM_Nov2013_monthly_animation_output\\mpi_echam5.sresa2.2081-2100.oct.animation.nhru..."
       ]
      },
      {
       "output_type": "stream",
       "stream": "stdout",
       "text": [
        "\n",
        "reading D:/ATLData/LMB/LKM_Nov2013_monthly_animation_output\\mpi_echam5.sresb1.2046-2065.oct.animation.nhru..."
       ]
      },
      {
       "output_type": "stream",
       "stream": "stdout",
       "text": [
        "\n",
        "reading D:/ATLData/LMB/LKM_Nov2013_monthly_animation_output\\mpi_echam5.sresb1.2081-2100.oct.animation.nhru..."
       ]
      },
      {
       "output_type": "stream",
       "stream": "stdout",
       "text": [
        "\n",
        "reading D:/ATLData/LMB/LKM_Nov2013_monthly_animation_output\\mpi_echam5.20c3m.1981-2000.oct.animation.nhru..."
       ]
      },
      {
       "output_type": "stream",
       "stream": "stdout",
       "text": [
        "\n",
        "Warning, nan values found in percent differences. See error_file."
       ]
      },
      {
       "output_type": "stream",
       "stream": "stdout",
       "text": [
        "\n",
        "writing D:/ATLData/LMB/LKM_Nov2013_monthly/hru_means\\mpi_echam5.20c3m.1981-2000.oct.animation.hru_means.nhru...\n",
        "writing D:/ATLData/LMB/LKM_Nov2013_monthly/hru_means\\mpi_echam5.sresb1.2046-2065.oct.animation.hru_means.nhru..."
       ]
      },
      {
       "output_type": "stream",
       "stream": "stdout",
       "text": [
        "\n",
        "writing D:/ATLData/LMB/LKM_Nov2013_monthly/hru_pct_diff\\mpi_echam5.sresb1.2046-2065.oct.animation.hru_pct_diff.nhru..."
       ]
      },
      {
       "output_type": "stream",
       "stream": "stdout",
       "text": [
        "\n",
        "writing D:/ATLData/LMB/LKM_Nov2013_monthly/hru_means\\mpi_echam5.sresa2.2081-2100.oct.animation.hru_means.nhru..."
       ]
      },
      {
       "output_type": "stream",
       "stream": "stdout",
       "text": [
        "\n",
        "writing D:/ATLData/LMB/LKM_Nov2013_monthly/hru_pct_diff\\mpi_echam5.sresa2.2081-2100.oct.animation.hru_pct_diff.nhru..."
       ]
      },
      {
       "output_type": "stream",
       "stream": "stdout",
       "text": [
        "\n",
        "writing D:/ATLData/LMB/LKM_Nov2013_monthly/hru_means\\mpi_echam5.sresa1b.2081-2100.oct.animation.hru_means.nhru..."
       ]
      },
      {
       "output_type": "stream",
       "stream": "stdout",
       "text": [
        "\n",
        "writing D:/ATLData/LMB/LKM_Nov2013_monthly/hru_pct_diff\\mpi_echam5.sresa1b.2081-2100.oct.animation.hru_pct_diff.nhru..."
       ]
      },
      {
       "output_type": "stream",
       "stream": "stdout",
       "text": [
        "\n",
        "writing D:/ATLData/LMB/LKM_Nov2013_monthly/hru_means\\mpi_echam5.sresa2.2046-2065.oct.animation.hru_means.nhru..."
       ]
      },
      {
       "output_type": "stream",
       "stream": "stdout",
       "text": [
        "\n",
        "writing D:/ATLData/LMB/LKM_Nov2013_monthly/hru_pct_diff\\mpi_echam5.sresa2.2046-2065.oct.animation.hru_pct_diff.nhru..."
       ]
      },
      {
       "output_type": "stream",
       "stream": "stdout",
       "text": [
        "\n",
        "writing D:/ATLData/LMB/LKM_Nov2013_monthly/hru_means\\mpi_echam5.sresb1.2081-2100.oct.animation.hru_means.nhru..."
       ]
      },
      {
       "output_type": "stream",
       "stream": "stdout",
       "text": [
        "\n",
        "writing D:/ATLData/LMB/LKM_Nov2013_monthly/hru_pct_diff\\mpi_echam5.sresb1.2081-2100.oct.animation.hru_pct_diff.nhru..."
       ]
      },
      {
       "output_type": "stream",
       "stream": "stdout",
       "text": [
        "\n",
        "writing D:/ATLData/LMB/LKM_Nov2013_monthly/hru_means\\mpi_echam5.sresa1b.2046-2065.oct.animation.hru_means.nhru..."
       ]
      },
      {
       "output_type": "stream",
       "stream": "stdout",
       "text": [
        "\n",
        "writing D:/ATLData/LMB/LKM_Nov2013_monthly/hru_pct_diff\\mpi_echam5.sresa1b.2046-2065.oct.animation.hru_pct_diff.nhru..."
       ]
      },
      {
       "output_type": "stream",
       "stream": "stdout",
       "text": [
        "\n",
        "reading D:/ATLData/LMB/LKM_Nov2013_monthly_animation_output\\mpi_echam5.sresa1b.2046-2065.mar.animation.nhru..."
       ]
      },
      {
       "output_type": "stream",
       "stream": "stdout",
       "text": [
        "\n",
        "reading D:/ATLData/LMB/LKM_Nov2013_monthly_animation_output\\mpi_echam5.sresa1b.2081-2100.mar.animation.nhru..."
       ]
      },
      {
       "output_type": "stream",
       "stream": "stdout",
       "text": [
        "\n",
        "reading D:/ATLData/LMB/LKM_Nov2013_monthly_animation_output\\mpi_echam5.sresa2.2046-2065.mar.animation.nhru..."
       ]
      },
      {
       "output_type": "stream",
       "stream": "stdout",
       "text": [
        "\n",
        "reading D:/ATLData/LMB/LKM_Nov2013_monthly_animation_output\\mpi_echam5.sresa2.2081-2100.mar.animation.nhru..."
       ]
      },
      {
       "output_type": "stream",
       "stream": "stdout",
       "text": [
        "\n",
        "reading D:/ATLData/LMB/LKM_Nov2013_monthly_animation_output\\mpi_echam5.sresb1.2046-2065.mar.animation.nhru..."
       ]
      },
      {
       "output_type": "stream",
       "stream": "stdout",
       "text": [
        "\n",
        "reading D:/ATLData/LMB/LKM_Nov2013_monthly_animation_output\\mpi_echam5.sresb1.2081-2100.mar.animation.nhru..."
       ]
      },
      {
       "output_type": "stream",
       "stream": "stdout",
       "text": [
        "\n",
        "reading D:/ATLData/LMB/LKM_Nov2013_monthly_animation_output\\mpi_echam5.20c3m.1981-2000.mar.animation.nhru..."
       ]
      },
      {
       "output_type": "stream",
       "stream": "stdout",
       "text": [
        "\n",
        "Warning, nan values found in percent differences. See error_file."
       ]
      },
      {
       "output_type": "stream",
       "stream": "stdout",
       "text": [
        "\n",
        "writing D:/ATLData/LMB/LKM_Nov2013_monthly/hru_means\\mpi_echam5.20c3m.1981-2000.mar.animation.hru_means.nhru...\n",
        "writing D:/ATLData/LMB/LKM_Nov2013_monthly/hru_means\\mpi_echam5.sresa1b.2081-2100.mar.animation.hru_means.nhru..."
       ]
      },
      {
       "output_type": "stream",
       "stream": "stdout",
       "text": [
        "\n",
        "writing D:/ATLData/LMB/LKM_Nov2013_monthly/hru_pct_diff\\mpi_echam5.sresa1b.2081-2100.mar.animation.hru_pct_diff.nhru..."
       ]
      },
      {
       "output_type": "stream",
       "stream": "stdout",
       "text": [
        "\n",
        "writing D:/ATLData/LMB/LKM_Nov2013_monthly/hru_means\\mpi_echam5.sresa2.2046-2065.mar.animation.hru_means.nhru..."
       ]
      },
      {
       "output_type": "stream",
       "stream": "stdout",
       "text": [
        "\n",
        "writing D:/ATLData/LMB/LKM_Nov2013_monthly/hru_pct_diff\\mpi_echam5.sresa2.2046-2065.mar.animation.hru_pct_diff.nhru..."
       ]
      },
      {
       "output_type": "stream",
       "stream": "stdout",
       "text": [
        "\n",
        "writing D:/ATLData/LMB/LKM_Nov2013_monthly/hru_means\\mpi_echam5.sresa2.2081-2100.mar.animation.hru_means.nhru..."
       ]
      },
      {
       "output_type": "stream",
       "stream": "stdout",
       "text": [
        "\n",
        "writing D:/ATLData/LMB/LKM_Nov2013_monthly/hru_pct_diff\\mpi_echam5.sresa2.2081-2100.mar.animation.hru_pct_diff.nhru..."
       ]
      },
      {
       "output_type": "stream",
       "stream": "stdout",
       "text": [
        "\n",
        "writing D:/ATLData/LMB/LKM_Nov2013_monthly/hru_means\\mpi_echam5.sresb1.2046-2065.mar.animation.hru_means.nhru..."
       ]
      },
      {
       "output_type": "stream",
       "stream": "stdout",
       "text": [
        "\n",
        "writing D:/ATLData/LMB/LKM_Nov2013_monthly/hru_pct_diff\\mpi_echam5.sresb1.2046-2065.mar.animation.hru_pct_diff.nhru..."
       ]
      },
      {
       "output_type": "stream",
       "stream": "stdout",
       "text": [
        "\n",
        "writing D:/ATLData/LMB/LKM_Nov2013_monthly/hru_means\\mpi_echam5.sresb1.2081-2100.mar.animation.hru_means.nhru..."
       ]
      },
      {
       "output_type": "stream",
       "stream": "stdout",
       "text": [
        "\n",
        "writing D:/ATLData/LMB/LKM_Nov2013_monthly/hru_pct_diff\\mpi_echam5.sresb1.2081-2100.mar.animation.hru_pct_diff.nhru..."
       ]
      },
      {
       "output_type": "stream",
       "stream": "stdout",
       "text": [
        "\n",
        "writing D:/ATLData/LMB/LKM_Nov2013_monthly/hru_means\\mpi_echam5.sresa1b.2046-2065.mar.animation.hru_means.nhru..."
       ]
      },
      {
       "output_type": "stream",
       "stream": "stdout",
       "text": [
        "\n",
        "writing D:/ATLData/LMB/LKM_Nov2013_monthly/hru_pct_diff\\mpi_echam5.sresa1b.2046-2065.mar.animation.hru_pct_diff.nhru..."
       ]
      },
      {
       "output_type": "stream",
       "stream": "stdout",
       "text": [
        "\n",
        "reading D:/ATLData/LMB/LKM_Nov2013_monthly_animation_output\\mpi_echam5.sresa1b.2046-2065.feb.animation.nhru..."
       ]
      },
      {
       "output_type": "stream",
       "stream": "stdout",
       "text": [
        "\n",
        "reading D:/ATLData/LMB/LKM_Nov2013_monthly_animation_output\\mpi_echam5.sresa1b.2081-2100.feb.animation.nhru..."
       ]
      },
      {
       "output_type": "stream",
       "stream": "stdout",
       "text": [
        "\n",
        "reading D:/ATLData/LMB/LKM_Nov2013_monthly_animation_output\\mpi_echam5.sresa2.2046-2065.feb.animation.nhru..."
       ]
      },
      {
       "output_type": "stream",
       "stream": "stdout",
       "text": [
        "\n",
        "reading D:/ATLData/LMB/LKM_Nov2013_monthly_animation_output\\mpi_echam5.sresa2.2081-2100.feb.animation.nhru..."
       ]
      },
      {
       "output_type": "stream",
       "stream": "stdout",
       "text": [
        "\n",
        "reading D:/ATLData/LMB/LKM_Nov2013_monthly_animation_output\\mpi_echam5.sresb1.2046-2065.feb.animation.nhru..."
       ]
      },
      {
       "output_type": "stream",
       "stream": "stdout",
       "text": [
        "\n",
        "reading D:/ATLData/LMB/LKM_Nov2013_monthly_animation_output\\mpi_echam5.sresb1.2081-2100.feb.animation.nhru..."
       ]
      },
      {
       "output_type": "stream",
       "stream": "stdout",
       "text": [
        "\n",
        "reading D:/ATLData/LMB/LKM_Nov2013_monthly_animation_output\\mpi_echam5.20c3m.1981-2000.feb.animation.nhru..."
       ]
      },
      {
       "output_type": "stream",
       "stream": "stdout",
       "text": [
        "\n",
        "Warning, nan values found in percent differences. See error_file."
       ]
      },
      {
       "output_type": "stream",
       "stream": "stdout",
       "text": [
        "\n",
        "writing D:/ATLData/LMB/LKM_Nov2013_monthly/hru_means\\mpi_echam5.20c3m.1981-2000.feb.animation.hru_means.nhru...\n",
        "writing D:/ATLData/LMB/LKM_Nov2013_monthly/hru_means\\mpi_echam5.sresa1b.2046-2065.feb.animation.hru_means.nhru..."
       ]
      },
      {
       "output_type": "stream",
       "stream": "stdout",
       "text": [
        "\n",
        "writing D:/ATLData/LMB/LKM_Nov2013_monthly/hru_pct_diff\\mpi_echam5.sresa1b.2046-2065.feb.animation.hru_pct_diff.nhru..."
       ]
      },
      {
       "output_type": "stream",
       "stream": "stdout",
       "text": [
        "\n",
        "writing D:/ATLData/LMB/LKM_Nov2013_monthly/hru_means\\mpi_echam5.sresa1b.2081-2100.feb.animation.hru_means.nhru..."
       ]
      },
      {
       "output_type": "stream",
       "stream": "stdout",
       "text": [
        "\n",
        "writing D:/ATLData/LMB/LKM_Nov2013_monthly/hru_pct_diff\\mpi_echam5.sresa1b.2081-2100.feb.animation.hru_pct_diff.nhru..."
       ]
      },
      {
       "output_type": "stream",
       "stream": "stdout",
       "text": [
        "\n",
        "writing D:/ATLData/LMB/LKM_Nov2013_monthly/hru_means\\mpi_echam5.sresa2.2046-2065.feb.animation.hru_means.nhru..."
       ]
      },
      {
       "output_type": "stream",
       "stream": "stdout",
       "text": [
        "\n",
        "writing D:/ATLData/LMB/LKM_Nov2013_monthly/hru_pct_diff\\mpi_echam5.sresa2.2046-2065.feb.animation.hru_pct_diff.nhru..."
       ]
      },
      {
       "output_type": "stream",
       "stream": "stdout",
       "text": [
        "\n",
        "writing D:/ATLData/LMB/LKM_Nov2013_monthly/hru_means\\mpi_echam5.sresb1.2046-2065.feb.animation.hru_means.nhru..."
       ]
      },
      {
       "output_type": "stream",
       "stream": "stdout",
       "text": [
        "\n",
        "writing D:/ATLData/LMB/LKM_Nov2013_monthly/hru_pct_diff\\mpi_echam5.sresb1.2046-2065.feb.animation.hru_pct_diff.nhru..."
       ]
      },
      {
       "output_type": "stream",
       "stream": "stdout",
       "text": [
        "\n",
        "writing D:/ATLData/LMB/LKM_Nov2013_monthly/hru_means\\mpi_echam5.sresa2.2081-2100.feb.animation.hru_means.nhru..."
       ]
      },
      {
       "output_type": "stream",
       "stream": "stdout",
       "text": [
        "\n",
        "writing D:/ATLData/LMB/LKM_Nov2013_monthly/hru_pct_diff\\mpi_echam5.sresa2.2081-2100.feb.animation.hru_pct_diff.nhru..."
       ]
      },
      {
       "output_type": "stream",
       "stream": "stdout",
       "text": [
        "\n",
        "writing D:/ATLData/LMB/LKM_Nov2013_monthly/hru_means\\mpi_echam5.sresb1.2081-2100.feb.animation.hru_means.nhru..."
       ]
      },
      {
       "output_type": "stream",
       "stream": "stdout",
       "text": [
        "\n",
        "writing D:/ATLData/LMB/LKM_Nov2013_monthly/hru_pct_diff\\mpi_echam5.sresb1.2081-2100.feb.animation.hru_pct_diff.nhru..."
       ]
      },
      {
       "output_type": "stream",
       "stream": "stdout",
       "text": [
        "\n",
        "reading D:/ATLData/LMB/LKM_Nov2013_monthly_animation_output\\mpi_echam5.sresa1b.2046-2065.aug.animation.nhru..."
       ]
      },
      {
       "output_type": "stream",
       "stream": "stdout",
       "text": [
        "\n",
        "reading D:/ATLData/LMB/LKM_Nov2013_monthly_animation_output\\mpi_echam5.sresa1b.2081-2100.aug.animation.nhru..."
       ]
      },
      {
       "output_type": "stream",
       "stream": "stdout",
       "text": [
        "\n",
        "reading D:/ATLData/LMB/LKM_Nov2013_monthly_animation_output\\mpi_echam5.sresa2.2046-2065.aug.animation.nhru..."
       ]
      },
      {
       "output_type": "stream",
       "stream": "stdout",
       "text": [
        "\n",
        "reading D:/ATLData/LMB/LKM_Nov2013_monthly_animation_output\\mpi_echam5.sresa2.2081-2100.aug.animation.nhru..."
       ]
      },
      {
       "output_type": "stream",
       "stream": "stdout",
       "text": [
        "\n",
        "reading D:/ATLData/LMB/LKM_Nov2013_monthly_animation_output\\mpi_echam5.sresb1.2046-2065.aug.animation.nhru..."
       ]
      },
      {
       "output_type": "stream",
       "stream": "stdout",
       "text": [
        "\n",
        "reading D:/ATLData/LMB/LKM_Nov2013_monthly_animation_output\\mpi_echam5.sresb1.2081-2100.aug.animation.nhru..."
       ]
      },
      {
       "output_type": "stream",
       "stream": "stdout",
       "text": [
        "\n",
        "reading D:/ATLData/LMB/LKM_Nov2013_monthly_animation_output\\mpi_echam5.20c3m.1981-2000.aug.animation.nhru..."
       ]
      },
      {
       "output_type": "stream",
       "stream": "stdout",
       "text": [
        "\n",
        "Warning, nan values found in percent differences. See error_file."
       ]
      },
      {
       "output_type": "stream",
       "stream": "stdout",
       "text": [
        "\n",
        "writing D:/ATLData/LMB/LKM_Nov2013_monthly/hru_means\\mpi_echam5.20c3m.1981-2000.aug.animation.hru_means.nhru...\n",
        "writing D:/ATLData/LMB/LKM_Nov2013_monthly/hru_means\\mpi_echam5.sresb1.2046-2065.aug.animation.hru_means.nhru..."
       ]
      },
      {
       "output_type": "stream",
       "stream": "stdout",
       "text": [
        "\n",
        "writing D:/ATLData/LMB/LKM_Nov2013_monthly/hru_pct_diff\\mpi_echam5.sresb1.2046-2065.aug.animation.hru_pct_diff.nhru..."
       ]
      },
      {
       "output_type": "stream",
       "stream": "stdout",
       "text": [
        "\n",
        "writing D:/ATLData/LMB/LKM_Nov2013_monthly/hru_means\\mpi_echam5.sresb1.2081-2100.aug.animation.hru_means.nhru..."
       ]
      },
      {
       "output_type": "stream",
       "stream": "stdout",
       "text": [
        "\n",
        "writing D:/ATLData/LMB/LKM_Nov2013_monthly/hru_pct_diff\\mpi_echam5.sresb1.2081-2100.aug.animation.hru_pct_diff.nhru..."
       ]
      },
      {
       "output_type": "stream",
       "stream": "stdout",
       "text": [
        "\n",
        "writing D:/ATLData/LMB/LKM_Nov2013_monthly/hru_means\\mpi_echam5.sresa1b.2046-2065.aug.animation.hru_means.nhru..."
       ]
      },
      {
       "output_type": "stream",
       "stream": "stdout",
       "text": [
        "\n",
        "writing D:/ATLData/LMB/LKM_Nov2013_monthly/hru_pct_diff\\mpi_echam5.sresa1b.2046-2065.aug.animation.hru_pct_diff.nhru..."
       ]
      },
      {
       "output_type": "stream",
       "stream": "stdout",
       "text": [
        "\n",
        "writing D:/ATLData/LMB/LKM_Nov2013_monthly/hru_means\\mpi_echam5.sresa2.2046-2065.aug.animation.hru_means.nhru..."
       ]
      },
      {
       "output_type": "stream",
       "stream": "stdout",
       "text": [
        "\n",
        "writing D:/ATLData/LMB/LKM_Nov2013_monthly/hru_pct_diff\\mpi_echam5.sresa2.2046-2065.aug.animation.hru_pct_diff.nhru..."
       ]
      },
      {
       "output_type": "stream",
       "stream": "stdout",
       "text": [
        "\n",
        "writing D:/ATLData/LMB/LKM_Nov2013_monthly/hru_means\\mpi_echam5.sresa1b.2081-2100.aug.animation.hru_means.nhru..."
       ]
      },
      {
       "output_type": "stream",
       "stream": "stdout",
       "text": [
        "\n",
        "writing D:/ATLData/LMB/LKM_Nov2013_monthly/hru_pct_diff\\mpi_echam5.sresa1b.2081-2100.aug.animation.hru_pct_diff.nhru..."
       ]
      },
      {
       "output_type": "stream",
       "stream": "stdout",
       "text": [
        "\n",
        "writing D:/ATLData/LMB/LKM_Nov2013_monthly/hru_means\\mpi_echam5.sresa2.2081-2100.aug.animation.hru_means.nhru..."
       ]
      },
      {
       "output_type": "stream",
       "stream": "stdout",
       "text": [
        "\n",
        "writing D:/ATLData/LMB/LKM_Nov2013_monthly/hru_pct_diff\\mpi_echam5.sresa2.2081-2100.aug.animation.hru_pct_diff.nhru..."
       ]
      },
      {
       "output_type": "stream",
       "stream": "stdout",
       "text": [
        "\n",
        "reading D:/ATLData/LMB/LKM_Nov2013_monthly_animation_output\\mpi_echam5.sresa1b.2046-2065.sep.animation.nhru..."
       ]
      },
      {
       "output_type": "stream",
       "stream": "stdout",
       "text": [
        "\n",
        "reading D:/ATLData/LMB/LKM_Nov2013_monthly_animation_output\\mpi_echam5.sresa1b.2081-2100.sep.animation.nhru..."
       ]
      },
      {
       "output_type": "stream",
       "stream": "stdout",
       "text": [
        "\n",
        "reading D:/ATLData/LMB/LKM_Nov2013_monthly_animation_output\\mpi_echam5.sresa2.2046-2065.sep.animation.nhru..."
       ]
      },
      {
       "output_type": "stream",
       "stream": "stdout",
       "text": [
        "\n",
        "reading D:/ATLData/LMB/LKM_Nov2013_monthly_animation_output\\mpi_echam5.sresa2.2081-2100.sep.animation.nhru..."
       ]
      },
      {
       "output_type": "stream",
       "stream": "stdout",
       "text": [
        "\n",
        "reading D:/ATLData/LMB/LKM_Nov2013_monthly_animation_output\\mpi_echam5.sresb1.2046-2065.sep.animation.nhru..."
       ]
      },
      {
       "output_type": "stream",
       "stream": "stdout",
       "text": [
        "\n",
        "reading D:/ATLData/LMB/LKM_Nov2013_monthly_animation_output\\mpi_echam5.sresb1.2081-2100.sep.animation.nhru..."
       ]
      },
      {
       "output_type": "stream",
       "stream": "stdout",
       "text": [
        "\n",
        "reading D:/ATLData/LMB/LKM_Nov2013_monthly_animation_output\\mpi_echam5.20c3m.1981-2000.sep.animation.nhru..."
       ]
      },
      {
       "output_type": "stream",
       "stream": "stdout",
       "text": [
        "\n",
        "Warning, nan values found in percent differences. See error_file."
       ]
      },
      {
       "output_type": "stream",
       "stream": "stdout",
       "text": [
        "\n",
        "writing D:/ATLData/LMB/LKM_Nov2013_monthly/hru_means\\mpi_echam5.20c3m.1981-2000.sep.animation.hru_means.nhru...\n",
        "writing D:/ATLData/LMB/LKM_Nov2013_monthly/hru_means\\mpi_echam5.sresa2.2081-2100.sep.animation.hru_means.nhru..."
       ]
      },
      {
       "output_type": "stream",
       "stream": "stdout",
       "text": [
        "\n",
        "writing D:/ATLData/LMB/LKM_Nov2013_monthly/hru_pct_diff\\mpi_echam5.sresa2.2081-2100.sep.animation.hru_pct_diff.nhru..."
       ]
      },
      {
       "output_type": "stream",
       "stream": "stdout",
       "text": [
        "\n",
        "writing D:/ATLData/LMB/LKM_Nov2013_monthly/hru_means\\mpi_echam5.sresb1.2081-2100.sep.animation.hru_means.nhru..."
       ]
      },
      {
       "output_type": "stream",
       "stream": "stdout",
       "text": [
        "\n",
        "writing D:/ATLData/LMB/LKM_Nov2013_monthly/hru_pct_diff\\mpi_echam5.sresb1.2081-2100.sep.animation.hru_pct_diff.nhru..."
       ]
      },
      {
       "output_type": "stream",
       "stream": "stdout",
       "text": [
        "\n",
        "writing D:/ATLData/LMB/LKM_Nov2013_monthly/hru_means\\mpi_echam5.sresa1b.2081-2100.sep.animation.hru_means.nhru..."
       ]
      },
      {
       "output_type": "stream",
       "stream": "stdout",
       "text": [
        "\n",
        "writing D:/ATLData/LMB/LKM_Nov2013_monthly/hru_pct_diff\\mpi_echam5.sresa1b.2081-2100.sep.animation.hru_pct_diff.nhru..."
       ]
      },
      {
       "output_type": "stream",
       "stream": "stdout",
       "text": [
        "\n",
        "writing D:/ATLData/LMB/LKM_Nov2013_monthly/hru_means\\mpi_echam5.sresa1b.2046-2065.sep.animation.hru_means.nhru..."
       ]
      },
      {
       "output_type": "stream",
       "stream": "stdout",
       "text": [
        "\n",
        "writing D:/ATLData/LMB/LKM_Nov2013_monthly/hru_pct_diff\\mpi_echam5.sresa1b.2046-2065.sep.animation.hru_pct_diff.nhru..."
       ]
      },
      {
       "output_type": "stream",
       "stream": "stdout",
       "text": [
        "\n",
        "writing D:/ATLData/LMB/LKM_Nov2013_monthly/hru_means\\mpi_echam5.sresb1.2046-2065.sep.animation.hru_means.nhru..."
       ]
      },
      {
       "output_type": "stream",
       "stream": "stdout",
       "text": [
        "\n",
        "writing D:/ATLData/LMB/LKM_Nov2013_monthly/hru_pct_diff\\mpi_echam5.sresb1.2046-2065.sep.animation.hru_pct_diff.nhru..."
       ]
      },
      {
       "output_type": "stream",
       "stream": "stdout",
       "text": [
        "\n",
        "writing D:/ATLData/LMB/LKM_Nov2013_monthly/hru_means\\mpi_echam5.sresa2.2046-2065.sep.animation.hru_means.nhru..."
       ]
      },
      {
       "output_type": "stream",
       "stream": "stdout",
       "text": [
        "\n",
        "writing D:/ATLData/LMB/LKM_Nov2013_monthly/hru_pct_diff\\mpi_echam5.sresa2.2046-2065.sep.animation.hru_pct_diff.nhru..."
       ]
      },
      {
       "output_type": "stream",
       "stream": "stdout",
       "text": [
        "\n",
        "reading D:/ATLData/LMB/LKM_Nov2013_monthly_animation_output\\mpi_echam5.sresa1b.2046-2065.apr.animation.nhru..."
       ]
      },
      {
       "output_type": "stream",
       "stream": "stdout",
       "text": [
        "\n",
        "reading D:/ATLData/LMB/LKM_Nov2013_monthly_animation_output\\mpi_echam5.sresa1b.2081-2100.apr.animation.nhru..."
       ]
      },
      {
       "output_type": "stream",
       "stream": "stdout",
       "text": [
        "\n",
        "reading D:/ATLData/LMB/LKM_Nov2013_monthly_animation_output\\mpi_echam5.sresa2.2046-2065.apr.animation.nhru..."
       ]
      },
      {
       "output_type": "stream",
       "stream": "stdout",
       "text": [
        "\n",
        "reading D:/ATLData/LMB/LKM_Nov2013_monthly_animation_output\\mpi_echam5.sresa2.2081-2100.apr.animation.nhru..."
       ]
      },
      {
       "output_type": "stream",
       "stream": "stdout",
       "text": [
        "\n",
        "reading D:/ATLData/LMB/LKM_Nov2013_monthly_animation_output\\mpi_echam5.sresb1.2046-2065.apr.animation.nhru..."
       ]
      },
      {
       "output_type": "stream",
       "stream": "stdout",
       "text": [
        "\n",
        "reading D:/ATLData/LMB/LKM_Nov2013_monthly_animation_output\\mpi_echam5.sresb1.2081-2100.apr.animation.nhru..."
       ]
      },
      {
       "output_type": "stream",
       "stream": "stdout",
       "text": [
        "\n",
        "reading D:/ATLData/LMB/LKM_Nov2013_monthly_animation_output\\mpi_echam5.20c3m.1981-2000.apr.animation.nhru..."
       ]
      },
      {
       "output_type": "stream",
       "stream": "stdout",
       "text": [
        "\n",
        "Warning, nan values found in percent differences. See error_file."
       ]
      },
      {
       "output_type": "stream",
       "stream": "stdout",
       "text": [
        "\n",
        "writing D:/ATLData/LMB/LKM_Nov2013_monthly/hru_means\\mpi_echam5.20c3m.1981-2000.apr.animation.hru_means.nhru...\n",
        "writing D:/ATLData/LMB/LKM_Nov2013_monthly/hru_means\\mpi_echam5.sresb1.2081-2100.apr.animation.hru_means.nhru..."
       ]
      },
      {
       "output_type": "stream",
       "stream": "stdout",
       "text": [
        "\n",
        "writing D:/ATLData/LMB/LKM_Nov2013_monthly/hru_pct_diff\\mpi_echam5.sresb1.2081-2100.apr.animation.hru_pct_diff.nhru..."
       ]
      },
      {
       "output_type": "stream",
       "stream": "stdout",
       "text": [
        "\n",
        "writing D:/ATLData/LMB/LKM_Nov2013_monthly/hru_means\\mpi_echam5.sresa2.2081-2100.apr.animation.hru_means.nhru..."
       ]
      },
      {
       "output_type": "stream",
       "stream": "stdout",
       "text": [
        "\n",
        "writing D:/ATLData/LMB/LKM_Nov2013_monthly/hru_pct_diff\\mpi_echam5.sresa2.2081-2100.apr.animation.hru_pct_diff.nhru..."
       ]
      },
      {
       "output_type": "stream",
       "stream": "stdout",
       "text": [
        "\n",
        "writing D:/ATLData/LMB/LKM_Nov2013_monthly/hru_means\\mpi_echam5.sresb1.2046-2065.apr.animation.hru_means.nhru..."
       ]
      },
      {
       "output_type": "stream",
       "stream": "stdout",
       "text": [
        "\n",
        "writing D:/ATLData/LMB/LKM_Nov2013_monthly/hru_pct_diff\\mpi_echam5.sresb1.2046-2065.apr.animation.hru_pct_diff.nhru..."
       ]
      },
      {
       "output_type": "stream",
       "stream": "stdout",
       "text": [
        "\n",
        "writing D:/ATLData/LMB/LKM_Nov2013_monthly/hru_means\\mpi_echam5.sresa2.2046-2065.apr.animation.hru_means.nhru..."
       ]
      },
      {
       "output_type": "stream",
       "stream": "stdout",
       "text": [
        "\n",
        "writing D:/ATLData/LMB/LKM_Nov2013_monthly/hru_pct_diff\\mpi_echam5.sresa2.2046-2065.apr.animation.hru_pct_diff.nhru..."
       ]
      },
      {
       "output_type": "stream",
       "stream": "stdout",
       "text": [
        "\n",
        "writing D:/ATLData/LMB/LKM_Nov2013_monthly/hru_means\\mpi_echam5.sresa1b.2081-2100.apr.animation.hru_means.nhru..."
       ]
      },
      {
       "output_type": "stream",
       "stream": "stdout",
       "text": [
        "\n",
        "writing D:/ATLData/LMB/LKM_Nov2013_monthly/hru_pct_diff\\mpi_echam5.sresa1b.2081-2100.apr.animation.hru_pct_diff.nhru..."
       ]
      },
      {
       "output_type": "stream",
       "stream": "stdout",
       "text": [
        "\n",
        "writing D:/ATLData/LMB/LKM_Nov2013_monthly/hru_means\\mpi_echam5.sresa1b.2046-2065.apr.animation.hru_means.nhru..."
       ]
      },
      {
       "output_type": "stream",
       "stream": "stdout",
       "text": [
        "\n",
        "writing D:/ATLData/LMB/LKM_Nov2013_monthly/hru_pct_diff\\mpi_echam5.sresa1b.2046-2065.apr.animation.hru_pct_diff.nhru..."
       ]
      },
      {
       "output_type": "stream",
       "stream": "stdout",
       "text": [
        "\n",
        "reading D:/ATLData/LMB/LKM_Nov2013_monthly_animation_output\\mpi_echam5.sresa1b.2046-2065.jun.animation.nhru..."
       ]
      },
      {
       "output_type": "stream",
       "stream": "stdout",
       "text": [
        "\n",
        "reading D:/ATLData/LMB/LKM_Nov2013_monthly_animation_output\\mpi_echam5.sresa1b.2081-2100.jun.animation.nhru..."
       ]
      },
      {
       "output_type": "stream",
       "stream": "stdout",
       "text": [
        "\n",
        "reading D:/ATLData/LMB/LKM_Nov2013_monthly_animation_output\\mpi_echam5.sresa2.2046-2065.jun.animation.nhru..."
       ]
      },
      {
       "output_type": "stream",
       "stream": "stdout",
       "text": [
        "\n",
        "reading D:/ATLData/LMB/LKM_Nov2013_monthly_animation_output\\mpi_echam5.sresa2.2081-2100.jun.animation.nhru..."
       ]
      },
      {
       "output_type": "stream",
       "stream": "stdout",
       "text": [
        "\n",
        "reading D:/ATLData/LMB/LKM_Nov2013_monthly_animation_output\\mpi_echam5.sresb1.2046-2065.jun.animation.nhru..."
       ]
      },
      {
       "output_type": "stream",
       "stream": "stdout",
       "text": [
        "\n",
        "reading D:/ATLData/LMB/LKM_Nov2013_monthly_animation_output\\mpi_echam5.sresb1.2081-2100.jun.animation.nhru..."
       ]
      },
      {
       "output_type": "stream",
       "stream": "stdout",
       "text": [
        "\n",
        "reading D:/ATLData/LMB/LKM_Nov2013_monthly_animation_output\\mpi_echam5.20c3m.1981-2000.jun.animation.nhru..."
       ]
      },
      {
       "output_type": "stream",
       "stream": "stdout",
       "text": [
        "\n",
        "Warning, nan values found in percent differences. See error_file."
       ]
      },
      {
       "output_type": "stream",
       "stream": "stdout",
       "text": [
        "\n",
        "writing D:/ATLData/LMB/LKM_Nov2013_monthly/hru_means\\mpi_echam5.20c3m.1981-2000.jun.animation.hru_means.nhru...\n",
        "writing D:/ATLData/LMB/LKM_Nov2013_monthly/hru_means\\mpi_echam5.sresa2.2081-2100.jun.animation.hru_means.nhru..."
       ]
      },
      {
       "output_type": "stream",
       "stream": "stdout",
       "text": [
        "\n",
        "writing D:/ATLData/LMB/LKM_Nov2013_monthly/hru_pct_diff\\mpi_echam5.sresa2.2081-2100.jun.animation.hru_pct_diff.nhru..."
       ]
      },
      {
       "output_type": "stream",
       "stream": "stdout",
       "text": [
        "\n",
        "writing D:/ATLData/LMB/LKM_Nov2013_monthly/hru_means\\mpi_echam5.sresa2.2046-2065.jun.animation.hru_means.nhru..."
       ]
      },
      {
       "output_type": "stream",
       "stream": "stdout",
       "text": [
        "\n",
        "writing D:/ATLData/LMB/LKM_Nov2013_monthly/hru_pct_diff\\mpi_echam5.sresa2.2046-2065.jun.animation.hru_pct_diff.nhru..."
       ]
      },
      {
       "output_type": "stream",
       "stream": "stdout",
       "text": [
        "\n",
        "writing D:/ATLData/LMB/LKM_Nov2013_monthly/hru_means\\mpi_echam5.sresb1.2081-2100.jun.animation.hru_means.nhru..."
       ]
      },
      {
       "output_type": "stream",
       "stream": "stdout",
       "text": [
        "\n",
        "writing D:/ATLData/LMB/LKM_Nov2013_monthly/hru_pct_diff\\mpi_echam5.sresb1.2081-2100.jun.animation.hru_pct_diff.nhru..."
       ]
      },
      {
       "output_type": "stream",
       "stream": "stdout",
       "text": [
        "\n",
        "writing D:/ATLData/LMB/LKM_Nov2013_monthly/hru_means\\mpi_echam5.sresa1b.2046-2065.jun.animation.hru_means.nhru..."
       ]
      },
      {
       "output_type": "stream",
       "stream": "stdout",
       "text": [
        "\n",
        "writing D:/ATLData/LMB/LKM_Nov2013_monthly/hru_pct_diff\\mpi_echam5.sresa1b.2046-2065.jun.animation.hru_pct_diff.nhru..."
       ]
      },
      {
       "output_type": "stream",
       "stream": "stdout",
       "text": [
        "\n",
        "writing D:/ATLData/LMB/LKM_Nov2013_monthly/hru_means\\mpi_echam5.sresa1b.2081-2100.jun.animation.hru_means.nhru..."
       ]
      },
      {
       "output_type": "stream",
       "stream": "stdout",
       "text": [
        "\n",
        "writing D:/ATLData/LMB/LKM_Nov2013_monthly/hru_pct_diff\\mpi_echam5.sresa1b.2081-2100.jun.animation.hru_pct_diff.nhru..."
       ]
      },
      {
       "output_type": "stream",
       "stream": "stdout",
       "text": [
        "\n",
        "writing D:/ATLData/LMB/LKM_Nov2013_monthly/hru_means\\mpi_echam5.sresb1.2046-2065.jun.animation.hru_means.nhru..."
       ]
      },
      {
       "output_type": "stream",
       "stream": "stdout",
       "text": [
        "\n",
        "writing D:/ATLData/LMB/LKM_Nov2013_monthly/hru_pct_diff\\mpi_echam5.sresb1.2046-2065.jun.animation.hru_pct_diff.nhru..."
       ]
      },
      {
       "output_type": "stream",
       "stream": "stdout",
       "text": [
        "\n",
        "reading D:/ATLData/LMB/LKM_Nov2013_monthly_animation_output\\mpi_echam5.sresa1b.2046-2065.jul.animation.nhru..."
       ]
      },
      {
       "output_type": "stream",
       "stream": "stdout",
       "text": [
        "\n",
        "reading D:/ATLData/LMB/LKM_Nov2013_monthly_animation_output\\mpi_echam5.sresa1b.2081-2100.jul.animation.nhru..."
       ]
      },
      {
       "output_type": "stream",
       "stream": "stdout",
       "text": [
        "\n",
        "reading D:/ATLData/LMB/LKM_Nov2013_monthly_animation_output\\mpi_echam5.sresa2.2046-2065.jul.animation.nhru..."
       ]
      },
      {
       "output_type": "stream",
       "stream": "stdout",
       "text": [
        "\n",
        "reading D:/ATLData/LMB/LKM_Nov2013_monthly_animation_output\\mpi_echam5.sresa2.2081-2100.jul.animation.nhru..."
       ]
      },
      {
       "output_type": "stream",
       "stream": "stdout",
       "text": [
        "\n",
        "reading D:/ATLData/LMB/LKM_Nov2013_monthly_animation_output\\mpi_echam5.sresb1.2046-2065.jul.animation.nhru..."
       ]
      },
      {
       "output_type": "stream",
       "stream": "stdout",
       "text": [
        "\n",
        "reading D:/ATLData/LMB/LKM_Nov2013_monthly_animation_output\\mpi_echam5.sresb1.2081-2100.jul.animation.nhru..."
       ]
      },
      {
       "output_type": "stream",
       "stream": "stdout",
       "text": [
        "\n",
        "reading D:/ATLData/LMB/LKM_Nov2013_monthly_animation_output\\mpi_echam5.20c3m.1981-2000.jul.animation.nhru..."
       ]
      },
      {
       "output_type": "stream",
       "stream": "stdout",
       "text": [
        "\n",
        "Warning, nan values found in percent differences. See error_file."
       ]
      },
      {
       "output_type": "stream",
       "stream": "stdout",
       "text": [
        "\n",
        "writing D:/ATLData/LMB/LKM_Nov2013_monthly/hru_means\\mpi_echam5.20c3m.1981-2000.jul.animation.hru_means.nhru...\n",
        "writing D:/ATLData/LMB/LKM_Nov2013_monthly/hru_means\\mpi_echam5.sresa1b.2046-2065.jul.animation.hru_means.nhru..."
       ]
      },
      {
       "output_type": "stream",
       "stream": "stdout",
       "text": [
        "\n",
        "writing D:/ATLData/LMB/LKM_Nov2013_monthly/hru_pct_diff\\mpi_echam5.sresa1b.2046-2065.jul.animation.hru_pct_diff.nhru..."
       ]
      },
      {
       "output_type": "stream",
       "stream": "stdout",
       "text": [
        "\n",
        "writing D:/ATLData/LMB/LKM_Nov2013_monthly/hru_means\\mpi_echam5.sresb1.2046-2065.jul.animation.hru_means.nhru..."
       ]
      },
      {
       "output_type": "stream",
       "stream": "stdout",
       "text": [
        "\n",
        "writing D:/ATLData/LMB/LKM_Nov2013_monthly/hru_pct_diff\\mpi_echam5.sresb1.2046-2065.jul.animation.hru_pct_diff.nhru..."
       ]
      },
      {
       "output_type": "stream",
       "stream": "stdout",
       "text": [
        "\n",
        "writing D:/ATLData/LMB/LKM_Nov2013_monthly/hru_means\\mpi_echam5.sresa2.2046-2065.jul.animation.hru_means.nhru..."
       ]
      },
      {
       "output_type": "stream",
       "stream": "stdout",
       "text": [
        "\n",
        "writing D:/ATLData/LMB/LKM_Nov2013_monthly/hru_pct_diff\\mpi_echam5.sresa2.2046-2065.jul.animation.hru_pct_diff.nhru..."
       ]
      },
      {
       "output_type": "stream",
       "stream": "stdout",
       "text": [
        "\n",
        "writing D:/ATLData/LMB/LKM_Nov2013_monthly/hru_means\\mpi_echam5.sresa1b.2081-2100.jul.animation.hru_means.nhru..."
       ]
      },
      {
       "output_type": "stream",
       "stream": "stdout",
       "text": [
        "\n",
        "writing D:/ATLData/LMB/LKM_Nov2013_monthly/hru_pct_diff\\mpi_echam5.sresa1b.2081-2100.jul.animation.hru_pct_diff.nhru..."
       ]
      },
      {
       "output_type": "stream",
       "stream": "stdout",
       "text": [
        "\n",
        "writing D:/ATLData/LMB/LKM_Nov2013_monthly/hru_means\\mpi_echam5.sresb1.2081-2100.jul.animation.hru_means.nhru..."
       ]
      },
      {
       "output_type": "stream",
       "stream": "stdout",
       "text": [
        "\n",
        "writing D:/ATLData/LMB/LKM_Nov2013_monthly/hru_pct_diff\\mpi_echam5.sresb1.2081-2100.jul.animation.hru_pct_diff.nhru..."
       ]
      },
      {
       "output_type": "stream",
       "stream": "stdout",
       "text": [
        "\n",
        "writing D:/ATLData/LMB/LKM_Nov2013_monthly/hru_means\\mpi_echam5.sresa2.2081-2100.jul.animation.hru_means.nhru..."
       ]
      },
      {
       "output_type": "stream",
       "stream": "stdout",
       "text": [
        "\n",
        "writing D:/ATLData/LMB/LKM_Nov2013_monthly/hru_pct_diff\\mpi_echam5.sresa2.2081-2100.jul.animation.hru_pct_diff.nhru..."
       ]
      },
      {
       "output_type": "stream",
       "stream": "stdout",
       "text": [
        "\n",
        "reading D:/ATLData/LMB/LKM_Nov2013_monthly_animation_output\\mpi_echam5.sresa1b.2046-2065.jan.animation.nhru..."
       ]
      },
      {
       "output_type": "stream",
       "stream": "stdout",
       "text": [
        "\n",
        "reading D:/ATLData/LMB/LKM_Nov2013_monthly_animation_output\\mpi_echam5.sresa1b.2081-2100.jan.animation.nhru..."
       ]
      },
      {
       "output_type": "stream",
       "stream": "stdout",
       "text": [
        "\n",
        "reading D:/ATLData/LMB/LKM_Nov2013_monthly_animation_output\\mpi_echam5.sresa2.2046-2065.jan.animation.nhru..."
       ]
      },
      {
       "output_type": "stream",
       "stream": "stdout",
       "text": [
        "\n",
        "reading D:/ATLData/LMB/LKM_Nov2013_monthly_animation_output\\mpi_echam5.sresa2.2081-2100.jan.animation.nhru..."
       ]
      },
      {
       "output_type": "stream",
       "stream": "stdout",
       "text": [
        "\n",
        "reading D:/ATLData/LMB/LKM_Nov2013_monthly_animation_output\\mpi_echam5.sresb1.2046-2065.jan.animation.nhru..."
       ]
      },
      {
       "output_type": "stream",
       "stream": "stdout",
       "text": [
        "\n",
        "reading D:/ATLData/LMB/LKM_Nov2013_monthly_animation_output\\mpi_echam5.sresb1.2081-2100.jan.animation.nhru..."
       ]
      },
      {
       "output_type": "stream",
       "stream": "stdout",
       "text": [
        "\n",
        "reading D:/ATLData/LMB/LKM_Nov2013_monthly_animation_output\\mpi_echam5.20c3m.1981-2000.jan.animation.nhru..."
       ]
      },
      {
       "output_type": "stream",
       "stream": "stdout",
       "text": [
        "\n",
        "Warning, nan values found in percent differences. See error_file."
       ]
      },
      {
       "output_type": "stream",
       "stream": "stdout",
       "text": [
        "\n",
        "writing D:/ATLData/LMB/LKM_Nov2013_monthly/hru_means\\mpi_echam5.20c3m.1981-2000.jan.animation.hru_means.nhru...\n",
        "writing D:/ATLData/LMB/LKM_Nov2013_monthly/hru_means\\mpi_echam5.sresa1b.2046-2065.jan.animation.hru_means.nhru..."
       ]
      },
      {
       "output_type": "stream",
       "stream": "stdout",
       "text": [
        "\n",
        "writing D:/ATLData/LMB/LKM_Nov2013_monthly/hru_pct_diff\\mpi_echam5.sresa1b.2046-2065.jan.animation.hru_pct_diff.nhru..."
       ]
      },
      {
       "output_type": "stream",
       "stream": "stdout",
       "text": [
        "\n",
        "writing D:/ATLData/LMB/LKM_Nov2013_monthly/hru_means\\mpi_echam5.sresa2.2046-2065.jan.animation.hru_means.nhru..."
       ]
      },
      {
       "output_type": "stream",
       "stream": "stdout",
       "text": [
        "\n",
        "writing D:/ATLData/LMB/LKM_Nov2013_monthly/hru_pct_diff\\mpi_echam5.sresa2.2046-2065.jan.animation.hru_pct_diff.nhru..."
       ]
      },
      {
       "output_type": "stream",
       "stream": "stdout",
       "text": [
        "\n",
        "writing D:/ATLData/LMB/LKM_Nov2013_monthly/hru_means\\mpi_echam5.sresa1b.2081-2100.jan.animation.hru_means.nhru..."
       ]
      },
      {
       "output_type": "stream",
       "stream": "stdout",
       "text": [
        "\n",
        "writing D:/ATLData/LMB/LKM_Nov2013_monthly/hru_pct_diff\\mpi_echam5.sresa1b.2081-2100.jan.animation.hru_pct_diff.nhru..."
       ]
      },
      {
       "output_type": "stream",
       "stream": "stdout",
       "text": [
        "\n",
        "writing D:/ATLData/LMB/LKM_Nov2013_monthly/hru_means\\mpi_echam5.sresb1.2046-2065.jan.animation.hru_means.nhru..."
       ]
      },
      {
       "output_type": "stream",
       "stream": "stdout",
       "text": [
        "\n",
        "writing D:/ATLData/LMB/LKM_Nov2013_monthly/hru_pct_diff\\mpi_echam5.sresb1.2046-2065.jan.animation.hru_pct_diff.nhru..."
       ]
      },
      {
       "output_type": "stream",
       "stream": "stdout",
       "text": [
        "\n",
        "writing D:/ATLData/LMB/LKM_Nov2013_monthly/hru_means\\mpi_echam5.sresa2.2081-2100.jan.animation.hru_means.nhru..."
       ]
      },
      {
       "output_type": "stream",
       "stream": "stdout",
       "text": [
        "\n",
        "writing D:/ATLData/LMB/LKM_Nov2013_monthly/hru_pct_diff\\mpi_echam5.sresa2.2081-2100.jan.animation.hru_pct_diff.nhru..."
       ]
      },
      {
       "output_type": "stream",
       "stream": "stdout",
       "text": [
        "\n",
        "writing D:/ATLData/LMB/LKM_Nov2013_monthly/hru_means\\mpi_echam5.sresb1.2081-2100.jan.animation.hru_means.nhru..."
       ]
      },
      {
       "output_type": "stream",
       "stream": "stdout",
       "text": [
        "\n",
        "writing D:/ATLData/LMB/LKM_Nov2013_monthly/hru_pct_diff\\mpi_echam5.sresb1.2081-2100.jan.animation.hru_pct_diff.nhru..."
       ]
      },
      {
       "output_type": "stream",
       "stream": "stdout",
       "text": [
        "\n",
        "reading D:/ATLData/LMB/LKM_Nov2013_monthly_animation_output\\mpi_echam5.sresa1b.2046-2065.may.animation.nhru..."
       ]
      },
      {
       "output_type": "stream",
       "stream": "stdout",
       "text": [
        "\n",
        "reading D:/ATLData/LMB/LKM_Nov2013_monthly_animation_output\\mpi_echam5.sresa1b.2081-2100.may.animation.nhru..."
       ]
      },
      {
       "output_type": "stream",
       "stream": "stdout",
       "text": [
        "\n",
        "reading D:/ATLData/LMB/LKM_Nov2013_monthly_animation_output\\mpi_echam5.sresa2.2046-2065.may.animation.nhru..."
       ]
      },
      {
       "output_type": "stream",
       "stream": "stdout",
       "text": [
        "\n",
        "reading D:/ATLData/LMB/LKM_Nov2013_monthly_animation_output\\mpi_echam5.sresa2.2081-2100.may.animation.nhru..."
       ]
      },
      {
       "output_type": "stream",
       "stream": "stdout",
       "text": [
        "\n",
        "reading D:/ATLData/LMB/LKM_Nov2013_monthly_animation_output\\mpi_echam5.sresb1.2046-2065.may.animation.nhru..."
       ]
      },
      {
       "output_type": "stream",
       "stream": "stdout",
       "text": [
        "\n",
        "reading D:/ATLData/LMB/LKM_Nov2013_monthly_animation_output\\mpi_echam5.sresb1.2081-2100.may.animation.nhru..."
       ]
      },
      {
       "output_type": "stream",
       "stream": "stdout",
       "text": [
        "\n",
        "reading D:/ATLData/LMB/LKM_Nov2013_monthly_animation_output\\mpi_echam5.20c3m.1981-2000.may.animation.nhru..."
       ]
      },
      {
       "output_type": "stream",
       "stream": "stdout",
       "text": [
        "\n",
        "Warning, nan values found in percent differences. See error_file."
       ]
      },
      {
       "output_type": "stream",
       "stream": "stdout",
       "text": [
        "\n",
        "writing D:/ATLData/LMB/LKM_Nov2013_monthly/hru_means\\mpi_echam5.20c3m.1981-2000.may.animation.hru_means.nhru...\n",
        "writing D:/ATLData/LMB/LKM_Nov2013_monthly/hru_means\\mpi_echam5.sresa1b.2046-2065.may.animation.hru_means.nhru..."
       ]
      },
      {
       "output_type": "stream",
       "stream": "stdout",
       "text": [
        "\n",
        "writing D:/ATLData/LMB/LKM_Nov2013_monthly/hru_pct_diff\\mpi_echam5.sresa1b.2046-2065.may.animation.hru_pct_diff.nhru..."
       ]
      },
      {
       "output_type": "stream",
       "stream": "stdout",
       "text": [
        "\n",
        "writing D:/ATLData/LMB/LKM_Nov2013_monthly/hru_means\\mpi_echam5.sresa2.2046-2065.may.animation.hru_means.nhru..."
       ]
      },
      {
       "output_type": "stream",
       "stream": "stdout",
       "text": [
        "\n",
        "writing D:/ATLData/LMB/LKM_Nov2013_monthly/hru_pct_diff\\mpi_echam5.sresa2.2046-2065.may.animation.hru_pct_diff.nhru..."
       ]
      },
      {
       "output_type": "stream",
       "stream": "stdout",
       "text": [
        "\n",
        "writing D:/ATLData/LMB/LKM_Nov2013_monthly/hru_means\\mpi_echam5.sresa1b.2081-2100.may.animation.hru_means.nhru..."
       ]
      },
      {
       "output_type": "stream",
       "stream": "stdout",
       "text": [
        "\n",
        "writing D:/ATLData/LMB/LKM_Nov2013_monthly/hru_pct_diff\\mpi_echam5.sresa1b.2081-2100.may.animation.hru_pct_diff.nhru..."
       ]
      },
      {
       "output_type": "stream",
       "stream": "stdout",
       "text": [
        "\n",
        "writing D:/ATLData/LMB/LKM_Nov2013_monthly/hru_means\\mpi_echam5.sresb1.2081-2100.may.animation.hru_means.nhru..."
       ]
      },
      {
       "output_type": "stream",
       "stream": "stdout",
       "text": [
        "\n",
        "writing D:/ATLData/LMB/LKM_Nov2013_monthly/hru_pct_diff\\mpi_echam5.sresb1.2081-2100.may.animation.hru_pct_diff.nhru..."
       ]
      },
      {
       "output_type": "stream",
       "stream": "stdout",
       "text": [
        "\n",
        "writing D:/ATLData/LMB/LKM_Nov2013_monthly/hru_means\\mpi_echam5.sresa2.2081-2100.may.animation.hru_means.nhru..."
       ]
      },
      {
       "output_type": "stream",
       "stream": "stdout",
       "text": [
        "\n",
        "writing D:/ATLData/LMB/LKM_Nov2013_monthly/hru_pct_diff\\mpi_echam5.sresa2.2081-2100.may.animation.hru_pct_diff.nhru..."
       ]
      },
      {
       "output_type": "stream",
       "stream": "stdout",
       "text": [
        "\n",
        "writing D:/ATLData/LMB/LKM_Nov2013_monthly/hru_means\\mpi_echam5.sresb1.2046-2065.may.animation.hru_means.nhru..."
       ]
      },
      {
       "output_type": "stream",
       "stream": "stdout",
       "text": [
        "\n",
        "writing D:/ATLData/LMB/LKM_Nov2013_monthly/hru_pct_diff\\mpi_echam5.sresb1.2046-2065.may.animation.hru_pct_diff.nhru..."
       ]
      },
      {
       "output_type": "stream",
       "stream": "stdout",
       "text": [
        "\n",
        "reading D:/ATLData/LMB/LKM_Nov2013_monthly_animation_output\\mpi_echam5.sresa1b.2046-2065.nov.animation.nhru..."
       ]
      },
      {
       "output_type": "stream",
       "stream": "stdout",
       "text": [
        "\n",
        "reading D:/ATLData/LMB/LKM_Nov2013_monthly_animation_output\\mpi_echam5.sresa1b.2081-2100.nov.animation.nhru..."
       ]
      },
      {
       "output_type": "stream",
       "stream": "stdout",
       "text": [
        "\n",
        "reading D:/ATLData/LMB/LKM_Nov2013_monthly_animation_output\\mpi_echam5.sresa2.2046-2065.nov.animation.nhru..."
       ]
      },
      {
       "output_type": "stream",
       "stream": "stdout",
       "text": [
        "\n",
        "reading D:/ATLData/LMB/LKM_Nov2013_monthly_animation_output\\mpi_echam5.sresa2.2081-2100.nov.animation.nhru..."
       ]
      },
      {
       "output_type": "stream",
       "stream": "stdout",
       "text": [
        "\n",
        "reading D:/ATLData/LMB/LKM_Nov2013_monthly_animation_output\\mpi_echam5.sresb1.2046-2065.nov.animation.nhru..."
       ]
      },
      {
       "output_type": "stream",
       "stream": "stdout",
       "text": [
        "\n",
        "reading D:/ATLData/LMB/LKM_Nov2013_monthly_animation_output\\mpi_echam5.sresb1.2081-2100.nov.animation.nhru..."
       ]
      },
      {
       "output_type": "stream",
       "stream": "stdout",
       "text": [
        "\n",
        "reading D:/ATLData/LMB/LKM_Nov2013_monthly_animation_output\\mpi_echam5.20c3m.1981-2000.nov.animation.nhru..."
       ]
      },
      {
       "output_type": "stream",
       "stream": "stdout",
       "text": [
        "\n",
        "Warning, nan values found in percent differences. See error_file."
       ]
      },
      {
       "output_type": "stream",
       "stream": "stdout",
       "text": [
        "\n",
        "writing D:/ATLData/LMB/LKM_Nov2013_monthly/hru_means\\mpi_echam5.20c3m.1981-2000.nov.animation.hru_means.nhru...\n",
        "writing D:/ATLData/LMB/LKM_Nov2013_monthly/hru_means\\mpi_echam5.sresa2.2046-2065.nov.animation.hru_means.nhru..."
       ]
      },
      {
       "output_type": "stream",
       "stream": "stdout",
       "text": [
        "\n",
        "writing D:/ATLData/LMB/LKM_Nov2013_monthly/hru_pct_diff\\mpi_echam5.sresa2.2046-2065.nov.animation.hru_pct_diff.nhru..."
       ]
      },
      {
       "output_type": "stream",
       "stream": "stdout",
       "text": [
        "\n",
        "writing D:/ATLData/LMB/LKM_Nov2013_monthly/hru_means\\mpi_echam5.sresa2.2081-2100.nov.animation.hru_means.nhru..."
       ]
      },
      {
       "output_type": "stream",
       "stream": "stdout",
       "text": [
        "\n",
        "writing D:/ATLData/LMB/LKM_Nov2013_monthly/hru_pct_diff\\mpi_echam5.sresa2.2081-2100.nov.animation.hru_pct_diff.nhru..."
       ]
      },
      {
       "output_type": "stream",
       "stream": "stdout",
       "text": [
        "\n",
        "writing D:/ATLData/LMB/LKM_Nov2013_monthly/hru_means\\mpi_echam5.sresb1.2046-2065.nov.animation.hru_means.nhru..."
       ]
      },
      {
       "output_type": "stream",
       "stream": "stdout",
       "text": [
        "\n",
        "writing D:/ATLData/LMB/LKM_Nov2013_monthly/hru_pct_diff\\mpi_echam5.sresb1.2046-2065.nov.animation.hru_pct_diff.nhru..."
       ]
      },
      {
       "output_type": "stream",
       "stream": "stdout",
       "text": [
        "\n",
        "writing D:/ATLData/LMB/LKM_Nov2013_monthly/hru_means\\mpi_echam5.sresb1.2081-2100.nov.animation.hru_means.nhru..."
       ]
      },
      {
       "output_type": "stream",
       "stream": "stdout",
       "text": [
        "\n",
        "writing D:/ATLData/LMB/LKM_Nov2013_monthly/hru_pct_diff\\mpi_echam5.sresb1.2081-2100.nov.animation.hru_pct_diff.nhru..."
       ]
      },
      {
       "output_type": "stream",
       "stream": "stdout",
       "text": [
        "\n",
        "writing D:/ATLData/LMB/LKM_Nov2013_monthly/hru_means\\mpi_echam5.sresa1b.2081-2100.nov.animation.hru_means.nhru..."
       ]
      },
      {
       "output_type": "stream",
       "stream": "stdout",
       "text": [
        "\n",
        "writing D:/ATLData/LMB/LKM_Nov2013_monthly/hru_pct_diff\\mpi_echam5.sresa1b.2081-2100.nov.animation.hru_pct_diff.nhru..."
       ]
      },
      {
       "output_type": "stream",
       "stream": "stdout",
       "text": [
        "\n",
        "writing D:/ATLData/LMB/LKM_Nov2013_monthly/hru_means\\mpi_echam5.sresa1b.2046-2065.nov.animation.hru_means.nhru..."
       ]
      },
      {
       "output_type": "stream",
       "stream": "stdout",
       "text": [
        "\n",
        "writing D:/ATLData/LMB/LKM_Nov2013_monthly/hru_pct_diff\\mpi_echam5.sresa1b.2046-2065.nov.animation.hru_pct_diff.nhru..."
       ]
      },
      {
       "output_type": "stream",
       "stream": "stdout",
       "text": [
        "\n",
        "reading D:/ATLData/LMB/LKM_Nov2013_monthly_animation_output\\mpi_echam5.sresa1b.2046-2065.dec.animation.nhru..."
       ]
      },
      {
       "output_type": "stream",
       "stream": "stdout",
       "text": [
        "\n",
        "reading D:/ATLData/LMB/LKM_Nov2013_monthly_animation_output\\mpi_echam5.sresa1b.2081-2100.dec.animation.nhru..."
       ]
      },
      {
       "output_type": "stream",
       "stream": "stdout",
       "text": [
        "\n",
        "reading D:/ATLData/LMB/LKM_Nov2013_monthly_animation_output\\mpi_echam5.sresa2.2046-2065.dec.animation.nhru..."
       ]
      },
      {
       "output_type": "stream",
       "stream": "stdout",
       "text": [
        "\n",
        "reading D:/ATLData/LMB/LKM_Nov2013_monthly_animation_output\\mpi_echam5.sresa2.2081-2100.dec.animation.nhru..."
       ]
      },
      {
       "output_type": "stream",
       "stream": "stdout",
       "text": [
        "\n",
        "reading D:/ATLData/LMB/LKM_Nov2013_monthly_animation_output\\mpi_echam5.sresb1.2046-2065.dec.animation.nhru..."
       ]
      },
      {
       "output_type": "stream",
       "stream": "stdout",
       "text": [
        "\n",
        "reading D:/ATLData/LMB/LKM_Nov2013_monthly_animation_output\\mpi_echam5.sresb1.2081-2100.dec.animation.nhru..."
       ]
      },
      {
       "output_type": "stream",
       "stream": "stdout",
       "text": [
        "\n",
        "reading D:/ATLData/LMB/LKM_Nov2013_monthly_animation_output\\mpi_echam5.20c3m.1981-2000.dec.animation.nhru..."
       ]
      },
      {
       "output_type": "stream",
       "stream": "stdout",
       "text": [
        "\n",
        "Warning, nan values found in percent differences. See error_file."
       ]
      },
      {
       "output_type": "stream",
       "stream": "stdout",
       "text": [
        "\n",
        "writing D:/ATLData/LMB/LKM_Nov2013_monthly/hru_means\\mpi_echam5.20c3m.1981-2000.dec.animation.hru_means.nhru...\n",
        "writing D:/ATLData/LMB/LKM_Nov2013_monthly/hru_means\\mpi_echam5.sresa2.2081-2100.dec.animation.hru_means.nhru..."
       ]
      },
      {
       "output_type": "stream",
       "stream": "stdout",
       "text": [
        "\n",
        "writing D:/ATLData/LMB/LKM_Nov2013_monthly/hru_pct_diff\\mpi_echam5.sresa2.2081-2100.dec.animation.hru_pct_diff.nhru..."
       ]
      },
      {
       "output_type": "stream",
       "stream": "stdout",
       "text": [
        "\n",
        "writing D:/ATLData/LMB/LKM_Nov2013_monthly/hru_means\\mpi_echam5.sresb1.2046-2065.dec.animation.hru_means.nhru..."
       ]
      },
      {
       "output_type": "stream",
       "stream": "stdout",
       "text": [
        "\n",
        "writing D:/ATLData/LMB/LKM_Nov2013_monthly/hru_pct_diff\\mpi_echam5.sresb1.2046-2065.dec.animation.hru_pct_diff.nhru..."
       ]
      },
      {
       "output_type": "stream",
       "stream": "stdout",
       "text": [
        "\n",
        "writing D:/ATLData/LMB/LKM_Nov2013_monthly/hru_means\\mpi_echam5.sresa1b.2081-2100.dec.animation.hru_means.nhru..."
       ]
      },
      {
       "output_type": "stream",
       "stream": "stdout",
       "text": [
        "\n",
        "writing D:/ATLData/LMB/LKM_Nov2013_monthly/hru_pct_diff\\mpi_echam5.sresa1b.2081-2100.dec.animation.hru_pct_diff.nhru..."
       ]
      },
      {
       "output_type": "stream",
       "stream": "stdout",
       "text": [
        "\n",
        "writing D:/ATLData/LMB/LKM_Nov2013_monthly/hru_means\\mpi_echam5.sresa2.2046-2065.dec.animation.hru_means.nhru..."
       ]
      },
      {
       "output_type": "stream",
       "stream": "stdout",
       "text": [
        "\n",
        "writing D:/ATLData/LMB/LKM_Nov2013_monthly/hru_pct_diff\\mpi_echam5.sresa2.2046-2065.dec.animation.hru_pct_diff.nhru..."
       ]
      },
      {
       "output_type": "stream",
       "stream": "stdout",
       "text": [
        "\n",
        "writing D:/ATLData/LMB/LKM_Nov2013_monthly/hru_means\\mpi_echam5.sresb1.2081-2100.dec.animation.hru_means.nhru..."
       ]
      },
      {
       "output_type": "stream",
       "stream": "stdout",
       "text": [
        "\n",
        "writing D:/ATLData/LMB/LKM_Nov2013_monthly/hru_pct_diff\\mpi_echam5.sresb1.2081-2100.dec.animation.hru_pct_diff.nhru..."
       ]
      },
      {
       "output_type": "stream",
       "stream": "stdout",
       "text": [
        "\n",
        "writing D:/ATLData/LMB/LKM_Nov2013_monthly/hru_means\\mpi_echam5.sresa1b.2046-2065.dec.animation.hru_means.nhru..."
       ]
      },
      {
       "output_type": "stream",
       "stream": "stdout",
       "text": [
        "\n",
        "writing D:/ATLData/LMB/LKM_Nov2013_monthly/hru_pct_diff\\mpi_echam5.sresa1b.2046-2065.dec.animation.hru_pct_diff.nhru..."
       ]
      },
      {
       "output_type": "stream",
       "stream": "stdout",
       "text": [
        "\n",
        "reading D:/ATLData/LMB/LKM_Nov2013_monthly_animation_output\\mpi_echam5.sresa1b.2046-2065.oct.animation.nhru..."
       ]
      },
      {
       "output_type": "stream",
       "stream": "stdout",
       "text": [
        "\n",
        "reading D:/ATLData/LMB/LKM_Nov2013_monthly_animation_output\\mpi_echam5.sresa1b.2081-2100.oct.animation.nhru..."
       ]
      },
      {
       "output_type": "stream",
       "stream": "stdout",
       "text": [
        "\n",
        "reading D:/ATLData/LMB/LKM_Nov2013_monthly_animation_output\\mpi_echam5.sresa2.2046-2065.oct.animation.nhru..."
       ]
      },
      {
       "output_type": "stream",
       "stream": "stdout",
       "text": [
        "\n",
        "reading D:/ATLData/LMB/LKM_Nov2013_monthly_animation_output\\mpi_echam5.sresa2.2081-2100.oct.animation.nhru..."
       ]
      },
      {
       "output_type": "stream",
       "stream": "stdout",
       "text": [
        "\n",
        "reading D:/ATLData/LMB/LKM_Nov2013_monthly_animation_output\\mpi_echam5.sresb1.2046-2065.oct.animation.nhru..."
       ]
      },
      {
       "output_type": "stream",
       "stream": "stdout",
       "text": [
        "\n",
        "reading D:/ATLData/LMB/LKM_Nov2013_monthly_animation_output\\mpi_echam5.sresb1.2081-2100.oct.animation.nhru..."
       ]
      },
      {
       "output_type": "stream",
       "stream": "stdout",
       "text": [
        "\n",
        "reading D:/ATLData/LMB/LKM_Nov2013_monthly_animation_output\\mpi_echam5.20c3m.1981-2000.oct.animation.nhru..."
       ]
      },
      {
       "output_type": "stream",
       "stream": "stdout",
       "text": [
        "\n",
        "Warning, nan values found in percent differences. See error_file."
       ]
      },
      {
       "output_type": "stream",
       "stream": "stdout",
       "text": [
        "\n",
        "writing D:/ATLData/LMB/LKM_Nov2013_monthly/hru_means\\mpi_echam5.20c3m.1981-2000.oct.animation.hru_means.nhru...\n",
        "writing D:/ATLData/LMB/LKM_Nov2013_monthly/hru_means\\mpi_echam5.sresb1.2046-2065.oct.animation.hru_means.nhru..."
       ]
      },
      {
       "output_type": "stream",
       "stream": "stdout",
       "text": [
        "\n",
        "writing D:/ATLData/LMB/LKM_Nov2013_monthly/hru_pct_diff\\mpi_echam5.sresb1.2046-2065.oct.animation.hru_pct_diff.nhru..."
       ]
      },
      {
       "output_type": "stream",
       "stream": "stdout",
       "text": [
        "\n",
        "writing D:/ATLData/LMB/LKM_Nov2013_monthly/hru_means\\mpi_echam5.sresa2.2081-2100.oct.animation.hru_means.nhru..."
       ]
      },
      {
       "output_type": "stream",
       "stream": "stdout",
       "text": [
        "\n",
        "writing D:/ATLData/LMB/LKM_Nov2013_monthly/hru_pct_diff\\mpi_echam5.sresa2.2081-2100.oct.animation.hru_pct_diff.nhru..."
       ]
      },
      {
       "output_type": "stream",
       "stream": "stdout",
       "text": [
        "\n",
        "writing D:/ATLData/LMB/LKM_Nov2013_monthly/hru_means\\mpi_echam5.sresa1b.2081-2100.oct.animation.hru_means.nhru..."
       ]
      },
      {
       "output_type": "stream",
       "stream": "stdout",
       "text": [
        "\n",
        "writing D:/ATLData/LMB/LKM_Nov2013_monthly/hru_pct_diff\\mpi_echam5.sresa1b.2081-2100.oct.animation.hru_pct_diff.nhru..."
       ]
      },
      {
       "output_type": "stream",
       "stream": "stdout",
       "text": [
        "\n",
        "writing D:/ATLData/LMB/LKM_Nov2013_monthly/hru_means\\mpi_echam5.sresa2.2046-2065.oct.animation.hru_means.nhru..."
       ]
      },
      {
       "output_type": "stream",
       "stream": "stdout",
       "text": [
        "\n",
        "writing D:/ATLData/LMB/LKM_Nov2013_monthly/hru_pct_diff\\mpi_echam5.sresa2.2046-2065.oct.animation.hru_pct_diff.nhru..."
       ]
      },
      {
       "output_type": "stream",
       "stream": "stdout",
       "text": [
        "\n",
        "writing D:/ATLData/LMB/LKM_Nov2013_monthly/hru_means\\mpi_echam5.sresb1.2081-2100.oct.animation.hru_means.nhru..."
       ]
      },
      {
       "output_type": "stream",
       "stream": "stdout",
       "text": [
        "\n",
        "writing D:/ATLData/LMB/LKM_Nov2013_monthly/hru_pct_diff\\mpi_echam5.sresb1.2081-2100.oct.animation.hru_pct_diff.nhru..."
       ]
      },
      {
       "output_type": "stream",
       "stream": "stdout",
       "text": [
        "\n",
        "writing D:/ATLData/LMB/LKM_Nov2013_monthly/hru_means\\mpi_echam5.sresa1b.2046-2065.oct.animation.hru_means.nhru..."
       ]
      },
      {
       "output_type": "stream",
       "stream": "stdout",
       "text": [
        "\n",
        "writing D:/ATLData/LMB/LKM_Nov2013_monthly/hru_pct_diff\\mpi_echam5.sresa1b.2046-2065.oct.animation.hru_pct_diff.nhru..."
       ]
      },
      {
       "output_type": "stream",
       "stream": "stdout",
       "text": [
        "\n",
        "reading D:/ATLData/LMB/LKM_Nov2013_monthly_animation_output\\mpi_echam5.sresa1b.2046-2065.mar.animation.nhru..."
       ]
      },
      {
       "output_type": "stream",
       "stream": "stdout",
       "text": [
        "\n",
        "reading D:/ATLData/LMB/LKM_Nov2013_monthly_animation_output\\mpi_echam5.sresa1b.2081-2100.mar.animation.nhru..."
       ]
      },
      {
       "output_type": "stream",
       "stream": "stdout",
       "text": [
        "\n",
        "reading D:/ATLData/LMB/LKM_Nov2013_monthly_animation_output\\mpi_echam5.sresa2.2046-2065.mar.animation.nhru..."
       ]
      },
      {
       "output_type": "stream",
       "stream": "stdout",
       "text": [
        "\n",
        "reading D:/ATLData/LMB/LKM_Nov2013_monthly_animation_output\\mpi_echam5.sresa2.2081-2100.mar.animation.nhru..."
       ]
      },
      {
       "output_type": "stream",
       "stream": "stdout",
       "text": [
        "\n",
        "reading D:/ATLData/LMB/LKM_Nov2013_monthly_animation_output\\mpi_echam5.sresb1.2046-2065.mar.animation.nhru..."
       ]
      },
      {
       "output_type": "stream",
       "stream": "stdout",
       "text": [
        "\n",
        "reading D:/ATLData/LMB/LKM_Nov2013_monthly_animation_output\\mpi_echam5.sresb1.2081-2100.mar.animation.nhru..."
       ]
      },
      {
       "output_type": "stream",
       "stream": "stdout",
       "text": [
        "\n",
        "reading D:/ATLData/LMB/LKM_Nov2013_monthly_animation_output\\mpi_echam5.20c3m.1981-2000.mar.animation.nhru..."
       ]
      },
      {
       "output_type": "stream",
       "stream": "stdout",
       "text": [
        "\n",
        "Warning, nan values found in percent differences. See error_file."
       ]
      },
      {
       "output_type": "stream",
       "stream": "stdout",
       "text": [
        "\n",
        "writing D:/ATLData/LMB/LKM_Nov2013_monthly/hru_means\\mpi_echam5.20c3m.1981-2000.mar.animation.hru_means.nhru...\n",
        "writing D:/ATLData/LMB/LKM_Nov2013_monthly/hru_means\\mpi_echam5.sresa1b.2081-2100.mar.animation.hru_means.nhru..."
       ]
      },
      {
       "output_type": "stream",
       "stream": "stdout",
       "text": [
        "\n",
        "writing D:/ATLData/LMB/LKM_Nov2013_monthly/hru_pct_diff\\mpi_echam5.sresa1b.2081-2100.mar.animation.hru_pct_diff.nhru..."
       ]
      },
      {
       "output_type": "stream",
       "stream": "stdout",
       "text": [
        "\n",
        "writing D:/ATLData/LMB/LKM_Nov2013_monthly/hru_means\\mpi_echam5.sresa2.2046-2065.mar.animation.hru_means.nhru..."
       ]
      },
      {
       "output_type": "stream",
       "stream": "stdout",
       "text": [
        "\n",
        "writing D:/ATLData/LMB/LKM_Nov2013_monthly/hru_pct_diff\\mpi_echam5.sresa2.2046-2065.mar.animation.hru_pct_diff.nhru..."
       ]
      },
      {
       "output_type": "stream",
       "stream": "stdout",
       "text": [
        "\n",
        "writing D:/ATLData/LMB/LKM_Nov2013_monthly/hru_means\\mpi_echam5.sresa2.2081-2100.mar.animation.hru_means.nhru..."
       ]
      },
      {
       "output_type": "stream",
       "stream": "stdout",
       "text": [
        "\n",
        "writing D:/ATLData/LMB/LKM_Nov2013_monthly/hru_pct_diff\\mpi_echam5.sresa2.2081-2100.mar.animation.hru_pct_diff.nhru..."
       ]
      },
      {
       "output_type": "stream",
       "stream": "stdout",
       "text": [
        "\n",
        "writing D:/ATLData/LMB/LKM_Nov2013_monthly/hru_means\\mpi_echam5.sresb1.2046-2065.mar.animation.hru_means.nhru..."
       ]
      },
      {
       "output_type": "stream",
       "stream": "stdout",
       "text": [
        "\n",
        "writing D:/ATLData/LMB/LKM_Nov2013_monthly/hru_pct_diff\\mpi_echam5.sresb1.2046-2065.mar.animation.hru_pct_diff.nhru..."
       ]
      },
      {
       "output_type": "stream",
       "stream": "stdout",
       "text": [
        "\n",
        "writing D:/ATLData/LMB/LKM_Nov2013_monthly/hru_means\\mpi_echam5.sresb1.2081-2100.mar.animation.hru_means.nhru..."
       ]
      },
      {
       "output_type": "stream",
       "stream": "stdout",
       "text": [
        "\n",
        "writing D:/ATLData/LMB/LKM_Nov2013_monthly/hru_pct_diff\\mpi_echam5.sresb1.2081-2100.mar.animation.hru_pct_diff.nhru..."
       ]
      },
      {
       "output_type": "stream",
       "stream": "stdout",
       "text": [
        "\n",
        "writing D:/ATLData/LMB/LKM_Nov2013_monthly/hru_means\\mpi_echam5.sresa1b.2046-2065.mar.animation.hru_means.nhru..."
       ]
      },
      {
       "output_type": "stream",
       "stream": "stdout",
       "text": [
        "\n",
        "writing D:/ATLData/LMB/LKM_Nov2013_monthly/hru_pct_diff\\mpi_echam5.sresa1b.2046-2065.mar.animation.hru_pct_diff.nhru..."
       ]
      },
      {
       "output_type": "stream",
       "stream": "stdout",
       "text": [
        "\n",
        "reading D:/ATLData/LMB/LKM_Nov2013_monthly_animation_output\\mpi_echam5.sresa1b.2046-2065.feb.animation.nhru..."
       ]
      },
      {
       "output_type": "stream",
       "stream": "stdout",
       "text": [
        "\n",
        "reading D:/ATLData/LMB/LKM_Nov2013_monthly_animation_output\\mpi_echam5.sresa1b.2081-2100.feb.animation.nhru..."
       ]
      },
      {
       "output_type": "stream",
       "stream": "stdout",
       "text": [
        "\n",
        "reading D:/ATLData/LMB/LKM_Nov2013_monthly_animation_output\\mpi_echam5.sresa2.2046-2065.feb.animation.nhru..."
       ]
      },
      {
       "output_type": "stream",
       "stream": "stdout",
       "text": [
        "\n",
        "reading D:/ATLData/LMB/LKM_Nov2013_monthly_animation_output\\mpi_echam5.sresa2.2081-2100.feb.animation.nhru..."
       ]
      },
      {
       "output_type": "stream",
       "stream": "stdout",
       "text": [
        "\n",
        "reading D:/ATLData/LMB/LKM_Nov2013_monthly_animation_output\\mpi_echam5.sresb1.2046-2065.feb.animation.nhru..."
       ]
      },
      {
       "output_type": "stream",
       "stream": "stdout",
       "text": [
        "\n",
        "reading D:/ATLData/LMB/LKM_Nov2013_monthly_animation_output\\mpi_echam5.sresb1.2081-2100.feb.animation.nhru..."
       ]
      },
      {
       "output_type": "stream",
       "stream": "stdout",
       "text": [
        "\n",
        "reading D:/ATLData/LMB/LKM_Nov2013_monthly_animation_output\\mpi_echam5.20c3m.1981-2000.feb.animation.nhru..."
       ]
      },
      {
       "output_type": "stream",
       "stream": "stdout",
       "text": [
        "\n",
        "Warning, nan values found in percent differences. See error_file."
       ]
      },
      {
       "output_type": "stream",
       "stream": "stdout",
       "text": [
        "\n",
        "writing D:/ATLData/LMB/LKM_Nov2013_monthly/hru_means\\mpi_echam5.20c3m.1981-2000.feb.animation.hru_means.nhru...\n",
        "writing D:/ATLData/LMB/LKM_Nov2013_monthly/hru_means\\mpi_echam5.sresa1b.2046-2065.feb.animation.hru_means.nhru..."
       ]
      },
      {
       "output_type": "stream",
       "stream": "stdout",
       "text": [
        "\n",
        "writing D:/ATLData/LMB/LKM_Nov2013_monthly/hru_pct_diff\\mpi_echam5.sresa1b.2046-2065.feb.animation.hru_pct_diff.nhru..."
       ]
      },
      {
       "output_type": "stream",
       "stream": "stdout",
       "text": [
        "\n",
        "writing D:/ATLData/LMB/LKM_Nov2013_monthly/hru_means\\mpi_echam5.sresa1b.2081-2100.feb.animation.hru_means.nhru..."
       ]
      },
      {
       "output_type": "stream",
       "stream": "stdout",
       "text": [
        "\n",
        "writing D:/ATLData/LMB/LKM_Nov2013_monthly/hru_pct_diff\\mpi_echam5.sresa1b.2081-2100.feb.animation.hru_pct_diff.nhru..."
       ]
      },
      {
       "output_type": "stream",
       "stream": "stdout",
       "text": [
        "\n",
        "writing D:/ATLData/LMB/LKM_Nov2013_monthly/hru_means\\mpi_echam5.sresa2.2046-2065.feb.animation.hru_means.nhru..."
       ]
      },
      {
       "output_type": "stream",
       "stream": "stdout",
       "text": [
        "\n",
        "writing D:/ATLData/LMB/LKM_Nov2013_monthly/hru_pct_diff\\mpi_echam5.sresa2.2046-2065.feb.animation.hru_pct_diff.nhru..."
       ]
      },
      {
       "output_type": "stream",
       "stream": "stdout",
       "text": [
        "\n",
        "writing D:/ATLData/LMB/LKM_Nov2013_monthly/hru_means\\mpi_echam5.sresb1.2046-2065.feb.animation.hru_means.nhru..."
       ]
      },
      {
       "output_type": "stream",
       "stream": "stdout",
       "text": [
        "\n",
        "writing D:/ATLData/LMB/LKM_Nov2013_monthly/hru_pct_diff\\mpi_echam5.sresb1.2046-2065.feb.animation.hru_pct_diff.nhru..."
       ]
      },
      {
       "output_type": "stream",
       "stream": "stdout",
       "text": [
        "\n",
        "writing D:/ATLData/LMB/LKM_Nov2013_monthly/hru_means\\mpi_echam5.sresa2.2081-2100.feb.animation.hru_means.nhru..."
       ]
      },
      {
       "output_type": "stream",
       "stream": "stdout",
       "text": [
        "\n",
        "writing D:/ATLData/LMB/LKM_Nov2013_monthly/hru_pct_diff\\mpi_echam5.sresa2.2081-2100.feb.animation.hru_pct_diff.nhru..."
       ]
      },
      {
       "output_type": "stream",
       "stream": "stdout",
       "text": [
        "\n",
        "writing D:/ATLData/LMB/LKM_Nov2013_monthly/hru_means\\mpi_echam5.sresb1.2081-2100.feb.animation.hru_means.nhru..."
       ]
      },
      {
       "output_type": "stream",
       "stream": "stdout",
       "text": [
        "\n",
        "writing D:/ATLData/LMB/LKM_Nov2013_monthly/hru_pct_diff\\mpi_echam5.sresb1.2081-2100.feb.animation.hru_pct_diff.nhru..."
       ]
      },
      {
       "output_type": "stream",
       "stream": "stdout",
       "text": [
        "\n",
        "reading D:/ATLData/LMB/LKM_Nov2013_monthly_animation_output\\mpi_echam5.sresa1b.2046-2065.aug.animation.nhru..."
       ]
      },
      {
       "output_type": "stream",
       "stream": "stdout",
       "text": [
        "\n",
        "reading D:/ATLData/LMB/LKM_Nov2013_monthly_animation_output\\mpi_echam5.sresa1b.2081-2100.aug.animation.nhru..."
       ]
      },
      {
       "output_type": "stream",
       "stream": "stdout",
       "text": [
        "\n",
        "reading D:/ATLData/LMB/LKM_Nov2013_monthly_animation_output\\mpi_echam5.sresa2.2046-2065.aug.animation.nhru..."
       ]
      },
      {
       "output_type": "stream",
       "stream": "stdout",
       "text": [
        "\n",
        "reading D:/ATLData/LMB/LKM_Nov2013_monthly_animation_output\\mpi_echam5.sresa2.2081-2100.aug.animation.nhru..."
       ]
      },
      {
       "output_type": "stream",
       "stream": "stdout",
       "text": [
        "\n",
        "reading D:/ATLData/LMB/LKM_Nov2013_monthly_animation_output\\mpi_echam5.sresb1.2046-2065.aug.animation.nhru..."
       ]
      },
      {
       "output_type": "stream",
       "stream": "stdout",
       "text": [
        "\n",
        "reading D:/ATLData/LMB/LKM_Nov2013_monthly_animation_output\\mpi_echam5.sresb1.2081-2100.aug.animation.nhru..."
       ]
      },
      {
       "output_type": "stream",
       "stream": "stdout",
       "text": [
        "\n",
        "reading D:/ATLData/LMB/LKM_Nov2013_monthly_animation_output\\mpi_echam5.20c3m.1981-2000.aug.animation.nhru..."
       ]
      },
      {
       "output_type": "stream",
       "stream": "stdout",
       "text": [
        "\n",
        "Warning, nan values found in percent differences. See error_file."
       ]
      },
      {
       "output_type": "stream",
       "stream": "stdout",
       "text": [
        "\n",
        "writing D:/ATLData/LMB/LKM_Nov2013_monthly/hru_means\\mpi_echam5.20c3m.1981-2000.aug.animation.hru_means.nhru...\n",
        "writing D:/ATLData/LMB/LKM_Nov2013_monthly/hru_means\\mpi_echam5.sresb1.2046-2065.aug.animation.hru_means.nhru..."
       ]
      },
      {
       "output_type": "stream",
       "stream": "stdout",
       "text": [
        "\n",
        "writing D:/ATLData/LMB/LKM_Nov2013_monthly/hru_pct_diff\\mpi_echam5.sresb1.2046-2065.aug.animation.hru_pct_diff.nhru..."
       ]
      },
      {
       "output_type": "stream",
       "stream": "stdout",
       "text": [
        "\n",
        "writing D:/ATLData/LMB/LKM_Nov2013_monthly/hru_means\\mpi_echam5.sresb1.2081-2100.aug.animation.hru_means.nhru..."
       ]
      },
      {
       "output_type": "stream",
       "stream": "stdout",
       "text": [
        "\n",
        "writing D:/ATLData/LMB/LKM_Nov2013_monthly/hru_pct_diff\\mpi_echam5.sresb1.2081-2100.aug.animation.hru_pct_diff.nhru..."
       ]
      },
      {
       "output_type": "stream",
       "stream": "stdout",
       "text": [
        "\n",
        "writing D:/ATLData/LMB/LKM_Nov2013_monthly/hru_means\\mpi_echam5.sresa1b.2046-2065.aug.animation.hru_means.nhru..."
       ]
      },
      {
       "output_type": "stream",
       "stream": "stdout",
       "text": [
        "\n",
        "writing D:/ATLData/LMB/LKM_Nov2013_monthly/hru_pct_diff\\mpi_echam5.sresa1b.2046-2065.aug.animation.hru_pct_diff.nhru..."
       ]
      },
      {
       "output_type": "stream",
       "stream": "stdout",
       "text": [
        "\n",
        "writing D:/ATLData/LMB/LKM_Nov2013_monthly/hru_means\\mpi_echam5.sresa2.2046-2065.aug.animation.hru_means.nhru..."
       ]
      },
      {
       "output_type": "stream",
       "stream": "stdout",
       "text": [
        "\n",
        "writing D:/ATLData/LMB/LKM_Nov2013_monthly/hru_pct_diff\\mpi_echam5.sresa2.2046-2065.aug.animation.hru_pct_diff.nhru..."
       ]
      },
      {
       "output_type": "stream",
       "stream": "stdout",
       "text": [
        "\n",
        "writing D:/ATLData/LMB/LKM_Nov2013_monthly/hru_means\\mpi_echam5.sresa1b.2081-2100.aug.animation.hru_means.nhru..."
       ]
      },
      {
       "output_type": "stream",
       "stream": "stdout",
       "text": [
        "\n",
        "writing D:/ATLData/LMB/LKM_Nov2013_monthly/hru_pct_diff\\mpi_echam5.sresa1b.2081-2100.aug.animation.hru_pct_diff.nhru..."
       ]
      },
      {
       "output_type": "stream",
       "stream": "stdout",
       "text": [
        "\n",
        "writing D:/ATLData/LMB/LKM_Nov2013_monthly/hru_means\\mpi_echam5.sresa2.2081-2100.aug.animation.hru_means.nhru..."
       ]
      },
      {
       "output_type": "stream",
       "stream": "stdout",
       "text": [
        "\n",
        "writing D:/ATLData/LMB/LKM_Nov2013_monthly/hru_pct_diff\\mpi_echam5.sresa2.2081-2100.aug.animation.hru_pct_diff.nhru..."
       ]
      },
      {
       "output_type": "stream",
       "stream": "stdout",
       "text": [
        "\n",
        "reading D:/ATLData/LMB/LKM_Nov2013_monthly_animation_output\\mpi_echam5.sresa1b.2046-2065.sep.animation.nhru..."
       ]
      },
      {
       "output_type": "stream",
       "stream": "stdout",
       "text": [
        "\n",
        "reading D:/ATLData/LMB/LKM_Nov2013_monthly_animation_output\\mpi_echam5.sresa1b.2081-2100.sep.animation.nhru..."
       ]
      },
      {
       "output_type": "stream",
       "stream": "stdout",
       "text": [
        "\n",
        "reading D:/ATLData/LMB/LKM_Nov2013_monthly_animation_output\\mpi_echam5.sresa2.2046-2065.sep.animation.nhru..."
       ]
      },
      {
       "output_type": "stream",
       "stream": "stdout",
       "text": [
        "\n",
        "reading D:/ATLData/LMB/LKM_Nov2013_monthly_animation_output\\mpi_echam5.sresa2.2081-2100.sep.animation.nhru..."
       ]
      },
      {
       "output_type": "stream",
       "stream": "stdout",
       "text": [
        "\n",
        "reading D:/ATLData/LMB/LKM_Nov2013_monthly_animation_output\\mpi_echam5.sresb1.2046-2065.sep.animation.nhru..."
       ]
      },
      {
       "output_type": "stream",
       "stream": "stdout",
       "text": [
        "\n",
        "reading D:/ATLData/LMB/LKM_Nov2013_monthly_animation_output\\mpi_echam5.sresb1.2081-2100.sep.animation.nhru..."
       ]
      },
      {
       "output_type": "stream",
       "stream": "stdout",
       "text": [
        "\n",
        "reading D:/ATLData/LMB/LKM_Nov2013_monthly_animation_output\\mpi_echam5.20c3m.1981-2000.sep.animation.nhru..."
       ]
      },
      {
       "output_type": "stream",
       "stream": "stdout",
       "text": [
        "\n",
        "Warning, nan values found in percent differences. See error_file."
       ]
      },
      {
       "output_type": "stream",
       "stream": "stdout",
       "text": [
        "\n",
        "writing D:/ATLData/LMB/LKM_Nov2013_monthly/hru_means\\mpi_echam5.20c3m.1981-2000.sep.animation.hru_means.nhru...\n",
        "writing D:/ATLData/LMB/LKM_Nov2013_monthly/hru_means\\mpi_echam5.sresa2.2081-2100.sep.animation.hru_means.nhru..."
       ]
      },
      {
       "output_type": "stream",
       "stream": "stdout",
       "text": [
        "\n",
        "writing D:/ATLData/LMB/LKM_Nov2013_monthly/hru_pct_diff\\mpi_echam5.sresa2.2081-2100.sep.animation.hru_pct_diff.nhru..."
       ]
      },
      {
       "output_type": "stream",
       "stream": "stdout",
       "text": [
        "\n",
        "writing D:/ATLData/LMB/LKM_Nov2013_monthly/hru_means\\mpi_echam5.sresb1.2081-2100.sep.animation.hru_means.nhru..."
       ]
      },
      {
       "output_type": "stream",
       "stream": "stdout",
       "text": [
        "\n",
        "writing D:/ATLData/LMB/LKM_Nov2013_monthly/hru_pct_diff\\mpi_echam5.sresb1.2081-2100.sep.animation.hru_pct_diff.nhru..."
       ]
      },
      {
       "output_type": "stream",
       "stream": "stdout",
       "text": [
        "\n",
        "writing D:/ATLData/LMB/LKM_Nov2013_monthly/hru_means\\mpi_echam5.sresa1b.2081-2100.sep.animation.hru_means.nhru..."
       ]
      },
      {
       "output_type": "stream",
       "stream": "stdout",
       "text": [
        "\n",
        "writing D:/ATLData/LMB/LKM_Nov2013_monthly/hru_pct_diff\\mpi_echam5.sresa1b.2081-2100.sep.animation.hru_pct_diff.nhru..."
       ]
      },
      {
       "output_type": "stream",
       "stream": "stdout",
       "text": [
        "\n",
        "writing D:/ATLData/LMB/LKM_Nov2013_monthly/hru_means\\mpi_echam5.sresa1b.2046-2065.sep.animation.hru_means.nhru..."
       ]
      },
      {
       "output_type": "stream",
       "stream": "stdout",
       "text": [
        "\n",
        "writing D:/ATLData/LMB/LKM_Nov2013_monthly/hru_pct_diff\\mpi_echam5.sresa1b.2046-2065.sep.animation.hru_pct_diff.nhru..."
       ]
      },
      {
       "output_type": "stream",
       "stream": "stdout",
       "text": [
        "\n",
        "writing D:/ATLData/LMB/LKM_Nov2013_monthly/hru_means\\mpi_echam5.sresb1.2046-2065.sep.animation.hru_means.nhru..."
       ]
      },
      {
       "output_type": "stream",
       "stream": "stdout",
       "text": [
        "\n",
        "writing D:/ATLData/LMB/LKM_Nov2013_monthly/hru_pct_diff\\mpi_echam5.sresb1.2046-2065.sep.animation.hru_pct_diff.nhru..."
       ]
      },
      {
       "output_type": "stream",
       "stream": "stdout",
       "text": [
        "\n",
        "writing D:/ATLData/LMB/LKM_Nov2013_monthly/hru_means\\mpi_echam5.sresa2.2046-2065.sep.animation.hru_means.nhru..."
       ]
      },
      {
       "output_type": "stream",
       "stream": "stdout",
       "text": [
        "\n",
        "writing D:/ATLData/LMB/LKM_Nov2013_monthly/hru_pct_diff\\mpi_echam5.sresa2.2046-2065.sep.animation.hru_pct_diff.nhru..."
       ]
      },
      {
       "output_type": "stream",
       "stream": "stdout",
       "text": [
        "\n",
        "reading D:/ATLData/LMB/LKM_Nov2013_monthly_animation_output\\mpi_echam5.sresa1b.2046-2065.apr.animation.nhru..."
       ]
      },
      {
       "output_type": "stream",
       "stream": "stdout",
       "text": [
        "\n",
        "reading D:/ATLData/LMB/LKM_Nov2013_monthly_animation_output\\mpi_echam5.sresa1b.2081-2100.apr.animation.nhru..."
       ]
      },
      {
       "output_type": "stream",
       "stream": "stdout",
       "text": [
        "\n",
        "reading D:/ATLData/LMB/LKM_Nov2013_monthly_animation_output\\mpi_echam5.sresa2.2046-2065.apr.animation.nhru..."
       ]
      },
      {
       "output_type": "stream",
       "stream": "stdout",
       "text": [
        "\n",
        "reading D:/ATLData/LMB/LKM_Nov2013_monthly_animation_output\\mpi_echam5.sresa2.2081-2100.apr.animation.nhru..."
       ]
      },
      {
       "output_type": "stream",
       "stream": "stdout",
       "text": [
        "\n",
        "reading D:/ATLData/LMB/LKM_Nov2013_monthly_animation_output\\mpi_echam5.sresb1.2046-2065.apr.animation.nhru..."
       ]
      },
      {
       "output_type": "stream",
       "stream": "stdout",
       "text": [
        "\n",
        "reading D:/ATLData/LMB/LKM_Nov2013_monthly_animation_output\\mpi_echam5.sresb1.2081-2100.apr.animation.nhru..."
       ]
      },
      {
       "output_type": "stream",
       "stream": "stdout",
       "text": [
        "\n",
        "reading D:/ATLData/LMB/LKM_Nov2013_monthly_animation_output\\mpi_echam5.20c3m.1981-2000.apr.animation.nhru..."
       ]
      },
      {
       "output_type": "stream",
       "stream": "stdout",
       "text": [
        "\n",
        "Warning, nan values found in percent differences. See error_file."
       ]
      },
      {
       "output_type": "stream",
       "stream": "stdout",
       "text": [
        "\n",
        "writing D:/ATLData/LMB/LKM_Nov2013_monthly/hru_means\\mpi_echam5.20c3m.1981-2000.apr.animation.hru_means.nhru...\n",
        "writing D:/ATLData/LMB/LKM_Nov2013_monthly/hru_means\\mpi_echam5.sresb1.2081-2100.apr.animation.hru_means.nhru..."
       ]
      },
      {
       "output_type": "stream",
       "stream": "stdout",
       "text": [
        "\n",
        "writing D:/ATLData/LMB/LKM_Nov2013_monthly/hru_pct_diff\\mpi_echam5.sresb1.2081-2100.apr.animation.hru_pct_diff.nhru..."
       ]
      },
      {
       "output_type": "stream",
       "stream": "stdout",
       "text": [
        "\n",
        "writing D:/ATLData/LMB/LKM_Nov2013_monthly/hru_means\\mpi_echam5.sresa2.2081-2100.apr.animation.hru_means.nhru..."
       ]
      },
      {
       "output_type": "stream",
       "stream": "stdout",
       "text": [
        "\n",
        "writing D:/ATLData/LMB/LKM_Nov2013_monthly/hru_pct_diff\\mpi_echam5.sresa2.2081-2100.apr.animation.hru_pct_diff.nhru..."
       ]
      },
      {
       "output_type": "stream",
       "stream": "stdout",
       "text": [
        "\n",
        "writing D:/ATLData/LMB/LKM_Nov2013_monthly/hru_means\\mpi_echam5.sresb1.2046-2065.apr.animation.hru_means.nhru..."
       ]
      },
      {
       "output_type": "stream",
       "stream": "stdout",
       "text": [
        "\n",
        "writing D:/ATLData/LMB/LKM_Nov2013_monthly/hru_pct_diff\\mpi_echam5.sresb1.2046-2065.apr.animation.hru_pct_diff.nhru..."
       ]
      },
      {
       "output_type": "stream",
       "stream": "stdout",
       "text": [
        "\n",
        "writing D:/ATLData/LMB/LKM_Nov2013_monthly/hru_means\\mpi_echam5.sresa2.2046-2065.apr.animation.hru_means.nhru..."
       ]
      },
      {
       "output_type": "stream",
       "stream": "stdout",
       "text": [
        "\n",
        "writing D:/ATLData/LMB/LKM_Nov2013_monthly/hru_pct_diff\\mpi_echam5.sresa2.2046-2065.apr.animation.hru_pct_diff.nhru..."
       ]
      },
      {
       "output_type": "stream",
       "stream": "stdout",
       "text": [
        "\n",
        "writing D:/ATLData/LMB/LKM_Nov2013_monthly/hru_means\\mpi_echam5.sresa1b.2081-2100.apr.animation.hru_means.nhru..."
       ]
      },
      {
       "output_type": "stream",
       "stream": "stdout",
       "text": [
        "\n",
        "writing D:/ATLData/LMB/LKM_Nov2013_monthly/hru_pct_diff\\mpi_echam5.sresa1b.2081-2100.apr.animation.hru_pct_diff.nhru..."
       ]
      },
      {
       "output_type": "stream",
       "stream": "stdout",
       "text": [
        "\n",
        "writing D:/ATLData/LMB/LKM_Nov2013_monthly/hru_means\\mpi_echam5.sresa1b.2046-2065.apr.animation.hru_means.nhru..."
       ]
      },
      {
       "output_type": "stream",
       "stream": "stdout",
       "text": [
        "\n",
        "writing D:/ATLData/LMB/LKM_Nov2013_monthly/hru_pct_diff\\mpi_echam5.sresa1b.2046-2065.apr.animation.hru_pct_diff.nhru..."
       ]
      },
      {
       "output_type": "stream",
       "stream": "stdout",
       "text": [
        "\n",
        "reading D:/ATLData/LMB/LKM_Nov2013_monthly_animation_output\\mpi_echam5.sresa1b.2046-2065.jun.animation.nhru..."
       ]
      },
      {
       "output_type": "stream",
       "stream": "stdout",
       "text": [
        "\n",
        "reading D:/ATLData/LMB/LKM_Nov2013_monthly_animation_output\\mpi_echam5.sresa1b.2081-2100.jun.animation.nhru..."
       ]
      },
      {
       "output_type": "stream",
       "stream": "stdout",
       "text": [
        "\n",
        "reading D:/ATLData/LMB/LKM_Nov2013_monthly_animation_output\\mpi_echam5.sresa2.2046-2065.jun.animation.nhru..."
       ]
      },
      {
       "output_type": "stream",
       "stream": "stdout",
       "text": [
        "\n",
        "reading D:/ATLData/LMB/LKM_Nov2013_monthly_animation_output\\mpi_echam5.sresa2.2081-2100.jun.animation.nhru..."
       ]
      },
      {
       "output_type": "stream",
       "stream": "stdout",
       "text": [
        "\n",
        "reading D:/ATLData/LMB/LKM_Nov2013_monthly_animation_output\\mpi_echam5.sresb1.2046-2065.jun.animation.nhru..."
       ]
      },
      {
       "output_type": "stream",
       "stream": "stdout",
       "text": [
        "\n",
        "reading D:/ATLData/LMB/LKM_Nov2013_monthly_animation_output\\mpi_echam5.sresb1.2081-2100.jun.animation.nhru..."
       ]
      },
      {
       "output_type": "stream",
       "stream": "stdout",
       "text": [
        "\n",
        "reading D:/ATLData/LMB/LKM_Nov2013_monthly_animation_output\\mpi_echam5.20c3m.1981-2000.jun.animation.nhru..."
       ]
      },
      {
       "output_type": "stream",
       "stream": "stdout",
       "text": [
        "\n",
        "Warning, nan values found in percent differences. See error_file."
       ]
      },
      {
       "output_type": "stream",
       "stream": "stdout",
       "text": [
        "\n",
        "writing D:/ATLData/LMB/LKM_Nov2013_monthly/hru_means\\mpi_echam5.20c3m.1981-2000.jun.animation.hru_means.nhru...\n",
        "writing D:/ATLData/LMB/LKM_Nov2013_monthly/hru_means\\mpi_echam5.sresa2.2081-2100.jun.animation.hru_means.nhru..."
       ]
      },
      {
       "output_type": "stream",
       "stream": "stdout",
       "text": [
        "\n",
        "writing D:/ATLData/LMB/LKM_Nov2013_monthly/hru_pct_diff\\mpi_echam5.sresa2.2081-2100.jun.animation.hru_pct_diff.nhru..."
       ]
      },
      {
       "output_type": "stream",
       "stream": "stdout",
       "text": [
        "\n",
        "writing D:/ATLData/LMB/LKM_Nov2013_monthly/hru_means\\mpi_echam5.sresa2.2046-2065.jun.animation.hru_means.nhru..."
       ]
      },
      {
       "output_type": "stream",
       "stream": "stdout",
       "text": [
        "\n",
        "writing D:/ATLData/LMB/LKM_Nov2013_monthly/hru_pct_diff\\mpi_echam5.sresa2.2046-2065.jun.animation.hru_pct_diff.nhru..."
       ]
      },
      {
       "output_type": "stream",
       "stream": "stdout",
       "text": [
        "\n",
        "writing D:/ATLData/LMB/LKM_Nov2013_monthly/hru_means\\mpi_echam5.sresb1.2081-2100.jun.animation.hru_means.nhru..."
       ]
      },
      {
       "output_type": "stream",
       "stream": "stdout",
       "text": [
        "\n",
        "writing D:/ATLData/LMB/LKM_Nov2013_monthly/hru_pct_diff\\mpi_echam5.sresb1.2081-2100.jun.animation.hru_pct_diff.nhru..."
       ]
      },
      {
       "output_type": "stream",
       "stream": "stdout",
       "text": [
        "\n",
        "writing D:/ATLData/LMB/LKM_Nov2013_monthly/hru_means\\mpi_echam5.sresa1b.2046-2065.jun.animation.hru_means.nhru..."
       ]
      },
      {
       "output_type": "stream",
       "stream": "stdout",
       "text": [
        "\n",
        "writing D:/ATLData/LMB/LKM_Nov2013_monthly/hru_pct_diff\\mpi_echam5.sresa1b.2046-2065.jun.animation.hru_pct_diff.nhru..."
       ]
      },
      {
       "output_type": "stream",
       "stream": "stdout",
       "text": [
        "\n",
        "writing D:/ATLData/LMB/LKM_Nov2013_monthly/hru_means\\mpi_echam5.sresa1b.2081-2100.jun.animation.hru_means.nhru..."
       ]
      },
      {
       "output_type": "stream",
       "stream": "stdout",
       "text": [
        "\n",
        "writing D:/ATLData/LMB/LKM_Nov2013_monthly/hru_pct_diff\\mpi_echam5.sresa1b.2081-2100.jun.animation.hru_pct_diff.nhru..."
       ]
      },
      {
       "output_type": "stream",
       "stream": "stdout",
       "text": [
        "\n",
        "writing D:/ATLData/LMB/LKM_Nov2013_monthly/hru_means\\mpi_echam5.sresb1.2046-2065.jun.animation.hru_means.nhru..."
       ]
      },
      {
       "output_type": "stream",
       "stream": "stdout",
       "text": [
        "\n",
        "writing D:/ATLData/LMB/LKM_Nov2013_monthly/hru_pct_diff\\mpi_echam5.sresb1.2046-2065.jun.animation.hru_pct_diff.nhru..."
       ]
      },
      {
       "output_type": "stream",
       "stream": "stdout",
       "text": [
        "\n",
        "reading D:/ATLData/LMB/LKM_Nov2013_monthly_animation_output\\mpi_echam5.sresa1b.2046-2065.jul.animation.nhru..."
       ]
      },
      {
       "output_type": "stream",
       "stream": "stdout",
       "text": [
        "\n",
        "reading D:/ATLData/LMB/LKM_Nov2013_monthly_animation_output\\mpi_echam5.sresa1b.2081-2100.jul.animation.nhru..."
       ]
      },
      {
       "output_type": "stream",
       "stream": "stdout",
       "text": [
        "\n",
        "reading D:/ATLData/LMB/LKM_Nov2013_monthly_animation_output\\mpi_echam5.sresa2.2046-2065.jul.animation.nhru..."
       ]
      },
      {
       "output_type": "stream",
       "stream": "stdout",
       "text": [
        "\n",
        "reading D:/ATLData/LMB/LKM_Nov2013_monthly_animation_output\\mpi_echam5.sresa2.2081-2100.jul.animation.nhru..."
       ]
      },
      {
       "output_type": "stream",
       "stream": "stdout",
       "text": [
        "\n",
        "reading D:/ATLData/LMB/LKM_Nov2013_monthly_animation_output\\mpi_echam5.sresb1.2046-2065.jul.animation.nhru..."
       ]
      },
      {
       "output_type": "stream",
       "stream": "stdout",
       "text": [
        "\n",
        "reading D:/ATLData/LMB/LKM_Nov2013_monthly_animation_output\\mpi_echam5.sresb1.2081-2100.jul.animation.nhru..."
       ]
      },
      {
       "output_type": "stream",
       "stream": "stdout",
       "text": [
        "\n",
        "reading D:/ATLData/LMB/LKM_Nov2013_monthly_animation_output\\mpi_echam5.20c3m.1981-2000.jul.animation.nhru..."
       ]
      },
      {
       "output_type": "stream",
       "stream": "stdout",
       "text": [
        "\n",
        "Warning, nan values found in percent differences. See error_file."
       ]
      },
      {
       "output_type": "stream",
       "stream": "stdout",
       "text": [
        "\n",
        "writing D:/ATLData/LMB/LKM_Nov2013_monthly/hru_means\\mpi_echam5.20c3m.1981-2000.jul.animation.hru_means.nhru...\n",
        "writing D:/ATLData/LMB/LKM_Nov2013_monthly/hru_means\\mpi_echam5.sresa1b.2046-2065.jul.animation.hru_means.nhru..."
       ]
      },
      {
       "output_type": "stream",
       "stream": "stdout",
       "text": [
        "\n",
        "writing D:/ATLData/LMB/LKM_Nov2013_monthly/hru_pct_diff\\mpi_echam5.sresa1b.2046-2065.jul.animation.hru_pct_diff.nhru..."
       ]
      },
      {
       "output_type": "stream",
       "stream": "stdout",
       "text": [
        "\n",
        "writing D:/ATLData/LMB/LKM_Nov2013_monthly/hru_means\\mpi_echam5.sresb1.2046-2065.jul.animation.hru_means.nhru..."
       ]
      },
      {
       "output_type": "stream",
       "stream": "stdout",
       "text": [
        "\n",
        "writing D:/ATLData/LMB/LKM_Nov2013_monthly/hru_pct_diff\\mpi_echam5.sresb1.2046-2065.jul.animation.hru_pct_diff.nhru..."
       ]
      },
      {
       "output_type": "stream",
       "stream": "stdout",
       "text": [
        "\n",
        "writing D:/ATLData/LMB/LKM_Nov2013_monthly/hru_means\\mpi_echam5.sresa2.2046-2065.jul.animation.hru_means.nhru..."
       ]
      },
      {
       "output_type": "stream",
       "stream": "stdout",
       "text": [
        "\n",
        "writing D:/ATLData/LMB/LKM_Nov2013_monthly/hru_pct_diff\\mpi_echam5.sresa2.2046-2065.jul.animation.hru_pct_diff.nhru..."
       ]
      },
      {
       "output_type": "stream",
       "stream": "stdout",
       "text": [
        "\n",
        "writing D:/ATLData/LMB/LKM_Nov2013_monthly/hru_means\\mpi_echam5.sresa1b.2081-2100.jul.animation.hru_means.nhru..."
       ]
      },
      {
       "output_type": "stream",
       "stream": "stdout",
       "text": [
        "\n",
        "writing D:/ATLData/LMB/LKM_Nov2013_monthly/hru_pct_diff\\mpi_echam5.sresa1b.2081-2100.jul.animation.hru_pct_diff.nhru..."
       ]
      },
      {
       "output_type": "stream",
       "stream": "stdout",
       "text": [
        "\n",
        "writing D:/ATLData/LMB/LKM_Nov2013_monthly/hru_means\\mpi_echam5.sresb1.2081-2100.jul.animation.hru_means.nhru..."
       ]
      },
      {
       "output_type": "stream",
       "stream": "stdout",
       "text": [
        "\n",
        "writing D:/ATLData/LMB/LKM_Nov2013_monthly/hru_pct_diff\\mpi_echam5.sresb1.2081-2100.jul.animation.hru_pct_diff.nhru..."
       ]
      },
      {
       "output_type": "stream",
       "stream": "stdout",
       "text": [
        "\n",
        "writing D:/ATLData/LMB/LKM_Nov2013_monthly/hru_means\\mpi_echam5.sresa2.2081-2100.jul.animation.hru_means.nhru..."
       ]
      },
      {
       "output_type": "stream",
       "stream": "stdout",
       "text": [
        "\n",
        "writing D:/ATLData/LMB/LKM_Nov2013_monthly/hru_pct_diff\\mpi_echam5.sresa2.2081-2100.jul.animation.hru_pct_diff.nhru..."
       ]
      },
      {
       "output_type": "stream",
       "stream": "stdout",
       "text": [
        "\n",
        "reading D:/ATLData/LMB/LKM_Nov2013_monthly_animation_output\\mpi_echam5.sresa1b.2046-2065.jan.animation.nhru..."
       ]
      },
      {
       "output_type": "stream",
       "stream": "stdout",
       "text": [
        "\n",
        "reading D:/ATLData/LMB/LKM_Nov2013_monthly_animation_output\\mpi_echam5.sresa1b.2081-2100.jan.animation.nhru..."
       ]
      },
      {
       "output_type": "stream",
       "stream": "stdout",
       "text": [
        "\n",
        "reading D:/ATLData/LMB/LKM_Nov2013_monthly_animation_output\\mpi_echam5.sresa2.2046-2065.jan.animation.nhru..."
       ]
      },
      {
       "output_type": "stream",
       "stream": "stdout",
       "text": [
        "\n",
        "reading D:/ATLData/LMB/LKM_Nov2013_monthly_animation_output\\mpi_echam5.sresa2.2081-2100.jan.animation.nhru..."
       ]
      },
      {
       "output_type": "stream",
       "stream": "stdout",
       "text": [
        "\n",
        "reading D:/ATLData/LMB/LKM_Nov2013_monthly_animation_output\\mpi_echam5.sresb1.2046-2065.jan.animation.nhru..."
       ]
      },
      {
       "output_type": "stream",
       "stream": "stdout",
       "text": [
        "\n",
        "reading D:/ATLData/LMB/LKM_Nov2013_monthly_animation_output\\mpi_echam5.sresb1.2081-2100.jan.animation.nhru..."
       ]
      },
      {
       "output_type": "stream",
       "stream": "stdout",
       "text": [
        "\n",
        "reading D:/ATLData/LMB/LKM_Nov2013_monthly_animation_output\\mpi_echam5.20c3m.1981-2000.jan.animation.nhru..."
       ]
      },
      {
       "output_type": "stream",
       "stream": "stdout",
       "text": [
        "\n",
        "Warning, nan values found in percent differences. See error_file."
       ]
      },
      {
       "output_type": "stream",
       "stream": "stdout",
       "text": [
        "\n",
        "writing D:/ATLData/LMB/LKM_Nov2013_monthly/hru_means\\mpi_echam5.20c3m.1981-2000.jan.animation.hru_means.nhru...\n",
        "writing D:/ATLData/LMB/LKM_Nov2013_monthly/hru_means\\mpi_echam5.sresa1b.2046-2065.jan.animation.hru_means.nhru..."
       ]
      },
      {
       "output_type": "stream",
       "stream": "stdout",
       "text": [
        "\n",
        "writing D:/ATLData/LMB/LKM_Nov2013_monthly/hru_pct_diff\\mpi_echam5.sresa1b.2046-2065.jan.animation.hru_pct_diff.nhru..."
       ]
      },
      {
       "output_type": "stream",
       "stream": "stdout",
       "text": [
        "\n",
        "writing D:/ATLData/LMB/LKM_Nov2013_monthly/hru_means\\mpi_echam5.sresa2.2046-2065.jan.animation.hru_means.nhru..."
       ]
      },
      {
       "output_type": "stream",
       "stream": "stdout",
       "text": [
        "\n",
        "writing D:/ATLData/LMB/LKM_Nov2013_monthly/hru_pct_diff\\mpi_echam5.sresa2.2046-2065.jan.animation.hru_pct_diff.nhru..."
       ]
      },
      {
       "output_type": "stream",
       "stream": "stdout",
       "text": [
        "\n",
        "writing D:/ATLData/LMB/LKM_Nov2013_monthly/hru_means\\mpi_echam5.sresa1b.2081-2100.jan.animation.hru_means.nhru..."
       ]
      },
      {
       "output_type": "stream",
       "stream": "stdout",
       "text": [
        "\n",
        "writing D:/ATLData/LMB/LKM_Nov2013_monthly/hru_pct_diff\\mpi_echam5.sresa1b.2081-2100.jan.animation.hru_pct_diff.nhru..."
       ]
      },
      {
       "output_type": "stream",
       "stream": "stdout",
       "text": [
        "\n",
        "writing D:/ATLData/LMB/LKM_Nov2013_monthly/hru_means\\mpi_echam5.sresb1.2046-2065.jan.animation.hru_means.nhru..."
       ]
      },
      {
       "output_type": "stream",
       "stream": "stdout",
       "text": [
        "\n",
        "writing D:/ATLData/LMB/LKM_Nov2013_monthly/hru_pct_diff\\mpi_echam5.sresb1.2046-2065.jan.animation.hru_pct_diff.nhru..."
       ]
      },
      {
       "output_type": "stream",
       "stream": "stdout",
       "text": [
        "\n",
        "writing D:/ATLData/LMB/LKM_Nov2013_monthly/hru_means\\mpi_echam5.sresa2.2081-2100.jan.animation.hru_means.nhru..."
       ]
      },
      {
       "output_type": "stream",
       "stream": "stdout",
       "text": [
        "\n",
        "writing D:/ATLData/LMB/LKM_Nov2013_monthly/hru_pct_diff\\mpi_echam5.sresa2.2081-2100.jan.animation.hru_pct_diff.nhru..."
       ]
      },
      {
       "output_type": "stream",
       "stream": "stdout",
       "text": [
        "\n",
        "writing D:/ATLData/LMB/LKM_Nov2013_monthly/hru_means\\mpi_echam5.sresb1.2081-2100.jan.animation.hru_means.nhru..."
       ]
      },
      {
       "output_type": "stream",
       "stream": "stdout",
       "text": [
        "\n",
        "writing D:/ATLData/LMB/LKM_Nov2013_monthly/hru_pct_diff\\mpi_echam5.sresb1.2081-2100.jan.animation.hru_pct_diff.nhru..."
       ]
      },
      {
       "output_type": "stream",
       "stream": "stdout",
       "text": [
        "\n",
        "reading D:/ATLData/LMB/LKM_Nov2013_monthly_animation_output\\mpi_echam5.sresa1b.2046-2065.may.animation.nhru..."
       ]
      },
      {
       "output_type": "stream",
       "stream": "stdout",
       "text": [
        "\n",
        "reading D:/ATLData/LMB/LKM_Nov2013_monthly_animation_output\\mpi_echam5.sresa1b.2081-2100.may.animation.nhru..."
       ]
      },
      {
       "output_type": "stream",
       "stream": "stdout",
       "text": [
        "\n",
        "reading D:/ATLData/LMB/LKM_Nov2013_monthly_animation_output\\mpi_echam5.sresa2.2046-2065.may.animation.nhru..."
       ]
      },
      {
       "output_type": "stream",
       "stream": "stdout",
       "text": [
        "\n",
        "reading D:/ATLData/LMB/LKM_Nov2013_monthly_animation_output\\mpi_echam5.sresa2.2081-2100.may.animation.nhru..."
       ]
      },
      {
       "output_type": "stream",
       "stream": "stdout",
       "text": [
        "\n",
        "reading D:/ATLData/LMB/LKM_Nov2013_monthly_animation_output\\mpi_echam5.sresb1.2046-2065.may.animation.nhru..."
       ]
      },
      {
       "output_type": "stream",
       "stream": "stdout",
       "text": [
        "\n",
        "reading D:/ATLData/LMB/LKM_Nov2013_monthly_animation_output\\mpi_echam5.sresb1.2081-2100.may.animation.nhru..."
       ]
      },
      {
       "output_type": "stream",
       "stream": "stdout",
       "text": [
        "\n",
        "reading D:/ATLData/LMB/LKM_Nov2013_monthly_animation_output\\mpi_echam5.20c3m.1981-2000.may.animation.nhru..."
       ]
      },
      {
       "output_type": "stream",
       "stream": "stdout",
       "text": [
        "\n",
        "Warning, nan values found in percent differences. See error_file."
       ]
      },
      {
       "output_type": "stream",
       "stream": "stdout",
       "text": [
        "\n",
        "writing D:/ATLData/LMB/LKM_Nov2013_monthly/hru_means\\mpi_echam5.20c3m.1981-2000.may.animation.hru_means.nhru...\n",
        "writing D:/ATLData/LMB/LKM_Nov2013_monthly/hru_means\\mpi_echam5.sresa1b.2046-2065.may.animation.hru_means.nhru..."
       ]
      },
      {
       "output_type": "stream",
       "stream": "stdout",
       "text": [
        "\n",
        "writing D:/ATLData/LMB/LKM_Nov2013_monthly/hru_pct_diff\\mpi_echam5.sresa1b.2046-2065.may.animation.hru_pct_diff.nhru..."
       ]
      },
      {
       "output_type": "stream",
       "stream": "stdout",
       "text": [
        "\n",
        "writing D:/ATLData/LMB/LKM_Nov2013_monthly/hru_means\\mpi_echam5.sresa2.2046-2065.may.animation.hru_means.nhru..."
       ]
      },
      {
       "output_type": "stream",
       "stream": "stdout",
       "text": [
        "\n",
        "writing D:/ATLData/LMB/LKM_Nov2013_monthly/hru_pct_diff\\mpi_echam5.sresa2.2046-2065.may.animation.hru_pct_diff.nhru..."
       ]
      },
      {
       "output_type": "stream",
       "stream": "stdout",
       "text": [
        "\n",
        "writing D:/ATLData/LMB/LKM_Nov2013_monthly/hru_means\\mpi_echam5.sresa1b.2081-2100.may.animation.hru_means.nhru..."
       ]
      },
      {
       "output_type": "stream",
       "stream": "stdout",
       "text": [
        "\n",
        "writing D:/ATLData/LMB/LKM_Nov2013_monthly/hru_pct_diff\\mpi_echam5.sresa1b.2081-2100.may.animation.hru_pct_diff.nhru..."
       ]
      },
      {
       "output_type": "stream",
       "stream": "stdout",
       "text": [
        "\n",
        "writing D:/ATLData/LMB/LKM_Nov2013_monthly/hru_means\\mpi_echam5.sresb1.2081-2100.may.animation.hru_means.nhru..."
       ]
      },
      {
       "output_type": "stream",
       "stream": "stdout",
       "text": [
        "\n",
        "writing D:/ATLData/LMB/LKM_Nov2013_monthly/hru_pct_diff\\mpi_echam5.sresb1.2081-2100.may.animation.hru_pct_diff.nhru..."
       ]
      },
      {
       "output_type": "stream",
       "stream": "stdout",
       "text": [
        "\n",
        "writing D:/ATLData/LMB/LKM_Nov2013_monthly/hru_means\\mpi_echam5.sresa2.2081-2100.may.animation.hru_means.nhru..."
       ]
      },
      {
       "output_type": "stream",
       "stream": "stdout",
       "text": [
        "\n",
        "writing D:/ATLData/LMB/LKM_Nov2013_monthly/hru_pct_diff\\mpi_echam5.sresa2.2081-2100.may.animation.hru_pct_diff.nhru..."
       ]
      },
      {
       "output_type": "stream",
       "stream": "stdout",
       "text": [
        "\n",
        "writing D:/ATLData/LMB/LKM_Nov2013_monthly/hru_means\\mpi_echam5.sresb1.2046-2065.may.animation.hru_means.nhru..."
       ]
      },
      {
       "output_type": "stream",
       "stream": "stdout",
       "text": [
        "\n",
        "writing D:/ATLData/LMB/LKM_Nov2013_monthly/hru_pct_diff\\mpi_echam5.sresb1.2046-2065.may.animation.hru_pct_diff.nhru..."
       ]
      },
      {
       "output_type": "stream",
       "stream": "stdout",
       "text": [
        "\n",
        "reading D:/ATLData/LMB/LKM_Nov2013_monthly_animation_output\\mpi_echam5.sresa1b.2046-2065.nov.animation.nhru..."
       ]
      },
      {
       "output_type": "stream",
       "stream": "stdout",
       "text": [
        "\n",
        "reading D:/ATLData/LMB/LKM_Nov2013_monthly_animation_output\\mpi_echam5.sresa1b.2081-2100.nov.animation.nhru..."
       ]
      },
      {
       "output_type": "stream",
       "stream": "stdout",
       "text": [
        "\n",
        "reading D:/ATLData/LMB/LKM_Nov2013_monthly_animation_output\\mpi_echam5.sresa2.2046-2065.nov.animation.nhru..."
       ]
      },
      {
       "output_type": "stream",
       "stream": "stdout",
       "text": [
        "\n",
        "reading D:/ATLData/LMB/LKM_Nov2013_monthly_animation_output\\mpi_echam5.sresa2.2081-2100.nov.animation.nhru..."
       ]
      },
      {
       "output_type": "stream",
       "stream": "stdout",
       "text": [
        "\n",
        "reading D:/ATLData/LMB/LKM_Nov2013_monthly_animation_output\\mpi_echam5.sresb1.2046-2065.nov.animation.nhru..."
       ]
      },
      {
       "output_type": "stream",
       "stream": "stdout",
       "text": [
        "\n",
        "reading D:/ATLData/LMB/LKM_Nov2013_monthly_animation_output\\mpi_echam5.sresb1.2081-2100.nov.animation.nhru..."
       ]
      },
      {
       "output_type": "stream",
       "stream": "stdout",
       "text": [
        "\n",
        "reading D:/ATLData/LMB/LKM_Nov2013_monthly_animation_output\\mpi_echam5.20c3m.1981-2000.nov.animation.nhru..."
       ]
      },
      {
       "output_type": "stream",
       "stream": "stdout",
       "text": [
        "\n",
        "Warning, nan values found in percent differences. See error_file."
       ]
      },
      {
       "output_type": "stream",
       "stream": "stdout",
       "text": [
        "\n",
        "writing D:/ATLData/LMB/LKM_Nov2013_monthly/hru_means\\mpi_echam5.20c3m.1981-2000.nov.animation.hru_means.nhru...\n",
        "writing D:/ATLData/LMB/LKM_Nov2013_monthly/hru_means\\mpi_echam5.sresa2.2046-2065.nov.animation.hru_means.nhru..."
       ]
      },
      {
       "output_type": "stream",
       "stream": "stdout",
       "text": [
        "\n",
        "writing D:/ATLData/LMB/LKM_Nov2013_monthly/hru_pct_diff\\mpi_echam5.sresa2.2046-2065.nov.animation.hru_pct_diff.nhru..."
       ]
      },
      {
       "output_type": "stream",
       "stream": "stdout",
       "text": [
        "\n",
        "writing D:/ATLData/LMB/LKM_Nov2013_monthly/hru_means\\mpi_echam5.sresa2.2081-2100.nov.animation.hru_means.nhru..."
       ]
      },
      {
       "output_type": "stream",
       "stream": "stdout",
       "text": [
        "\n",
        "writing D:/ATLData/LMB/LKM_Nov2013_monthly/hru_pct_diff\\mpi_echam5.sresa2.2081-2100.nov.animation.hru_pct_diff.nhru..."
       ]
      },
      {
       "output_type": "stream",
       "stream": "stdout",
       "text": [
        "\n",
        "writing D:/ATLData/LMB/LKM_Nov2013_monthly/hru_means\\mpi_echam5.sresb1.2046-2065.nov.animation.hru_means.nhru..."
       ]
      },
      {
       "output_type": "stream",
       "stream": "stdout",
       "text": [
        "\n",
        "writing D:/ATLData/LMB/LKM_Nov2013_monthly/hru_pct_diff\\mpi_echam5.sresb1.2046-2065.nov.animation.hru_pct_diff.nhru..."
       ]
      },
      {
       "output_type": "stream",
       "stream": "stdout",
       "text": [
        "\n",
        "writing D:/ATLData/LMB/LKM_Nov2013_monthly/hru_means\\mpi_echam5.sresb1.2081-2100.nov.animation.hru_means.nhru..."
       ]
      },
      {
       "output_type": "stream",
       "stream": "stdout",
       "text": [
        "\n",
        "writing D:/ATLData/LMB/LKM_Nov2013_monthly/hru_pct_diff\\mpi_echam5.sresb1.2081-2100.nov.animation.hru_pct_diff.nhru..."
       ]
      },
      {
       "output_type": "stream",
       "stream": "stdout",
       "text": [
        "\n",
        "writing D:/ATLData/LMB/LKM_Nov2013_monthly/hru_means\\mpi_echam5.sresa1b.2081-2100.nov.animation.hru_means.nhru..."
       ]
      },
      {
       "output_type": "stream",
       "stream": "stdout",
       "text": [
        "\n",
        "writing D:/ATLData/LMB/LKM_Nov2013_monthly/hru_pct_diff\\mpi_echam5.sresa1b.2081-2100.nov.animation.hru_pct_diff.nhru..."
       ]
      },
      {
       "output_type": "stream",
       "stream": "stdout",
       "text": [
        "\n",
        "writing D:/ATLData/LMB/LKM_Nov2013_monthly/hru_means\\mpi_echam5.sresa1b.2046-2065.nov.animation.hru_means.nhru..."
       ]
      },
      {
       "output_type": "stream",
       "stream": "stdout",
       "text": [
        "\n",
        "writing D:/ATLData/LMB/LKM_Nov2013_monthly/hru_pct_diff\\mpi_echam5.sresa1b.2046-2065.nov.animation.hru_pct_diff.nhru..."
       ]
      },
      {
       "output_type": "stream",
       "stream": "stdout",
       "text": [
        "\n",
        "reading D:/ATLData/LMB/LKM_Nov2013_monthly_animation_output\\mpi_echam5.sresa1b.2046-2065.dec.animation.nhru..."
       ]
      },
      {
       "output_type": "stream",
       "stream": "stdout",
       "text": [
        "\n",
        "reading D:/ATLData/LMB/LKM_Nov2013_monthly_animation_output\\mpi_echam5.sresa1b.2081-2100.dec.animation.nhru..."
       ]
      },
      {
       "output_type": "stream",
       "stream": "stdout",
       "text": [
        "\n",
        "reading D:/ATLData/LMB/LKM_Nov2013_monthly_animation_output\\mpi_echam5.sresa2.2046-2065.dec.animation.nhru..."
       ]
      },
      {
       "output_type": "stream",
       "stream": "stdout",
       "text": [
        "\n",
        "reading D:/ATLData/LMB/LKM_Nov2013_monthly_animation_output\\mpi_echam5.sresa2.2081-2100.dec.animation.nhru..."
       ]
      },
      {
       "output_type": "stream",
       "stream": "stdout",
       "text": [
        "\n",
        "reading D:/ATLData/LMB/LKM_Nov2013_monthly_animation_output\\mpi_echam5.sresb1.2046-2065.dec.animation.nhru..."
       ]
      },
      {
       "output_type": "stream",
       "stream": "stdout",
       "text": [
        "\n",
        "reading D:/ATLData/LMB/LKM_Nov2013_monthly_animation_output\\mpi_echam5.sresb1.2081-2100.dec.animation.nhru..."
       ]
      },
      {
       "output_type": "stream",
       "stream": "stdout",
       "text": [
        "\n",
        "reading D:/ATLData/LMB/LKM_Nov2013_monthly_animation_output\\mpi_echam5.20c3m.1981-2000.dec.animation.nhru..."
       ]
      },
      {
       "output_type": "stream",
       "stream": "stdout",
       "text": [
        "\n",
        "Warning, nan values found in percent differences. See error_file."
       ]
      },
      {
       "output_type": "stream",
       "stream": "stdout",
       "text": [
        "\n",
        "writing D:/ATLData/LMB/LKM_Nov2013_monthly/hru_means\\mpi_echam5.20c3m.1981-2000.dec.animation.hru_means.nhru...\n",
        "writing D:/ATLData/LMB/LKM_Nov2013_monthly/hru_means\\mpi_echam5.sresa2.2081-2100.dec.animation.hru_means.nhru..."
       ]
      },
      {
       "output_type": "stream",
       "stream": "stdout",
       "text": [
        "\n",
        "writing D:/ATLData/LMB/LKM_Nov2013_monthly/hru_pct_diff\\mpi_echam5.sresa2.2081-2100.dec.animation.hru_pct_diff.nhru..."
       ]
      },
      {
       "output_type": "stream",
       "stream": "stdout",
       "text": [
        "\n",
        "writing D:/ATLData/LMB/LKM_Nov2013_monthly/hru_means\\mpi_echam5.sresb1.2046-2065.dec.animation.hru_means.nhru..."
       ]
      },
      {
       "output_type": "stream",
       "stream": "stdout",
       "text": [
        "\n",
        "writing D:/ATLData/LMB/LKM_Nov2013_monthly/hru_pct_diff\\mpi_echam5.sresb1.2046-2065.dec.animation.hru_pct_diff.nhru..."
       ]
      },
      {
       "output_type": "stream",
       "stream": "stdout",
       "text": [
        "\n",
        "writing D:/ATLData/LMB/LKM_Nov2013_monthly/hru_means\\mpi_echam5.sresa1b.2081-2100.dec.animation.hru_means.nhru..."
       ]
      },
      {
       "output_type": "stream",
       "stream": "stdout",
       "text": [
        "\n",
        "writing D:/ATLData/LMB/LKM_Nov2013_monthly/hru_pct_diff\\mpi_echam5.sresa1b.2081-2100.dec.animation.hru_pct_diff.nhru..."
       ]
      },
      {
       "output_type": "stream",
       "stream": "stdout",
       "text": [
        "\n",
        "writing D:/ATLData/LMB/LKM_Nov2013_monthly/hru_means\\mpi_echam5.sresa2.2046-2065.dec.animation.hru_means.nhru..."
       ]
      },
      {
       "output_type": "stream",
       "stream": "stdout",
       "text": [
        "\n",
        "writing D:/ATLData/LMB/LKM_Nov2013_monthly/hru_pct_diff\\mpi_echam5.sresa2.2046-2065.dec.animation.hru_pct_diff.nhru..."
       ]
      },
      {
       "output_type": "stream",
       "stream": "stdout",
       "text": [
        "\n",
        "writing D:/ATLData/LMB/LKM_Nov2013_monthly/hru_means\\mpi_echam5.sresb1.2081-2100.dec.animation.hru_means.nhru..."
       ]
      },
      {
       "output_type": "stream",
       "stream": "stdout",
       "text": [
        "\n",
        "writing D:/ATLData/LMB/LKM_Nov2013_monthly/hru_pct_diff\\mpi_echam5.sresb1.2081-2100.dec.animation.hru_pct_diff.nhru..."
       ]
      },
      {
       "output_type": "stream",
       "stream": "stdout",
       "text": [
        "\n",
        "writing D:/ATLData/LMB/LKM_Nov2013_monthly/hru_means\\mpi_echam5.sresa1b.2046-2065.dec.animation.hru_means.nhru..."
       ]
      },
      {
       "output_type": "stream",
       "stream": "stdout",
       "text": [
        "\n",
        "writing D:/ATLData/LMB/LKM_Nov2013_monthly/hru_pct_diff\\mpi_echam5.sresa1b.2046-2065.dec.animation.hru_pct_diff.nhru..."
       ]
      },
      {
       "output_type": "stream",
       "stream": "stdout",
       "text": [
        "\n",
        "reading D:/ATLData/LMB/LKM_Nov2013_monthly_animation_output\\mpi_echam5.sresa1b.2046-2065.oct.animation.nhru..."
       ]
      },
      {
       "output_type": "stream",
       "stream": "stdout",
       "text": [
        "\n",
        "reading D:/ATLData/LMB/LKM_Nov2013_monthly_animation_output\\mpi_echam5.sresa1b.2081-2100.oct.animation.nhru..."
       ]
      },
      {
       "output_type": "stream",
       "stream": "stdout",
       "text": [
        "\n",
        "reading D:/ATLData/LMB/LKM_Nov2013_monthly_animation_output\\mpi_echam5.sresa2.2046-2065.oct.animation.nhru..."
       ]
      },
      {
       "output_type": "stream",
       "stream": "stdout",
       "text": [
        "\n",
        "reading D:/ATLData/LMB/LKM_Nov2013_monthly_animation_output\\mpi_echam5.sresa2.2081-2100.oct.animation.nhru..."
       ]
      },
      {
       "output_type": "stream",
       "stream": "stdout",
       "text": [
        "\n",
        "reading D:/ATLData/LMB/LKM_Nov2013_monthly_animation_output\\mpi_echam5.sresb1.2046-2065.oct.animation.nhru..."
       ]
      },
      {
       "output_type": "stream",
       "stream": "stdout",
       "text": [
        "\n",
        "reading D:/ATLData/LMB/LKM_Nov2013_monthly_animation_output\\mpi_echam5.sresb1.2081-2100.oct.animation.nhru..."
       ]
      },
      {
       "output_type": "stream",
       "stream": "stdout",
       "text": [
        "\n",
        "reading D:/ATLData/LMB/LKM_Nov2013_monthly_animation_output\\mpi_echam5.20c3m.1981-2000.oct.animation.nhru..."
       ]
      },
      {
       "output_type": "stream",
       "stream": "stdout",
       "text": [
        "\n",
        "Warning, nan values found in percent differences. See error_file."
       ]
      },
      {
       "output_type": "stream",
       "stream": "stdout",
       "text": [
        "\n",
        "writing D:/ATLData/LMB/LKM_Nov2013_monthly/hru_means\\mpi_echam5.20c3m.1981-2000.oct.animation.hru_means.nhru...\n",
        "writing D:/ATLData/LMB/LKM_Nov2013_monthly/hru_means\\mpi_echam5.sresb1.2046-2065.oct.animation.hru_means.nhru..."
       ]
      },
      {
       "output_type": "stream",
       "stream": "stdout",
       "text": [
        "\n",
        "writing D:/ATLData/LMB/LKM_Nov2013_monthly/hru_pct_diff\\mpi_echam5.sresb1.2046-2065.oct.animation.hru_pct_diff.nhru..."
       ]
      },
      {
       "output_type": "stream",
       "stream": "stdout",
       "text": [
        "\n",
        "writing D:/ATLData/LMB/LKM_Nov2013_monthly/hru_means\\mpi_echam5.sresa2.2081-2100.oct.animation.hru_means.nhru..."
       ]
      },
      {
       "output_type": "stream",
       "stream": "stdout",
       "text": [
        "\n",
        "writing D:/ATLData/LMB/LKM_Nov2013_monthly/hru_pct_diff\\mpi_echam5.sresa2.2081-2100.oct.animation.hru_pct_diff.nhru..."
       ]
      },
      {
       "output_type": "stream",
       "stream": "stdout",
       "text": [
        "\n",
        "writing D:/ATLData/LMB/LKM_Nov2013_monthly/hru_means\\mpi_echam5.sresa1b.2081-2100.oct.animation.hru_means.nhru..."
       ]
      },
      {
       "output_type": "stream",
       "stream": "stdout",
       "text": [
        "\n",
        "writing D:/ATLData/LMB/LKM_Nov2013_monthly/hru_pct_diff\\mpi_echam5.sresa1b.2081-2100.oct.animation.hru_pct_diff.nhru..."
       ]
      },
      {
       "output_type": "stream",
       "stream": "stdout",
       "text": [
        "\n",
        "writing D:/ATLData/LMB/LKM_Nov2013_monthly/hru_means\\mpi_echam5.sresa2.2046-2065.oct.animation.hru_means.nhru..."
       ]
      },
      {
       "output_type": "stream",
       "stream": "stdout",
       "text": [
        "\n",
        "writing D:/ATLData/LMB/LKM_Nov2013_monthly/hru_pct_diff\\mpi_echam5.sresa2.2046-2065.oct.animation.hru_pct_diff.nhru..."
       ]
      },
      {
       "output_type": "stream",
       "stream": "stdout",
       "text": [
        "\n",
        "writing D:/ATLData/LMB/LKM_Nov2013_monthly/hru_means\\mpi_echam5.sresb1.2081-2100.oct.animation.hru_means.nhru..."
       ]
      },
      {
       "output_type": "stream",
       "stream": "stdout",
       "text": [
        "\n",
        "writing D:/ATLData/LMB/LKM_Nov2013_monthly/hru_pct_diff\\mpi_echam5.sresb1.2081-2100.oct.animation.hru_pct_diff.nhru..."
       ]
      },
      {
       "output_type": "stream",
       "stream": "stdout",
       "text": [
        "\n",
        "writing D:/ATLData/LMB/LKM_Nov2013_monthly/hru_means\\mpi_echam5.sresa1b.2046-2065.oct.animation.hru_means.nhru..."
       ]
      },
      {
       "output_type": "stream",
       "stream": "stdout",
       "text": [
        "\n",
        "writing D:/ATLData/LMB/LKM_Nov2013_monthly/hru_pct_diff\\mpi_echam5.sresa1b.2046-2065.oct.animation.hru_pct_diff.nhru..."
       ]
      },
      {
       "output_type": "stream",
       "stream": "stdout",
       "text": [
        "\n",
        "reading D:/ATLData/LMB/LKM_Nov2013_monthly_animation_output\\mpi_echam5.sresa1b.2046-2065.mar.animation.nhru..."
       ]
      },
      {
       "output_type": "stream",
       "stream": "stdout",
       "text": [
        "\n",
        "reading D:/ATLData/LMB/LKM_Nov2013_monthly_animation_output\\mpi_echam5.sresa1b.2081-2100.mar.animation.nhru..."
       ]
      },
      {
       "output_type": "stream",
       "stream": "stdout",
       "text": [
        "\n",
        "reading D:/ATLData/LMB/LKM_Nov2013_monthly_animation_output\\mpi_echam5.sresa2.2046-2065.mar.animation.nhru..."
       ]
      },
      {
       "output_type": "stream",
       "stream": "stdout",
       "text": [
        "\n",
        "reading D:/ATLData/LMB/LKM_Nov2013_monthly_animation_output\\mpi_echam5.sresa2.2081-2100.mar.animation.nhru..."
       ]
      },
      {
       "output_type": "stream",
       "stream": "stdout",
       "text": [
        "\n",
        "reading D:/ATLData/LMB/LKM_Nov2013_monthly_animation_output\\mpi_echam5.sresb1.2046-2065.mar.animation.nhru..."
       ]
      },
      {
       "output_type": "stream",
       "stream": "stdout",
       "text": [
        "\n",
        "reading D:/ATLData/LMB/LKM_Nov2013_monthly_animation_output\\mpi_echam5.sresb1.2081-2100.mar.animation.nhru..."
       ]
      },
      {
       "output_type": "stream",
       "stream": "stdout",
       "text": [
        "\n",
        "reading D:/ATLData/LMB/LKM_Nov2013_monthly_animation_output\\mpi_echam5.20c3m.1981-2000.mar.animation.nhru..."
       ]
      },
      {
       "output_type": "stream",
       "stream": "stdout",
       "text": [
        "\n",
        "Warning, nan values found in percent differences. See error_file."
       ]
      },
      {
       "output_type": "stream",
       "stream": "stdout",
       "text": [
        "\n",
        "writing D:/ATLData/LMB/LKM_Nov2013_monthly/hru_means\\mpi_echam5.20c3m.1981-2000.mar.animation.hru_means.nhru...\n",
        "writing D:/ATLData/LMB/LKM_Nov2013_monthly/hru_means\\mpi_echam5.sresa1b.2081-2100.mar.animation.hru_means.nhru..."
       ]
      },
      {
       "output_type": "stream",
       "stream": "stdout",
       "text": [
        "\n",
        "writing D:/ATLData/LMB/LKM_Nov2013_monthly/hru_pct_diff\\mpi_echam5.sresa1b.2081-2100.mar.animation.hru_pct_diff.nhru..."
       ]
      },
      {
       "output_type": "stream",
       "stream": "stdout",
       "text": [
        "\n",
        "writing D:/ATLData/LMB/LKM_Nov2013_monthly/hru_means\\mpi_echam5.sresa2.2046-2065.mar.animation.hru_means.nhru..."
       ]
      },
      {
       "output_type": "stream",
       "stream": "stdout",
       "text": [
        "\n",
        "writing D:/ATLData/LMB/LKM_Nov2013_monthly/hru_pct_diff\\mpi_echam5.sresa2.2046-2065.mar.animation.hru_pct_diff.nhru..."
       ]
      },
      {
       "output_type": "stream",
       "stream": "stdout",
       "text": [
        "\n",
        "writing D:/ATLData/LMB/LKM_Nov2013_monthly/hru_means\\mpi_echam5.sresa2.2081-2100.mar.animation.hru_means.nhru..."
       ]
      },
      {
       "output_type": "stream",
       "stream": "stdout",
       "text": [
        "\n",
        "writing D:/ATLData/LMB/LKM_Nov2013_monthly/hru_pct_diff\\mpi_echam5.sresa2.2081-2100.mar.animation.hru_pct_diff.nhru..."
       ]
      },
      {
       "output_type": "stream",
       "stream": "stdout",
       "text": [
        "\n",
        "writing D:/ATLData/LMB/LKM_Nov2013_monthly/hru_means\\mpi_echam5.sresb1.2046-2065.mar.animation.hru_means.nhru..."
       ]
      },
      {
       "output_type": "stream",
       "stream": "stdout",
       "text": [
        "\n",
        "writing D:/ATLData/LMB/LKM_Nov2013_monthly/hru_pct_diff\\mpi_echam5.sresb1.2046-2065.mar.animation.hru_pct_diff.nhru..."
       ]
      },
      {
       "output_type": "stream",
       "stream": "stdout",
       "text": [
        "\n",
        "writing D:/ATLData/LMB/LKM_Nov2013_monthly/hru_means\\mpi_echam5.sresb1.2081-2100.mar.animation.hru_means.nhru..."
       ]
      },
      {
       "output_type": "stream",
       "stream": "stdout",
       "text": [
        "\n",
        "writing D:/ATLData/LMB/LKM_Nov2013_monthly/hru_pct_diff\\mpi_echam5.sresb1.2081-2100.mar.animation.hru_pct_diff.nhru..."
       ]
      },
      {
       "output_type": "stream",
       "stream": "stdout",
       "text": [
        "\n",
        "writing D:/ATLData/LMB/LKM_Nov2013_monthly/hru_means\\mpi_echam5.sresa1b.2046-2065.mar.animation.hru_means.nhru..."
       ]
      },
      {
       "output_type": "stream",
       "stream": "stdout",
       "text": [
        "\n",
        "writing D:/ATLData/LMB/LKM_Nov2013_monthly/hru_pct_diff\\mpi_echam5.sresa1b.2046-2065.mar.animation.hru_pct_diff.nhru..."
       ]
      },
      {
       "output_type": "stream",
       "stream": "stdout",
       "text": [
        "\n",
        "reading D:/ATLData/LMB/LKM_Nov2013_monthly_animation_output\\mpi_echam5.sresa1b.2046-2065.feb.animation.nhru..."
       ]
      },
      {
       "output_type": "stream",
       "stream": "stdout",
       "text": [
        "\n",
        "reading D:/ATLData/LMB/LKM_Nov2013_monthly_animation_output\\mpi_echam5.sresa1b.2081-2100.feb.animation.nhru..."
       ]
      },
      {
       "output_type": "stream",
       "stream": "stdout",
       "text": [
        "\n",
        "reading D:/ATLData/LMB/LKM_Nov2013_monthly_animation_output\\mpi_echam5.sresa2.2046-2065.feb.animation.nhru..."
       ]
      },
      {
       "output_type": "stream",
       "stream": "stdout",
       "text": [
        "\n",
        "reading D:/ATLData/LMB/LKM_Nov2013_monthly_animation_output\\mpi_echam5.sresa2.2081-2100.feb.animation.nhru..."
       ]
      },
      {
       "output_type": "stream",
       "stream": "stdout",
       "text": [
        "\n",
        "reading D:/ATLData/LMB/LKM_Nov2013_monthly_animation_output\\mpi_echam5.sresb1.2046-2065.feb.animation.nhru..."
       ]
      },
      {
       "output_type": "stream",
       "stream": "stdout",
       "text": [
        "\n",
        "reading D:/ATLData/LMB/LKM_Nov2013_monthly_animation_output\\mpi_echam5.sresb1.2081-2100.feb.animation.nhru..."
       ]
      },
      {
       "output_type": "stream",
       "stream": "stdout",
       "text": [
        "\n",
        "reading D:/ATLData/LMB/LKM_Nov2013_monthly_animation_output\\mpi_echam5.20c3m.1981-2000.feb.animation.nhru..."
       ]
      },
      {
       "output_type": "stream",
       "stream": "stdout",
       "text": [
        "\n",
        "Warning, nan values found in percent differences. See error_file."
       ]
      },
      {
       "output_type": "stream",
       "stream": "stdout",
       "text": [
        "\n",
        "writing D:/ATLData/LMB/LKM_Nov2013_monthly/hru_means\\mpi_echam5.20c3m.1981-2000.feb.animation.hru_means.nhru...\n",
        "writing D:/ATLData/LMB/LKM_Nov2013_monthly/hru_means\\mpi_echam5.sresa1b.2046-2065.feb.animation.hru_means.nhru..."
       ]
      },
      {
       "output_type": "stream",
       "stream": "stdout",
       "text": [
        "\n",
        "writing D:/ATLData/LMB/LKM_Nov2013_monthly/hru_pct_diff\\mpi_echam5.sresa1b.2046-2065.feb.animation.hru_pct_diff.nhru..."
       ]
      },
      {
       "output_type": "stream",
       "stream": "stdout",
       "text": [
        "\n",
        "writing D:/ATLData/LMB/LKM_Nov2013_monthly/hru_means\\mpi_echam5.sresa1b.2081-2100.feb.animation.hru_means.nhru..."
       ]
      },
      {
       "output_type": "stream",
       "stream": "stdout",
       "text": [
        "\n",
        "writing D:/ATLData/LMB/LKM_Nov2013_monthly/hru_pct_diff\\mpi_echam5.sresa1b.2081-2100.feb.animation.hru_pct_diff.nhru..."
       ]
      },
      {
       "output_type": "stream",
       "stream": "stdout",
       "text": [
        "\n",
        "writing D:/ATLData/LMB/LKM_Nov2013_monthly/hru_means\\mpi_echam5.sresa2.2046-2065.feb.animation.hru_means.nhru..."
       ]
      },
      {
       "output_type": "stream",
       "stream": "stdout",
       "text": [
        "\n",
        "writing D:/ATLData/LMB/LKM_Nov2013_monthly/hru_pct_diff\\mpi_echam5.sresa2.2046-2065.feb.animation.hru_pct_diff.nhru..."
       ]
      },
      {
       "output_type": "stream",
       "stream": "stdout",
       "text": [
        "\n",
        "writing D:/ATLData/LMB/LKM_Nov2013_monthly/hru_means\\mpi_echam5.sresb1.2046-2065.feb.animation.hru_means.nhru..."
       ]
      },
      {
       "output_type": "stream",
       "stream": "stdout",
       "text": [
        "\n",
        "writing D:/ATLData/LMB/LKM_Nov2013_monthly/hru_pct_diff\\mpi_echam5.sresb1.2046-2065.feb.animation.hru_pct_diff.nhru..."
       ]
      },
      {
       "output_type": "stream",
       "stream": "stdout",
       "text": [
        "\n",
        "writing D:/ATLData/LMB/LKM_Nov2013_monthly/hru_means\\mpi_echam5.sresa2.2081-2100.feb.animation.hru_means.nhru..."
       ]
      },
      {
       "output_type": "stream",
       "stream": "stdout",
       "text": [
        "\n",
        "writing D:/ATLData/LMB/LKM_Nov2013_monthly/hru_pct_diff\\mpi_echam5.sresa2.2081-2100.feb.animation.hru_pct_diff.nhru..."
       ]
      },
      {
       "output_type": "stream",
       "stream": "stdout",
       "text": [
        "\n",
        "writing D:/ATLData/LMB/LKM_Nov2013_monthly/hru_means\\mpi_echam5.sresb1.2081-2100.feb.animation.hru_means.nhru..."
       ]
      },
      {
       "output_type": "stream",
       "stream": "stdout",
       "text": [
        "\n",
        "writing D:/ATLData/LMB/LKM_Nov2013_monthly/hru_pct_diff\\mpi_echam5.sresb1.2081-2100.feb.animation.hru_pct_diff.nhru..."
       ]
      },
      {
       "output_type": "stream",
       "stream": "stdout",
       "text": [
        "\n",
        "reading D:/ATLData/LMB/LKM_Nov2013_monthly_animation_output\\mpi_echam5.sresa1b.2046-2065.aug.animation.nhru..."
       ]
      },
      {
       "output_type": "stream",
       "stream": "stdout",
       "text": [
        "\n",
        "reading D:/ATLData/LMB/LKM_Nov2013_monthly_animation_output\\mpi_echam5.sresa1b.2081-2100.aug.animation.nhru..."
       ]
      },
      {
       "output_type": "stream",
       "stream": "stdout",
       "text": [
        "\n",
        "reading D:/ATLData/LMB/LKM_Nov2013_monthly_animation_output\\mpi_echam5.sresa2.2046-2065.aug.animation.nhru..."
       ]
      },
      {
       "output_type": "stream",
       "stream": "stdout",
       "text": [
        "\n",
        "reading D:/ATLData/LMB/LKM_Nov2013_monthly_animation_output\\mpi_echam5.sresa2.2081-2100.aug.animation.nhru..."
       ]
      },
      {
       "output_type": "stream",
       "stream": "stdout",
       "text": [
        "\n",
        "reading D:/ATLData/LMB/LKM_Nov2013_monthly_animation_output\\mpi_echam5.sresb1.2046-2065.aug.animation.nhru..."
       ]
      },
      {
       "output_type": "stream",
       "stream": "stdout",
       "text": [
        "\n",
        "reading D:/ATLData/LMB/LKM_Nov2013_monthly_animation_output\\mpi_echam5.sresb1.2081-2100.aug.animation.nhru..."
       ]
      },
      {
       "output_type": "stream",
       "stream": "stdout",
       "text": [
        "\n",
        "reading D:/ATLData/LMB/LKM_Nov2013_monthly_animation_output\\mpi_echam5.20c3m.1981-2000.aug.animation.nhru..."
       ]
      },
      {
       "output_type": "stream",
       "stream": "stdout",
       "text": [
        "\n",
        "Warning, nan values found in percent differences. See error_file."
       ]
      },
      {
       "output_type": "stream",
       "stream": "stdout",
       "text": [
        "\n",
        "writing D:/ATLData/LMB/LKM_Nov2013_monthly/hru_means\\mpi_echam5.20c3m.1981-2000.aug.animation.hru_means.nhru...\n",
        "writing D:/ATLData/LMB/LKM_Nov2013_monthly/hru_means\\mpi_echam5.sresb1.2046-2065.aug.animation.hru_means.nhru..."
       ]
      },
      {
       "output_type": "stream",
       "stream": "stdout",
       "text": [
        "\n",
        "writing D:/ATLData/LMB/LKM_Nov2013_monthly/hru_pct_diff\\mpi_echam5.sresb1.2046-2065.aug.animation.hru_pct_diff.nhru..."
       ]
      },
      {
       "output_type": "stream",
       "stream": "stdout",
       "text": [
        "\n",
        "writing D:/ATLData/LMB/LKM_Nov2013_monthly/hru_means\\mpi_echam5.sresb1.2081-2100.aug.animation.hru_means.nhru..."
       ]
      },
      {
       "output_type": "stream",
       "stream": "stdout",
       "text": [
        "\n",
        "writing D:/ATLData/LMB/LKM_Nov2013_monthly/hru_pct_diff\\mpi_echam5.sresb1.2081-2100.aug.animation.hru_pct_diff.nhru..."
       ]
      },
      {
       "output_type": "stream",
       "stream": "stdout",
       "text": [
        "\n",
        "writing D:/ATLData/LMB/LKM_Nov2013_monthly/hru_means\\mpi_echam5.sresa1b.2046-2065.aug.animation.hru_means.nhru..."
       ]
      },
      {
       "output_type": "stream",
       "stream": "stdout",
       "text": [
        "\n",
        "writing D:/ATLData/LMB/LKM_Nov2013_monthly/hru_pct_diff\\mpi_echam5.sresa1b.2046-2065.aug.animation.hru_pct_diff.nhru..."
       ]
      },
      {
       "output_type": "stream",
       "stream": "stdout",
       "text": [
        "\n",
        "writing D:/ATLData/LMB/LKM_Nov2013_monthly/hru_means\\mpi_echam5.sresa2.2046-2065.aug.animation.hru_means.nhru..."
       ]
      },
      {
       "output_type": "stream",
       "stream": "stdout",
       "text": [
        "\n",
        "writing D:/ATLData/LMB/LKM_Nov2013_monthly/hru_pct_diff\\mpi_echam5.sresa2.2046-2065.aug.animation.hru_pct_diff.nhru..."
       ]
      },
      {
       "output_type": "stream",
       "stream": "stdout",
       "text": [
        "\n",
        "writing D:/ATLData/LMB/LKM_Nov2013_monthly/hru_means\\mpi_echam5.sresa1b.2081-2100.aug.animation.hru_means.nhru..."
       ]
      },
      {
       "output_type": "stream",
       "stream": "stdout",
       "text": [
        "\n",
        "writing D:/ATLData/LMB/LKM_Nov2013_monthly/hru_pct_diff\\mpi_echam5.sresa1b.2081-2100.aug.animation.hru_pct_diff.nhru..."
       ]
      },
      {
       "output_type": "stream",
       "stream": "stdout",
       "text": [
        "\n",
        "writing D:/ATLData/LMB/LKM_Nov2013_monthly/hru_means\\mpi_echam5.sresa2.2081-2100.aug.animation.hru_means.nhru..."
       ]
      },
      {
       "output_type": "stream",
       "stream": "stdout",
       "text": [
        "\n",
        "writing D:/ATLData/LMB/LKM_Nov2013_monthly/hru_pct_diff\\mpi_echam5.sresa2.2081-2100.aug.animation.hru_pct_diff.nhru..."
       ]
      },
      {
       "output_type": "stream",
       "stream": "stdout",
       "text": [
        "\n",
        "reading D:/ATLData/LMB/LKM_Nov2013_monthly_animation_output\\mpi_echam5.sresa1b.2046-2065.sep.animation.nhru..."
       ]
      },
      {
       "output_type": "stream",
       "stream": "stdout",
       "text": [
        "\n",
        "reading D:/ATLData/LMB/LKM_Nov2013_monthly_animation_output\\mpi_echam5.sresa1b.2081-2100.sep.animation.nhru..."
       ]
      },
      {
       "output_type": "stream",
       "stream": "stdout",
       "text": [
        "\n",
        "reading D:/ATLData/LMB/LKM_Nov2013_monthly_animation_output\\mpi_echam5.sresa2.2046-2065.sep.animation.nhru..."
       ]
      },
      {
       "output_type": "stream",
       "stream": "stdout",
       "text": [
        "\n",
        "reading D:/ATLData/LMB/LKM_Nov2013_monthly_animation_output\\mpi_echam5.sresa2.2081-2100.sep.animation.nhru..."
       ]
      },
      {
       "output_type": "stream",
       "stream": "stdout",
       "text": [
        "\n",
        "reading D:/ATLData/LMB/LKM_Nov2013_monthly_animation_output\\mpi_echam5.sresb1.2046-2065.sep.animation.nhru..."
       ]
      },
      {
       "output_type": "stream",
       "stream": "stdout",
       "text": [
        "\n",
        "reading D:/ATLData/LMB/LKM_Nov2013_monthly_animation_output\\mpi_echam5.sresb1.2081-2100.sep.animation.nhru..."
       ]
      },
      {
       "output_type": "stream",
       "stream": "stdout",
       "text": [
        "\n",
        "reading D:/ATLData/LMB/LKM_Nov2013_monthly_animation_output\\mpi_echam5.20c3m.1981-2000.sep.animation.nhru..."
       ]
      },
      {
       "output_type": "stream",
       "stream": "stdout",
       "text": [
        "\n",
        "Warning, nan values found in percent differences. See error_file."
       ]
      },
      {
       "output_type": "stream",
       "stream": "stdout",
       "text": [
        "\n",
        "writing D:/ATLData/LMB/LKM_Nov2013_monthly/hru_means\\mpi_echam5.20c3m.1981-2000.sep.animation.hru_means.nhru...\n",
        "writing D:/ATLData/LMB/LKM_Nov2013_monthly/hru_means\\mpi_echam5.sresa2.2081-2100.sep.animation.hru_means.nhru..."
       ]
      },
      {
       "output_type": "stream",
       "stream": "stdout",
       "text": [
        "\n",
        "writing D:/ATLData/LMB/LKM_Nov2013_monthly/hru_pct_diff\\mpi_echam5.sresa2.2081-2100.sep.animation.hru_pct_diff.nhru..."
       ]
      },
      {
       "output_type": "stream",
       "stream": "stdout",
       "text": [
        "\n",
        "writing D:/ATLData/LMB/LKM_Nov2013_monthly/hru_means\\mpi_echam5.sresb1.2081-2100.sep.animation.hru_means.nhru..."
       ]
      },
      {
       "output_type": "stream",
       "stream": "stdout",
       "text": [
        "\n",
        "writing D:/ATLData/LMB/LKM_Nov2013_monthly/hru_pct_diff\\mpi_echam5.sresb1.2081-2100.sep.animation.hru_pct_diff.nhru..."
       ]
      },
      {
       "output_type": "stream",
       "stream": "stdout",
       "text": [
        "\n",
        "writing D:/ATLData/LMB/LKM_Nov2013_monthly/hru_means\\mpi_echam5.sresa1b.2081-2100.sep.animation.hru_means.nhru..."
       ]
      },
      {
       "output_type": "stream",
       "stream": "stdout",
       "text": [
        "\n",
        "writing D:/ATLData/LMB/LKM_Nov2013_monthly/hru_pct_diff\\mpi_echam5.sresa1b.2081-2100.sep.animation.hru_pct_diff.nhru..."
       ]
      },
      {
       "output_type": "stream",
       "stream": "stdout",
       "text": [
        "\n",
        "writing D:/ATLData/LMB/LKM_Nov2013_monthly/hru_means\\mpi_echam5.sresa1b.2046-2065.sep.animation.hru_means.nhru..."
       ]
      },
      {
       "output_type": "stream",
       "stream": "stdout",
       "text": [
        "\n",
        "writing D:/ATLData/LMB/LKM_Nov2013_monthly/hru_pct_diff\\mpi_echam5.sresa1b.2046-2065.sep.animation.hru_pct_diff.nhru..."
       ]
      },
      {
       "output_type": "stream",
       "stream": "stdout",
       "text": [
        "\n",
        "writing D:/ATLData/LMB/LKM_Nov2013_monthly/hru_means\\mpi_echam5.sresb1.2046-2065.sep.animation.hru_means.nhru..."
       ]
      },
      {
       "output_type": "stream",
       "stream": "stdout",
       "text": [
        "\n",
        "writing D:/ATLData/LMB/LKM_Nov2013_monthly/hru_pct_diff\\mpi_echam5.sresb1.2046-2065.sep.animation.hru_pct_diff.nhru..."
       ]
      },
      {
       "output_type": "stream",
       "stream": "stdout",
       "text": [
        "\n",
        "writing D:/ATLData/LMB/LKM_Nov2013_monthly/hru_means\\mpi_echam5.sresa2.2046-2065.sep.animation.hru_means.nhru..."
       ]
      },
      {
       "output_type": "stream",
       "stream": "stdout",
       "text": [
        "\n",
        "writing D:/ATLData/LMB/LKM_Nov2013_monthly/hru_pct_diff\\mpi_echam5.sresa2.2046-2065.sep.animation.hru_pct_diff.nhru..."
       ]
      },
      {
       "output_type": "stream",
       "stream": "stdout",
       "text": [
        "\n",
        "reading D:/ATLData/LMB/LKM_Nov2013_monthly_animation_output\\mpi_echam5.sresa1b.2046-2065.apr.animation.nhru..."
       ]
      },
      {
       "output_type": "stream",
       "stream": "stdout",
       "text": [
        "\n",
        "reading D:/ATLData/LMB/LKM_Nov2013_monthly_animation_output\\mpi_echam5.sresa1b.2081-2100.apr.animation.nhru..."
       ]
      },
      {
       "output_type": "stream",
       "stream": "stdout",
       "text": [
        "\n",
        "reading D:/ATLData/LMB/LKM_Nov2013_monthly_animation_output\\mpi_echam5.sresa2.2046-2065.apr.animation.nhru..."
       ]
      },
      {
       "output_type": "stream",
       "stream": "stdout",
       "text": [
        "\n",
        "reading D:/ATLData/LMB/LKM_Nov2013_monthly_animation_output\\mpi_echam5.sresa2.2081-2100.apr.animation.nhru..."
       ]
      },
      {
       "output_type": "stream",
       "stream": "stdout",
       "text": [
        "\n",
        "reading D:/ATLData/LMB/LKM_Nov2013_monthly_animation_output\\mpi_echam5.sresb1.2046-2065.apr.animation.nhru..."
       ]
      },
      {
       "output_type": "stream",
       "stream": "stdout",
       "text": [
        "\n",
        "reading D:/ATLData/LMB/LKM_Nov2013_monthly_animation_output\\mpi_echam5.sresb1.2081-2100.apr.animation.nhru..."
       ]
      },
      {
       "output_type": "stream",
       "stream": "stdout",
       "text": [
        "\n",
        "reading D:/ATLData/LMB/LKM_Nov2013_monthly_animation_output\\mpi_echam5.20c3m.1981-2000.apr.animation.nhru..."
       ]
      },
      {
       "output_type": "stream",
       "stream": "stdout",
       "text": [
        "\n",
        "Warning, nan values found in percent differences. See error_file."
       ]
      },
      {
       "output_type": "stream",
       "stream": "stdout",
       "text": [
        "\n",
        "writing D:/ATLData/LMB/LKM_Nov2013_monthly/hru_means\\mpi_echam5.20c3m.1981-2000.apr.animation.hru_means.nhru...\n",
        "writing D:/ATLData/LMB/LKM_Nov2013_monthly/hru_means\\mpi_echam5.sresb1.2081-2100.apr.animation.hru_means.nhru..."
       ]
      },
      {
       "output_type": "stream",
       "stream": "stdout",
       "text": [
        "\n",
        "writing D:/ATLData/LMB/LKM_Nov2013_monthly/hru_pct_diff\\mpi_echam5.sresb1.2081-2100.apr.animation.hru_pct_diff.nhru..."
       ]
      },
      {
       "output_type": "stream",
       "stream": "stdout",
       "text": [
        "\n",
        "writing D:/ATLData/LMB/LKM_Nov2013_monthly/hru_means\\mpi_echam5.sresa2.2081-2100.apr.animation.hru_means.nhru..."
       ]
      },
      {
       "output_type": "stream",
       "stream": "stdout",
       "text": [
        "\n",
        "writing D:/ATLData/LMB/LKM_Nov2013_monthly/hru_pct_diff\\mpi_echam5.sresa2.2081-2100.apr.animation.hru_pct_diff.nhru..."
       ]
      },
      {
       "output_type": "stream",
       "stream": "stdout",
       "text": [
        "\n",
        "writing D:/ATLData/LMB/LKM_Nov2013_monthly/hru_means\\mpi_echam5.sresb1.2046-2065.apr.animation.hru_means.nhru..."
       ]
      },
      {
       "output_type": "stream",
       "stream": "stdout",
       "text": [
        "\n",
        "writing D:/ATLData/LMB/LKM_Nov2013_monthly/hru_pct_diff\\mpi_echam5.sresb1.2046-2065.apr.animation.hru_pct_diff.nhru..."
       ]
      },
      {
       "output_type": "stream",
       "stream": "stdout",
       "text": [
        "\n",
        "writing D:/ATLData/LMB/LKM_Nov2013_monthly/hru_means\\mpi_echam5.sresa2.2046-2065.apr.animation.hru_means.nhru..."
       ]
      },
      {
       "output_type": "stream",
       "stream": "stdout",
       "text": [
        "\n",
        "writing D:/ATLData/LMB/LKM_Nov2013_monthly/hru_pct_diff\\mpi_echam5.sresa2.2046-2065.apr.animation.hru_pct_diff.nhru..."
       ]
      },
      {
       "output_type": "stream",
       "stream": "stdout",
       "text": [
        "\n",
        "writing D:/ATLData/LMB/LKM_Nov2013_monthly/hru_means\\mpi_echam5.sresa1b.2081-2100.apr.animation.hru_means.nhru..."
       ]
      },
      {
       "output_type": "stream",
       "stream": "stdout",
       "text": [
        "\n",
        "writing D:/ATLData/LMB/LKM_Nov2013_monthly/hru_pct_diff\\mpi_echam5.sresa1b.2081-2100.apr.animation.hru_pct_diff.nhru..."
       ]
      },
      {
       "output_type": "stream",
       "stream": "stdout",
       "text": [
        "\n",
        "writing D:/ATLData/LMB/LKM_Nov2013_monthly/hru_means\\mpi_echam5.sresa1b.2046-2065.apr.animation.hru_means.nhru..."
       ]
      },
      {
       "output_type": "stream",
       "stream": "stdout",
       "text": [
        "\n",
        "writing D:/ATLData/LMB/LKM_Nov2013_monthly/hru_pct_diff\\mpi_echam5.sresa1b.2046-2065.apr.animation.hru_pct_diff.nhru..."
       ]
      },
      {
       "output_type": "stream",
       "stream": "stdout",
       "text": [
        "\n",
        "reading D:/ATLData/LMB/LKM_Nov2013_monthly_animation_output\\mpi_echam5.sresa1b.2046-2065.jun.animation.nhru..."
       ]
      },
      {
       "output_type": "stream",
       "stream": "stdout",
       "text": [
        "\n",
        "reading D:/ATLData/LMB/LKM_Nov2013_monthly_animation_output\\mpi_echam5.sresa1b.2081-2100.jun.animation.nhru..."
       ]
      },
      {
       "output_type": "stream",
       "stream": "stdout",
       "text": [
        "\n",
        "reading D:/ATLData/LMB/LKM_Nov2013_monthly_animation_output\\mpi_echam5.sresa2.2046-2065.jun.animation.nhru..."
       ]
      },
      {
       "output_type": "stream",
       "stream": "stdout",
       "text": [
        "\n",
        "reading D:/ATLData/LMB/LKM_Nov2013_monthly_animation_output\\mpi_echam5.sresa2.2081-2100.jun.animation.nhru..."
       ]
      },
      {
       "output_type": "stream",
       "stream": "stdout",
       "text": [
        "\n",
        "reading D:/ATLData/LMB/LKM_Nov2013_monthly_animation_output\\mpi_echam5.sresb1.2046-2065.jun.animation.nhru..."
       ]
      },
      {
       "output_type": "stream",
       "stream": "stdout",
       "text": [
        "\n",
        "reading D:/ATLData/LMB/LKM_Nov2013_monthly_animation_output\\mpi_echam5.sresb1.2081-2100.jun.animation.nhru..."
       ]
      },
      {
       "output_type": "stream",
       "stream": "stdout",
       "text": [
        "\n",
        "reading D:/ATLData/LMB/LKM_Nov2013_monthly_animation_output\\mpi_echam5.20c3m.1981-2000.jun.animation.nhru..."
       ]
      },
      {
       "output_type": "stream",
       "stream": "stdout",
       "text": [
        "\n",
        "Warning, nan values found in percent differences. See error_file."
       ]
      },
      {
       "output_type": "stream",
       "stream": "stdout",
       "text": [
        "\n",
        "writing D:/ATLData/LMB/LKM_Nov2013_monthly/hru_means\\mpi_echam5.20c3m.1981-2000.jun.animation.hru_means.nhru...\n",
        "writing D:/ATLData/LMB/LKM_Nov2013_monthly/hru_means\\mpi_echam5.sresa2.2081-2100.jun.animation.hru_means.nhru..."
       ]
      },
      {
       "output_type": "stream",
       "stream": "stdout",
       "text": [
        "\n",
        "writing D:/ATLData/LMB/LKM_Nov2013_monthly/hru_pct_diff\\mpi_echam5.sresa2.2081-2100.jun.animation.hru_pct_diff.nhru..."
       ]
      },
      {
       "output_type": "stream",
       "stream": "stdout",
       "text": [
        "\n",
        "writing D:/ATLData/LMB/LKM_Nov2013_monthly/hru_means\\mpi_echam5.sresa2.2046-2065.jun.animation.hru_means.nhru..."
       ]
      },
      {
       "output_type": "stream",
       "stream": "stdout",
       "text": [
        "\n",
        "writing D:/ATLData/LMB/LKM_Nov2013_monthly/hru_pct_diff\\mpi_echam5.sresa2.2046-2065.jun.animation.hru_pct_diff.nhru..."
       ]
      },
      {
       "output_type": "stream",
       "stream": "stdout",
       "text": [
        "\n",
        "writing D:/ATLData/LMB/LKM_Nov2013_monthly/hru_means\\mpi_echam5.sresb1.2081-2100.jun.animation.hru_means.nhru..."
       ]
      },
      {
       "output_type": "stream",
       "stream": "stdout",
       "text": [
        "\n",
        "writing D:/ATLData/LMB/LKM_Nov2013_monthly/hru_pct_diff\\mpi_echam5.sresb1.2081-2100.jun.animation.hru_pct_diff.nhru..."
       ]
      },
      {
       "output_type": "stream",
       "stream": "stdout",
       "text": [
        "\n",
        "writing D:/ATLData/LMB/LKM_Nov2013_monthly/hru_means\\mpi_echam5.sresa1b.2046-2065.jun.animation.hru_means.nhru..."
       ]
      },
      {
       "output_type": "stream",
       "stream": "stdout",
       "text": [
        "\n",
        "writing D:/ATLData/LMB/LKM_Nov2013_monthly/hru_pct_diff\\mpi_echam5.sresa1b.2046-2065.jun.animation.hru_pct_diff.nhru..."
       ]
      },
      {
       "output_type": "stream",
       "stream": "stdout",
       "text": [
        "\n",
        "writing D:/ATLData/LMB/LKM_Nov2013_monthly/hru_means\\mpi_echam5.sresa1b.2081-2100.jun.animation.hru_means.nhru..."
       ]
      },
      {
       "output_type": "stream",
       "stream": "stdout",
       "text": [
        "\n",
        "writing D:/ATLData/LMB/LKM_Nov2013_monthly/hru_pct_diff\\mpi_echam5.sresa1b.2081-2100.jun.animation.hru_pct_diff.nhru..."
       ]
      },
      {
       "output_type": "stream",
       "stream": "stdout",
       "text": [
        "\n",
        "writing D:/ATLData/LMB/LKM_Nov2013_monthly/hru_means\\mpi_echam5.sresb1.2046-2065.jun.animation.hru_means.nhru..."
       ]
      },
      {
       "output_type": "stream",
       "stream": "stdout",
       "text": [
        "\n",
        "writing D:/ATLData/LMB/LKM_Nov2013_monthly/hru_pct_diff\\mpi_echam5.sresb1.2046-2065.jun.animation.hru_pct_diff.nhru..."
       ]
      },
      {
       "output_type": "stream",
       "stream": "stdout",
       "text": [
        "\n",
        "reading D:/ATLData/LMB/LKM_Nov2013_monthly_animation_output\\mpi_echam5.sresa1b.2046-2065.jul.animation.nhru..."
       ]
      },
      {
       "output_type": "stream",
       "stream": "stdout",
       "text": [
        "\n",
        "reading D:/ATLData/LMB/LKM_Nov2013_monthly_animation_output\\mpi_echam5.sresa1b.2081-2100.jul.animation.nhru..."
       ]
      },
      {
       "output_type": "stream",
       "stream": "stdout",
       "text": [
        "\n",
        "reading D:/ATLData/LMB/LKM_Nov2013_monthly_animation_output\\mpi_echam5.sresa2.2046-2065.jul.animation.nhru..."
       ]
      },
      {
       "output_type": "stream",
       "stream": "stdout",
       "text": [
        "\n",
        "reading D:/ATLData/LMB/LKM_Nov2013_monthly_animation_output\\mpi_echam5.sresa2.2081-2100.jul.animation.nhru..."
       ]
      },
      {
       "output_type": "stream",
       "stream": "stdout",
       "text": [
        "\n",
        "reading D:/ATLData/LMB/LKM_Nov2013_monthly_animation_output\\mpi_echam5.sresb1.2046-2065.jul.animation.nhru..."
       ]
      },
      {
       "output_type": "stream",
       "stream": "stdout",
       "text": [
        "\n",
        "reading D:/ATLData/LMB/LKM_Nov2013_monthly_animation_output\\mpi_echam5.sresb1.2081-2100.jul.animation.nhru..."
       ]
      },
      {
       "output_type": "stream",
       "stream": "stdout",
       "text": [
        "\n",
        "reading D:/ATLData/LMB/LKM_Nov2013_monthly_animation_output\\mpi_echam5.20c3m.1981-2000.jul.animation.nhru..."
       ]
      },
      {
       "output_type": "stream",
       "stream": "stdout",
       "text": [
        "\n",
        "Warning, nan values found in percent differences. See error_file."
       ]
      },
      {
       "output_type": "stream",
       "stream": "stdout",
       "text": [
        "\n",
        "writing D:/ATLData/LMB/LKM_Nov2013_monthly/hru_means\\mpi_echam5.20c3m.1981-2000.jul.animation.hru_means.nhru...\n",
        "writing D:/ATLData/LMB/LKM_Nov2013_monthly/hru_means\\mpi_echam5.sresa1b.2046-2065.jul.animation.hru_means.nhru..."
       ]
      },
      {
       "output_type": "stream",
       "stream": "stdout",
       "text": [
        "\n",
        "writing D:/ATLData/LMB/LKM_Nov2013_monthly/hru_pct_diff\\mpi_echam5.sresa1b.2046-2065.jul.animation.hru_pct_diff.nhru..."
       ]
      },
      {
       "output_type": "stream",
       "stream": "stdout",
       "text": [
        "\n",
        "writing D:/ATLData/LMB/LKM_Nov2013_monthly/hru_means\\mpi_echam5.sresb1.2046-2065.jul.animation.hru_means.nhru..."
       ]
      },
      {
       "output_type": "stream",
       "stream": "stdout",
       "text": [
        "\n",
        "writing D:/ATLData/LMB/LKM_Nov2013_monthly/hru_pct_diff\\mpi_echam5.sresb1.2046-2065.jul.animation.hru_pct_diff.nhru..."
       ]
      },
      {
       "output_type": "stream",
       "stream": "stdout",
       "text": [
        "\n",
        "writing D:/ATLData/LMB/LKM_Nov2013_monthly/hru_means\\mpi_echam5.sresa2.2046-2065.jul.animation.hru_means.nhru..."
       ]
      },
      {
       "output_type": "stream",
       "stream": "stdout",
       "text": [
        "\n",
        "writing D:/ATLData/LMB/LKM_Nov2013_monthly/hru_pct_diff\\mpi_echam5.sresa2.2046-2065.jul.animation.hru_pct_diff.nhru..."
       ]
      },
      {
       "output_type": "stream",
       "stream": "stdout",
       "text": [
        "\n",
        "writing D:/ATLData/LMB/LKM_Nov2013_monthly/hru_means\\mpi_echam5.sresa1b.2081-2100.jul.animation.hru_means.nhru..."
       ]
      },
      {
       "output_type": "stream",
       "stream": "stdout",
       "text": [
        "\n",
        "writing D:/ATLData/LMB/LKM_Nov2013_monthly/hru_pct_diff\\mpi_echam5.sresa1b.2081-2100.jul.animation.hru_pct_diff.nhru..."
       ]
      },
      {
       "output_type": "stream",
       "stream": "stdout",
       "text": [
        "\n",
        "writing D:/ATLData/LMB/LKM_Nov2013_monthly/hru_means\\mpi_echam5.sresb1.2081-2100.jul.animation.hru_means.nhru..."
       ]
      },
      {
       "output_type": "stream",
       "stream": "stdout",
       "text": [
        "\n",
        "writing D:/ATLData/LMB/LKM_Nov2013_monthly/hru_pct_diff\\mpi_echam5.sresb1.2081-2100.jul.animation.hru_pct_diff.nhru..."
       ]
      },
      {
       "output_type": "stream",
       "stream": "stdout",
       "text": [
        "\n",
        "writing D:/ATLData/LMB/LKM_Nov2013_monthly/hru_means\\mpi_echam5.sresa2.2081-2100.jul.animation.hru_means.nhru..."
       ]
      },
      {
       "output_type": "stream",
       "stream": "stdout",
       "text": [
        "\n",
        "writing D:/ATLData/LMB/LKM_Nov2013_monthly/hru_pct_diff\\mpi_echam5.sresa2.2081-2100.jul.animation.hru_pct_diff.nhru..."
       ]
      },
      {
       "output_type": "stream",
       "stream": "stdout",
       "text": [
        "\n",
        "reading D:/ATLData/LMB/LKM_Nov2013_monthly_animation_output\\mpi_echam5.sresa1b.2046-2065.jan.animation.nhru..."
       ]
      },
      {
       "output_type": "stream",
       "stream": "stdout",
       "text": [
        "\n",
        "reading D:/ATLData/LMB/LKM_Nov2013_monthly_animation_output\\mpi_echam5.sresa1b.2081-2100.jan.animation.nhru..."
       ]
      },
      {
       "output_type": "stream",
       "stream": "stdout",
       "text": [
        "\n",
        "reading D:/ATLData/LMB/LKM_Nov2013_monthly_animation_output\\mpi_echam5.sresa2.2046-2065.jan.animation.nhru..."
       ]
      },
      {
       "output_type": "stream",
       "stream": "stdout",
       "text": [
        "\n",
        "reading D:/ATLData/LMB/LKM_Nov2013_monthly_animation_output\\mpi_echam5.sresa2.2081-2100.jan.animation.nhru..."
       ]
      },
      {
       "output_type": "stream",
       "stream": "stdout",
       "text": [
        "\n",
        "reading D:/ATLData/LMB/LKM_Nov2013_monthly_animation_output\\mpi_echam5.sresb1.2046-2065.jan.animation.nhru..."
       ]
      },
      {
       "output_type": "stream",
       "stream": "stdout",
       "text": [
        "\n",
        "reading D:/ATLData/LMB/LKM_Nov2013_monthly_animation_output\\mpi_echam5.sresb1.2081-2100.jan.animation.nhru..."
       ]
      },
      {
       "output_type": "stream",
       "stream": "stdout",
       "text": [
        "\n",
        "reading D:/ATLData/LMB/LKM_Nov2013_monthly_animation_output\\mpi_echam5.20c3m.1981-2000.jan.animation.nhru..."
       ]
      },
      {
       "output_type": "stream",
       "stream": "stdout",
       "text": [
        "\n",
        "Warning, nan values found in percent differences. See error_file."
       ]
      },
      {
       "output_type": "stream",
       "stream": "stdout",
       "text": [
        "\n",
        "writing D:/ATLData/LMB/LKM_Nov2013_monthly/hru_means\\mpi_echam5.20c3m.1981-2000.jan.animation.hru_means.nhru...\n",
        "writing D:/ATLData/LMB/LKM_Nov2013_monthly/hru_means\\mpi_echam5.sresa1b.2046-2065.jan.animation.hru_means.nhru..."
       ]
      },
      {
       "output_type": "stream",
       "stream": "stdout",
       "text": [
        "\n",
        "writing D:/ATLData/LMB/LKM_Nov2013_monthly/hru_pct_diff\\mpi_echam5.sresa1b.2046-2065.jan.animation.hru_pct_diff.nhru..."
       ]
      },
      {
       "output_type": "stream",
       "stream": "stdout",
       "text": [
        "\n",
        "writing D:/ATLData/LMB/LKM_Nov2013_monthly/hru_means\\mpi_echam5.sresa2.2046-2065.jan.animation.hru_means.nhru..."
       ]
      },
      {
       "output_type": "stream",
       "stream": "stdout",
       "text": [
        "\n",
        "writing D:/ATLData/LMB/LKM_Nov2013_monthly/hru_pct_diff\\mpi_echam5.sresa2.2046-2065.jan.animation.hru_pct_diff.nhru..."
       ]
      },
      {
       "output_type": "stream",
       "stream": "stdout",
       "text": [
        "\n",
        "writing D:/ATLData/LMB/LKM_Nov2013_monthly/hru_means\\mpi_echam5.sresa1b.2081-2100.jan.animation.hru_means.nhru..."
       ]
      },
      {
       "output_type": "stream",
       "stream": "stdout",
       "text": [
        "\n",
        "writing D:/ATLData/LMB/LKM_Nov2013_monthly/hru_pct_diff\\mpi_echam5.sresa1b.2081-2100.jan.animation.hru_pct_diff.nhru..."
       ]
      },
      {
       "output_type": "stream",
       "stream": "stdout",
       "text": [
        "\n",
        "writing D:/ATLData/LMB/LKM_Nov2013_monthly/hru_means\\mpi_echam5.sresb1.2046-2065.jan.animation.hru_means.nhru..."
       ]
      },
      {
       "output_type": "stream",
       "stream": "stdout",
       "text": [
        "\n",
        "writing D:/ATLData/LMB/LKM_Nov2013_monthly/hru_pct_diff\\mpi_echam5.sresb1.2046-2065.jan.animation.hru_pct_diff.nhru..."
       ]
      },
      {
       "output_type": "stream",
       "stream": "stdout",
       "text": [
        "\n",
        "writing D:/ATLData/LMB/LKM_Nov2013_monthly/hru_means\\mpi_echam5.sresa2.2081-2100.jan.animation.hru_means.nhru..."
       ]
      },
      {
       "output_type": "stream",
       "stream": "stdout",
       "text": [
        "\n",
        "writing D:/ATLData/LMB/LKM_Nov2013_monthly/hru_pct_diff\\mpi_echam5.sresa2.2081-2100.jan.animation.hru_pct_diff.nhru..."
       ]
      },
      {
       "output_type": "stream",
       "stream": "stdout",
       "text": [
        "\n",
        "writing D:/ATLData/LMB/LKM_Nov2013_monthly/hru_means\\mpi_echam5.sresb1.2081-2100.jan.animation.hru_means.nhru..."
       ]
      },
      {
       "output_type": "stream",
       "stream": "stdout",
       "text": [
        "\n",
        "writing D:/ATLData/LMB/LKM_Nov2013_monthly/hru_pct_diff\\mpi_echam5.sresb1.2081-2100.jan.animation.hru_pct_diff.nhru..."
       ]
      },
      {
       "output_type": "stream",
       "stream": "stdout",
       "text": [
        "\n",
        "reading D:/ATLData/LMB/LKM_Nov2013_monthly_animation_output\\mpi_echam5.sresa1b.2046-2065.may.animation.nhru..."
       ]
      },
      {
       "output_type": "stream",
       "stream": "stdout",
       "text": [
        "\n",
        "reading D:/ATLData/LMB/LKM_Nov2013_monthly_animation_output\\mpi_echam5.sresa1b.2081-2100.may.animation.nhru..."
       ]
      },
      {
       "output_type": "stream",
       "stream": "stdout",
       "text": [
        "\n",
        "reading D:/ATLData/LMB/LKM_Nov2013_monthly_animation_output\\mpi_echam5.sresa2.2046-2065.may.animation.nhru..."
       ]
      },
      {
       "output_type": "stream",
       "stream": "stdout",
       "text": [
        "\n",
        "reading D:/ATLData/LMB/LKM_Nov2013_monthly_animation_output\\mpi_echam5.sresa2.2081-2100.may.animation.nhru..."
       ]
      },
      {
       "output_type": "stream",
       "stream": "stdout",
       "text": [
        "\n",
        "reading D:/ATLData/LMB/LKM_Nov2013_monthly_animation_output\\mpi_echam5.sresb1.2046-2065.may.animation.nhru..."
       ]
      },
      {
       "output_type": "stream",
       "stream": "stdout",
       "text": [
        "\n",
        "reading D:/ATLData/LMB/LKM_Nov2013_monthly_animation_output\\mpi_echam5.sresb1.2081-2100.may.animation.nhru..."
       ]
      },
      {
       "output_type": "stream",
       "stream": "stdout",
       "text": [
        "\n",
        "reading D:/ATLData/LMB/LKM_Nov2013_monthly_animation_output\\mpi_echam5.20c3m.1981-2000.may.animation.nhru..."
       ]
      },
      {
       "output_type": "stream",
       "stream": "stdout",
       "text": [
        "\n",
        "Warning, nan values found in percent differences. See error_file."
       ]
      },
      {
       "output_type": "stream",
       "stream": "stdout",
       "text": [
        "\n",
        "writing D:/ATLData/LMB/LKM_Nov2013_monthly/hru_means\\mpi_echam5.20c3m.1981-2000.may.animation.hru_means.nhru...\n",
        "writing D:/ATLData/LMB/LKM_Nov2013_monthly/hru_means\\mpi_echam5.sresa1b.2046-2065.may.animation.hru_means.nhru..."
       ]
      },
      {
       "output_type": "stream",
       "stream": "stdout",
       "text": [
        "\n",
        "writing D:/ATLData/LMB/LKM_Nov2013_monthly/hru_pct_diff\\mpi_echam5.sresa1b.2046-2065.may.animation.hru_pct_diff.nhru..."
       ]
      },
      {
       "output_type": "stream",
       "stream": "stdout",
       "text": [
        "\n",
        "writing D:/ATLData/LMB/LKM_Nov2013_monthly/hru_means\\mpi_echam5.sresa2.2046-2065.may.animation.hru_means.nhru..."
       ]
      },
      {
       "output_type": "stream",
       "stream": "stdout",
       "text": [
        "\n",
        "writing D:/ATLData/LMB/LKM_Nov2013_monthly/hru_pct_diff\\mpi_echam5.sresa2.2046-2065.may.animation.hru_pct_diff.nhru..."
       ]
      },
      {
       "output_type": "stream",
       "stream": "stdout",
       "text": [
        "\n",
        "writing D:/ATLData/LMB/LKM_Nov2013_monthly/hru_means\\mpi_echam5.sresa1b.2081-2100.may.animation.hru_means.nhru..."
       ]
      },
      {
       "output_type": "stream",
       "stream": "stdout",
       "text": [
        "\n",
        "writing D:/ATLData/LMB/LKM_Nov2013_monthly/hru_pct_diff\\mpi_echam5.sresa1b.2081-2100.may.animation.hru_pct_diff.nhru..."
       ]
      },
      {
       "output_type": "stream",
       "stream": "stdout",
       "text": [
        "\n",
        "writing D:/ATLData/LMB/LKM_Nov2013_monthly/hru_means\\mpi_echam5.sresb1.2081-2100.may.animation.hru_means.nhru..."
       ]
      },
      {
       "output_type": "stream",
       "stream": "stdout",
       "text": [
        "\n",
        "writing D:/ATLData/LMB/LKM_Nov2013_monthly/hru_pct_diff\\mpi_echam5.sresb1.2081-2100.may.animation.hru_pct_diff.nhru..."
       ]
      },
      {
       "output_type": "stream",
       "stream": "stdout",
       "text": [
        "\n",
        "writing D:/ATLData/LMB/LKM_Nov2013_monthly/hru_means\\mpi_echam5.sresa2.2081-2100.may.animation.hru_means.nhru..."
       ]
      },
      {
       "output_type": "stream",
       "stream": "stdout",
       "text": [
        "\n",
        "writing D:/ATLData/LMB/LKM_Nov2013_monthly/hru_pct_diff\\mpi_echam5.sresa2.2081-2100.may.animation.hru_pct_diff.nhru..."
       ]
      },
      {
       "output_type": "stream",
       "stream": "stdout",
       "text": [
        "\n",
        "writing D:/ATLData/LMB/LKM_Nov2013_monthly/hru_means\\mpi_echam5.sresb1.2046-2065.may.animation.hru_means.nhru..."
       ]
      },
      {
       "output_type": "stream",
       "stream": "stdout",
       "text": [
        "\n",
        "writing D:/ATLData/LMB/LKM_Nov2013_monthly/hru_pct_diff\\mpi_echam5.sresb1.2046-2065.may.animation.hru_pct_diff.nhru..."
       ]
      },
      {
       "output_type": "stream",
       "stream": "stdout",
       "text": [
        "\n",
        "reading D:/ATLData/LMB/LKM_Nov2013_monthly_animation_output\\mpi_echam5.sresa1b.2046-2065.nov.animation.nhru..."
       ]
      },
      {
       "output_type": "stream",
       "stream": "stdout",
       "text": [
        "\n",
        "reading D:/ATLData/LMB/LKM_Nov2013_monthly_animation_output\\mpi_echam5.sresa1b.2081-2100.nov.animation.nhru..."
       ]
      },
      {
       "output_type": "stream",
       "stream": "stdout",
       "text": [
        "\n",
        "reading D:/ATLData/LMB/LKM_Nov2013_monthly_animation_output\\mpi_echam5.sresa2.2046-2065.nov.animation.nhru..."
       ]
      },
      {
       "output_type": "stream",
       "stream": "stdout",
       "text": [
        "\n",
        "reading D:/ATLData/LMB/LKM_Nov2013_monthly_animation_output\\mpi_echam5.sresa2.2081-2100.nov.animation.nhru..."
       ]
      },
      {
       "output_type": "stream",
       "stream": "stdout",
       "text": [
        "\n",
        "reading D:/ATLData/LMB/LKM_Nov2013_monthly_animation_output\\mpi_echam5.sresb1.2046-2065.nov.animation.nhru..."
       ]
      },
      {
       "output_type": "stream",
       "stream": "stdout",
       "text": [
        "\n",
        "reading D:/ATLData/LMB/LKM_Nov2013_monthly_animation_output\\mpi_echam5.sresb1.2081-2100.nov.animation.nhru..."
       ]
      },
      {
       "output_type": "stream",
       "stream": "stdout",
       "text": [
        "\n",
        "reading D:/ATLData/LMB/LKM_Nov2013_monthly_animation_output\\mpi_echam5.20c3m.1981-2000.nov.animation.nhru..."
       ]
      },
      {
       "output_type": "stream",
       "stream": "stdout",
       "text": [
        "\n",
        "Warning, nan values found in percent differences. See error_file."
       ]
      },
      {
       "output_type": "stream",
       "stream": "stdout",
       "text": [
        "\n",
        "writing D:/ATLData/LMB/LKM_Nov2013_monthly/hru_means\\mpi_echam5.20c3m.1981-2000.nov.animation.hru_means.nhru...\n",
        "writing D:/ATLData/LMB/LKM_Nov2013_monthly/hru_means\\mpi_echam5.sresa2.2046-2065.nov.animation.hru_means.nhru..."
       ]
      },
      {
       "output_type": "stream",
       "stream": "stdout",
       "text": [
        "\n",
        "writing D:/ATLData/LMB/LKM_Nov2013_monthly/hru_pct_diff\\mpi_echam5.sresa2.2046-2065.nov.animation.hru_pct_diff.nhru..."
       ]
      },
      {
       "output_type": "stream",
       "stream": "stdout",
       "text": [
        "\n",
        "writing D:/ATLData/LMB/LKM_Nov2013_monthly/hru_means\\mpi_echam5.sresa2.2081-2100.nov.animation.hru_means.nhru..."
       ]
      },
      {
       "output_type": "stream",
       "stream": "stdout",
       "text": [
        "\n",
        "writing D:/ATLData/LMB/LKM_Nov2013_monthly/hru_pct_diff\\mpi_echam5.sresa2.2081-2100.nov.animation.hru_pct_diff.nhru..."
       ]
      },
      {
       "output_type": "stream",
       "stream": "stdout",
       "text": [
        "\n",
        "writing D:/ATLData/LMB/LKM_Nov2013_monthly/hru_means\\mpi_echam5.sresb1.2046-2065.nov.animation.hru_means.nhru..."
       ]
      },
      {
       "output_type": "stream",
       "stream": "stdout",
       "text": [
        "\n",
        "writing D:/ATLData/LMB/LKM_Nov2013_monthly/hru_pct_diff\\mpi_echam5.sresb1.2046-2065.nov.animation.hru_pct_diff.nhru..."
       ]
      },
      {
       "output_type": "stream",
       "stream": "stdout",
       "text": [
        "\n",
        "writing D:/ATLData/LMB/LKM_Nov2013_monthly/hru_means\\mpi_echam5.sresb1.2081-2100.nov.animation.hru_means.nhru..."
       ]
      },
      {
       "output_type": "stream",
       "stream": "stdout",
       "text": [
        "\n",
        "writing D:/ATLData/LMB/LKM_Nov2013_monthly/hru_pct_diff\\mpi_echam5.sresb1.2081-2100.nov.animation.hru_pct_diff.nhru..."
       ]
      },
      {
       "output_type": "stream",
       "stream": "stdout",
       "text": [
        "\n",
        "writing D:/ATLData/LMB/LKM_Nov2013_monthly/hru_means\\mpi_echam5.sresa1b.2081-2100.nov.animation.hru_means.nhru..."
       ]
      },
      {
       "output_type": "stream",
       "stream": "stdout",
       "text": [
        "\n",
        "writing D:/ATLData/LMB/LKM_Nov2013_monthly/hru_pct_diff\\mpi_echam5.sresa1b.2081-2100.nov.animation.hru_pct_diff.nhru..."
       ]
      },
      {
       "output_type": "stream",
       "stream": "stdout",
       "text": [
        "\n",
        "writing D:/ATLData/LMB/LKM_Nov2013_monthly/hru_means\\mpi_echam5.sresa1b.2046-2065.nov.animation.hru_means.nhru..."
       ]
      },
      {
       "output_type": "stream",
       "stream": "stdout",
       "text": [
        "\n",
        "writing D:/ATLData/LMB/LKM_Nov2013_monthly/hru_pct_diff\\mpi_echam5.sresa1b.2046-2065.nov.animation.hru_pct_diff.nhru..."
       ]
      },
      {
       "output_type": "stream",
       "stream": "stdout",
       "text": [
        "\n",
        "reading D:/ATLData/LMB/LKM_Nov2013_monthly_animation_output\\mpi_echam5.sresa1b.2046-2065.dec.animation.nhru..."
       ]
      },
      {
       "output_type": "stream",
       "stream": "stdout",
       "text": [
        "\n",
        "reading D:/ATLData/LMB/LKM_Nov2013_monthly_animation_output\\mpi_echam5.sresa1b.2081-2100.dec.animation.nhru..."
       ]
      },
      {
       "output_type": "stream",
       "stream": "stdout",
       "text": [
        "\n",
        "reading D:/ATLData/LMB/LKM_Nov2013_monthly_animation_output\\mpi_echam5.sresa2.2046-2065.dec.animation.nhru..."
       ]
      },
      {
       "output_type": "stream",
       "stream": "stdout",
       "text": [
        "\n",
        "reading D:/ATLData/LMB/LKM_Nov2013_monthly_animation_output\\mpi_echam5.sresa2.2081-2100.dec.animation.nhru..."
       ]
      },
      {
       "output_type": "stream",
       "stream": "stdout",
       "text": [
        "\n",
        "reading D:/ATLData/LMB/LKM_Nov2013_monthly_animation_output\\mpi_echam5.sresb1.2046-2065.dec.animation.nhru..."
       ]
      },
      {
       "output_type": "stream",
       "stream": "stdout",
       "text": [
        "\n",
        "reading D:/ATLData/LMB/LKM_Nov2013_monthly_animation_output\\mpi_echam5.sresb1.2081-2100.dec.animation.nhru..."
       ]
      },
      {
       "output_type": "stream",
       "stream": "stdout",
       "text": [
        "\n",
        "reading D:/ATLData/LMB/LKM_Nov2013_monthly_animation_output\\mpi_echam5.20c3m.1981-2000.dec.animation.nhru..."
       ]
      },
      {
       "output_type": "stream",
       "stream": "stdout",
       "text": [
        "\n",
        "Warning, nan values found in percent differences. See error_file."
       ]
      },
      {
       "output_type": "stream",
       "stream": "stdout",
       "text": [
        "\n",
        "writing D:/ATLData/LMB/LKM_Nov2013_monthly/hru_means\\mpi_echam5.20c3m.1981-2000.dec.animation.hru_means.nhru...\n",
        "writing D:/ATLData/LMB/LKM_Nov2013_monthly/hru_means\\mpi_echam5.sresa2.2081-2100.dec.animation.hru_means.nhru..."
       ]
      },
      {
       "output_type": "stream",
       "stream": "stdout",
       "text": [
        "\n",
        "writing D:/ATLData/LMB/LKM_Nov2013_monthly/hru_pct_diff\\mpi_echam5.sresa2.2081-2100.dec.animation.hru_pct_diff.nhru..."
       ]
      },
      {
       "output_type": "stream",
       "stream": "stdout",
       "text": [
        "\n",
        "writing D:/ATLData/LMB/LKM_Nov2013_monthly/hru_means\\mpi_echam5.sresb1.2046-2065.dec.animation.hru_means.nhru..."
       ]
      },
      {
       "output_type": "stream",
       "stream": "stdout",
       "text": [
        "\n",
        "writing D:/ATLData/LMB/LKM_Nov2013_monthly/hru_pct_diff\\mpi_echam5.sresb1.2046-2065.dec.animation.hru_pct_diff.nhru..."
       ]
      },
      {
       "output_type": "stream",
       "stream": "stdout",
       "text": [
        "\n",
        "writing D:/ATLData/LMB/LKM_Nov2013_monthly/hru_means\\mpi_echam5.sresa1b.2081-2100.dec.animation.hru_means.nhru..."
       ]
      },
      {
       "output_type": "stream",
       "stream": "stdout",
       "text": [
        "\n",
        "writing D:/ATLData/LMB/LKM_Nov2013_monthly/hru_pct_diff\\mpi_echam5.sresa1b.2081-2100.dec.animation.hru_pct_diff.nhru..."
       ]
      },
      {
       "output_type": "stream",
       "stream": "stdout",
       "text": [
        "\n",
        "writing D:/ATLData/LMB/LKM_Nov2013_monthly/hru_means\\mpi_echam5.sresa2.2046-2065.dec.animation.hru_means.nhru..."
       ]
      },
      {
       "output_type": "stream",
       "stream": "stdout",
       "text": [
        "\n",
        "writing D:/ATLData/LMB/LKM_Nov2013_monthly/hru_pct_diff\\mpi_echam5.sresa2.2046-2065.dec.animation.hru_pct_diff.nhru..."
       ]
      },
      {
       "output_type": "stream",
       "stream": "stdout",
       "text": [
        "\n",
        "writing D:/ATLData/LMB/LKM_Nov2013_monthly/hru_means\\mpi_echam5.sresb1.2081-2100.dec.animation.hru_means.nhru..."
       ]
      },
      {
       "output_type": "stream",
       "stream": "stdout",
       "text": [
        "\n",
        "writing D:/ATLData/LMB/LKM_Nov2013_monthly/hru_pct_diff\\mpi_echam5.sresb1.2081-2100.dec.animation.hru_pct_diff.nhru..."
       ]
      },
      {
       "output_type": "stream",
       "stream": "stdout",
       "text": [
        "\n",
        "writing D:/ATLData/LMB/LKM_Nov2013_monthly/hru_means\\mpi_echam5.sresa1b.2046-2065.dec.animation.hru_means.nhru..."
       ]
      },
      {
       "output_type": "stream",
       "stream": "stdout",
       "text": [
        "\n",
        "writing D:/ATLData/LMB/LKM_Nov2013_monthly/hru_pct_diff\\mpi_echam5.sresa1b.2046-2065.dec.animation.hru_pct_diff.nhru..."
       ]
      },
      {
       "output_type": "stream",
       "stream": "stdout",
       "text": [
        "\n",
        "reading D:/ATLData/LMB/LKM_Nov2013_monthly_animation_output\\mpi_echam5.sresa1b.2046-2065.oct.animation.nhru..."
       ]
      },
      {
       "output_type": "stream",
       "stream": "stdout",
       "text": [
        "\n",
        "reading D:/ATLData/LMB/LKM_Nov2013_monthly_animation_output\\mpi_echam5.sresa1b.2081-2100.oct.animation.nhru..."
       ]
      },
      {
       "output_type": "stream",
       "stream": "stdout",
       "text": [
        "\n",
        "reading D:/ATLData/LMB/LKM_Nov2013_monthly_animation_output\\mpi_echam5.sresa2.2046-2065.oct.animation.nhru..."
       ]
      },
      {
       "output_type": "stream",
       "stream": "stdout",
       "text": [
        "\n",
        "reading D:/ATLData/LMB/LKM_Nov2013_monthly_animation_output\\mpi_echam5.sresa2.2081-2100.oct.animation.nhru..."
       ]
      },
      {
       "output_type": "stream",
       "stream": "stdout",
       "text": [
        "\n",
        "reading D:/ATLData/LMB/LKM_Nov2013_monthly_animation_output\\mpi_echam5.sresb1.2046-2065.oct.animation.nhru..."
       ]
      },
      {
       "output_type": "stream",
       "stream": "stdout",
       "text": [
        "\n",
        "reading D:/ATLData/LMB/LKM_Nov2013_monthly_animation_output\\mpi_echam5.sresb1.2081-2100.oct.animation.nhru..."
       ]
      },
      {
       "output_type": "stream",
       "stream": "stdout",
       "text": [
        "\n",
        "reading D:/ATLData/LMB/LKM_Nov2013_monthly_animation_output\\mpi_echam5.20c3m.1981-2000.oct.animation.nhru..."
       ]
      },
      {
       "output_type": "stream",
       "stream": "stdout",
       "text": [
        "\n",
        "Warning, nan values found in percent differences. See error_file."
       ]
      },
      {
       "output_type": "stream",
       "stream": "stdout",
       "text": [
        "\n",
        "writing D:/ATLData/LMB/LKM_Nov2013_monthly/hru_means\\mpi_echam5.20c3m.1981-2000.oct.animation.hru_means.nhru...\n",
        "writing D:/ATLData/LMB/LKM_Nov2013_monthly/hru_means\\mpi_echam5.sresb1.2046-2065.oct.animation.hru_means.nhru..."
       ]
      },
      {
       "output_type": "stream",
       "stream": "stdout",
       "text": [
        "\n",
        "writing D:/ATLData/LMB/LKM_Nov2013_monthly/hru_pct_diff\\mpi_echam5.sresb1.2046-2065.oct.animation.hru_pct_diff.nhru..."
       ]
      },
      {
       "output_type": "stream",
       "stream": "stdout",
       "text": [
        "\n",
        "writing D:/ATLData/LMB/LKM_Nov2013_monthly/hru_means\\mpi_echam5.sresa2.2081-2100.oct.animation.hru_means.nhru..."
       ]
      },
      {
       "output_type": "stream",
       "stream": "stdout",
       "text": [
        "\n",
        "writing D:/ATLData/LMB/LKM_Nov2013_monthly/hru_pct_diff\\mpi_echam5.sresa2.2081-2100.oct.animation.hru_pct_diff.nhru..."
       ]
      },
      {
       "output_type": "stream",
       "stream": "stdout",
       "text": [
        "\n",
        "writing D:/ATLData/LMB/LKM_Nov2013_monthly/hru_means\\mpi_echam5.sresa1b.2081-2100.oct.animation.hru_means.nhru..."
       ]
      },
      {
       "output_type": "stream",
       "stream": "stdout",
       "text": [
        "\n",
        "writing D:/ATLData/LMB/LKM_Nov2013_monthly/hru_pct_diff\\mpi_echam5.sresa1b.2081-2100.oct.animation.hru_pct_diff.nhru..."
       ]
      },
      {
       "output_type": "stream",
       "stream": "stdout",
       "text": [
        "\n",
        "writing D:/ATLData/LMB/LKM_Nov2013_monthly/hru_means\\mpi_echam5.sresa2.2046-2065.oct.animation.hru_means.nhru..."
       ]
      },
      {
       "output_type": "stream",
       "stream": "stdout",
       "text": [
        "\n",
        "writing D:/ATLData/LMB/LKM_Nov2013_monthly/hru_pct_diff\\mpi_echam5.sresa2.2046-2065.oct.animation.hru_pct_diff.nhru..."
       ]
      },
      {
       "output_type": "stream",
       "stream": "stdout",
       "text": [
        "\n",
        "writing D:/ATLData/LMB/LKM_Nov2013_monthly/hru_means\\mpi_echam5.sresb1.2081-2100.oct.animation.hru_means.nhru..."
       ]
      },
      {
       "output_type": "stream",
       "stream": "stdout",
       "text": [
        "\n",
        "writing D:/ATLData/LMB/LKM_Nov2013_monthly/hru_pct_diff\\mpi_echam5.sresb1.2081-2100.oct.animation.hru_pct_diff.nhru..."
       ]
      },
      {
       "output_type": "stream",
       "stream": "stdout",
       "text": [
        "\n",
        "writing D:/ATLData/LMB/LKM_Nov2013_monthly/hru_means\\mpi_echam5.sresa1b.2046-2065.oct.animation.hru_means.nhru..."
       ]
      },
      {
       "output_type": "stream",
       "stream": "stdout",
       "text": [
        "\n",
        "writing D:/ATLData/LMB/LKM_Nov2013_monthly/hru_pct_diff\\mpi_echam5.sresa1b.2046-2065.oct.animation.hru_pct_diff.nhru..."
       ]
      },
      {
       "output_type": "stream",
       "stream": "stdout",
       "text": [
        "\n",
        "reading D:/ATLData/LMB/LKM_Nov2013_monthly_animation_output\\mpi_echam5.sresa1b.2046-2065.mar.animation.nhru..."
       ]
      },
      {
       "output_type": "stream",
       "stream": "stdout",
       "text": [
        "\n",
        "reading D:/ATLData/LMB/LKM_Nov2013_monthly_animation_output\\mpi_echam5.sresa1b.2081-2100.mar.animation.nhru..."
       ]
      },
      {
       "output_type": "stream",
       "stream": "stdout",
       "text": [
        "\n",
        "reading D:/ATLData/LMB/LKM_Nov2013_monthly_animation_output\\mpi_echam5.sresa2.2046-2065.mar.animation.nhru..."
       ]
      },
      {
       "output_type": "stream",
       "stream": "stdout",
       "text": [
        "\n",
        "reading D:/ATLData/LMB/LKM_Nov2013_monthly_animation_output\\mpi_echam5.sresa2.2081-2100.mar.animation.nhru..."
       ]
      },
      {
       "output_type": "stream",
       "stream": "stdout",
       "text": [
        "\n",
        "reading D:/ATLData/LMB/LKM_Nov2013_monthly_animation_output\\mpi_echam5.sresb1.2046-2065.mar.animation.nhru..."
       ]
      },
      {
       "output_type": "stream",
       "stream": "stdout",
       "text": [
        "\n",
        "reading D:/ATLData/LMB/LKM_Nov2013_monthly_animation_output\\mpi_echam5.sresb1.2081-2100.mar.animation.nhru..."
       ]
      },
      {
       "output_type": "stream",
       "stream": "stdout",
       "text": [
        "\n",
        "reading D:/ATLData/LMB/LKM_Nov2013_monthly_animation_output\\mpi_echam5.20c3m.1981-2000.mar.animation.nhru..."
       ]
      },
      {
       "output_type": "stream",
       "stream": "stdout",
       "text": [
        "\n",
        "Warning, nan values found in percent differences. See error_file."
       ]
      },
      {
       "output_type": "stream",
       "stream": "stdout",
       "text": [
        "\n",
        "writing D:/ATLData/LMB/LKM_Nov2013_monthly/hru_means\\mpi_echam5.20c3m.1981-2000.mar.animation.hru_means.nhru...\n",
        "writing D:/ATLData/LMB/LKM_Nov2013_monthly/hru_means\\mpi_echam5.sresa1b.2081-2100.mar.animation.hru_means.nhru..."
       ]
      },
      {
       "output_type": "stream",
       "stream": "stdout",
       "text": [
        "\n",
        "writing D:/ATLData/LMB/LKM_Nov2013_monthly/hru_pct_diff\\mpi_echam5.sresa1b.2081-2100.mar.animation.hru_pct_diff.nhru..."
       ]
      },
      {
       "output_type": "stream",
       "stream": "stdout",
       "text": [
        "\n",
        "writing D:/ATLData/LMB/LKM_Nov2013_monthly/hru_means\\mpi_echam5.sresa2.2046-2065.mar.animation.hru_means.nhru..."
       ]
      },
      {
       "output_type": "stream",
       "stream": "stdout",
       "text": [
        "\n",
        "writing D:/ATLData/LMB/LKM_Nov2013_monthly/hru_pct_diff\\mpi_echam5.sresa2.2046-2065.mar.animation.hru_pct_diff.nhru..."
       ]
      },
      {
       "output_type": "stream",
       "stream": "stdout",
       "text": [
        "\n",
        "writing D:/ATLData/LMB/LKM_Nov2013_monthly/hru_means\\mpi_echam5.sresa2.2081-2100.mar.animation.hru_means.nhru..."
       ]
      },
      {
       "output_type": "stream",
       "stream": "stdout",
       "text": [
        "\n",
        "writing D:/ATLData/LMB/LKM_Nov2013_monthly/hru_pct_diff\\mpi_echam5.sresa2.2081-2100.mar.animation.hru_pct_diff.nhru..."
       ]
      },
      {
       "output_type": "stream",
       "stream": "stdout",
       "text": [
        "\n",
        "writing D:/ATLData/LMB/LKM_Nov2013_monthly/hru_means\\mpi_echam5.sresb1.2046-2065.mar.animation.hru_means.nhru..."
       ]
      },
      {
       "output_type": "stream",
       "stream": "stdout",
       "text": [
        "\n",
        "writing D:/ATLData/LMB/LKM_Nov2013_monthly/hru_pct_diff\\mpi_echam5.sresb1.2046-2065.mar.animation.hru_pct_diff.nhru..."
       ]
      },
      {
       "output_type": "stream",
       "stream": "stdout",
       "text": [
        "\n",
        "writing D:/ATLData/LMB/LKM_Nov2013_monthly/hru_means\\mpi_echam5.sresb1.2081-2100.mar.animation.hru_means.nhru..."
       ]
      },
      {
       "output_type": "stream",
       "stream": "stdout",
       "text": [
        "\n",
        "writing D:/ATLData/LMB/LKM_Nov2013_monthly/hru_pct_diff\\mpi_echam5.sresb1.2081-2100.mar.animation.hru_pct_diff.nhru..."
       ]
      },
      {
       "output_type": "stream",
       "stream": "stdout",
       "text": [
        "\n",
        "writing D:/ATLData/LMB/LKM_Nov2013_monthly/hru_means\\mpi_echam5.sresa1b.2046-2065.mar.animation.hru_means.nhru..."
       ]
      },
      {
       "output_type": "stream",
       "stream": "stdout",
       "text": [
        "\n",
        "writing D:/ATLData/LMB/LKM_Nov2013_monthly/hru_pct_diff\\mpi_echam5.sresa1b.2046-2065.mar.animation.hru_pct_diff.nhru..."
       ]
      },
      {
       "output_type": "stream",
       "stream": "stdout",
       "text": [
        "\n",
        "reading D:/ATLData/LMB/LKM_Nov2013_monthly_animation_output\\mpi_echam5.sresa1b.2046-2065.feb.animation.nhru..."
       ]
      },
      {
       "output_type": "stream",
       "stream": "stdout",
       "text": [
        "\n",
        "reading D:/ATLData/LMB/LKM_Nov2013_monthly_animation_output\\mpi_echam5.sresa1b.2081-2100.feb.animation.nhru..."
       ]
      },
      {
       "output_type": "stream",
       "stream": "stdout",
       "text": [
        "\n",
        "reading D:/ATLData/LMB/LKM_Nov2013_monthly_animation_output\\mpi_echam5.sresa2.2046-2065.feb.animation.nhru..."
       ]
      },
      {
       "output_type": "stream",
       "stream": "stdout",
       "text": [
        "\n",
        "reading D:/ATLData/LMB/LKM_Nov2013_monthly_animation_output\\mpi_echam5.sresa2.2081-2100.feb.animation.nhru..."
       ]
      },
      {
       "output_type": "stream",
       "stream": "stdout",
       "text": [
        "\n",
        "reading D:/ATLData/LMB/LKM_Nov2013_monthly_animation_output\\mpi_echam5.sresb1.2046-2065.feb.animation.nhru..."
       ]
      },
      {
       "output_type": "stream",
       "stream": "stdout",
       "text": [
        "\n",
        "reading D:/ATLData/LMB/LKM_Nov2013_monthly_animation_output\\mpi_echam5.sresb1.2081-2100.feb.animation.nhru..."
       ]
      },
      {
       "output_type": "stream",
       "stream": "stdout",
       "text": [
        "\n",
        "reading D:/ATLData/LMB/LKM_Nov2013_monthly_animation_output\\mpi_echam5.20c3m.1981-2000.feb.animation.nhru..."
       ]
      },
      {
       "output_type": "stream",
       "stream": "stdout",
       "text": [
        "\n",
        "Warning, nan values found in percent differences. See error_file."
       ]
      },
      {
       "output_type": "stream",
       "stream": "stdout",
       "text": [
        "\n",
        "writing D:/ATLData/LMB/LKM_Nov2013_monthly/hru_means\\mpi_echam5.20c3m.1981-2000.feb.animation.hru_means.nhru...\n",
        "writing D:/ATLData/LMB/LKM_Nov2013_monthly/hru_means\\mpi_echam5.sresa1b.2046-2065.feb.animation.hru_means.nhru..."
       ]
      },
      {
       "output_type": "stream",
       "stream": "stdout",
       "text": [
        "\n",
        "writing D:/ATLData/LMB/LKM_Nov2013_monthly/hru_pct_diff\\mpi_echam5.sresa1b.2046-2065.feb.animation.hru_pct_diff.nhru..."
       ]
      },
      {
       "output_type": "stream",
       "stream": "stdout",
       "text": [
        "\n",
        "writing D:/ATLData/LMB/LKM_Nov2013_monthly/hru_means\\mpi_echam5.sresa1b.2081-2100.feb.animation.hru_means.nhru..."
       ]
      },
      {
       "output_type": "stream",
       "stream": "stdout",
       "text": [
        "\n",
        "writing D:/ATLData/LMB/LKM_Nov2013_monthly/hru_pct_diff\\mpi_echam5.sresa1b.2081-2100.feb.animation.hru_pct_diff.nhru..."
       ]
      },
      {
       "output_type": "stream",
       "stream": "stdout",
       "text": [
        "\n",
        "writing D:/ATLData/LMB/LKM_Nov2013_monthly/hru_means\\mpi_echam5.sresa2.2046-2065.feb.animation.hru_means.nhru..."
       ]
      },
      {
       "output_type": "stream",
       "stream": "stdout",
       "text": [
        "\n",
        "writing D:/ATLData/LMB/LKM_Nov2013_monthly/hru_pct_diff\\mpi_echam5.sresa2.2046-2065.feb.animation.hru_pct_diff.nhru..."
       ]
      },
      {
       "output_type": "stream",
       "stream": "stdout",
       "text": [
        "\n",
        "writing D:/ATLData/LMB/LKM_Nov2013_monthly/hru_means\\mpi_echam5.sresb1.2046-2065.feb.animation.hru_means.nhru..."
       ]
      },
      {
       "output_type": "stream",
       "stream": "stdout",
       "text": [
        "\n",
        "writing D:/ATLData/LMB/LKM_Nov2013_monthly/hru_pct_diff\\mpi_echam5.sresb1.2046-2065.feb.animation.hru_pct_diff.nhru..."
       ]
      },
      {
       "output_type": "stream",
       "stream": "stdout",
       "text": [
        "\n",
        "writing D:/ATLData/LMB/LKM_Nov2013_monthly/hru_means\\mpi_echam5.sresa2.2081-2100.feb.animation.hru_means.nhru..."
       ]
      },
      {
       "output_type": "stream",
       "stream": "stdout",
       "text": [
        "\n",
        "writing D:/ATLData/LMB/LKM_Nov2013_monthly/hru_pct_diff\\mpi_echam5.sresa2.2081-2100.feb.animation.hru_pct_diff.nhru..."
       ]
      },
      {
       "output_type": "stream",
       "stream": "stdout",
       "text": [
        "\n",
        "writing D:/ATLData/LMB/LKM_Nov2013_monthly/hru_means\\mpi_echam5.sresb1.2081-2100.feb.animation.hru_means.nhru..."
       ]
      },
      {
       "output_type": "stream",
       "stream": "stdout",
       "text": [
        "\n",
        "writing D:/ATLData/LMB/LKM_Nov2013_monthly/hru_pct_diff\\mpi_echam5.sresb1.2081-2100.feb.animation.hru_pct_diff.nhru..."
       ]
      },
      {
       "output_type": "stream",
       "stream": "stdout",
       "text": [
        "\n",
        "reading D:/ATLData/LMB/LKM_Nov2013_monthly_animation_output\\mpi_echam5.sresa1b.2046-2065.aug.animation.nhru..."
       ]
      },
      {
       "output_type": "stream",
       "stream": "stdout",
       "text": [
        "\n",
        "reading D:/ATLData/LMB/LKM_Nov2013_monthly_animation_output\\mpi_echam5.sresa1b.2081-2100.aug.animation.nhru..."
       ]
      },
      {
       "output_type": "stream",
       "stream": "stdout",
       "text": [
        "\n",
        "reading D:/ATLData/LMB/LKM_Nov2013_monthly_animation_output\\mpi_echam5.sresa2.2046-2065.aug.animation.nhru..."
       ]
      },
      {
       "output_type": "stream",
       "stream": "stdout",
       "text": [
        "\n",
        "reading D:/ATLData/LMB/LKM_Nov2013_monthly_animation_output\\mpi_echam5.sresa2.2081-2100.aug.animation.nhru..."
       ]
      },
      {
       "output_type": "stream",
       "stream": "stdout",
       "text": [
        "\n",
        "reading D:/ATLData/LMB/LKM_Nov2013_monthly_animation_output\\mpi_echam5.sresb1.2046-2065.aug.animation.nhru..."
       ]
      },
      {
       "output_type": "stream",
       "stream": "stdout",
       "text": [
        "\n",
        "reading D:/ATLData/LMB/LKM_Nov2013_monthly_animation_output\\mpi_echam5.sresb1.2081-2100.aug.animation.nhru..."
       ]
      },
      {
       "output_type": "stream",
       "stream": "stdout",
       "text": [
        "\n",
        "reading D:/ATLData/LMB/LKM_Nov2013_monthly_animation_output\\mpi_echam5.20c3m.1981-2000.aug.animation.nhru..."
       ]
      },
      {
       "output_type": "stream",
       "stream": "stdout",
       "text": [
        "\n",
        "Warning, nan values found in percent differences. See error_file."
       ]
      },
      {
       "output_type": "stream",
       "stream": "stdout",
       "text": [
        "\n",
        "writing D:/ATLData/LMB/LKM_Nov2013_monthly/hru_means\\mpi_echam5.20c3m.1981-2000.aug.animation.hru_means.nhru...\n",
        "writing D:/ATLData/LMB/LKM_Nov2013_monthly/hru_means\\mpi_echam5.sresb1.2046-2065.aug.animation.hru_means.nhru..."
       ]
      },
      {
       "output_type": "stream",
       "stream": "stdout",
       "text": [
        "\n",
        "writing D:/ATLData/LMB/LKM_Nov2013_monthly/hru_pct_diff\\mpi_echam5.sresb1.2046-2065.aug.animation.hru_pct_diff.nhru..."
       ]
      },
      {
       "output_type": "stream",
       "stream": "stdout",
       "text": [
        "\n",
        "writing D:/ATLData/LMB/LKM_Nov2013_monthly/hru_means\\mpi_echam5.sresb1.2081-2100.aug.animation.hru_means.nhru..."
       ]
      },
      {
       "output_type": "stream",
       "stream": "stdout",
       "text": [
        "\n",
        "writing D:/ATLData/LMB/LKM_Nov2013_monthly/hru_pct_diff\\mpi_echam5.sresb1.2081-2100.aug.animation.hru_pct_diff.nhru..."
       ]
      },
      {
       "output_type": "stream",
       "stream": "stdout",
       "text": [
        "\n",
        "writing D:/ATLData/LMB/LKM_Nov2013_monthly/hru_means\\mpi_echam5.sresa1b.2046-2065.aug.animation.hru_means.nhru..."
       ]
      },
      {
       "output_type": "stream",
       "stream": "stdout",
       "text": [
        "\n",
        "writing D:/ATLData/LMB/LKM_Nov2013_monthly/hru_pct_diff\\mpi_echam5.sresa1b.2046-2065.aug.animation.hru_pct_diff.nhru..."
       ]
      },
      {
       "output_type": "stream",
       "stream": "stdout",
       "text": [
        "\n",
        "writing D:/ATLData/LMB/LKM_Nov2013_monthly/hru_means\\mpi_echam5.sresa2.2046-2065.aug.animation.hru_means.nhru..."
       ]
      },
      {
       "output_type": "stream",
       "stream": "stdout",
       "text": [
        "\n",
        "writing D:/ATLData/LMB/LKM_Nov2013_monthly/hru_pct_diff\\mpi_echam5.sresa2.2046-2065.aug.animation.hru_pct_diff.nhru..."
       ]
      },
      {
       "output_type": "stream",
       "stream": "stdout",
       "text": [
        "\n",
        "writing D:/ATLData/LMB/LKM_Nov2013_monthly/hru_means\\mpi_echam5.sresa1b.2081-2100.aug.animation.hru_means.nhru..."
       ]
      },
      {
       "output_type": "stream",
       "stream": "stdout",
       "text": [
        "\n",
        "writing D:/ATLData/LMB/LKM_Nov2013_monthly/hru_pct_diff\\mpi_echam5.sresa1b.2081-2100.aug.animation.hru_pct_diff.nhru..."
       ]
      },
      {
       "output_type": "stream",
       "stream": "stdout",
       "text": [
        "\n",
        "writing D:/ATLData/LMB/LKM_Nov2013_monthly/hru_means\\mpi_echam5.sresa2.2081-2100.aug.animation.hru_means.nhru..."
       ]
      },
      {
       "output_type": "stream",
       "stream": "stdout",
       "text": [
        "\n",
        "writing D:/ATLData/LMB/LKM_Nov2013_monthly/hru_pct_diff\\mpi_echam5.sresa2.2081-2100.aug.animation.hru_pct_diff.nhru..."
       ]
      },
      {
       "output_type": "stream",
       "stream": "stdout",
       "text": [
        "\n",
        "reading D:/ATLData/LMB/LKM_Nov2013_monthly_animation_output\\mpi_echam5.sresa1b.2046-2065.sep.animation.nhru..."
       ]
      },
      {
       "output_type": "stream",
       "stream": "stdout",
       "text": [
        "\n",
        "reading D:/ATLData/LMB/LKM_Nov2013_monthly_animation_output\\mpi_echam5.sresa1b.2081-2100.sep.animation.nhru..."
       ]
      },
      {
       "output_type": "stream",
       "stream": "stdout",
       "text": [
        "\n",
        "reading D:/ATLData/LMB/LKM_Nov2013_monthly_animation_output\\mpi_echam5.sresa2.2046-2065.sep.animation.nhru..."
       ]
      },
      {
       "output_type": "stream",
       "stream": "stdout",
       "text": [
        "\n",
        "reading D:/ATLData/LMB/LKM_Nov2013_monthly_animation_output\\mpi_echam5.sresa2.2081-2100.sep.animation.nhru..."
       ]
      },
      {
       "output_type": "stream",
       "stream": "stdout",
       "text": [
        "\n",
        "reading D:/ATLData/LMB/LKM_Nov2013_monthly_animation_output\\mpi_echam5.sresb1.2046-2065.sep.animation.nhru..."
       ]
      },
      {
       "output_type": "stream",
       "stream": "stdout",
       "text": [
        "\n",
        "reading D:/ATLData/LMB/LKM_Nov2013_monthly_animation_output\\mpi_echam5.sresb1.2081-2100.sep.animation.nhru..."
       ]
      },
      {
       "output_type": "stream",
       "stream": "stdout",
       "text": [
        "\n",
        "reading D:/ATLData/LMB/LKM_Nov2013_monthly_animation_output\\mpi_echam5.20c3m.1981-2000.sep.animation.nhru..."
       ]
      },
      {
       "output_type": "stream",
       "stream": "stdout",
       "text": [
        "\n",
        "Warning, nan values found in percent differences. See error_file."
       ]
      },
      {
       "output_type": "stream",
       "stream": "stdout",
       "text": [
        "\n",
        "writing D:/ATLData/LMB/LKM_Nov2013_monthly/hru_means\\mpi_echam5.20c3m.1981-2000.sep.animation.hru_means.nhru...\n",
        "writing D:/ATLData/LMB/LKM_Nov2013_monthly/hru_means\\mpi_echam5.sresa2.2081-2100.sep.animation.hru_means.nhru..."
       ]
      },
      {
       "output_type": "stream",
       "stream": "stdout",
       "text": [
        "\n",
        "writing D:/ATLData/LMB/LKM_Nov2013_monthly/hru_pct_diff\\mpi_echam5.sresa2.2081-2100.sep.animation.hru_pct_diff.nhru..."
       ]
      },
      {
       "output_type": "stream",
       "stream": "stdout",
       "text": [
        "\n",
        "writing D:/ATLData/LMB/LKM_Nov2013_monthly/hru_means\\mpi_echam5.sresb1.2081-2100.sep.animation.hru_means.nhru..."
       ]
      },
      {
       "output_type": "stream",
       "stream": "stdout",
       "text": [
        "\n",
        "writing D:/ATLData/LMB/LKM_Nov2013_monthly/hru_pct_diff\\mpi_echam5.sresb1.2081-2100.sep.animation.hru_pct_diff.nhru..."
       ]
      },
      {
       "output_type": "stream",
       "stream": "stdout",
       "text": [
        "\n",
        "writing D:/ATLData/LMB/LKM_Nov2013_monthly/hru_means\\mpi_echam5.sresa1b.2081-2100.sep.animation.hru_means.nhru..."
       ]
      },
      {
       "output_type": "stream",
       "stream": "stdout",
       "text": [
        "\n",
        "writing D:/ATLData/LMB/LKM_Nov2013_monthly/hru_pct_diff\\mpi_echam5.sresa1b.2081-2100.sep.animation.hru_pct_diff.nhru..."
       ]
      },
      {
       "output_type": "stream",
       "stream": "stdout",
       "text": [
        "\n",
        "writing D:/ATLData/LMB/LKM_Nov2013_monthly/hru_means\\mpi_echam5.sresa1b.2046-2065.sep.animation.hru_means.nhru..."
       ]
      },
      {
       "output_type": "stream",
       "stream": "stdout",
       "text": [
        "\n",
        "writing D:/ATLData/LMB/LKM_Nov2013_monthly/hru_pct_diff\\mpi_echam5.sresa1b.2046-2065.sep.animation.hru_pct_diff.nhru..."
       ]
      },
      {
       "output_type": "stream",
       "stream": "stdout",
       "text": [
        "\n",
        "writing D:/ATLData/LMB/LKM_Nov2013_monthly/hru_means\\mpi_echam5.sresb1.2046-2065.sep.animation.hru_means.nhru..."
       ]
      },
      {
       "output_type": "stream",
       "stream": "stdout",
       "text": [
        "\n",
        "writing D:/ATLData/LMB/LKM_Nov2013_monthly/hru_pct_diff\\mpi_echam5.sresb1.2046-2065.sep.animation.hru_pct_diff.nhru..."
       ]
      },
      {
       "output_type": "stream",
       "stream": "stdout",
       "text": [
        "\n",
        "writing D:/ATLData/LMB/LKM_Nov2013_monthly/hru_means\\mpi_echam5.sresa2.2046-2065.sep.animation.hru_means.nhru..."
       ]
      },
      {
       "output_type": "stream",
       "stream": "stdout",
       "text": [
        "\n",
        "writing D:/ATLData/LMB/LKM_Nov2013_monthly/hru_pct_diff\\mpi_echam5.sresa2.2046-2065.sep.animation.hru_pct_diff.nhru..."
       ]
      },
      {
       "output_type": "stream",
       "stream": "stdout",
       "text": [
        "\n",
        "reading D:/ATLData/LMB/LKM_Nov2013_monthly_animation_output\\mpi_echam5.sresa1b.2046-2065.apr.animation.nhru..."
       ]
      },
      {
       "output_type": "stream",
       "stream": "stdout",
       "text": [
        "\n",
        "reading D:/ATLData/LMB/LKM_Nov2013_monthly_animation_output\\mpi_echam5.sresa1b.2081-2100.apr.animation.nhru..."
       ]
      },
      {
       "output_type": "stream",
       "stream": "stdout",
       "text": [
        "\n",
        "reading D:/ATLData/LMB/LKM_Nov2013_monthly_animation_output\\mpi_echam5.sresa2.2046-2065.apr.animation.nhru..."
       ]
      },
      {
       "output_type": "stream",
       "stream": "stdout",
       "text": [
        "\n",
        "reading D:/ATLData/LMB/LKM_Nov2013_monthly_animation_output\\mpi_echam5.sresa2.2081-2100.apr.animation.nhru..."
       ]
      },
      {
       "output_type": "stream",
       "stream": "stdout",
       "text": [
        "\n",
        "reading D:/ATLData/LMB/LKM_Nov2013_monthly_animation_output\\mpi_echam5.sresb1.2046-2065.apr.animation.nhru..."
       ]
      },
      {
       "output_type": "stream",
       "stream": "stdout",
       "text": [
        "\n",
        "reading D:/ATLData/LMB/LKM_Nov2013_monthly_animation_output\\mpi_echam5.sresb1.2081-2100.apr.animation.nhru..."
       ]
      },
      {
       "output_type": "stream",
       "stream": "stdout",
       "text": [
        "\n",
        "reading D:/ATLData/LMB/LKM_Nov2013_monthly_animation_output\\mpi_echam5.20c3m.1981-2000.apr.animation.nhru..."
       ]
      },
      {
       "output_type": "stream",
       "stream": "stdout",
       "text": [
        "\n",
        "Warning, nan values found in percent differences. See error_file."
       ]
      },
      {
       "output_type": "stream",
       "stream": "stdout",
       "text": [
        "\n",
        "writing D:/ATLData/LMB/LKM_Nov2013_monthly/hru_means\\mpi_echam5.20c3m.1981-2000.apr.animation.hru_means.nhru...\n",
        "writing D:/ATLData/LMB/LKM_Nov2013_monthly/hru_means\\mpi_echam5.sresb1.2081-2100.apr.animation.hru_means.nhru..."
       ]
      },
      {
       "output_type": "stream",
       "stream": "stdout",
       "text": [
        "\n",
        "writing D:/ATLData/LMB/LKM_Nov2013_monthly/hru_pct_diff\\mpi_echam5.sresb1.2081-2100.apr.animation.hru_pct_diff.nhru..."
       ]
      },
      {
       "output_type": "stream",
       "stream": "stdout",
       "text": [
        "\n",
        "writing D:/ATLData/LMB/LKM_Nov2013_monthly/hru_means\\mpi_echam5.sresa2.2081-2100.apr.animation.hru_means.nhru..."
       ]
      },
      {
       "output_type": "stream",
       "stream": "stdout",
       "text": [
        "\n",
        "writing D:/ATLData/LMB/LKM_Nov2013_monthly/hru_pct_diff\\mpi_echam5.sresa2.2081-2100.apr.animation.hru_pct_diff.nhru..."
       ]
      },
      {
       "output_type": "stream",
       "stream": "stdout",
       "text": [
        "\n",
        "writing D:/ATLData/LMB/LKM_Nov2013_monthly/hru_means\\mpi_echam5.sresb1.2046-2065.apr.animation.hru_means.nhru..."
       ]
      },
      {
       "output_type": "stream",
       "stream": "stdout",
       "text": [
        "\n",
        "writing D:/ATLData/LMB/LKM_Nov2013_monthly/hru_pct_diff\\mpi_echam5.sresb1.2046-2065.apr.animation.hru_pct_diff.nhru..."
       ]
      },
      {
       "output_type": "stream",
       "stream": "stdout",
       "text": [
        "\n",
        "writing D:/ATLData/LMB/LKM_Nov2013_monthly/hru_means\\mpi_echam5.sresa2.2046-2065.apr.animation.hru_means.nhru..."
       ]
      },
      {
       "output_type": "stream",
       "stream": "stdout",
       "text": [
        "\n",
        "writing D:/ATLData/LMB/LKM_Nov2013_monthly/hru_pct_diff\\mpi_echam5.sresa2.2046-2065.apr.animation.hru_pct_diff.nhru..."
       ]
      },
      {
       "output_type": "stream",
       "stream": "stdout",
       "text": [
        "\n",
        "writing D:/ATLData/LMB/LKM_Nov2013_monthly/hru_means\\mpi_echam5.sresa1b.2081-2100.apr.animation.hru_means.nhru..."
       ]
      },
      {
       "output_type": "stream",
       "stream": "stdout",
       "text": [
        "\n",
        "writing D:/ATLData/LMB/LKM_Nov2013_monthly/hru_pct_diff\\mpi_echam5.sresa1b.2081-2100.apr.animation.hru_pct_diff.nhru..."
       ]
      },
      {
       "output_type": "stream",
       "stream": "stdout",
       "text": [
        "\n",
        "writing D:/ATLData/LMB/LKM_Nov2013_monthly/hru_means\\mpi_echam5.sresa1b.2046-2065.apr.animation.hru_means.nhru..."
       ]
      },
      {
       "output_type": "stream",
       "stream": "stdout",
       "text": [
        "\n",
        "writing D:/ATLData/LMB/LKM_Nov2013_monthly/hru_pct_diff\\mpi_echam5.sresa1b.2046-2065.apr.animation.hru_pct_diff.nhru..."
       ]
      },
      {
       "output_type": "stream",
       "stream": "stdout",
       "text": [
        "\n",
        "reading D:/ATLData/LMB/LKM_Nov2013_monthly_animation_output\\mpi_echam5.sresa1b.2046-2065.jun.animation.nhru..."
       ]
      },
      {
       "output_type": "stream",
       "stream": "stdout",
       "text": [
        "\n",
        "reading D:/ATLData/LMB/LKM_Nov2013_monthly_animation_output\\mpi_echam5.sresa1b.2081-2100.jun.animation.nhru..."
       ]
      },
      {
       "output_type": "stream",
       "stream": "stdout",
       "text": [
        "\n",
        "reading D:/ATLData/LMB/LKM_Nov2013_monthly_animation_output\\mpi_echam5.sresa2.2046-2065.jun.animation.nhru..."
       ]
      },
      {
       "output_type": "stream",
       "stream": "stdout",
       "text": [
        "\n",
        "reading D:/ATLData/LMB/LKM_Nov2013_monthly_animation_output\\mpi_echam5.sresa2.2081-2100.jun.animation.nhru..."
       ]
      },
      {
       "output_type": "stream",
       "stream": "stdout",
       "text": [
        "\n",
        "reading D:/ATLData/LMB/LKM_Nov2013_monthly_animation_output\\mpi_echam5.sresb1.2046-2065.jun.animation.nhru..."
       ]
      },
      {
       "output_type": "stream",
       "stream": "stdout",
       "text": [
        "\n",
        "reading D:/ATLData/LMB/LKM_Nov2013_monthly_animation_output\\mpi_echam5.sresb1.2081-2100.jun.animation.nhru..."
       ]
      },
      {
       "output_type": "stream",
       "stream": "stdout",
       "text": [
        "\n",
        "reading D:/ATLData/LMB/LKM_Nov2013_monthly_animation_output\\mpi_echam5.20c3m.1981-2000.jun.animation.nhru..."
       ]
      },
      {
       "output_type": "stream",
       "stream": "stdout",
       "text": [
        "\n",
        "Warning, nan values found in percent differences. See error_file."
       ]
      },
      {
       "output_type": "stream",
       "stream": "stdout",
       "text": [
        "\n",
        "writing D:/ATLData/LMB/LKM_Nov2013_monthly/hru_means\\mpi_echam5.20c3m.1981-2000.jun.animation.hru_means.nhru...\n",
        "writing D:/ATLData/LMB/LKM_Nov2013_monthly/hru_means\\mpi_echam5.sresa2.2081-2100.jun.animation.hru_means.nhru..."
       ]
      },
      {
       "output_type": "stream",
       "stream": "stdout",
       "text": [
        "\n",
        "writing D:/ATLData/LMB/LKM_Nov2013_monthly/hru_pct_diff\\mpi_echam5.sresa2.2081-2100.jun.animation.hru_pct_diff.nhru..."
       ]
      },
      {
       "output_type": "stream",
       "stream": "stdout",
       "text": [
        "\n",
        "writing D:/ATLData/LMB/LKM_Nov2013_monthly/hru_means\\mpi_echam5.sresa2.2046-2065.jun.animation.hru_means.nhru..."
       ]
      },
      {
       "output_type": "stream",
       "stream": "stdout",
       "text": [
        "\n",
        "writing D:/ATLData/LMB/LKM_Nov2013_monthly/hru_pct_diff\\mpi_echam5.sresa2.2046-2065.jun.animation.hru_pct_diff.nhru..."
       ]
      },
      {
       "output_type": "stream",
       "stream": "stdout",
       "text": [
        "\n",
        "writing D:/ATLData/LMB/LKM_Nov2013_monthly/hru_means\\mpi_echam5.sresb1.2081-2100.jun.animation.hru_means.nhru..."
       ]
      },
      {
       "output_type": "stream",
       "stream": "stdout",
       "text": [
        "\n",
        "writing D:/ATLData/LMB/LKM_Nov2013_monthly/hru_pct_diff\\mpi_echam5.sresb1.2081-2100.jun.animation.hru_pct_diff.nhru..."
       ]
      },
      {
       "output_type": "stream",
       "stream": "stdout",
       "text": [
        "\n",
        "writing D:/ATLData/LMB/LKM_Nov2013_monthly/hru_means\\mpi_echam5.sresa1b.2046-2065.jun.animation.hru_means.nhru..."
       ]
      },
      {
       "output_type": "stream",
       "stream": "stdout",
       "text": [
        "\n",
        "writing D:/ATLData/LMB/LKM_Nov2013_monthly/hru_pct_diff\\mpi_echam5.sresa1b.2046-2065.jun.animation.hru_pct_diff.nhru..."
       ]
      },
      {
       "output_type": "stream",
       "stream": "stdout",
       "text": [
        "\n",
        "writing D:/ATLData/LMB/LKM_Nov2013_monthly/hru_means\\mpi_echam5.sresa1b.2081-2100.jun.animation.hru_means.nhru..."
       ]
      },
      {
       "output_type": "stream",
       "stream": "stdout",
       "text": [
        "\n",
        "writing D:/ATLData/LMB/LKM_Nov2013_monthly/hru_pct_diff\\mpi_echam5.sresa1b.2081-2100.jun.animation.hru_pct_diff.nhru..."
       ]
      },
      {
       "output_type": "stream",
       "stream": "stdout",
       "text": [
        "\n",
        "writing D:/ATLData/LMB/LKM_Nov2013_monthly/hru_means\\mpi_echam5.sresb1.2046-2065.jun.animation.hru_means.nhru..."
       ]
      },
      {
       "output_type": "stream",
       "stream": "stdout",
       "text": [
        "\n",
        "writing D:/ATLData/LMB/LKM_Nov2013_monthly/hru_pct_diff\\mpi_echam5.sresb1.2046-2065.jun.animation.hru_pct_diff.nhru..."
       ]
      },
      {
       "output_type": "stream",
       "stream": "stdout",
       "text": [
        "\n",
        "reading D:/ATLData/LMB/LKM_Nov2013_monthly_animation_output\\mpi_echam5.sresa1b.2046-2065.jul.animation.nhru..."
       ]
      },
      {
       "output_type": "stream",
       "stream": "stdout",
       "text": [
        "\n",
        "reading D:/ATLData/LMB/LKM_Nov2013_monthly_animation_output\\mpi_echam5.sresa1b.2081-2100.jul.animation.nhru..."
       ]
      },
      {
       "output_type": "stream",
       "stream": "stdout",
       "text": [
        "\n",
        "reading D:/ATLData/LMB/LKM_Nov2013_monthly_animation_output\\mpi_echam5.sresa2.2046-2065.jul.animation.nhru..."
       ]
      },
      {
       "output_type": "stream",
       "stream": "stdout",
       "text": [
        "\n",
        "reading D:/ATLData/LMB/LKM_Nov2013_monthly_animation_output\\mpi_echam5.sresa2.2081-2100.jul.animation.nhru..."
       ]
      },
      {
       "output_type": "stream",
       "stream": "stdout",
       "text": [
        "\n",
        "reading D:/ATLData/LMB/LKM_Nov2013_monthly_animation_output\\mpi_echam5.sresb1.2046-2065.jul.animation.nhru..."
       ]
      },
      {
       "output_type": "stream",
       "stream": "stdout",
       "text": [
        "\n",
        "reading D:/ATLData/LMB/LKM_Nov2013_monthly_animation_output\\mpi_echam5.sresb1.2081-2100.jul.animation.nhru..."
       ]
      },
      {
       "output_type": "stream",
       "stream": "stdout",
       "text": [
        "\n",
        "reading D:/ATLData/LMB/LKM_Nov2013_monthly_animation_output\\mpi_echam5.20c3m.1981-2000.jul.animation.nhru..."
       ]
      },
      {
       "output_type": "stream",
       "stream": "stdout",
       "text": [
        "\n",
        "Warning, nan values found in percent differences. See error_file."
       ]
      },
      {
       "output_type": "stream",
       "stream": "stdout",
       "text": [
        "\n",
        "writing D:/ATLData/LMB/LKM_Nov2013_monthly/hru_means\\mpi_echam5.20c3m.1981-2000.jul.animation.hru_means.nhru...\n",
        "writing D:/ATLData/LMB/LKM_Nov2013_monthly/hru_means\\mpi_echam5.sresa1b.2046-2065.jul.animation.hru_means.nhru..."
       ]
      },
      {
       "output_type": "stream",
       "stream": "stdout",
       "text": [
        "\n",
        "writing D:/ATLData/LMB/LKM_Nov2013_monthly/hru_pct_diff\\mpi_echam5.sresa1b.2046-2065.jul.animation.hru_pct_diff.nhru..."
       ]
      },
      {
       "output_type": "stream",
       "stream": "stdout",
       "text": [
        "\n",
        "writing D:/ATLData/LMB/LKM_Nov2013_monthly/hru_means\\mpi_echam5.sresb1.2046-2065.jul.animation.hru_means.nhru..."
       ]
      },
      {
       "output_type": "stream",
       "stream": "stdout",
       "text": [
        "\n",
        "writing D:/ATLData/LMB/LKM_Nov2013_monthly/hru_pct_diff\\mpi_echam5.sresb1.2046-2065.jul.animation.hru_pct_diff.nhru..."
       ]
      },
      {
       "output_type": "stream",
       "stream": "stdout",
       "text": [
        "\n",
        "writing D:/ATLData/LMB/LKM_Nov2013_monthly/hru_means\\mpi_echam5.sresa2.2046-2065.jul.animation.hru_means.nhru..."
       ]
      },
      {
       "output_type": "stream",
       "stream": "stdout",
       "text": [
        "\n",
        "writing D:/ATLData/LMB/LKM_Nov2013_monthly/hru_pct_diff\\mpi_echam5.sresa2.2046-2065.jul.animation.hru_pct_diff.nhru..."
       ]
      },
      {
       "output_type": "stream",
       "stream": "stdout",
       "text": [
        "\n",
        "writing D:/ATLData/LMB/LKM_Nov2013_monthly/hru_means\\mpi_echam5.sresa1b.2081-2100.jul.animation.hru_means.nhru..."
       ]
      },
      {
       "output_type": "stream",
       "stream": "stdout",
       "text": [
        "\n",
        "writing D:/ATLData/LMB/LKM_Nov2013_monthly/hru_pct_diff\\mpi_echam5.sresa1b.2081-2100.jul.animation.hru_pct_diff.nhru..."
       ]
      },
      {
       "output_type": "stream",
       "stream": "stdout",
       "text": [
        "\n",
        "writing D:/ATLData/LMB/LKM_Nov2013_monthly/hru_means\\mpi_echam5.sresb1.2081-2100.jul.animation.hru_means.nhru..."
       ]
      },
      {
       "output_type": "stream",
       "stream": "stdout",
       "text": [
        "\n",
        "writing D:/ATLData/LMB/LKM_Nov2013_monthly/hru_pct_diff\\mpi_echam5.sresb1.2081-2100.jul.animation.hru_pct_diff.nhru..."
       ]
      },
      {
       "output_type": "stream",
       "stream": "stdout",
       "text": [
        "\n",
        "writing D:/ATLData/LMB/LKM_Nov2013_monthly/hru_means\\mpi_echam5.sresa2.2081-2100.jul.animation.hru_means.nhru..."
       ]
      },
      {
       "output_type": "stream",
       "stream": "stdout",
       "text": [
        "\n",
        "writing D:/ATLData/LMB/LKM_Nov2013_monthly/hru_pct_diff\\mpi_echam5.sresa2.2081-2100.jul.animation.hru_pct_diff.nhru..."
       ]
      },
      {
       "output_type": "stream",
       "stream": "stdout",
       "text": [
        "\n",
        "reading D:/ATLData/LMB/LKM_Nov2013_monthly_animation_output\\mpi_echam5.sresa1b.2046-2065.jan.animation.nhru..."
       ]
      },
      {
       "output_type": "stream",
       "stream": "stdout",
       "text": [
        "\n",
        "reading D:/ATLData/LMB/LKM_Nov2013_monthly_animation_output\\mpi_echam5.sresa1b.2081-2100.jan.animation.nhru..."
       ]
      },
      {
       "output_type": "stream",
       "stream": "stdout",
       "text": [
        "\n",
        "reading D:/ATLData/LMB/LKM_Nov2013_monthly_animation_output\\mpi_echam5.sresa2.2046-2065.jan.animation.nhru..."
       ]
      },
      {
       "output_type": "stream",
       "stream": "stdout",
       "text": [
        "\n",
        "reading D:/ATLData/LMB/LKM_Nov2013_monthly_animation_output\\mpi_echam5.sresa2.2081-2100.jan.animation.nhru..."
       ]
      },
      {
       "output_type": "stream",
       "stream": "stdout",
       "text": [
        "\n",
        "reading D:/ATLData/LMB/LKM_Nov2013_monthly_animation_output\\mpi_echam5.sresb1.2046-2065.jan.animation.nhru..."
       ]
      },
      {
       "output_type": "stream",
       "stream": "stdout",
       "text": [
        "\n",
        "reading D:/ATLData/LMB/LKM_Nov2013_monthly_animation_output\\mpi_echam5.sresb1.2081-2100.jan.animation.nhru..."
       ]
      },
      {
       "output_type": "stream",
       "stream": "stdout",
       "text": [
        "\n",
        "reading D:/ATLData/LMB/LKM_Nov2013_monthly_animation_output\\mpi_echam5.20c3m.1981-2000.jan.animation.nhru..."
       ]
      },
      {
       "output_type": "stream",
       "stream": "stdout",
       "text": [
        "\n",
        "Warning, nan values found in percent differences. See error_file."
       ]
      },
      {
       "output_type": "stream",
       "stream": "stdout",
       "text": [
        "\n",
        "writing D:/ATLData/LMB/LKM_Nov2013_monthly/hru_means\\mpi_echam5.20c3m.1981-2000.jan.animation.hru_means.nhru...\n",
        "writing D:/ATLData/LMB/LKM_Nov2013_monthly/hru_means\\mpi_echam5.sresa1b.2046-2065.jan.animation.hru_means.nhru..."
       ]
      },
      {
       "output_type": "stream",
       "stream": "stdout",
       "text": [
        "\n",
        "writing D:/ATLData/LMB/LKM_Nov2013_monthly/hru_pct_diff\\mpi_echam5.sresa1b.2046-2065.jan.animation.hru_pct_diff.nhru..."
       ]
      },
      {
       "output_type": "stream",
       "stream": "stdout",
       "text": [
        "\n",
        "writing D:/ATLData/LMB/LKM_Nov2013_monthly/hru_means\\mpi_echam5.sresa2.2046-2065.jan.animation.hru_means.nhru..."
       ]
      },
      {
       "output_type": "stream",
       "stream": "stdout",
       "text": [
        "\n",
        "writing D:/ATLData/LMB/LKM_Nov2013_monthly/hru_pct_diff\\mpi_echam5.sresa2.2046-2065.jan.animation.hru_pct_diff.nhru..."
       ]
      },
      {
       "output_type": "stream",
       "stream": "stdout",
       "text": [
        "\n",
        "writing D:/ATLData/LMB/LKM_Nov2013_monthly/hru_means\\mpi_echam5.sresa1b.2081-2100.jan.animation.hru_means.nhru..."
       ]
      },
      {
       "output_type": "stream",
       "stream": "stdout",
       "text": [
        "\n",
        "writing D:/ATLData/LMB/LKM_Nov2013_monthly/hru_pct_diff\\mpi_echam5.sresa1b.2081-2100.jan.animation.hru_pct_diff.nhru..."
       ]
      },
      {
       "output_type": "stream",
       "stream": "stdout",
       "text": [
        "\n",
        "writing D:/ATLData/LMB/LKM_Nov2013_monthly/hru_means\\mpi_echam5.sresb1.2046-2065.jan.animation.hru_means.nhru..."
       ]
      },
      {
       "output_type": "stream",
       "stream": "stdout",
       "text": [
        "\n",
        "writing D:/ATLData/LMB/LKM_Nov2013_monthly/hru_pct_diff\\mpi_echam5.sresb1.2046-2065.jan.animation.hru_pct_diff.nhru..."
       ]
      },
      {
       "output_type": "stream",
       "stream": "stdout",
       "text": [
        "\n",
        "writing D:/ATLData/LMB/LKM_Nov2013_monthly/hru_means\\mpi_echam5.sresa2.2081-2100.jan.animation.hru_means.nhru..."
       ]
      },
      {
       "output_type": "stream",
       "stream": "stdout",
       "text": [
        "\n",
        "writing D:/ATLData/LMB/LKM_Nov2013_monthly/hru_pct_diff\\mpi_echam5.sresa2.2081-2100.jan.animation.hru_pct_diff.nhru..."
       ]
      },
      {
       "output_type": "stream",
       "stream": "stdout",
       "text": [
        "\n",
        "writing D:/ATLData/LMB/LKM_Nov2013_monthly/hru_means\\mpi_echam5.sresb1.2081-2100.jan.animation.hru_means.nhru..."
       ]
      },
      {
       "output_type": "stream",
       "stream": "stdout",
       "text": [
        "\n",
        "writing D:/ATLData/LMB/LKM_Nov2013_monthly/hru_pct_diff\\mpi_echam5.sresb1.2081-2100.jan.animation.hru_pct_diff.nhru..."
       ]
      },
      {
       "output_type": "stream",
       "stream": "stdout",
       "text": [
        "\n",
        "reading D:/ATLData/LMB/LKM_Nov2013_monthly_animation_output\\mpi_echam5.sresa1b.2046-2065.may.animation.nhru..."
       ]
      },
      {
       "output_type": "stream",
       "stream": "stdout",
       "text": [
        "\n",
        "reading D:/ATLData/LMB/LKM_Nov2013_monthly_animation_output\\mpi_echam5.sresa1b.2081-2100.may.animation.nhru..."
       ]
      },
      {
       "output_type": "stream",
       "stream": "stdout",
       "text": [
        "\n",
        "reading D:/ATLData/LMB/LKM_Nov2013_monthly_animation_output\\mpi_echam5.sresa2.2046-2065.may.animation.nhru..."
       ]
      },
      {
       "output_type": "stream",
       "stream": "stdout",
       "text": [
        "\n",
        "reading D:/ATLData/LMB/LKM_Nov2013_monthly_animation_output\\mpi_echam5.sresa2.2081-2100.may.animation.nhru..."
       ]
      },
      {
       "output_type": "stream",
       "stream": "stdout",
       "text": [
        "\n",
        "reading D:/ATLData/LMB/LKM_Nov2013_monthly_animation_output\\mpi_echam5.sresb1.2046-2065.may.animation.nhru..."
       ]
      },
      {
       "output_type": "stream",
       "stream": "stdout",
       "text": [
        "\n",
        "reading D:/ATLData/LMB/LKM_Nov2013_monthly_animation_output\\mpi_echam5.sresb1.2081-2100.may.animation.nhru..."
       ]
      },
      {
       "output_type": "stream",
       "stream": "stdout",
       "text": [
        "\n",
        "reading D:/ATLData/LMB/LKM_Nov2013_monthly_animation_output\\mpi_echam5.20c3m.1981-2000.may.animation.nhru..."
       ]
      },
      {
       "output_type": "stream",
       "stream": "stdout",
       "text": [
        "\n",
        "Warning, nan values found in percent differences. See error_file."
       ]
      },
      {
       "output_type": "stream",
       "stream": "stdout",
       "text": [
        "\n",
        "writing D:/ATLData/LMB/LKM_Nov2013_monthly/hru_means\\mpi_echam5.20c3m.1981-2000.may.animation.hru_means.nhru...\n",
        "writing D:/ATLData/LMB/LKM_Nov2013_monthly/hru_means\\mpi_echam5.sresa1b.2046-2065.may.animation.hru_means.nhru..."
       ]
      },
      {
       "output_type": "stream",
       "stream": "stdout",
       "text": [
        "\n",
        "writing D:/ATLData/LMB/LKM_Nov2013_monthly/hru_pct_diff\\mpi_echam5.sresa1b.2046-2065.may.animation.hru_pct_diff.nhru..."
       ]
      },
      {
       "output_type": "stream",
       "stream": "stdout",
       "text": [
        "\n",
        "writing D:/ATLData/LMB/LKM_Nov2013_monthly/hru_means\\mpi_echam5.sresa2.2046-2065.may.animation.hru_means.nhru..."
       ]
      },
      {
       "output_type": "stream",
       "stream": "stdout",
       "text": [
        "\n",
        "writing D:/ATLData/LMB/LKM_Nov2013_monthly/hru_pct_diff\\mpi_echam5.sresa2.2046-2065.may.animation.hru_pct_diff.nhru..."
       ]
      },
      {
       "output_type": "stream",
       "stream": "stdout",
       "text": [
        "\n",
        "writing D:/ATLData/LMB/LKM_Nov2013_monthly/hru_means\\mpi_echam5.sresa1b.2081-2100.may.animation.hru_means.nhru..."
       ]
      },
      {
       "output_type": "stream",
       "stream": "stdout",
       "text": [
        "\n",
        "writing D:/ATLData/LMB/LKM_Nov2013_monthly/hru_pct_diff\\mpi_echam5.sresa1b.2081-2100.may.animation.hru_pct_diff.nhru..."
       ]
      },
      {
       "output_type": "stream",
       "stream": "stdout",
       "text": [
        "\n",
        "writing D:/ATLData/LMB/LKM_Nov2013_monthly/hru_means\\mpi_echam5.sresb1.2081-2100.may.animation.hru_means.nhru..."
       ]
      },
      {
       "output_type": "stream",
       "stream": "stdout",
       "text": [
        "\n",
        "writing D:/ATLData/LMB/LKM_Nov2013_monthly/hru_pct_diff\\mpi_echam5.sresb1.2081-2100.may.animation.hru_pct_diff.nhru..."
       ]
      },
      {
       "output_type": "stream",
       "stream": "stdout",
       "text": [
        "\n",
        "writing D:/ATLData/LMB/LKM_Nov2013_monthly/hru_means\\mpi_echam5.sresa2.2081-2100.may.animation.hru_means.nhru..."
       ]
      },
      {
       "output_type": "stream",
       "stream": "stdout",
       "text": [
        "\n",
        "writing D:/ATLData/LMB/LKM_Nov2013_monthly/hru_pct_diff\\mpi_echam5.sresa2.2081-2100.may.animation.hru_pct_diff.nhru..."
       ]
      },
      {
       "output_type": "stream",
       "stream": "stdout",
       "text": [
        "\n",
        "writing D:/ATLData/LMB/LKM_Nov2013_monthly/hru_means\\mpi_echam5.sresb1.2046-2065.may.animation.hru_means.nhru..."
       ]
      },
      {
       "output_type": "stream",
       "stream": "stdout",
       "text": [
        "\n",
        "writing D:/ATLData/LMB/LKM_Nov2013_monthly/hru_pct_diff\\mpi_echam5.sresb1.2046-2065.may.animation.hru_pct_diff.nhru..."
       ]
      },
      {
       "output_type": "stream",
       "stream": "stdout",
       "text": [
        "\n",
        "reading D:/ATLData/LMB/LKM_Nov2013_monthly_animation_output\\mpi_echam5.sresa1b.2046-2065.nov.animation.nhru..."
       ]
      },
      {
       "output_type": "stream",
       "stream": "stdout",
       "text": [
        "\n",
        "reading D:/ATLData/LMB/LKM_Nov2013_monthly_animation_output\\mpi_echam5.sresa1b.2081-2100.nov.animation.nhru..."
       ]
      },
      {
       "output_type": "stream",
       "stream": "stdout",
       "text": [
        "\n",
        "reading D:/ATLData/LMB/LKM_Nov2013_monthly_animation_output\\mpi_echam5.sresa2.2046-2065.nov.animation.nhru..."
       ]
      },
      {
       "output_type": "stream",
       "stream": "stdout",
       "text": [
        "\n",
        "reading D:/ATLData/LMB/LKM_Nov2013_monthly_animation_output\\mpi_echam5.sresa2.2081-2100.nov.animation.nhru..."
       ]
      },
      {
       "output_type": "stream",
       "stream": "stdout",
       "text": [
        "\n",
        "reading D:/ATLData/LMB/LKM_Nov2013_monthly_animation_output\\mpi_echam5.sresb1.2046-2065.nov.animation.nhru..."
       ]
      },
      {
       "output_type": "stream",
       "stream": "stdout",
       "text": [
        "\n",
        "reading D:/ATLData/LMB/LKM_Nov2013_monthly_animation_output\\mpi_echam5.sresb1.2081-2100.nov.animation.nhru..."
       ]
      },
      {
       "output_type": "stream",
       "stream": "stdout",
       "text": [
        "\n",
        "reading D:/ATLData/LMB/LKM_Nov2013_monthly_animation_output\\mpi_echam5.20c3m.1981-2000.nov.animation.nhru..."
       ]
      },
      {
       "output_type": "stream",
       "stream": "stdout",
       "text": [
        "\n",
        "Warning, nan values found in percent differences. See error_file."
       ]
      },
      {
       "output_type": "stream",
       "stream": "stdout",
       "text": [
        "\n",
        "writing D:/ATLData/LMB/LKM_Nov2013_monthly/hru_means\\mpi_echam5.20c3m.1981-2000.nov.animation.hru_means.nhru...\n",
        "writing D:/ATLData/LMB/LKM_Nov2013_monthly/hru_means\\mpi_echam5.sresa2.2046-2065.nov.animation.hru_means.nhru..."
       ]
      },
      {
       "output_type": "stream",
       "stream": "stdout",
       "text": [
        "\n",
        "writing D:/ATLData/LMB/LKM_Nov2013_monthly/hru_pct_diff\\mpi_echam5.sresa2.2046-2065.nov.animation.hru_pct_diff.nhru..."
       ]
      },
      {
       "output_type": "stream",
       "stream": "stdout",
       "text": [
        "\n",
        "writing D:/ATLData/LMB/LKM_Nov2013_monthly/hru_means\\mpi_echam5.sresa2.2081-2100.nov.animation.hru_means.nhru..."
       ]
      },
      {
       "output_type": "stream",
       "stream": "stdout",
       "text": [
        "\n",
        "writing D:/ATLData/LMB/LKM_Nov2013_monthly/hru_pct_diff\\mpi_echam5.sresa2.2081-2100.nov.animation.hru_pct_diff.nhru..."
       ]
      },
      {
       "output_type": "stream",
       "stream": "stdout",
       "text": [
        "\n",
        "writing D:/ATLData/LMB/LKM_Nov2013_monthly/hru_means\\mpi_echam5.sresb1.2046-2065.nov.animation.hru_means.nhru..."
       ]
      },
      {
       "output_type": "stream",
       "stream": "stdout",
       "text": [
        "\n",
        "writing D:/ATLData/LMB/LKM_Nov2013_monthly/hru_pct_diff\\mpi_echam5.sresb1.2046-2065.nov.animation.hru_pct_diff.nhru..."
       ]
      },
      {
       "output_type": "stream",
       "stream": "stdout",
       "text": [
        "\n",
        "writing D:/ATLData/LMB/LKM_Nov2013_monthly/hru_means\\mpi_echam5.sresb1.2081-2100.nov.animation.hru_means.nhru..."
       ]
      },
      {
       "output_type": "stream",
       "stream": "stdout",
       "text": [
        "\n",
        "writing D:/ATLData/LMB/LKM_Nov2013_monthly/hru_pct_diff\\mpi_echam5.sresb1.2081-2100.nov.animation.hru_pct_diff.nhru..."
       ]
      },
      {
       "output_type": "stream",
       "stream": "stdout",
       "text": [
        "\n",
        "writing D:/ATLData/LMB/LKM_Nov2013_monthly/hru_means\\mpi_echam5.sresa1b.2081-2100.nov.animation.hru_means.nhru..."
       ]
      },
      {
       "output_type": "stream",
       "stream": "stdout",
       "text": [
        "\n",
        "writing D:/ATLData/LMB/LKM_Nov2013_monthly/hru_pct_diff\\mpi_echam5.sresa1b.2081-2100.nov.animation.hru_pct_diff.nhru..."
       ]
      },
      {
       "output_type": "stream",
       "stream": "stdout",
       "text": [
        "\n",
        "writing D:/ATLData/LMB/LKM_Nov2013_monthly/hru_means\\mpi_echam5.sresa1b.2046-2065.nov.animation.hru_means.nhru..."
       ]
      },
      {
       "output_type": "stream",
       "stream": "stdout",
       "text": [
        "\n",
        "writing D:/ATLData/LMB/LKM_Nov2013_monthly/hru_pct_diff\\mpi_echam5.sresa1b.2046-2065.nov.animation.hru_pct_diff.nhru..."
       ]
      },
      {
       "output_type": "stream",
       "stream": "stdout",
       "text": [
        "\n",
        "reading D:/ATLData/LMB/LKM_Nov2013_monthly_animation_output\\mpi_echam5.sresa1b.2046-2065.dec.animation.nhru..."
       ]
      },
      {
       "output_type": "stream",
       "stream": "stdout",
       "text": [
        "\n",
        "reading D:/ATLData/LMB/LKM_Nov2013_monthly_animation_output\\mpi_echam5.sresa1b.2081-2100.dec.animation.nhru..."
       ]
      },
      {
       "output_type": "stream",
       "stream": "stdout",
       "text": [
        "\n",
        "reading D:/ATLData/LMB/LKM_Nov2013_monthly_animation_output\\mpi_echam5.sresa2.2046-2065.dec.animation.nhru..."
       ]
      },
      {
       "output_type": "stream",
       "stream": "stdout",
       "text": [
        "\n",
        "reading D:/ATLData/LMB/LKM_Nov2013_monthly_animation_output\\mpi_echam5.sresa2.2081-2100.dec.animation.nhru..."
       ]
      },
      {
       "output_type": "stream",
       "stream": "stdout",
       "text": [
        "\n",
        "reading D:/ATLData/LMB/LKM_Nov2013_monthly_animation_output\\mpi_echam5.sresb1.2046-2065.dec.animation.nhru..."
       ]
      },
      {
       "output_type": "stream",
       "stream": "stdout",
       "text": [
        "\n",
        "reading D:/ATLData/LMB/LKM_Nov2013_monthly_animation_output\\mpi_echam5.sresb1.2081-2100.dec.animation.nhru..."
       ]
      },
      {
       "output_type": "stream",
       "stream": "stdout",
       "text": [
        "\n",
        "reading D:/ATLData/LMB/LKM_Nov2013_monthly_animation_output\\mpi_echam5.20c3m.1981-2000.dec.animation.nhru..."
       ]
      },
      {
       "output_type": "stream",
       "stream": "stdout",
       "text": [
        "\n",
        "Warning, nan values found in percent differences. See error_file."
       ]
      },
      {
       "output_type": "stream",
       "stream": "stdout",
       "text": [
        "\n",
        "writing D:/ATLData/LMB/LKM_Nov2013_monthly/hru_means\\mpi_echam5.20c3m.1981-2000.dec.animation.hru_means.nhru...\n",
        "writing D:/ATLData/LMB/LKM_Nov2013_monthly/hru_means\\mpi_echam5.sresa2.2081-2100.dec.animation.hru_means.nhru..."
       ]
      },
      {
       "output_type": "stream",
       "stream": "stdout",
       "text": [
        "\n",
        "writing D:/ATLData/LMB/LKM_Nov2013_monthly/hru_pct_diff\\mpi_echam5.sresa2.2081-2100.dec.animation.hru_pct_diff.nhru..."
       ]
      },
      {
       "output_type": "stream",
       "stream": "stdout",
       "text": [
        "\n",
        "writing D:/ATLData/LMB/LKM_Nov2013_monthly/hru_means\\mpi_echam5.sresb1.2046-2065.dec.animation.hru_means.nhru..."
       ]
      },
      {
       "output_type": "stream",
       "stream": "stdout",
       "text": [
        "\n",
        "writing D:/ATLData/LMB/LKM_Nov2013_monthly/hru_pct_diff\\mpi_echam5.sresb1.2046-2065.dec.animation.hru_pct_diff.nhru..."
       ]
      },
      {
       "output_type": "stream",
       "stream": "stdout",
       "text": [
        "\n",
        "writing D:/ATLData/LMB/LKM_Nov2013_monthly/hru_means\\mpi_echam5.sresa1b.2081-2100.dec.animation.hru_means.nhru..."
       ]
      },
      {
       "output_type": "stream",
       "stream": "stdout",
       "text": [
        "\n",
        "writing D:/ATLData/LMB/LKM_Nov2013_monthly/hru_pct_diff\\mpi_echam5.sresa1b.2081-2100.dec.animation.hru_pct_diff.nhru..."
       ]
      },
      {
       "output_type": "stream",
       "stream": "stdout",
       "text": [
        "\n",
        "writing D:/ATLData/LMB/LKM_Nov2013_monthly/hru_means\\mpi_echam5.sresa2.2046-2065.dec.animation.hru_means.nhru..."
       ]
      },
      {
       "output_type": "stream",
       "stream": "stdout",
       "text": [
        "\n",
        "writing D:/ATLData/LMB/LKM_Nov2013_monthly/hru_pct_diff\\mpi_echam5.sresa2.2046-2065.dec.animation.hru_pct_diff.nhru..."
       ]
      },
      {
       "output_type": "stream",
       "stream": "stdout",
       "text": [
        "\n",
        "writing D:/ATLData/LMB/LKM_Nov2013_monthly/hru_means\\mpi_echam5.sresb1.2081-2100.dec.animation.hru_means.nhru..."
       ]
      },
      {
       "output_type": "stream",
       "stream": "stdout",
       "text": [
        "\n",
        "writing D:/ATLData/LMB/LKM_Nov2013_monthly/hru_pct_diff\\mpi_echam5.sresb1.2081-2100.dec.animation.hru_pct_diff.nhru..."
       ]
      },
      {
       "output_type": "stream",
       "stream": "stdout",
       "text": [
        "\n",
        "writing D:/ATLData/LMB/LKM_Nov2013_monthly/hru_means\\mpi_echam5.sresa1b.2046-2065.dec.animation.hru_means.nhru..."
       ]
      },
      {
       "output_type": "stream",
       "stream": "stdout",
       "text": [
        "\n",
        "writing D:/ATLData/LMB/LKM_Nov2013_monthly/hru_pct_diff\\mpi_echam5.sresa1b.2046-2065.dec.animation.hru_pct_diff.nhru..."
       ]
      },
      {
       "output_type": "stream",
       "stream": "stdout",
       "text": [
        "\n",
        "reading D:/ATLData/LMB/LKM_Nov2013_monthly_animation_output\\mpi_echam5.sresa1b.2046-2065.oct.animation.nhru..."
       ]
      },
      {
       "output_type": "stream",
       "stream": "stdout",
       "text": [
        "\n",
        "reading D:/ATLData/LMB/LKM_Nov2013_monthly_animation_output\\mpi_echam5.sresa1b.2081-2100.oct.animation.nhru..."
       ]
      },
      {
       "output_type": "stream",
       "stream": "stdout",
       "text": [
        "\n",
        "reading D:/ATLData/LMB/LKM_Nov2013_monthly_animation_output\\mpi_echam5.sresa2.2046-2065.oct.animation.nhru..."
       ]
      },
      {
       "output_type": "stream",
       "stream": "stdout",
       "text": [
        "\n",
        "reading D:/ATLData/LMB/LKM_Nov2013_monthly_animation_output\\mpi_echam5.sresa2.2081-2100.oct.animation.nhru..."
       ]
      },
      {
       "output_type": "stream",
       "stream": "stdout",
       "text": [
        "\n",
        "reading D:/ATLData/LMB/LKM_Nov2013_monthly_animation_output\\mpi_echam5.sresb1.2046-2065.oct.animation.nhru..."
       ]
      },
      {
       "output_type": "stream",
       "stream": "stdout",
       "text": [
        "\n",
        "reading D:/ATLData/LMB/LKM_Nov2013_monthly_animation_output\\mpi_echam5.sresb1.2081-2100.oct.animation.nhru..."
       ]
      },
      {
       "output_type": "stream",
       "stream": "stdout",
       "text": [
        "\n",
        "reading D:/ATLData/LMB/LKM_Nov2013_monthly_animation_output\\mpi_echam5.20c3m.1981-2000.oct.animation.nhru..."
       ]
      },
      {
       "output_type": "stream",
       "stream": "stdout",
       "text": [
        "\n",
        "Warning, nan values found in percent differences. See error_file."
       ]
      },
      {
       "output_type": "stream",
       "stream": "stdout",
       "text": [
        "\n",
        "writing D:/ATLData/LMB/LKM_Nov2013_monthly/hru_means\\mpi_echam5.20c3m.1981-2000.oct.animation.hru_means.nhru...\n",
        "writing D:/ATLData/LMB/LKM_Nov2013_monthly/hru_means\\mpi_echam5.sresb1.2046-2065.oct.animation.hru_means.nhru..."
       ]
      },
      {
       "output_type": "stream",
       "stream": "stdout",
       "text": [
        "\n",
        "writing D:/ATLData/LMB/LKM_Nov2013_monthly/hru_pct_diff\\mpi_echam5.sresb1.2046-2065.oct.animation.hru_pct_diff.nhru..."
       ]
      },
      {
       "output_type": "stream",
       "stream": "stdout",
       "text": [
        "\n",
        "writing D:/ATLData/LMB/LKM_Nov2013_monthly/hru_means\\mpi_echam5.sresa2.2081-2100.oct.animation.hru_means.nhru..."
       ]
      },
      {
       "output_type": "stream",
       "stream": "stdout",
       "text": [
        "\n",
        "writing D:/ATLData/LMB/LKM_Nov2013_monthly/hru_pct_diff\\mpi_echam5.sresa2.2081-2100.oct.animation.hru_pct_diff.nhru..."
       ]
      },
      {
       "output_type": "stream",
       "stream": "stdout",
       "text": [
        "\n",
        "writing D:/ATLData/LMB/LKM_Nov2013_monthly/hru_means\\mpi_echam5.sresa1b.2081-2100.oct.animation.hru_means.nhru..."
       ]
      },
      {
       "output_type": "stream",
       "stream": "stdout",
       "text": [
        "\n",
        "writing D:/ATLData/LMB/LKM_Nov2013_monthly/hru_pct_diff\\mpi_echam5.sresa1b.2081-2100.oct.animation.hru_pct_diff.nhru..."
       ]
      },
      {
       "output_type": "stream",
       "stream": "stdout",
       "text": [
        "\n",
        "writing D:/ATLData/LMB/LKM_Nov2013_monthly/hru_means\\mpi_echam5.sresa2.2046-2065.oct.animation.hru_means.nhru..."
       ]
      },
      {
       "output_type": "stream",
       "stream": "stdout",
       "text": [
        "\n",
        "writing D:/ATLData/LMB/LKM_Nov2013_monthly/hru_pct_diff\\mpi_echam5.sresa2.2046-2065.oct.animation.hru_pct_diff.nhru..."
       ]
      },
      {
       "output_type": "stream",
       "stream": "stdout",
       "text": [
        "\n",
        "writing D:/ATLData/LMB/LKM_Nov2013_monthly/hru_means\\mpi_echam5.sresb1.2081-2100.oct.animation.hru_means.nhru..."
       ]
      },
      {
       "output_type": "stream",
       "stream": "stdout",
       "text": [
        "\n",
        "writing D:/ATLData/LMB/LKM_Nov2013_monthly/hru_pct_diff\\mpi_echam5.sresb1.2081-2100.oct.animation.hru_pct_diff.nhru..."
       ]
      },
      {
       "output_type": "stream",
       "stream": "stdout",
       "text": [
        "\n",
        "writing D:/ATLData/LMB/LKM_Nov2013_monthly/hru_means\\mpi_echam5.sresa1b.2046-2065.oct.animation.hru_means.nhru..."
       ]
      },
      {
       "output_type": "stream",
       "stream": "stdout",
       "text": [
        "\n",
        "writing D:/ATLData/LMB/LKM_Nov2013_monthly/hru_pct_diff\\mpi_echam5.sresa1b.2046-2065.oct.animation.hru_pct_diff.nhru..."
       ]
      },
      {
       "output_type": "stream",
       "stream": "stdout",
       "text": [
        "\n",
        "reading D:/ATLData/LMB/LKM_Nov2013_monthly_animation_output\\mpi_echam5.sresa1b.2046-2065.mar.animation.nhru..."
       ]
      },
      {
       "output_type": "stream",
       "stream": "stdout",
       "text": [
        "\n",
        "reading D:/ATLData/LMB/LKM_Nov2013_monthly_animation_output\\mpi_echam5.sresa1b.2081-2100.mar.animation.nhru..."
       ]
      },
      {
       "output_type": "stream",
       "stream": "stdout",
       "text": [
        "\n",
        "reading D:/ATLData/LMB/LKM_Nov2013_monthly_animation_output\\mpi_echam5.sresa2.2046-2065.mar.animation.nhru..."
       ]
      },
      {
       "output_type": "stream",
       "stream": "stdout",
       "text": [
        "\n",
        "reading D:/ATLData/LMB/LKM_Nov2013_monthly_animation_output\\mpi_echam5.sresa2.2081-2100.mar.animation.nhru..."
       ]
      },
      {
       "output_type": "stream",
       "stream": "stdout",
       "text": [
        "\n",
        "reading D:/ATLData/LMB/LKM_Nov2013_monthly_animation_output\\mpi_echam5.sresb1.2046-2065.mar.animation.nhru..."
       ]
      },
      {
       "output_type": "stream",
       "stream": "stdout",
       "text": [
        "\n",
        "reading D:/ATLData/LMB/LKM_Nov2013_monthly_animation_output\\mpi_echam5.sresb1.2081-2100.mar.animation.nhru..."
       ]
      },
      {
       "output_type": "stream",
       "stream": "stdout",
       "text": [
        "\n",
        "reading D:/ATLData/LMB/LKM_Nov2013_monthly_animation_output\\mpi_echam5.20c3m.1981-2000.mar.animation.nhru..."
       ]
      },
      {
       "output_type": "stream",
       "stream": "stdout",
       "text": [
        "\n",
        "Warning, nan values found in percent differences. See error_file."
       ]
      },
      {
       "output_type": "stream",
       "stream": "stdout",
       "text": [
        "\n",
        "writing D:/ATLData/LMB/LKM_Nov2013_monthly/hru_means\\mpi_echam5.20c3m.1981-2000.mar.animation.hru_means.nhru...\n",
        "writing D:/ATLData/LMB/LKM_Nov2013_monthly/hru_means\\mpi_echam5.sresa1b.2081-2100.mar.animation.hru_means.nhru..."
       ]
      },
      {
       "output_type": "stream",
       "stream": "stdout",
       "text": [
        "\n",
        "writing D:/ATLData/LMB/LKM_Nov2013_monthly/hru_pct_diff\\mpi_echam5.sresa1b.2081-2100.mar.animation.hru_pct_diff.nhru..."
       ]
      },
      {
       "output_type": "stream",
       "stream": "stdout",
       "text": [
        "\n",
        "writing D:/ATLData/LMB/LKM_Nov2013_monthly/hru_means\\mpi_echam5.sresa2.2046-2065.mar.animation.hru_means.nhru..."
       ]
      },
      {
       "output_type": "stream",
       "stream": "stdout",
       "text": [
        "\n",
        "writing D:/ATLData/LMB/LKM_Nov2013_monthly/hru_pct_diff\\mpi_echam5.sresa2.2046-2065.mar.animation.hru_pct_diff.nhru..."
       ]
      },
      {
       "output_type": "stream",
       "stream": "stdout",
       "text": [
        "\n",
        "writing D:/ATLData/LMB/LKM_Nov2013_monthly/hru_means\\mpi_echam5.sresa2.2081-2100.mar.animation.hru_means.nhru..."
       ]
      },
      {
       "output_type": "stream",
       "stream": "stdout",
       "text": [
        "\n",
        "writing D:/ATLData/LMB/LKM_Nov2013_monthly/hru_pct_diff\\mpi_echam5.sresa2.2081-2100.mar.animation.hru_pct_diff.nhru..."
       ]
      },
      {
       "output_type": "stream",
       "stream": "stdout",
       "text": [
        "\n",
        "writing D:/ATLData/LMB/LKM_Nov2013_monthly/hru_means\\mpi_echam5.sresb1.2046-2065.mar.animation.hru_means.nhru..."
       ]
      },
      {
       "output_type": "stream",
       "stream": "stdout",
       "text": [
        "\n",
        "writing D:/ATLData/LMB/LKM_Nov2013_monthly/hru_pct_diff\\mpi_echam5.sresb1.2046-2065.mar.animation.hru_pct_diff.nhru..."
       ]
      },
      {
       "output_type": "stream",
       "stream": "stdout",
       "text": [
        "\n",
        "writing D:/ATLData/LMB/LKM_Nov2013_monthly/hru_means\\mpi_echam5.sresb1.2081-2100.mar.animation.hru_means.nhru..."
       ]
      },
      {
       "output_type": "stream",
       "stream": "stdout",
       "text": [
        "\n",
        "writing D:/ATLData/LMB/LKM_Nov2013_monthly/hru_pct_diff\\mpi_echam5.sresb1.2081-2100.mar.animation.hru_pct_diff.nhru..."
       ]
      },
      {
       "output_type": "stream",
       "stream": "stdout",
       "text": [
        "\n",
        "writing D:/ATLData/LMB/LKM_Nov2013_monthly/hru_means\\mpi_echam5.sresa1b.2046-2065.mar.animation.hru_means.nhru..."
       ]
      },
      {
       "output_type": "stream",
       "stream": "stdout",
       "text": [
        "\n",
        "writing D:/ATLData/LMB/LKM_Nov2013_monthly/hru_pct_diff\\mpi_echam5.sresa1b.2046-2065.mar.animation.hru_pct_diff.nhru..."
       ]
      },
      {
       "output_type": "stream",
       "stream": "stdout",
       "text": [
        "\n",
        "reading D:/ATLData/LMB/LKM_Nov2013_monthly_animation_output\\mpi_echam5.sresa1b.2046-2065.feb.animation.nhru..."
       ]
      },
      {
       "output_type": "stream",
       "stream": "stdout",
       "text": [
        "\n",
        "reading D:/ATLData/LMB/LKM_Nov2013_monthly_animation_output\\mpi_echam5.sresa1b.2081-2100.feb.animation.nhru..."
       ]
      },
      {
       "output_type": "stream",
       "stream": "stdout",
       "text": [
        "\n",
        "reading D:/ATLData/LMB/LKM_Nov2013_monthly_animation_output\\mpi_echam5.sresa2.2046-2065.feb.animation.nhru..."
       ]
      },
      {
       "output_type": "stream",
       "stream": "stdout",
       "text": [
        "\n",
        "reading D:/ATLData/LMB/LKM_Nov2013_monthly_animation_output\\mpi_echam5.sresa2.2081-2100.feb.animation.nhru..."
       ]
      },
      {
       "output_type": "stream",
       "stream": "stdout",
       "text": [
        "\n",
        "reading D:/ATLData/LMB/LKM_Nov2013_monthly_animation_output\\mpi_echam5.sresb1.2046-2065.feb.animation.nhru..."
       ]
      },
      {
       "output_type": "stream",
       "stream": "stdout",
       "text": [
        "\n",
        "reading D:/ATLData/LMB/LKM_Nov2013_monthly_animation_output\\mpi_echam5.sresb1.2081-2100.feb.animation.nhru..."
       ]
      },
      {
       "output_type": "stream",
       "stream": "stdout",
       "text": [
        "\n",
        "reading D:/ATLData/LMB/LKM_Nov2013_monthly_animation_output\\mpi_echam5.20c3m.1981-2000.feb.animation.nhru..."
       ]
      },
      {
       "output_type": "stream",
       "stream": "stdout",
       "text": [
        "\n",
        "Warning, nan values found in percent differences. See error_file."
       ]
      },
      {
       "output_type": "stream",
       "stream": "stdout",
       "text": [
        "\n",
        "writing D:/ATLData/LMB/LKM_Nov2013_monthly/hru_means\\mpi_echam5.20c3m.1981-2000.feb.animation.hru_means.nhru...\n",
        "writing D:/ATLData/LMB/LKM_Nov2013_monthly/hru_means\\mpi_echam5.sresa1b.2046-2065.feb.animation.hru_means.nhru..."
       ]
      },
      {
       "output_type": "stream",
       "stream": "stdout",
       "text": [
        "\n",
        "writing D:/ATLData/LMB/LKM_Nov2013_monthly/hru_pct_diff\\mpi_echam5.sresa1b.2046-2065.feb.animation.hru_pct_diff.nhru..."
       ]
      },
      {
       "output_type": "stream",
       "stream": "stdout",
       "text": [
        "\n",
        "writing D:/ATLData/LMB/LKM_Nov2013_monthly/hru_means\\mpi_echam5.sresa1b.2081-2100.feb.animation.hru_means.nhru..."
       ]
      },
      {
       "output_type": "stream",
       "stream": "stdout",
       "text": [
        "\n",
        "writing D:/ATLData/LMB/LKM_Nov2013_monthly/hru_pct_diff\\mpi_echam5.sresa1b.2081-2100.feb.animation.hru_pct_diff.nhru..."
       ]
      },
      {
       "output_type": "stream",
       "stream": "stdout",
       "text": [
        "\n",
        "writing D:/ATLData/LMB/LKM_Nov2013_monthly/hru_means\\mpi_echam5.sresa2.2046-2065.feb.animation.hru_means.nhru..."
       ]
      },
      {
       "output_type": "stream",
       "stream": "stdout",
       "text": [
        "\n",
        "writing D:/ATLData/LMB/LKM_Nov2013_monthly/hru_pct_diff\\mpi_echam5.sresa2.2046-2065.feb.animation.hru_pct_diff.nhru..."
       ]
      },
      {
       "output_type": "stream",
       "stream": "stdout",
       "text": [
        "\n",
        "writing D:/ATLData/LMB/LKM_Nov2013_monthly/hru_means\\mpi_echam5.sresb1.2046-2065.feb.animation.hru_means.nhru..."
       ]
      },
      {
       "output_type": "stream",
       "stream": "stdout",
       "text": [
        "\n",
        "writing D:/ATLData/LMB/LKM_Nov2013_monthly/hru_pct_diff\\mpi_echam5.sresb1.2046-2065.feb.animation.hru_pct_diff.nhru..."
       ]
      },
      {
       "output_type": "stream",
       "stream": "stdout",
       "text": [
        "\n",
        "writing D:/ATLData/LMB/LKM_Nov2013_monthly/hru_means\\mpi_echam5.sresa2.2081-2100.feb.animation.hru_means.nhru..."
       ]
      },
      {
       "output_type": "stream",
       "stream": "stdout",
       "text": [
        "\n",
        "writing D:/ATLData/LMB/LKM_Nov2013_monthly/hru_pct_diff\\mpi_echam5.sresa2.2081-2100.feb.animation.hru_pct_diff.nhru..."
       ]
      },
      {
       "output_type": "stream",
       "stream": "stdout",
       "text": [
        "\n",
        "writing D:/ATLData/LMB/LKM_Nov2013_monthly/hru_means\\mpi_echam5.sresb1.2081-2100.feb.animation.hru_means.nhru..."
       ]
      },
      {
       "output_type": "stream",
       "stream": "stdout",
       "text": [
        "\n",
        "writing D:/ATLData/LMB/LKM_Nov2013_monthly/hru_pct_diff\\mpi_echam5.sresb1.2081-2100.feb.animation.hru_pct_diff.nhru..."
       ]
      },
      {
       "output_type": "stream",
       "stream": "stdout",
       "text": [
        "\n",
        "reading D:/ATLData/LMB/LKM_Nov2013_monthly_animation_output\\mpi_echam5.sresa1b.2046-2065.aug.animation.nhru..."
       ]
      },
      {
       "output_type": "stream",
       "stream": "stdout",
       "text": [
        "\n",
        "reading D:/ATLData/LMB/LKM_Nov2013_monthly_animation_output\\mpi_echam5.sresa1b.2081-2100.aug.animation.nhru..."
       ]
      },
      {
       "output_type": "stream",
       "stream": "stdout",
       "text": [
        "\n",
        "reading D:/ATLData/LMB/LKM_Nov2013_monthly_animation_output\\mpi_echam5.sresa2.2046-2065.aug.animation.nhru..."
       ]
      },
      {
       "output_type": "stream",
       "stream": "stdout",
       "text": [
        "\n",
        "reading D:/ATLData/LMB/LKM_Nov2013_monthly_animation_output\\mpi_echam5.sresa2.2081-2100.aug.animation.nhru..."
       ]
      },
      {
       "output_type": "stream",
       "stream": "stdout",
       "text": [
        "\n",
        "reading D:/ATLData/LMB/LKM_Nov2013_monthly_animation_output\\mpi_echam5.sresb1.2046-2065.aug.animation.nhru..."
       ]
      },
      {
       "output_type": "stream",
       "stream": "stdout",
       "text": [
        "\n",
        "reading D:/ATLData/LMB/LKM_Nov2013_monthly_animation_output\\mpi_echam5.sresb1.2081-2100.aug.animation.nhru..."
       ]
      },
      {
       "output_type": "stream",
       "stream": "stdout",
       "text": [
        "\n",
        "reading D:/ATLData/LMB/LKM_Nov2013_monthly_animation_output\\mpi_echam5.20c3m.1981-2000.aug.animation.nhru..."
       ]
      },
      {
       "output_type": "stream",
       "stream": "stdout",
       "text": [
        "\n",
        "Warning, nan values found in percent differences. See error_file."
       ]
      },
      {
       "output_type": "stream",
       "stream": "stdout",
       "text": [
        "\n",
        "writing D:/ATLData/LMB/LKM_Nov2013_monthly/hru_means\\mpi_echam5.20c3m.1981-2000.aug.animation.hru_means.nhru...\n",
        "writing D:/ATLData/LMB/LKM_Nov2013_monthly/hru_means\\mpi_echam5.sresb1.2046-2065.aug.animation.hru_means.nhru..."
       ]
      },
      {
       "output_type": "stream",
       "stream": "stdout",
       "text": [
        "\n",
        "writing D:/ATLData/LMB/LKM_Nov2013_monthly/hru_pct_diff\\mpi_echam5.sresb1.2046-2065.aug.animation.hru_pct_diff.nhru..."
       ]
      },
      {
       "output_type": "stream",
       "stream": "stdout",
       "text": [
        "\n",
        "writing D:/ATLData/LMB/LKM_Nov2013_monthly/hru_means\\mpi_echam5.sresb1.2081-2100.aug.animation.hru_means.nhru..."
       ]
      },
      {
       "output_type": "stream",
       "stream": "stdout",
       "text": [
        "\n",
        "writing D:/ATLData/LMB/LKM_Nov2013_monthly/hru_pct_diff\\mpi_echam5.sresb1.2081-2100.aug.animation.hru_pct_diff.nhru..."
       ]
      },
      {
       "output_type": "stream",
       "stream": "stdout",
       "text": [
        "\n",
        "writing D:/ATLData/LMB/LKM_Nov2013_monthly/hru_means\\mpi_echam5.sresa1b.2046-2065.aug.animation.hru_means.nhru..."
       ]
      },
      {
       "output_type": "stream",
       "stream": "stdout",
       "text": [
        "\n",
        "writing D:/ATLData/LMB/LKM_Nov2013_monthly/hru_pct_diff\\mpi_echam5.sresa1b.2046-2065.aug.animation.hru_pct_diff.nhru..."
       ]
      },
      {
       "output_type": "stream",
       "stream": "stdout",
       "text": [
        "\n",
        "writing D:/ATLData/LMB/LKM_Nov2013_monthly/hru_means\\mpi_echam5.sresa2.2046-2065.aug.animation.hru_means.nhru..."
       ]
      },
      {
       "output_type": "stream",
       "stream": "stdout",
       "text": [
        "\n",
        "writing D:/ATLData/LMB/LKM_Nov2013_monthly/hru_pct_diff\\mpi_echam5.sresa2.2046-2065.aug.animation.hru_pct_diff.nhru..."
       ]
      },
      {
       "output_type": "stream",
       "stream": "stdout",
       "text": [
        "\n",
        "writing D:/ATLData/LMB/LKM_Nov2013_monthly/hru_means\\mpi_echam5.sresa1b.2081-2100.aug.animation.hru_means.nhru..."
       ]
      },
      {
       "output_type": "stream",
       "stream": "stdout",
       "text": [
        "\n",
        "writing D:/ATLData/LMB/LKM_Nov2013_monthly/hru_pct_diff\\mpi_echam5.sresa1b.2081-2100.aug.animation.hru_pct_diff.nhru..."
       ]
      },
      {
       "output_type": "stream",
       "stream": "stdout",
       "text": [
        "\n",
        "writing D:/ATLData/LMB/LKM_Nov2013_monthly/hru_means\\mpi_echam5.sresa2.2081-2100.aug.animation.hru_means.nhru..."
       ]
      },
      {
       "output_type": "stream",
       "stream": "stdout",
       "text": [
        "\n",
        "writing D:/ATLData/LMB/LKM_Nov2013_monthly/hru_pct_diff\\mpi_echam5.sresa2.2081-2100.aug.animation.hru_pct_diff.nhru..."
       ]
      },
      {
       "output_type": "stream",
       "stream": "stdout",
       "text": [
        "\n",
        "reading D:/ATLData/LMB/LKM_Nov2013_monthly_animation_output\\mpi_echam5.sresa1b.2046-2065.sep.animation.nhru..."
       ]
      },
      {
       "output_type": "stream",
       "stream": "stdout",
       "text": [
        "\n",
        "reading D:/ATLData/LMB/LKM_Nov2013_monthly_animation_output\\mpi_echam5.sresa1b.2081-2100.sep.animation.nhru..."
       ]
      },
      {
       "output_type": "stream",
       "stream": "stdout",
       "text": [
        "\n",
        "reading D:/ATLData/LMB/LKM_Nov2013_monthly_animation_output\\mpi_echam5.sresa2.2046-2065.sep.animation.nhru..."
       ]
      },
      {
       "output_type": "stream",
       "stream": "stdout",
       "text": [
        "\n",
        "reading D:/ATLData/LMB/LKM_Nov2013_monthly_animation_output\\mpi_echam5.sresa2.2081-2100.sep.animation.nhru..."
       ]
      },
      {
       "output_type": "stream",
       "stream": "stdout",
       "text": [
        "\n",
        "reading D:/ATLData/LMB/LKM_Nov2013_monthly_animation_output\\mpi_echam5.sresb1.2046-2065.sep.animation.nhru..."
       ]
      },
      {
       "output_type": "stream",
       "stream": "stdout",
       "text": [
        "\n",
        "reading D:/ATLData/LMB/LKM_Nov2013_monthly_animation_output\\mpi_echam5.sresb1.2081-2100.sep.animation.nhru..."
       ]
      },
      {
       "output_type": "stream",
       "stream": "stdout",
       "text": [
        "\n",
        "reading D:/ATLData/LMB/LKM_Nov2013_monthly_animation_output\\mpi_echam5.20c3m.1981-2000.sep.animation.nhru..."
       ]
      },
      {
       "output_type": "stream",
       "stream": "stdout",
       "text": [
        "\n",
        "Warning, nan values found in percent differences. See error_file."
       ]
      },
      {
       "output_type": "stream",
       "stream": "stdout",
       "text": [
        "\n",
        "writing D:/ATLData/LMB/LKM_Nov2013_monthly/hru_means\\mpi_echam5.20c3m.1981-2000.sep.animation.hru_means.nhru...\n",
        "writing D:/ATLData/LMB/LKM_Nov2013_monthly/hru_means\\mpi_echam5.sresa2.2081-2100.sep.animation.hru_means.nhru..."
       ]
      },
      {
       "output_type": "stream",
       "stream": "stdout",
       "text": [
        "\n",
        "writing D:/ATLData/LMB/LKM_Nov2013_monthly/hru_pct_diff\\mpi_echam5.sresa2.2081-2100.sep.animation.hru_pct_diff.nhru..."
       ]
      },
      {
       "output_type": "stream",
       "stream": "stdout",
       "text": [
        "\n",
        "writing D:/ATLData/LMB/LKM_Nov2013_monthly/hru_means\\mpi_echam5.sresb1.2081-2100.sep.animation.hru_means.nhru..."
       ]
      },
      {
       "output_type": "stream",
       "stream": "stdout",
       "text": [
        "\n",
        "writing D:/ATLData/LMB/LKM_Nov2013_monthly/hru_pct_diff\\mpi_echam5.sresb1.2081-2100.sep.animation.hru_pct_diff.nhru..."
       ]
      },
      {
       "output_type": "stream",
       "stream": "stdout",
       "text": [
        "\n",
        "writing D:/ATLData/LMB/LKM_Nov2013_monthly/hru_means\\mpi_echam5.sresa1b.2081-2100.sep.animation.hru_means.nhru..."
       ]
      },
      {
       "output_type": "stream",
       "stream": "stdout",
       "text": [
        "\n",
        "writing D:/ATLData/LMB/LKM_Nov2013_monthly/hru_pct_diff\\mpi_echam5.sresa1b.2081-2100.sep.animation.hru_pct_diff.nhru..."
       ]
      },
      {
       "output_type": "stream",
       "stream": "stdout",
       "text": [
        "\n",
        "writing D:/ATLData/LMB/LKM_Nov2013_monthly/hru_means\\mpi_echam5.sresa1b.2046-2065.sep.animation.hru_means.nhru..."
       ]
      },
      {
       "output_type": "stream",
       "stream": "stdout",
       "text": [
        "\n",
        "writing D:/ATLData/LMB/LKM_Nov2013_monthly/hru_pct_diff\\mpi_echam5.sresa1b.2046-2065.sep.animation.hru_pct_diff.nhru..."
       ]
      },
      {
       "output_type": "stream",
       "stream": "stdout",
       "text": [
        "\n",
        "writing D:/ATLData/LMB/LKM_Nov2013_monthly/hru_means\\mpi_echam5.sresb1.2046-2065.sep.animation.hru_means.nhru..."
       ]
      },
      {
       "output_type": "stream",
       "stream": "stdout",
       "text": [
        "\n",
        "writing D:/ATLData/LMB/LKM_Nov2013_monthly/hru_pct_diff\\mpi_echam5.sresb1.2046-2065.sep.animation.hru_pct_diff.nhru..."
       ]
      },
      {
       "output_type": "stream",
       "stream": "stdout",
       "text": [
        "\n",
        "writing D:/ATLData/LMB/LKM_Nov2013_monthly/hru_means\\mpi_echam5.sresa2.2046-2065.sep.animation.hru_means.nhru..."
       ]
      },
      {
       "output_type": "stream",
       "stream": "stdout",
       "text": [
        "\n",
        "writing D:/ATLData/LMB/LKM_Nov2013_monthly/hru_pct_diff\\mpi_echam5.sresa2.2046-2065.sep.animation.hru_pct_diff.nhru..."
       ]
      },
      {
       "output_type": "stream",
       "stream": "stdout",
       "text": [
        "\n",
        "reading D:/ATLData/LMB/LKM_Nov2013_monthly_animation_output\\mpi_echam5.sresa1b.2046-2065.apr.animation.nhru..."
       ]
      },
      {
       "output_type": "stream",
       "stream": "stdout",
       "text": [
        "\n",
        "reading D:/ATLData/LMB/LKM_Nov2013_monthly_animation_output\\mpi_echam5.sresa1b.2081-2100.apr.animation.nhru..."
       ]
      },
      {
       "output_type": "stream",
       "stream": "stdout",
       "text": [
        "\n",
        "reading D:/ATLData/LMB/LKM_Nov2013_monthly_animation_output\\mpi_echam5.sresa2.2046-2065.apr.animation.nhru..."
       ]
      },
      {
       "output_type": "stream",
       "stream": "stdout",
       "text": [
        "\n",
        "reading D:/ATLData/LMB/LKM_Nov2013_monthly_animation_output\\mpi_echam5.sresa2.2081-2100.apr.animation.nhru..."
       ]
      },
      {
       "output_type": "stream",
       "stream": "stdout",
       "text": [
        "\n",
        "reading D:/ATLData/LMB/LKM_Nov2013_monthly_animation_output\\mpi_echam5.sresb1.2046-2065.apr.animation.nhru..."
       ]
      },
      {
       "output_type": "stream",
       "stream": "stdout",
       "text": [
        "\n",
        "reading D:/ATLData/LMB/LKM_Nov2013_monthly_animation_output\\mpi_echam5.sresb1.2081-2100.apr.animation.nhru..."
       ]
      },
      {
       "output_type": "stream",
       "stream": "stdout",
       "text": [
        "\n",
        "reading D:/ATLData/LMB/LKM_Nov2013_monthly_animation_output\\mpi_echam5.20c3m.1981-2000.apr.animation.nhru..."
       ]
      },
      {
       "output_type": "stream",
       "stream": "stdout",
       "text": [
        "\n",
        "Warning, nan values found in percent differences. See error_file."
       ]
      },
      {
       "output_type": "stream",
       "stream": "stdout",
       "text": [
        "\n",
        "writing D:/ATLData/LMB/LKM_Nov2013_monthly/hru_means\\mpi_echam5.20c3m.1981-2000.apr.animation.hru_means.nhru...\n",
        "writing D:/ATLData/LMB/LKM_Nov2013_monthly/hru_means\\mpi_echam5.sresb1.2081-2100.apr.animation.hru_means.nhru..."
       ]
      },
      {
       "output_type": "stream",
       "stream": "stdout",
       "text": [
        "\n",
        "writing D:/ATLData/LMB/LKM_Nov2013_monthly/hru_pct_diff\\mpi_echam5.sresb1.2081-2100.apr.animation.hru_pct_diff.nhru..."
       ]
      },
      {
       "output_type": "stream",
       "stream": "stdout",
       "text": [
        "\n",
        "writing D:/ATLData/LMB/LKM_Nov2013_monthly/hru_means\\mpi_echam5.sresa2.2081-2100.apr.animation.hru_means.nhru..."
       ]
      },
      {
       "output_type": "stream",
       "stream": "stdout",
       "text": [
        "\n",
        "writing D:/ATLData/LMB/LKM_Nov2013_monthly/hru_pct_diff\\mpi_echam5.sresa2.2081-2100.apr.animation.hru_pct_diff.nhru..."
       ]
      },
      {
       "output_type": "stream",
       "stream": "stdout",
       "text": [
        "\n",
        "writing D:/ATLData/LMB/LKM_Nov2013_monthly/hru_means\\mpi_echam5.sresb1.2046-2065.apr.animation.hru_means.nhru..."
       ]
      },
      {
       "output_type": "stream",
       "stream": "stdout",
       "text": [
        "\n",
        "writing D:/ATLData/LMB/LKM_Nov2013_monthly/hru_pct_diff\\mpi_echam5.sresb1.2046-2065.apr.animation.hru_pct_diff.nhru..."
       ]
      },
      {
       "output_type": "stream",
       "stream": "stdout",
       "text": [
        "\n",
        "writing D:/ATLData/LMB/LKM_Nov2013_monthly/hru_means\\mpi_echam5.sresa2.2046-2065.apr.animation.hru_means.nhru..."
       ]
      },
      {
       "output_type": "stream",
       "stream": "stdout",
       "text": [
        "\n",
        "writing D:/ATLData/LMB/LKM_Nov2013_monthly/hru_pct_diff\\mpi_echam5.sresa2.2046-2065.apr.animation.hru_pct_diff.nhru..."
       ]
      },
      {
       "output_type": "stream",
       "stream": "stdout",
       "text": [
        "\n",
        "writing D:/ATLData/LMB/LKM_Nov2013_monthly/hru_means\\mpi_echam5.sresa1b.2081-2100.apr.animation.hru_means.nhru..."
       ]
      },
      {
       "output_type": "stream",
       "stream": "stdout",
       "text": [
        "\n",
        "writing D:/ATLData/LMB/LKM_Nov2013_monthly/hru_pct_diff\\mpi_echam5.sresa1b.2081-2100.apr.animation.hru_pct_diff.nhru..."
       ]
      },
      {
       "output_type": "stream",
       "stream": "stdout",
       "text": [
        "\n",
        "writing D:/ATLData/LMB/LKM_Nov2013_monthly/hru_means\\mpi_echam5.sresa1b.2046-2065.apr.animation.hru_means.nhru..."
       ]
      },
      {
       "output_type": "stream",
       "stream": "stdout",
       "text": [
        "\n",
        "writing D:/ATLData/LMB/LKM_Nov2013_monthly/hru_pct_diff\\mpi_echam5.sresa1b.2046-2065.apr.animation.hru_pct_diff.nhru..."
       ]
      },
      {
       "output_type": "stream",
       "stream": "stdout",
       "text": [
        "\n",
        "reading D:/ATLData/LMB/LKM_Nov2013_monthly_animation_output\\mpi_echam5.sresa1b.2046-2065.jun.animation.nhru..."
       ]
      },
      {
       "output_type": "stream",
       "stream": "stdout",
       "text": [
        "\n",
        "reading D:/ATLData/LMB/LKM_Nov2013_monthly_animation_output\\mpi_echam5.sresa1b.2081-2100.jun.animation.nhru..."
       ]
      },
      {
       "output_type": "stream",
       "stream": "stdout",
       "text": [
        "\n",
        "reading D:/ATLData/LMB/LKM_Nov2013_monthly_animation_output\\mpi_echam5.sresa2.2046-2065.jun.animation.nhru..."
       ]
      },
      {
       "output_type": "stream",
       "stream": "stdout",
       "text": [
        "\n",
        "reading D:/ATLData/LMB/LKM_Nov2013_monthly_animation_output\\mpi_echam5.sresa2.2081-2100.jun.animation.nhru..."
       ]
      },
      {
       "output_type": "stream",
       "stream": "stdout",
       "text": [
        "\n",
        "reading D:/ATLData/LMB/LKM_Nov2013_monthly_animation_output\\mpi_echam5.sresb1.2046-2065.jun.animation.nhru..."
       ]
      },
      {
       "output_type": "stream",
       "stream": "stdout",
       "text": [
        "\n",
        "reading D:/ATLData/LMB/LKM_Nov2013_monthly_animation_output\\mpi_echam5.sresb1.2081-2100.jun.animation.nhru..."
       ]
      },
      {
       "output_type": "stream",
       "stream": "stdout",
       "text": [
        "\n",
        "reading D:/ATLData/LMB/LKM_Nov2013_monthly_animation_output\\mpi_echam5.20c3m.1981-2000.jun.animation.nhru..."
       ]
      },
      {
       "output_type": "stream",
       "stream": "stdout",
       "text": [
        "\n",
        "Warning, nan values found in percent differences. See error_file."
       ]
      },
      {
       "output_type": "stream",
       "stream": "stdout",
       "text": [
        "\n",
        "writing D:/ATLData/LMB/LKM_Nov2013_monthly/hru_means\\mpi_echam5.20c3m.1981-2000.jun.animation.hru_means.nhru...\n",
        "writing D:/ATLData/LMB/LKM_Nov2013_monthly/hru_means\\mpi_echam5.sresa2.2081-2100.jun.animation.hru_means.nhru..."
       ]
      },
      {
       "output_type": "stream",
       "stream": "stdout",
       "text": [
        "\n",
        "writing D:/ATLData/LMB/LKM_Nov2013_monthly/hru_pct_diff\\mpi_echam5.sresa2.2081-2100.jun.animation.hru_pct_diff.nhru..."
       ]
      },
      {
       "output_type": "stream",
       "stream": "stdout",
       "text": [
        "\n",
        "writing D:/ATLData/LMB/LKM_Nov2013_monthly/hru_means\\mpi_echam5.sresa2.2046-2065.jun.animation.hru_means.nhru..."
       ]
      },
      {
       "output_type": "stream",
       "stream": "stdout",
       "text": [
        "\n",
        "writing D:/ATLData/LMB/LKM_Nov2013_monthly/hru_pct_diff\\mpi_echam5.sresa2.2046-2065.jun.animation.hru_pct_diff.nhru..."
       ]
      },
      {
       "output_type": "stream",
       "stream": "stdout",
       "text": [
        "\n",
        "writing D:/ATLData/LMB/LKM_Nov2013_monthly/hru_means\\mpi_echam5.sresb1.2081-2100.jun.animation.hru_means.nhru..."
       ]
      },
      {
       "output_type": "stream",
       "stream": "stdout",
       "text": [
        "\n",
        "writing D:/ATLData/LMB/LKM_Nov2013_monthly/hru_pct_diff\\mpi_echam5.sresb1.2081-2100.jun.animation.hru_pct_diff.nhru..."
       ]
      },
      {
       "output_type": "stream",
       "stream": "stdout",
       "text": [
        "\n",
        "writing D:/ATLData/LMB/LKM_Nov2013_monthly/hru_means\\mpi_echam5.sresa1b.2046-2065.jun.animation.hru_means.nhru..."
       ]
      },
      {
       "output_type": "stream",
       "stream": "stdout",
       "text": [
        "\n",
        "writing D:/ATLData/LMB/LKM_Nov2013_monthly/hru_pct_diff\\mpi_echam5.sresa1b.2046-2065.jun.animation.hru_pct_diff.nhru..."
       ]
      },
      {
       "output_type": "stream",
       "stream": "stdout",
       "text": [
        "\n",
        "writing D:/ATLData/LMB/LKM_Nov2013_monthly/hru_means\\mpi_echam5.sresa1b.2081-2100.jun.animation.hru_means.nhru..."
       ]
      },
      {
       "output_type": "stream",
       "stream": "stdout",
       "text": [
        "\n",
        "writing D:/ATLData/LMB/LKM_Nov2013_monthly/hru_pct_diff\\mpi_echam5.sresa1b.2081-2100.jun.animation.hru_pct_diff.nhru..."
       ]
      },
      {
       "output_type": "stream",
       "stream": "stdout",
       "text": [
        "\n",
        "writing D:/ATLData/LMB/LKM_Nov2013_monthly/hru_means\\mpi_echam5.sresb1.2046-2065.jun.animation.hru_means.nhru..."
       ]
      },
      {
       "output_type": "stream",
       "stream": "stdout",
       "text": [
        "\n",
        "writing D:/ATLData/LMB/LKM_Nov2013_monthly/hru_pct_diff\\mpi_echam5.sresb1.2046-2065.jun.animation.hru_pct_diff.nhru..."
       ]
      },
      {
       "output_type": "stream",
       "stream": "stdout",
       "text": [
        "\n",
        "reading D:/ATLData/LMB/LKM_Nov2013_monthly_animation_output\\mpi_echam5.sresa1b.2046-2065.jul.animation.nhru..."
       ]
      },
      {
       "output_type": "stream",
       "stream": "stdout",
       "text": [
        "\n",
        "reading D:/ATLData/LMB/LKM_Nov2013_monthly_animation_output\\mpi_echam5.sresa1b.2081-2100.jul.animation.nhru..."
       ]
      },
      {
       "output_type": "stream",
       "stream": "stdout",
       "text": [
        "\n",
        "reading D:/ATLData/LMB/LKM_Nov2013_monthly_animation_output\\mpi_echam5.sresa2.2046-2065.jul.animation.nhru..."
       ]
      },
      {
       "output_type": "stream",
       "stream": "stdout",
       "text": [
        "\n",
        "reading D:/ATLData/LMB/LKM_Nov2013_monthly_animation_output\\mpi_echam5.sresa2.2081-2100.jul.animation.nhru..."
       ]
      },
      {
       "output_type": "stream",
       "stream": "stdout",
       "text": [
        "\n",
        "reading D:/ATLData/LMB/LKM_Nov2013_monthly_animation_output\\mpi_echam5.sresb1.2046-2065.jul.animation.nhru..."
       ]
      },
      {
       "output_type": "stream",
       "stream": "stdout",
       "text": [
        "\n",
        "reading D:/ATLData/LMB/LKM_Nov2013_monthly_animation_output\\mpi_echam5.sresb1.2081-2100.jul.animation.nhru..."
       ]
      },
      {
       "output_type": "stream",
       "stream": "stdout",
       "text": [
        "\n",
        "reading D:/ATLData/LMB/LKM_Nov2013_monthly_animation_output\\mpi_echam5.20c3m.1981-2000.jul.animation.nhru..."
       ]
      },
      {
       "output_type": "stream",
       "stream": "stdout",
       "text": [
        "\n",
        "Warning, nan values found in percent differences. See error_file."
       ]
      },
      {
       "output_type": "stream",
       "stream": "stdout",
       "text": [
        "\n",
        "writing D:/ATLData/LMB/LKM_Nov2013_monthly/hru_means\\mpi_echam5.20c3m.1981-2000.jul.animation.hru_means.nhru...\n",
        "writing D:/ATLData/LMB/LKM_Nov2013_monthly/hru_means\\mpi_echam5.sresa1b.2046-2065.jul.animation.hru_means.nhru..."
       ]
      },
      {
       "output_type": "stream",
       "stream": "stdout",
       "text": [
        "\n",
        "writing D:/ATLData/LMB/LKM_Nov2013_monthly/hru_pct_diff\\mpi_echam5.sresa1b.2046-2065.jul.animation.hru_pct_diff.nhru..."
       ]
      },
      {
       "output_type": "stream",
       "stream": "stdout",
       "text": [
        "\n",
        "writing D:/ATLData/LMB/LKM_Nov2013_monthly/hru_means\\mpi_echam5.sresb1.2046-2065.jul.animation.hru_means.nhru..."
       ]
      },
      {
       "output_type": "stream",
       "stream": "stdout",
       "text": [
        "\n",
        "writing D:/ATLData/LMB/LKM_Nov2013_monthly/hru_pct_diff\\mpi_echam5.sresb1.2046-2065.jul.animation.hru_pct_diff.nhru..."
       ]
      },
      {
       "output_type": "stream",
       "stream": "stdout",
       "text": [
        "\n",
        "writing D:/ATLData/LMB/LKM_Nov2013_monthly/hru_means\\mpi_echam5.sresa2.2046-2065.jul.animation.hru_means.nhru..."
       ]
      },
      {
       "output_type": "stream",
       "stream": "stdout",
       "text": [
        "\n",
        "writing D:/ATLData/LMB/LKM_Nov2013_monthly/hru_pct_diff\\mpi_echam5.sresa2.2046-2065.jul.animation.hru_pct_diff.nhru..."
       ]
      },
      {
       "output_type": "stream",
       "stream": "stdout",
       "text": [
        "\n",
        "writing D:/ATLData/LMB/LKM_Nov2013_monthly/hru_means\\mpi_echam5.sresa1b.2081-2100.jul.animation.hru_means.nhru..."
       ]
      },
      {
       "output_type": "stream",
       "stream": "stdout",
       "text": [
        "\n",
        "writing D:/ATLData/LMB/LKM_Nov2013_monthly/hru_pct_diff\\mpi_echam5.sresa1b.2081-2100.jul.animation.hru_pct_diff.nhru..."
       ]
      },
      {
       "output_type": "stream",
       "stream": "stdout",
       "text": [
        "\n",
        "writing D:/ATLData/LMB/LKM_Nov2013_monthly/hru_means\\mpi_echam5.sresb1.2081-2100.jul.animation.hru_means.nhru..."
       ]
      },
      {
       "output_type": "stream",
       "stream": "stdout",
       "text": [
        "\n",
        "writing D:/ATLData/LMB/LKM_Nov2013_monthly/hru_pct_diff\\mpi_echam5.sresb1.2081-2100.jul.animation.hru_pct_diff.nhru..."
       ]
      },
      {
       "output_type": "stream",
       "stream": "stdout",
       "text": [
        "\n",
        "writing D:/ATLData/LMB/LKM_Nov2013_monthly/hru_means\\mpi_echam5.sresa2.2081-2100.jul.animation.hru_means.nhru..."
       ]
      },
      {
       "output_type": "stream",
       "stream": "stdout",
       "text": [
        "\n",
        "writing D:/ATLData/LMB/LKM_Nov2013_monthly/hru_pct_diff\\mpi_echam5.sresa2.2081-2100.jul.animation.hru_pct_diff.nhru..."
       ]
      },
      {
       "output_type": "stream",
       "stream": "stdout",
       "text": [
        "\n",
        "reading D:/ATLData/LMB/LKM_Nov2013_monthly_animation_output\\mpi_echam5.sresa1b.2046-2065.jan.animation.nhru..."
       ]
      },
      {
       "output_type": "stream",
       "stream": "stdout",
       "text": [
        "\n",
        "reading D:/ATLData/LMB/LKM_Nov2013_monthly_animation_output\\mpi_echam5.sresa1b.2081-2100.jan.animation.nhru..."
       ]
      },
      {
       "output_type": "stream",
       "stream": "stdout",
       "text": [
        "\n",
        "reading D:/ATLData/LMB/LKM_Nov2013_monthly_animation_output\\mpi_echam5.sresa2.2046-2065.jan.animation.nhru..."
       ]
      },
      {
       "output_type": "stream",
       "stream": "stdout",
       "text": [
        "\n",
        "reading D:/ATLData/LMB/LKM_Nov2013_monthly_animation_output\\mpi_echam5.sresa2.2081-2100.jan.animation.nhru..."
       ]
      },
      {
       "output_type": "stream",
       "stream": "stdout",
       "text": [
        "\n",
        "reading D:/ATLData/LMB/LKM_Nov2013_monthly_animation_output\\mpi_echam5.sresb1.2046-2065.jan.animation.nhru..."
       ]
      },
      {
       "output_type": "stream",
       "stream": "stdout",
       "text": [
        "\n",
        "reading D:/ATLData/LMB/LKM_Nov2013_monthly_animation_output\\mpi_echam5.sresb1.2081-2100.jan.animation.nhru..."
       ]
      },
      {
       "output_type": "stream",
       "stream": "stdout",
       "text": [
        "\n",
        "reading D:/ATLData/LMB/LKM_Nov2013_monthly_animation_output\\mpi_echam5.20c3m.1981-2000.jan.animation.nhru..."
       ]
      },
      {
       "output_type": "stream",
       "stream": "stdout",
       "text": [
        "\n",
        "Warning, nan values found in percent differences. See error_file."
       ]
      },
      {
       "output_type": "stream",
       "stream": "stdout",
       "text": [
        "\n",
        "writing D:/ATLData/LMB/LKM_Nov2013_monthly/hru_means\\mpi_echam5.20c3m.1981-2000.jan.animation.hru_means.nhru...\n",
        "writing D:/ATLData/LMB/LKM_Nov2013_monthly/hru_means\\mpi_echam5.sresa1b.2046-2065.jan.animation.hru_means.nhru..."
       ]
      },
      {
       "output_type": "stream",
       "stream": "stdout",
       "text": [
        "\n",
        "writing D:/ATLData/LMB/LKM_Nov2013_monthly/hru_pct_diff\\mpi_echam5.sresa1b.2046-2065.jan.animation.hru_pct_diff.nhru..."
       ]
      },
      {
       "output_type": "stream",
       "stream": "stdout",
       "text": [
        "\n",
        "writing D:/ATLData/LMB/LKM_Nov2013_monthly/hru_means\\mpi_echam5.sresa2.2046-2065.jan.animation.hru_means.nhru..."
       ]
      },
      {
       "output_type": "stream",
       "stream": "stdout",
       "text": [
        "\n",
        "writing D:/ATLData/LMB/LKM_Nov2013_monthly/hru_pct_diff\\mpi_echam5.sresa2.2046-2065.jan.animation.hru_pct_diff.nhru..."
       ]
      },
      {
       "output_type": "stream",
       "stream": "stdout",
       "text": [
        "\n",
        "writing D:/ATLData/LMB/LKM_Nov2013_monthly/hru_means\\mpi_echam5.sresa1b.2081-2100.jan.animation.hru_means.nhru..."
       ]
      },
      {
       "output_type": "stream",
       "stream": "stdout",
       "text": [
        "\n",
        "writing D:/ATLData/LMB/LKM_Nov2013_monthly/hru_pct_diff\\mpi_echam5.sresa1b.2081-2100.jan.animation.hru_pct_diff.nhru..."
       ]
      },
      {
       "output_type": "stream",
       "stream": "stdout",
       "text": [
        "\n",
        "writing D:/ATLData/LMB/LKM_Nov2013_monthly/hru_means\\mpi_echam5.sresb1.2046-2065.jan.animation.hru_means.nhru..."
       ]
      },
      {
       "output_type": "stream",
       "stream": "stdout",
       "text": [
        "\n",
        "writing D:/ATLData/LMB/LKM_Nov2013_monthly/hru_pct_diff\\mpi_echam5.sresb1.2046-2065.jan.animation.hru_pct_diff.nhru..."
       ]
      },
      {
       "output_type": "stream",
       "stream": "stdout",
       "text": [
        "\n",
        "writing D:/ATLData/LMB/LKM_Nov2013_monthly/hru_means\\mpi_echam5.sresa2.2081-2100.jan.animation.hru_means.nhru..."
       ]
      },
      {
       "output_type": "stream",
       "stream": "stdout",
       "text": [
        "\n",
        "writing D:/ATLData/LMB/LKM_Nov2013_monthly/hru_pct_diff\\mpi_echam5.sresa2.2081-2100.jan.animation.hru_pct_diff.nhru..."
       ]
      },
      {
       "output_type": "stream",
       "stream": "stdout",
       "text": [
        "\n",
        "writing D:/ATLData/LMB/LKM_Nov2013_monthly/hru_means\\mpi_echam5.sresb1.2081-2100.jan.animation.hru_means.nhru..."
       ]
      },
      {
       "output_type": "stream",
       "stream": "stdout",
       "text": [
        "\n",
        "writing D:/ATLData/LMB/LKM_Nov2013_monthly/hru_pct_diff\\mpi_echam5.sresb1.2081-2100.jan.animation.hru_pct_diff.nhru..."
       ]
      },
      {
       "output_type": "stream",
       "stream": "stdout",
       "text": [
        "\n",
        "reading D:/ATLData/LMB/LKM_Nov2013_monthly_animation_output\\mpi_echam5.sresa1b.2046-2065.may.animation.nhru..."
       ]
      },
      {
       "output_type": "stream",
       "stream": "stdout",
       "text": [
        "\n",
        "reading D:/ATLData/LMB/LKM_Nov2013_monthly_animation_output\\mpi_echam5.sresa1b.2081-2100.may.animation.nhru..."
       ]
      },
      {
       "output_type": "stream",
       "stream": "stdout",
       "text": [
        "\n",
        "reading D:/ATLData/LMB/LKM_Nov2013_monthly_animation_output\\mpi_echam5.sresa2.2046-2065.may.animation.nhru..."
       ]
      },
      {
       "output_type": "stream",
       "stream": "stdout",
       "text": [
        "\n",
        "reading D:/ATLData/LMB/LKM_Nov2013_monthly_animation_output\\mpi_echam5.sresa2.2081-2100.may.animation.nhru..."
       ]
      },
      {
       "output_type": "stream",
       "stream": "stdout",
       "text": [
        "\n",
        "reading D:/ATLData/LMB/LKM_Nov2013_monthly_animation_output\\mpi_echam5.sresb1.2046-2065.may.animation.nhru..."
       ]
      },
      {
       "output_type": "stream",
       "stream": "stdout",
       "text": [
        "\n",
        "reading D:/ATLData/LMB/LKM_Nov2013_monthly_animation_output\\mpi_echam5.sresb1.2081-2100.may.animation.nhru..."
       ]
      },
      {
       "output_type": "stream",
       "stream": "stdout",
       "text": [
        "\n",
        "reading D:/ATLData/LMB/LKM_Nov2013_monthly_animation_output\\mpi_echam5.20c3m.1981-2000.may.animation.nhru..."
       ]
      },
      {
       "output_type": "stream",
       "stream": "stdout",
       "text": [
        "\n",
        "Warning, nan values found in percent differences. See error_file."
       ]
      },
      {
       "output_type": "stream",
       "stream": "stdout",
       "text": [
        "\n",
        "writing D:/ATLData/LMB/LKM_Nov2013_monthly/hru_means\\mpi_echam5.20c3m.1981-2000.may.animation.hru_means.nhru...\n",
        "writing D:/ATLData/LMB/LKM_Nov2013_monthly/hru_means\\mpi_echam5.sresa1b.2046-2065.may.animation.hru_means.nhru..."
       ]
      },
      {
       "output_type": "stream",
       "stream": "stdout",
       "text": [
        "\n",
        "writing D:/ATLData/LMB/LKM_Nov2013_monthly/hru_pct_diff\\mpi_echam5.sresa1b.2046-2065.may.animation.hru_pct_diff.nhru..."
       ]
      },
      {
       "output_type": "stream",
       "stream": "stdout",
       "text": [
        "\n",
        "writing D:/ATLData/LMB/LKM_Nov2013_monthly/hru_means\\mpi_echam5.sresa2.2046-2065.may.animation.hru_means.nhru..."
       ]
      },
      {
       "output_type": "stream",
       "stream": "stdout",
       "text": [
        "\n",
        "writing D:/ATLData/LMB/LKM_Nov2013_monthly/hru_pct_diff\\mpi_echam5.sresa2.2046-2065.may.animation.hru_pct_diff.nhru..."
       ]
      },
      {
       "output_type": "stream",
       "stream": "stdout",
       "text": [
        "\n",
        "writing D:/ATLData/LMB/LKM_Nov2013_monthly/hru_means\\mpi_echam5.sresa1b.2081-2100.may.animation.hru_means.nhru..."
       ]
      },
      {
       "output_type": "stream",
       "stream": "stdout",
       "text": [
        "\n",
        "writing D:/ATLData/LMB/LKM_Nov2013_monthly/hru_pct_diff\\mpi_echam5.sresa1b.2081-2100.may.animation.hru_pct_diff.nhru..."
       ]
      },
      {
       "output_type": "stream",
       "stream": "stdout",
       "text": [
        "\n",
        "writing D:/ATLData/LMB/LKM_Nov2013_monthly/hru_means\\mpi_echam5.sresb1.2081-2100.may.animation.hru_means.nhru..."
       ]
      },
      {
       "output_type": "stream",
       "stream": "stdout",
       "text": [
        "\n",
        "writing D:/ATLData/LMB/LKM_Nov2013_monthly/hru_pct_diff\\mpi_echam5.sresb1.2081-2100.may.animation.hru_pct_diff.nhru..."
       ]
      },
      {
       "output_type": "stream",
       "stream": "stdout",
       "text": [
        "\n",
        "writing D:/ATLData/LMB/LKM_Nov2013_monthly/hru_means\\mpi_echam5.sresa2.2081-2100.may.animation.hru_means.nhru..."
       ]
      },
      {
       "output_type": "stream",
       "stream": "stdout",
       "text": [
        "\n",
        "writing D:/ATLData/LMB/LKM_Nov2013_monthly/hru_pct_diff\\mpi_echam5.sresa2.2081-2100.may.animation.hru_pct_diff.nhru..."
       ]
      },
      {
       "output_type": "stream",
       "stream": "stdout",
       "text": [
        "\n",
        "writing D:/ATLData/LMB/LKM_Nov2013_monthly/hru_means\\mpi_echam5.sresb1.2046-2065.may.animation.hru_means.nhru..."
       ]
      },
      {
       "output_type": "stream",
       "stream": "stdout",
       "text": [
        "\n",
        "writing D:/ATLData/LMB/LKM_Nov2013_monthly/hru_pct_diff\\mpi_echam5.sresb1.2046-2065.may.animation.hru_pct_diff.nhru..."
       ]
      },
      {
       "output_type": "stream",
       "stream": "stdout",
       "text": [
        "\n",
        "reading D:/ATLData/LMB/LKM_Nov2013_monthly_animation_output\\mpi_echam5.sresa1b.2046-2065.nov.animation.nhru..."
       ]
      },
      {
       "output_type": "stream",
       "stream": "stdout",
       "text": [
        "\n",
        "reading D:/ATLData/LMB/LKM_Nov2013_monthly_animation_output\\mpi_echam5.sresa1b.2081-2100.nov.animation.nhru..."
       ]
      },
      {
       "output_type": "stream",
       "stream": "stdout",
       "text": [
        "\n",
        "reading D:/ATLData/LMB/LKM_Nov2013_monthly_animation_output\\mpi_echam5.sresa2.2046-2065.nov.animation.nhru..."
       ]
      },
      {
       "output_type": "stream",
       "stream": "stdout",
       "text": [
        "\n",
        "reading D:/ATLData/LMB/LKM_Nov2013_monthly_animation_output\\mpi_echam5.sresa2.2081-2100.nov.animation.nhru..."
       ]
      },
      {
       "output_type": "stream",
       "stream": "stdout",
       "text": [
        "\n",
        "reading D:/ATLData/LMB/LKM_Nov2013_monthly_animation_output\\mpi_echam5.sresb1.2046-2065.nov.animation.nhru..."
       ]
      },
      {
       "output_type": "stream",
       "stream": "stdout",
       "text": [
        "\n",
        "reading D:/ATLData/LMB/LKM_Nov2013_monthly_animation_output\\mpi_echam5.sresb1.2081-2100.nov.animation.nhru..."
       ]
      },
      {
       "output_type": "stream",
       "stream": "stdout",
       "text": [
        "\n",
        "reading D:/ATLData/LMB/LKM_Nov2013_monthly_animation_output\\mpi_echam5.20c3m.1981-2000.nov.animation.nhru..."
       ]
      },
      {
       "output_type": "stream",
       "stream": "stdout",
       "text": [
        "\n",
        "Warning, nan values found in percent differences. See error_file."
       ]
      },
      {
       "output_type": "stream",
       "stream": "stdout",
       "text": [
        "\n",
        "writing D:/ATLData/LMB/LKM_Nov2013_monthly/hru_means\\mpi_echam5.20c3m.1981-2000.nov.animation.hru_means.nhru...\n",
        "writing D:/ATLData/LMB/LKM_Nov2013_monthly/hru_means\\mpi_echam5.sresa2.2046-2065.nov.animation.hru_means.nhru..."
       ]
      },
      {
       "output_type": "stream",
       "stream": "stdout",
       "text": [
        "\n",
        "writing D:/ATLData/LMB/LKM_Nov2013_monthly/hru_pct_diff\\mpi_echam5.sresa2.2046-2065.nov.animation.hru_pct_diff.nhru..."
       ]
      },
      {
       "output_type": "stream",
       "stream": "stdout",
       "text": [
        "\n",
        "writing D:/ATLData/LMB/LKM_Nov2013_monthly/hru_means\\mpi_echam5.sresa2.2081-2100.nov.animation.hru_means.nhru..."
       ]
      },
      {
       "output_type": "stream",
       "stream": "stdout",
       "text": [
        "\n",
        "writing D:/ATLData/LMB/LKM_Nov2013_monthly/hru_pct_diff\\mpi_echam5.sresa2.2081-2100.nov.animation.hru_pct_diff.nhru..."
       ]
      },
      {
       "output_type": "stream",
       "stream": "stdout",
       "text": [
        "\n",
        "writing D:/ATLData/LMB/LKM_Nov2013_monthly/hru_means\\mpi_echam5.sresb1.2046-2065.nov.animation.hru_means.nhru..."
       ]
      },
      {
       "output_type": "stream",
       "stream": "stdout",
       "text": [
        "\n",
        "writing D:/ATLData/LMB/LKM_Nov2013_monthly/hru_pct_diff\\mpi_echam5.sresb1.2046-2065.nov.animation.hru_pct_diff.nhru..."
       ]
      },
      {
       "output_type": "stream",
       "stream": "stdout",
       "text": [
        "\n",
        "writing D:/ATLData/LMB/LKM_Nov2013_monthly/hru_means\\mpi_echam5.sresb1.2081-2100.nov.animation.hru_means.nhru..."
       ]
      },
      {
       "output_type": "stream",
       "stream": "stdout",
       "text": [
        "\n",
        "writing D:/ATLData/LMB/LKM_Nov2013_monthly/hru_pct_diff\\mpi_echam5.sresb1.2081-2100.nov.animation.hru_pct_diff.nhru..."
       ]
      },
      {
       "output_type": "stream",
       "stream": "stdout",
       "text": [
        "\n",
        "writing D:/ATLData/LMB/LKM_Nov2013_monthly/hru_means\\mpi_echam5.sresa1b.2081-2100.nov.animation.hru_means.nhru..."
       ]
      },
      {
       "output_type": "stream",
       "stream": "stdout",
       "text": [
        "\n",
        "writing D:/ATLData/LMB/LKM_Nov2013_monthly/hru_pct_diff\\mpi_echam5.sresa1b.2081-2100.nov.animation.hru_pct_diff.nhru..."
       ]
      },
      {
       "output_type": "stream",
       "stream": "stdout",
       "text": [
        "\n",
        "writing D:/ATLData/LMB/LKM_Nov2013_monthly/hru_means\\mpi_echam5.sresa1b.2046-2065.nov.animation.hru_means.nhru..."
       ]
      },
      {
       "output_type": "stream",
       "stream": "stdout",
       "text": [
        "\n",
        "writing D:/ATLData/LMB/LKM_Nov2013_monthly/hru_pct_diff\\mpi_echam5.sresa1b.2046-2065.nov.animation.hru_pct_diff.nhru..."
       ]
      },
      {
       "output_type": "stream",
       "stream": "stdout",
       "text": [
        "\n",
        "reading D:/ATLData/LMB/LKM_Nov2013_monthly_animation_output\\mpi_echam5.sresa1b.2046-2065.dec.animation.nhru..."
       ]
      },
      {
       "output_type": "stream",
       "stream": "stdout",
       "text": [
        "\n",
        "reading D:/ATLData/LMB/LKM_Nov2013_monthly_animation_output\\mpi_echam5.sresa1b.2081-2100.dec.animation.nhru..."
       ]
      },
      {
       "output_type": "stream",
       "stream": "stdout",
       "text": [
        "\n",
        "reading D:/ATLData/LMB/LKM_Nov2013_monthly_animation_output\\mpi_echam5.sresa2.2046-2065.dec.animation.nhru..."
       ]
      },
      {
       "output_type": "stream",
       "stream": "stdout",
       "text": [
        "\n",
        "reading D:/ATLData/LMB/LKM_Nov2013_monthly_animation_output\\mpi_echam5.sresa2.2081-2100.dec.animation.nhru..."
       ]
      },
      {
       "output_type": "stream",
       "stream": "stdout",
       "text": [
        "\n",
        "reading D:/ATLData/LMB/LKM_Nov2013_monthly_animation_output\\mpi_echam5.sresb1.2046-2065.dec.animation.nhru..."
       ]
      },
      {
       "output_type": "stream",
       "stream": "stdout",
       "text": [
        "\n",
        "reading D:/ATLData/LMB/LKM_Nov2013_monthly_animation_output\\mpi_echam5.sresb1.2081-2100.dec.animation.nhru..."
       ]
      },
      {
       "output_type": "stream",
       "stream": "stdout",
       "text": [
        "\n",
        "reading D:/ATLData/LMB/LKM_Nov2013_monthly_animation_output\\mpi_echam5.20c3m.1981-2000.dec.animation.nhru..."
       ]
      },
      {
       "output_type": "stream",
       "stream": "stdout",
       "text": [
        "\n",
        "Warning, nan values found in percent differences. See error_file."
       ]
      },
      {
       "output_type": "stream",
       "stream": "stdout",
       "text": [
        "\n",
        "writing D:/ATLData/LMB/LKM_Nov2013_monthly/hru_means\\mpi_echam5.20c3m.1981-2000.dec.animation.hru_means.nhru...\n",
        "writing D:/ATLData/LMB/LKM_Nov2013_monthly/hru_means\\mpi_echam5.sresa2.2081-2100.dec.animation.hru_means.nhru..."
       ]
      },
      {
       "output_type": "stream",
       "stream": "stdout",
       "text": [
        "\n",
        "writing D:/ATLData/LMB/LKM_Nov2013_monthly/hru_pct_diff\\mpi_echam5.sresa2.2081-2100.dec.animation.hru_pct_diff.nhru..."
       ]
      },
      {
       "output_type": "stream",
       "stream": "stdout",
       "text": [
        "\n",
        "writing D:/ATLData/LMB/LKM_Nov2013_monthly/hru_means\\mpi_echam5.sresb1.2046-2065.dec.animation.hru_means.nhru..."
       ]
      },
      {
       "output_type": "stream",
       "stream": "stdout",
       "text": [
        "\n",
        "writing D:/ATLData/LMB/LKM_Nov2013_monthly/hru_pct_diff\\mpi_echam5.sresb1.2046-2065.dec.animation.hru_pct_diff.nhru..."
       ]
      },
      {
       "output_type": "stream",
       "stream": "stdout",
       "text": [
        "\n",
        "writing D:/ATLData/LMB/LKM_Nov2013_monthly/hru_means\\mpi_echam5.sresa1b.2081-2100.dec.animation.hru_means.nhru..."
       ]
      },
      {
       "output_type": "stream",
       "stream": "stdout",
       "text": [
        "\n",
        "writing D:/ATLData/LMB/LKM_Nov2013_monthly/hru_pct_diff\\mpi_echam5.sresa1b.2081-2100.dec.animation.hru_pct_diff.nhru..."
       ]
      },
      {
       "output_type": "stream",
       "stream": "stdout",
       "text": [
        "\n",
        "writing D:/ATLData/LMB/LKM_Nov2013_monthly/hru_means\\mpi_echam5.sresa2.2046-2065.dec.animation.hru_means.nhru..."
       ]
      },
      {
       "output_type": "stream",
       "stream": "stdout",
       "text": [
        "\n",
        "writing D:/ATLData/LMB/LKM_Nov2013_monthly/hru_pct_diff\\mpi_echam5.sresa2.2046-2065.dec.animation.hru_pct_diff.nhru..."
       ]
      },
      {
       "output_type": "stream",
       "stream": "stdout",
       "text": [
        "\n",
        "writing D:/ATLData/LMB/LKM_Nov2013_monthly/hru_means\\mpi_echam5.sresb1.2081-2100.dec.animation.hru_means.nhru..."
       ]
      },
      {
       "output_type": "stream",
       "stream": "stdout",
       "text": [
        "\n",
        "writing D:/ATLData/LMB/LKM_Nov2013_monthly/hru_pct_diff\\mpi_echam5.sresb1.2081-2100.dec.animation.hru_pct_diff.nhru..."
       ]
      },
      {
       "output_type": "stream",
       "stream": "stdout",
       "text": [
        "\n",
        "writing D:/ATLData/LMB/LKM_Nov2013_monthly/hru_means\\mpi_echam5.sresa1b.2046-2065.dec.animation.hru_means.nhru..."
       ]
      },
      {
       "output_type": "stream",
       "stream": "stdout",
       "text": [
        "\n",
        "writing D:/ATLData/LMB/LKM_Nov2013_monthly/hru_pct_diff\\mpi_echam5.sresa1b.2046-2065.dec.animation.hru_pct_diff.nhru..."
       ]
      },
      {
       "output_type": "stream",
       "stream": "stdout",
       "text": [
        "\n",
        "reading D:/ATLData/LMB/LKM_Nov2013_monthly_animation_output\\mpi_echam5.sresa1b.2046-2065.oct.animation.nhru..."
       ]
      },
      {
       "output_type": "stream",
       "stream": "stdout",
       "text": [
        "\n",
        "reading D:/ATLData/LMB/LKM_Nov2013_monthly_animation_output\\mpi_echam5.sresa1b.2081-2100.oct.animation.nhru..."
       ]
      },
      {
       "output_type": "stream",
       "stream": "stdout",
       "text": [
        "\n",
        "reading D:/ATLData/LMB/LKM_Nov2013_monthly_animation_output\\mpi_echam5.sresa2.2046-2065.oct.animation.nhru..."
       ]
      },
      {
       "output_type": "stream",
       "stream": "stdout",
       "text": [
        "\n",
        "reading D:/ATLData/LMB/LKM_Nov2013_monthly_animation_output\\mpi_echam5.sresa2.2081-2100.oct.animation.nhru..."
       ]
      },
      {
       "output_type": "stream",
       "stream": "stdout",
       "text": [
        "\n",
        "reading D:/ATLData/LMB/LKM_Nov2013_monthly_animation_output\\mpi_echam5.sresb1.2046-2065.oct.animation.nhru..."
       ]
      },
      {
       "output_type": "stream",
       "stream": "stdout",
       "text": [
        "\n",
        "reading D:/ATLData/LMB/LKM_Nov2013_monthly_animation_output\\mpi_echam5.sresb1.2081-2100.oct.animation.nhru..."
       ]
      },
      {
       "output_type": "stream",
       "stream": "stdout",
       "text": [
        "\n",
        "reading D:/ATLData/LMB/LKM_Nov2013_monthly_animation_output\\mpi_echam5.20c3m.1981-2000.oct.animation.nhru..."
       ]
      },
      {
       "output_type": "stream",
       "stream": "stdout",
       "text": [
        "\n",
        "Warning, nan values found in percent differences. See error_file."
       ]
      },
      {
       "output_type": "stream",
       "stream": "stdout",
       "text": [
        "\n",
        "writing D:/ATLData/LMB/LKM_Nov2013_monthly/hru_means\\mpi_echam5.20c3m.1981-2000.oct.animation.hru_means.nhru...\n",
        "writing D:/ATLData/LMB/LKM_Nov2013_monthly/hru_means\\mpi_echam5.sresb1.2046-2065.oct.animation.hru_means.nhru..."
       ]
      },
      {
       "output_type": "stream",
       "stream": "stdout",
       "text": [
        "\n",
        "writing D:/ATLData/LMB/LKM_Nov2013_monthly/hru_pct_diff\\mpi_echam5.sresb1.2046-2065.oct.animation.hru_pct_diff.nhru..."
       ]
      },
      {
       "output_type": "stream",
       "stream": "stdout",
       "text": [
        "\n",
        "writing D:/ATLData/LMB/LKM_Nov2013_monthly/hru_means\\mpi_echam5.sresa2.2081-2100.oct.animation.hru_means.nhru..."
       ]
      },
      {
       "output_type": "stream",
       "stream": "stdout",
       "text": [
        "\n",
        "writing D:/ATLData/LMB/LKM_Nov2013_monthly/hru_pct_diff\\mpi_echam5.sresa2.2081-2100.oct.animation.hru_pct_diff.nhru..."
       ]
      },
      {
       "output_type": "stream",
       "stream": "stdout",
       "text": [
        "\n",
        "writing D:/ATLData/LMB/LKM_Nov2013_monthly/hru_means\\mpi_echam5.sresa1b.2081-2100.oct.animation.hru_means.nhru..."
       ]
      },
      {
       "output_type": "stream",
       "stream": "stdout",
       "text": [
        "\n",
        "writing D:/ATLData/LMB/LKM_Nov2013_monthly/hru_pct_diff\\mpi_echam5.sresa1b.2081-2100.oct.animation.hru_pct_diff.nhru..."
       ]
      },
      {
       "output_type": "stream",
       "stream": "stdout",
       "text": [
        "\n",
        "writing D:/ATLData/LMB/LKM_Nov2013_monthly/hru_means\\mpi_echam5.sresa2.2046-2065.oct.animation.hru_means.nhru..."
       ]
      },
      {
       "output_type": "stream",
       "stream": "stdout",
       "text": [
        "\n",
        "writing D:/ATLData/LMB/LKM_Nov2013_monthly/hru_pct_diff\\mpi_echam5.sresa2.2046-2065.oct.animation.hru_pct_diff.nhru..."
       ]
      },
      {
       "output_type": "stream",
       "stream": "stdout",
       "text": [
        "\n",
        "writing D:/ATLData/LMB/LKM_Nov2013_monthly/hru_means\\mpi_echam5.sresb1.2081-2100.oct.animation.hru_means.nhru..."
       ]
      },
      {
       "output_type": "stream",
       "stream": "stdout",
       "text": [
        "\n",
        "writing D:/ATLData/LMB/LKM_Nov2013_monthly/hru_pct_diff\\mpi_echam5.sresb1.2081-2100.oct.animation.hru_pct_diff.nhru..."
       ]
      },
      {
       "output_type": "stream",
       "stream": "stdout",
       "text": [
        "\n",
        "writing D:/ATLData/LMB/LKM_Nov2013_monthly/hru_means\\mpi_echam5.sresa1b.2046-2065.oct.animation.hru_means.nhru..."
       ]
      },
      {
       "output_type": "stream",
       "stream": "stdout",
       "text": [
        "\n",
        "writing D:/ATLData/LMB/LKM_Nov2013_monthly/hru_pct_diff\\mpi_echam5.sresa1b.2046-2065.oct.animation.hru_pct_diff.nhru..."
       ]
      },
      {
       "output_type": "stream",
       "stream": "stdout",
       "text": [
        "\n"
       ]
      }
     ],
     "prompt_number": 8
    },
    {
     "cell_type": "markdown",
     "metadata": {},
     "source": [
      "###Summarize Annual and Monthly means, across all gcm-scenarios-periods\n",
      "(to determine appropriate binning strategy for map)"
     ]
    },
    {
     "cell_type": "code",
     "collapsed": false,
     "input": [
      "per = ['annual', 'monthly']\n",
      "i=0\n",
      "amdir = annual_output_dir + '/hru_means'\n",
      "mmdir = monthly_output_dir + '/hru_means'\n",
      "\n",
      "annual_anmfiles = [os.path.join(amdir, f) for f in os.listdir(amdir)]\n",
      "monthly_anmfiles = [os.path.join(mmdir, f) for f in os.listdir(mmdir)]\n",
      "for i, anmfiles in enumerate([annual_anmfiles, monthly_anmfiles]):\n",
      "    ps = PandasStats(anmfiles, ANIMATION_HEADERS[1:], skiprows=20, index_col=False, delim_whitespace=True, na_values='NAN')\n",
      "    df = ps.create_concat_dataframe()\n",
      "    dfd = df.describe(percentiles=[0.1, 0.9])\n",
      "    dfd.to_csv('D:/ATLData/LMB/{}_summary.csv'.format(per[i]))\n",
      "    \n",
      "    # streamflow is log-normally distributed\n",
      "    df['log_hru_streamflow_out'] = np.log10(df.hru_streamflow_out.values)\n",
      "    \n",
      "    pdf = PdfPages('D:/ATLData/LMB/{}_summary.pdf'.format(per[i]))\n",
      "    for c in df.columns[2:]:\n",
      "        ax = df[c].hist(bins=10, normed=True)\n",
      "        ax.set_title(c)\n",
      "        pdf.savefig()\n",
      "        plt.close()\n",
      "    pdf.close()"
     ],
     "language": "python",
     "metadata": {},
     "outputs": [],
     "prompt_number": 9
    }
   ],
   "metadata": {}
  }
 ]
}